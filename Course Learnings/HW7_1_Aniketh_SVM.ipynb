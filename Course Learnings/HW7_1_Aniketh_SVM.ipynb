{
  "cells": [
    {
      "cell_type": "markdown",
      "metadata": {
        "id": "XIG_hUgnOsaV"
      },
      "source": [
        "<font color='red'>Assignment:</font> Load \"svm_data.csv\" into a DataFrame df."
      ]
    },
    {
      "cell_type": "code",
      "execution_count": null,
      "metadata": {
        "colab": {
          "base_uri": "https://localhost:8080/",
          "height": 424
        },
        "id": "1Rv78CTdOsaZ",
        "outputId": "56c9f36f-d581-4ddb-a289-0620dc992702"
      },
      "outputs": [
        {
          "output_type": "execute_result",
          "data": {
            "text/plain": [
              "            x         y  label\n",
              "0    0.071255 -0.196588      0\n",
              "1   -1.028290  0.362087      0\n",
              "2    1.264656  0.286208      0\n",
              "3   -0.958468  1.781923      0\n",
              "4   -1.736951  1.174945      0\n",
              "..        ...       ...    ...\n",
              "106 -9.512374 -3.549688      1\n",
              "107 -9.436382 -4.099574      1\n",
              "108 -9.013039 -5.314705      1\n",
              "109 -9.876212 -3.531099      1\n",
              "110 -9.138660 -5.167345      1\n",
              "\n",
              "[111 rows x 3 columns]"
            ],
            "text/html": [
              "\n",
              "  <div id=\"df-d91e0592-1dee-4ecd-a91e-60a392ae60af\">\n",
              "    <div class=\"colab-df-container\">\n",
              "      <div>\n",
              "<style scoped>\n",
              "    .dataframe tbody tr th:only-of-type {\n",
              "        vertical-align: middle;\n",
              "    }\n",
              "\n",
              "    .dataframe tbody tr th {\n",
              "        vertical-align: top;\n",
              "    }\n",
              "\n",
              "    .dataframe thead th {\n",
              "        text-align: right;\n",
              "    }\n",
              "</style>\n",
              "<table border=\"1\" class=\"dataframe\">\n",
              "  <thead>\n",
              "    <tr style=\"text-align: right;\">\n",
              "      <th></th>\n",
              "      <th>x</th>\n",
              "      <th>y</th>\n",
              "      <th>label</th>\n",
              "    </tr>\n",
              "  </thead>\n",
              "  <tbody>\n",
              "    <tr>\n",
              "      <th>0</th>\n",
              "      <td>0.071255</td>\n",
              "      <td>-0.196588</td>\n",
              "      <td>0</td>\n",
              "    </tr>\n",
              "    <tr>\n",
              "      <th>1</th>\n",
              "      <td>-1.028290</td>\n",
              "      <td>0.362087</td>\n",
              "      <td>0</td>\n",
              "    </tr>\n",
              "    <tr>\n",
              "      <th>2</th>\n",
              "      <td>1.264656</td>\n",
              "      <td>0.286208</td>\n",
              "      <td>0</td>\n",
              "    </tr>\n",
              "    <tr>\n",
              "      <th>3</th>\n",
              "      <td>-0.958468</td>\n",
              "      <td>1.781923</td>\n",
              "      <td>0</td>\n",
              "    </tr>\n",
              "    <tr>\n",
              "      <th>4</th>\n",
              "      <td>-1.736951</td>\n",
              "      <td>1.174945</td>\n",
              "      <td>0</td>\n",
              "    </tr>\n",
              "    <tr>\n",
              "      <th>...</th>\n",
              "      <td>...</td>\n",
              "      <td>...</td>\n",
              "      <td>...</td>\n",
              "    </tr>\n",
              "    <tr>\n",
              "      <th>106</th>\n",
              "      <td>-9.512374</td>\n",
              "      <td>-3.549688</td>\n",
              "      <td>1</td>\n",
              "    </tr>\n",
              "    <tr>\n",
              "      <th>107</th>\n",
              "      <td>-9.436382</td>\n",
              "      <td>-4.099574</td>\n",
              "      <td>1</td>\n",
              "    </tr>\n",
              "    <tr>\n",
              "      <th>108</th>\n",
              "      <td>-9.013039</td>\n",
              "      <td>-5.314705</td>\n",
              "      <td>1</td>\n",
              "    </tr>\n",
              "    <tr>\n",
              "      <th>109</th>\n",
              "      <td>-9.876212</td>\n",
              "      <td>-3.531099</td>\n",
              "      <td>1</td>\n",
              "    </tr>\n",
              "    <tr>\n",
              "      <th>110</th>\n",
              "      <td>-9.138660</td>\n",
              "      <td>-5.167345</td>\n",
              "      <td>1</td>\n",
              "    </tr>\n",
              "  </tbody>\n",
              "</table>\n",
              "<p>111 rows × 3 columns</p>\n",
              "</div>\n",
              "      <button class=\"colab-df-convert\" onclick=\"convertToInteractive('df-d91e0592-1dee-4ecd-a91e-60a392ae60af')\"\n",
              "              title=\"Convert this dataframe to an interactive table.\"\n",
              "              style=\"display:none;\">\n",
              "        \n",
              "  <svg xmlns=\"http://www.w3.org/2000/svg\" height=\"24px\"viewBox=\"0 0 24 24\"\n",
              "       width=\"24px\">\n",
              "    <path d=\"M0 0h24v24H0V0z\" fill=\"none\"/>\n",
              "    <path d=\"M18.56 5.44l.94 2.06.94-2.06 2.06-.94-2.06-.94-.94-2.06-.94 2.06-2.06.94zm-11 1L8.5 8.5l.94-2.06 2.06-.94-2.06-.94L8.5 2.5l-.94 2.06-2.06.94zm10 10l.94 2.06.94-2.06 2.06-.94-2.06-.94-.94-2.06-.94 2.06-2.06.94z\"/><path d=\"M17.41 7.96l-1.37-1.37c-.4-.4-.92-.59-1.43-.59-.52 0-1.04.2-1.43.59L10.3 9.45l-7.72 7.72c-.78.78-.78 2.05 0 2.83L4 21.41c.39.39.9.59 1.41.59.51 0 1.02-.2 1.41-.59l7.78-7.78 2.81-2.81c.8-.78.8-2.07 0-2.86zM5.41 20L4 18.59l7.72-7.72 1.47 1.35L5.41 20z\"/>\n",
              "  </svg>\n",
              "      </button>\n",
              "      \n",
              "  <style>\n",
              "    .colab-df-container {\n",
              "      display:flex;\n",
              "      flex-wrap:wrap;\n",
              "      gap: 12px;\n",
              "    }\n",
              "\n",
              "    .colab-df-convert {\n",
              "      background-color: #E8F0FE;\n",
              "      border: none;\n",
              "      border-radius: 50%;\n",
              "      cursor: pointer;\n",
              "      display: none;\n",
              "      fill: #1967D2;\n",
              "      height: 32px;\n",
              "      padding: 0 0 0 0;\n",
              "      width: 32px;\n",
              "    }\n",
              "\n",
              "    .colab-df-convert:hover {\n",
              "      background-color: #E2EBFA;\n",
              "      box-shadow: 0px 1px 2px rgba(60, 64, 67, 0.3), 0px 1px 3px 1px rgba(60, 64, 67, 0.15);\n",
              "      fill: #174EA6;\n",
              "    }\n",
              "\n",
              "    [theme=dark] .colab-df-convert {\n",
              "      background-color: #3B4455;\n",
              "      fill: #D2E3FC;\n",
              "    }\n",
              "\n",
              "    [theme=dark] .colab-df-convert:hover {\n",
              "      background-color: #434B5C;\n",
              "      box-shadow: 0px 1px 3px 1px rgba(0, 0, 0, 0.15);\n",
              "      filter: drop-shadow(0px 1px 2px rgba(0, 0, 0, 0.3));\n",
              "      fill: #FFFFFF;\n",
              "    }\n",
              "  </style>\n",
              "\n",
              "      <script>\n",
              "        const buttonEl =\n",
              "          document.querySelector('#df-d91e0592-1dee-4ecd-a91e-60a392ae60af button.colab-df-convert');\n",
              "        buttonEl.style.display =\n",
              "          google.colab.kernel.accessAllowed ? 'block' : 'none';\n",
              "\n",
              "        async function convertToInteractive(key) {\n",
              "          const element = document.querySelector('#df-d91e0592-1dee-4ecd-a91e-60a392ae60af');\n",
              "          const dataTable =\n",
              "            await google.colab.kernel.invokeFunction('convertToInteractive',\n",
              "                                                     [key], {});\n",
              "          if (!dataTable) return;\n",
              "\n",
              "          const docLinkHtml = 'Like what you see? Visit the ' +\n",
              "            '<a target=\"_blank\" href=https://colab.research.google.com/notebooks/data_table.ipynb>data table notebook</a>'\n",
              "            + ' to learn more about interactive tables.';\n",
              "          element.innerHTML = '';\n",
              "          dataTable['output_type'] = 'display_data';\n",
              "          await google.colab.output.renderOutput(dataTable, element);\n",
              "          const docLink = document.createElement('div');\n",
              "          docLink.innerHTML = docLinkHtml;\n",
              "          element.appendChild(docLink);\n",
              "        }\n",
              "      </script>\n",
              "    </div>\n",
              "  </div>\n",
              "  "
            ]
          },
          "metadata": {},
          "execution_count": 1
        }
      ],
      "source": [
        "import pandas as pd\n",
        "df=pd.read_csv('svm_data.csv')\n",
        "df"
      ]
    },
    {
      "cell_type": "markdown",
      "metadata": {
        "id": "8Poxm09wOsaZ"
      },
      "source": [
        "<font color='red'>Assignment:</font> Import **SVC** from sklearn, create a pipeline with **StandardScaler**, and train a SVM classifier using **Linear Kernel** to predict labels with **x** and **y**. Do not split train/test data this time."
      ]
    },
    {
      "cell_type": "code",
      "execution_count": null,
      "metadata": {
        "colab": {
          "base_uri": "https://localhost:8080/"
        },
        "id": "Ys0Iq8VNOsaa",
        "outputId": "0fc171b2-c81d-4797-c226-665760dcb228"
      },
      "outputs": [
        {
          "output_type": "execute_result",
          "data": {
            "text/plain": [
              "Pipeline(steps=[('scale', StandardScaler()),\n",
              "                ('svc', SVC(kernel='linear', shrinking=False))])"
            ]
          },
          "metadata": {},
          "execution_count": 35
        }
      ],
      "source": [
        "from sklearn.svm import SVC\n",
        "from sklearn.pipeline import Pipeline\n",
        "from sklearn.preprocessing import StandardScaler\n",
        "import numpy as np\n",
        "\n",
        "x = []\n",
        "for i, j in zip(df['x'], df['y']):\n",
        "  x.append([i, j])\n",
        "\n",
        "\n",
        "Y=df['label']\n",
        "\n",
        "steps = [('scale', StandardScaler()),\n",
        "          ('svc', SVC(kernel = 'linear',gamma = 'scale', shrinking = False))]\n",
        "\n",
        "svc_scaled_model=Pipeline(steps)\n",
        "svc_scaled_model.fit(x,Y)\n",
        "\n",
        "\n",
        "#scaled_svc = make_pipeline(StandardScaler(), SVC(gamma='auto'))\n"
      ]
    },
    {
      "cell_type": "code",
      "source": [
        "prediction = svc_scaled_model.predict(x)\n",
        "print(prediction)\n",
        "# check the accuracy on the training set\n",
        "\n",
        "print(svc_scaled_model.score(x,Y))"
      ],
      "metadata": {
        "id": "aA0w_jf6ka6p",
        "colab": {
          "base_uri": "https://localhost:8080/"
        },
        "outputId": "85ea5c11-6752-4c5a-ab0c-cdc214b88900"
      },
      "execution_count": null,
      "outputs": [
        {
          "output_type": "stream",
          "name": "stdout",
          "text": [
            "[0 0 0 0 0 0 0 0 0 0 0 0 0 0 0 0 0 0 0 0 0 0 0 0 0 0 0 0 0 0 0 0 0 0 0 0 0\n",
            " 0 0 0 0 0 0 0 0 0 0 0 0 0 0 0 0 0 0 0 0 0 0 0 0 0 0 0 0 0 0 0 0 0 0 0 0 0\n",
            " 0 1 1 1 1 1 1 1 1 1 1 1 1 1 1 1 1 1 1 1 1 1 1 1 1 1 1 1 1 1 1 1 1 1 1 1 1]\n",
            "1.0\n"
          ]
        }
      ]
    },
    {
      "cell_type": "code",
      "source": [
        "#confusion matrix\n",
        "from sklearn.metrics import confusion_matrix\n",
        "print(\"Confusion Matrix:\\n\",confusion_matrix(prediction,Y))"
      ],
      "metadata": {
        "colab": {
          "base_uri": "https://localhost:8080/"
        },
        "id": "G6txV9kSxP6l",
        "outputId": "0df92dc6-99ce-4780-eb54-9c6d09ff8a94"
      },
      "execution_count": null,
      "outputs": [
        {
          "output_type": "stream",
          "name": "stdout",
          "text": [
            "Confusion Matrix:\n",
            " [[75  0]\n",
            " [ 0 36]]\n"
          ]
        }
      ]
    },
    {
      "cell_type": "code",
      "source": [
        "# get support vectors\n",
        "model2=SVC(kernel = 'linear',gamma = 'scale', shrinking = False)\n",
        "model2.fit(x,Y)\n",
        "print(model2.decision_function)\n",
        "model2.support_vectors_"
      ],
      "metadata": {
        "colab": {
          "base_uri": "https://localhost:8080/"
        },
        "id": "-gEp8BisqyqG",
        "outputId": "31101357-2739-4a98-99a9-ba6549c4a0c4"
      },
      "execution_count": null,
      "outputs": [
        {
          "output_type": "stream",
          "name": "stdout",
          "text": [
            "<bound method BaseSVC.decision_function of SVC(kernel='linear', shrinking=False)>\n"
          ]
        },
        {
          "output_type": "execute_result",
          "data": {
            "text/plain": [
              "array([[-2.27979345, -0.46318566],\n",
              "       [-4.54778752,  3.39755814],\n",
              "       [-6.18839509, -1.73123515]])"
            ]
          },
          "metadata": {},
          "execution_count": 34
        }
      ]
    },
    {
      "cell_type": "markdown",
      "metadata": {
        "id": "mREBqh11Osaa"
      },
      "source": [
        "<font color='red'>Assignment:</font> Find out the **support vectors** and plot them together with data points."
      ]
    },
    {
      "cell_type": "code",
      "execution_count": null,
      "metadata": {
        "id": "oO3PPtLbOsaa",
        "colab": {
          "base_uri": "https://localhost:8080/",
          "height": 283
        },
        "outputId": "15681792-febd-449d-b15a-ef0eee41b61d"
      },
      "outputs": [
        {
          "output_type": "execute_result",
          "data": {
            "text/plain": [
              "<matplotlib.collections.PathCollection at 0x7fcb803e1c90>"
            ]
          },
          "metadata": {},
          "execution_count": 28
        },
        {
          "output_type": "display_data",
          "data": {
            "text/plain": [
              "<Figure size 432x288 with 1 Axes>"
            ],
            "image/png": "[encoded data removed]"
          },
          "metadata": {
            "needs_background": "light"
          }
        }
      ],
      "source": [
        "### sample code for plotting decision boundaries ###\n",
        "\n",
        "import numpy as np\n",
        "import matplotlib.pyplot as plt\n",
        "%matplotlib inline\n",
        "\n",
        "# create a grid\n",
        "x_min, x_max = df.iloc[:, 0].min() - 0.3, df.iloc[:, 0].max() + 0.3\n",
        "y_min, y_max = df.iloc[:, 1].min() - 0.3, df.iloc[:, 1].max() + 0.3\n",
        "xx, yy = np.meshgrid(np.arange(x_min, x_max, 0.02), np.arange(y_min, y_max, 0.02))\n",
        "\n",
        "# get model predictions for all points on the grid\n",
        "Z = model.predict(np.c_[xx.ravel(), yy.ravel()])\n",
        "\n",
        "# plot decision regions and boundaries\n",
        "Z = Z.reshape(xx.shape)\n",
        "plt.contourf(xx, yy, Z, cmap=plt.cm.coolwarm, alpha=0.8)\n",
        "\n",
        "# plot original data points\n",
        "plt.scatter(df[df.label == 0].x, df[df.label == 0].y, marker = 'o', color = 'blue', \n",
        "            alpha = 0.5, label = 'label = 0')\n",
        "plt.scatter(df[df.label == 1].x, df[df.label == 1].y, marker = 'o', color = 'green', \n",
        "            alpha = 0.5, label = 'label = 1')\n",
        "\n",
        "########### add your code here to plot support vectors ##############\n",
        "\n"
      ]
    },
    {
      "cell_type": "markdown",
      "metadata": {
        "id": "7WCySAuOOsac"
      },
      "source": [
        "<font color='red'>Question:</font> What are support vectors?"
      ]
    },
    {
      "cell_type": "markdown",
      "source": [
        "Support vectors are data points that are closer to the hyperplane and influence the position and orientation of the hyperplane. Using these support vectors, we maximize the margin of the classifier. Deleting the support vectors will change the position of the hyperplane. These are the points that help us build our SVM."
      ],
      "metadata": {
        "id": "oFCT-nhTT5sI"
      }
    },
    {
      "cell_type": "markdown",
      "metadata": {
        "id": "rOIGvpzwOsad"
      },
      "source": [
        "<font color='red'>Question:</font> How many support vectors are there in this model? Where are they located?"
      ]
    },
    {
      "cell_type": "markdown",
      "source": [
        "3 support vectors"
      ],
      "metadata": {
        "id": "M89tcRF_s7p3"
      }
    },
    {
      "cell_type": "code",
      "execution_count": null,
      "metadata": {
        "id": "a8BH_TW1Osad"
      },
      "outputs": [],
      "source": [
        ""
      ]
    },
    {
      "cell_type": "markdown",
      "metadata": {
        "id": "GinCWWEiOsad"
      },
      "source": [
        "<font color='red'>Assignment:</font> What is the default **C**? Change hyper parameter **C** and find out how the number and locations of support vectors are affected."
      ]
    },
    {
      "cell_type": "markdown",
      "source": [
        "Soft margin SVM allows some misclassification to happen by relaxing the hard constraints of Support Vector Machine. Soft margin SVM is implemented with the help of the Regularization parameter (C). Regularization parameter (C): It tells us how much misclassification we want to avoid."
      ],
      "metadata": {
        "id": "tdhuQSFSUGvJ"
      }
    },
    {
      "cell_type": "markdown",
      "metadata": {
        "id": "WV1FxUHgOsae"
      },
      "source": [
        "<font color='red'>Question:</font> When **C** is relatively small (e.g. 0.01), how many support vectors in positive and negative classes, respectively? Do you see any problem with that?"
      ]
    },
    {
      "cell_type": "markdown",
      "source": [
        "1. Regularization parameter (C)\n",
        "\n",
        "2. Gamma parameter\n",
        "\n",
        "3. Kernel\n",
        "\n",
        "4. Degree\n",
        "\n",
        "5. Random state"
      ],
      "metadata": {
        "id": "oXbn--L7t9oe"
      }
    },
    {
      "cell_type": "code",
      "execution_count": null,
      "metadata": {
        "id": "_G16DY57Osae"
      },
      "outputs": [],
      "source": [
        ""
      ]
    },
    {
      "cell_type": "markdown",
      "metadata": {
        "id": "tcwLSObVOsaf"
      },
      "source": [
        "<font color='red'>Assignment:</font> Balance the classes (using **class_weight**), re-train the model, and find the change of support vector numbers in positive and negative classes."
      ]
    },
    {
      "cell_type": "code",
      "execution_count": null,
      "metadata": {
        "id": "pYMGvPiVOsaf",
        "colab": {
          "base_uri": "https://localhost:8080/"
        },
        "outputId": "f0dfd850-3f07-4b0a-d320-9846dc671151"
      },
      "outputs": [
        {
          "output_type": "execute_result",
          "data": {
            "text/plain": [
              "array([[-2.27979345, -0.46318566],\n",
              "       [-4.54778752,  3.39755814],\n",
              "       [-6.18839509, -1.73123515]])"
            ]
          },
          "metadata": {},
          "execution_count": 44
        }
      ],
      "source": [
        "svc_model_balanced = SVC(kernel = 'linear',gamma = 'scale', shrinking = False,class_weight='balanced')\n",
        "svc_model_balanced.fit(x,Y)\n",
        "svc_model_balanced.support_vectors_"
      ]
    },
    {
      "cell_type": "markdown",
      "metadata": {
        "id": "YyPNztDMOsaf"
      },
      "source": [
        "<font color='red'>Question:</font> What is a hyperplane? What is the optimal hyperplane for a SVM model?"
      ]
    },
    {
      "cell_type": "markdown",
      "source": [
        "In geometry, a hyperplane is a subspace whose dimension is one less than that of its ambient space. For example, if a space is 3-dimensional then its hyperplanes are the 2-dimensional planes, while if the space is 2-dimensional, its hyperplanes are the 1-dimensional lines. "
      ],
      "metadata": {
        "id": "pa_jaSwKLMHV"
      }
    },
    {
      "cell_type": "code",
      "execution_count": null,
      "metadata": {
        "id": "RSCXOxxhOsaf"
      },
      "outputs": [],
      "source": [
        ""
      ]
    },
    {
      "cell_type": "markdown",
      "metadata": {
        "id": "B-S9e-vcOsaf"
      },
      "source": [
        "<font color='red'>Question:</font> What is the difference between hard margin and soft margin? Which margin was adopted in the above model?"
      ]
    },
    {
      "cell_type": "markdown",
      "source": [
        "Soft_margin SVM :This idea is based on a simple premise: allow SVM to make a certain number of mistakes and keep margin as wide as possible so that other points can still be classified correctly. "
      ],
      "metadata": {
        "id": "q1mnQxpbjubN"
      }
    },
    {
      "cell_type": "markdown",
      "source": [
        "A hard margin means that an SVM is very rigid in classification and tries to work extremely well in the training set, causing overfitting."
      ],
      "metadata": {
        "id": "0CU31V87LlNt"
      }
    },
    {
      "cell_type": "markdown",
      "source": [
        ""
      ],
      "metadata": {
        "id": "h_n7QVEyLkdp"
      }
    },
    {
      "cell_type": "code",
      "execution_count": null,
      "metadata": {
        "id": "w4KNPwhBOsag"
      },
      "outputs": [],
      "source": [
        ""
      ]
    },
    {
      "cell_type": "markdown",
      "metadata": {
        "id": "CzBwEV8wOsag"
      },
      "source": [
        "<font color='red'>Question:</font> What is hinge loss?"
      ]
    },
    {
      "cell_type": "markdown",
      "source": [
        "In machine learning, the hinge loss is a loss function used for training classifiers. The hinge loss is used for \"maximum-margin\" classification."
      ],
      "metadata": {
        "id": "KpqoAVHpVafd"
      }
    },
    {
      "cell_type": "markdown",
      "source": [
        "For an intended output t = ±1 and a classifier score y, the hinge loss of the prediction y is defined as\n",
        "\n",
        "l(y)=max(0, 1-t.y)"
      ],
      "metadata": {
        "id": "ev49yIvsVgMO"
      }
    },
    {
      "cell_type": "markdown",
      "source": [
        "The hinge loss is a specific type of cost function that incorporates a margin or distance from the classification boundary into the cost calculation. Even if new observations are classified correctly, they can incur a penalty if the margin from the decision boundary is not large enough."
      ],
      "metadata": {
        "id": "JXStjxUKV_hK"
      }
    },
    {
      "cell_type": "code",
      "execution_count": null,
      "metadata": {
        "id": "9PiKe-_wOsag"
      },
      "outputs": [],
      "source": [
        ""
      ]
    },
    {
      "cell_type": "markdown",
      "metadata": {
        "id": "fI44DMn2Osag"
      },
      "source": [
        "<font color='red'>Question:</font> What is the difference between SVM and Logistic Regression? What are the pros and cons of these two algorithm?"
      ]
    },
    {
      "cell_type": "markdown",
      "metadata": {
        "id": "4pgEtjIUOsag"
      },
      "source": [
        "<font color='red'>Question:</font> Given a data set with many columns and a relatively small amount of rows, which algorithm could be better? SVM or Logistic Regression? Why?"
      ]
    },
    {
      "cell_type": "markdown",
      "source": [
        "When To Use Logistic Regression vs Support Vector Machine\n",
        "Depending on the number of training sets (data)/features that you have, you can choose to use either logistic regression or support vector machine.\n",
        "\n",
        "Lets take these as an example where :\n",
        "n = number of features,\n",
        "m = number of training examples\n",
        "\n",
        "1. If n is large (1–10,000) and m is small (10–1000) : use logistic regression or SVM with a linear kernel.\n",
        "\n",
        "2. If n is small (1–10 00) and m is intermediate (10–10,000) : use SVM with (Gaussian, polynomial etc) kernel\n",
        "\n",
        "3. If n is small (1–10 00), m is large (50,000–1,000,000+): first, manually add more features and then use logistic regression or SVM with a linear kernel"
      ],
      "metadata": {
        "id": "HgZNFfElVCLD"
      }
    },
    {
      "cell_type": "code",
      "execution_count": null,
      "metadata": {
        "id": "0RHbGbcuOsah"
      },
      "outputs": [],
      "source": [
        ""
      ]
    },
    {
      "cell_type": "markdown",
      "metadata": {
        "id": "6QbP8ctuOsah"
      },
      "source": [
        "<font color='red'>Assignment:</font> Try **rbf** kernel on the above data."
      ]
    },
    {
      "cell_type": "code",
      "execution_count": null,
      "metadata": {
        "id": "-SrXsdaHOsah",
        "colab": {
          "base_uri": "https://localhost:8080/"
        },
        "outputId": "fba6c260-49f7-49df-b6b4-3b1af56d5dec"
      },
      "outputs": [
        {
          "output_type": "execute_result",
          "data": {
            "text/plain": [
              "array([[ 0.07125535, -0.19658753],\n",
              "       [-1.02829001,  0.36208744],\n",
              "       [-2.27979345, -0.46318566],\n",
              "       [-4.54778752,  3.39755814],\n",
              "       [ 0.88795195,  8.34069337],\n",
              "       [-5.37552364,  6.87881793],\n",
              "       [-6.18839509, -1.73123515],\n",
              "       [-4.94106109, -4.4506181 ],\n",
              "       [-7.9200633 ,  0.42061075],\n",
              "       [-5.61631305, -7.74607039]])"
            ]
          },
          "metadata": {},
          "execution_count": 46
        }
      ],
      "source": [
        "svc_model_balanced_rbf = SVC(kernel = 'rbf',gamma = 'scale', shrinking = False,class_weight='balanced')\n",
        "svc_model_balanced_rbf.fit(x,Y)\n",
        "svc_model_balanced_rbf.support_vectors_"
      ]
    },
    {
      "cell_type": "markdown",
      "source": [
        "Kernel functions essentially take the dot product of transformed input vectors."
      ],
      "metadata": {
        "id": "DyGxaI_Gk_uo"
      }
    },
    {
      "cell_type": "markdown",
      "source": [
        ""
      ],
      "metadata": {
        "id": "V6F2rFQEk_bK"
      }
    },
    {
      "cell_type": "markdown",
      "metadata": {
        "id": "7omPCPBQOsah"
      },
      "source": [
        "<font color='red'>Question:</font> How does \"kernel trick\" work? What is rbf kernel? Where are the support vectors located?"
      ]
    },
    {
      "cell_type": "markdown",
      "source": [
        "Kernel functions essentially take the dot product of transformed input vectors."
      ],
      "metadata": {
        "id": "n6yEyQtSlDzY"
      }
    },
    {
      "cell_type": "markdown",
      "source": [
        "Kernel functions are generalized functions that take two vectors (of any dimension) as input and output a score that denotes how similar the input vectors are.\n",
        "\n",
        "A simple kernel function is the dot product of 2 vectors.\n",
        "\n",
        " If the dot product is small, we conclude that vectors are different and if the dot product is large, we conclude that vectors are more similar.\n",
        "\n",
        "The kernel trick:\n",
        "\n",
        "We can use any fancy Kernel function in place of dot product that has the capability of measuring similarity in higher dimensions (where it could be more accurate; more on this later), without increasing the computational costs much. This is essentially known as the Kernel Trick.\n",
        "\n",
        "\n",
        "The “trick” is that kernel methods represent the data only through a set of pairwise similarity comparisons between the original data observations x (with the original coordinates in the lower dimensional space), instead of explicitly applying the transformations ϕ(x) and representing the data by these transformed coordinates in the higher dimensional feature space."
      ],
      "metadata": {
        "id": "VrXmwMTAlTa1"
      }
    },
    {
      "cell_type": "markdown",
      "source": [
        "Support Vector Machine deals with nonlinear data by transforming it into a higher dimension where it is linearly separable. Support Vector Machine does so by using different values of Kernel. We have various options available with kernel like, ‘linear’, “rbf”, ”poly” and others (default value is “rbf”). Here “rbf” and “poly” are useful for non-linear hyper-plane.\n",
        "\n",
        "\n",
        "RBF Kernel\n",
        "\n",
        "Radial Basis Kernel is a kernel function that is used in machine learning to find a non-linear classifier or regression line."
      ],
      "metadata": {
        "id": "gyC70egXUhdm"
      }
    }
  ],
  "metadata": {
    "kernelspec": {
      "display_name": "Python 3",
      "language": "python",
      "name": "python3"
    },
    "language_info": {
      "codemirror_mode": {
        "name": "ipython",
        "version": 3
      },
      "file_extension": ".py",
      "mimetype": "text/x-python",
      "name": "python",
      "nbconvert_exporter": "python",
      "pygments_lexer": "ipython3",
      "version": "3.7.7"
    },
    "colab": {
      "name": "HW7.1_Aniketh.ipynb",
      "provenance": []
    }
  },
  "nbformat": 4,
  "nbformat_minor": 0
}
