{
  "cells": [
    {
      "cell_type": "markdown",
      "metadata": {
        "id": "KHsZKVIKuBGk"
      },
      "source": [
        "# Load Data"
      ]
    },
    {
      "cell_type": "code",
      "execution_count": null,
      "metadata": {
        "ExecuteTime": {
          "end_time": "2022-05-18T05:39:53.584897Z",
          "start_time": "2022-05-18T05:39:53.123807Z"
        },
        "id": "VNDpz4yUuBGo"
      },
      "outputs": [],
      "source": [
        "import pandas as pd\n",
        "df = pd.read_csv('SPAM.csv')"
      ]
    },
    {
      "cell_type": "code",
      "execution_count": null,
      "metadata": {
        "ExecuteTime": {
          "end_time": "2022-05-18T05:39:53.600944Z",
          "start_time": "2022-05-18T05:39:53.587233Z"
        },
        "colab": {
          "base_uri": "https://localhost:8080/",
          "height": 206
        },
        "id": "CDIDo67kuBGp",
        "outputId": "ab508293-5211-4e4b-a327-5421e82a414b"
      },
      "outputs": [
        {
          "output_type": "execute_result",
          "data": {
            "text/plain": [
              "  Category                                            Message\n",
              "0      ham  Go until jurong point, crazy.. Available only ...\n",
              "1      ham                      Ok lar... Joking wif u oni...\n",
              "2     spam  Free entry in 2 a wkly comp to win FA Cup fina...\n",
              "3      ham  U dun say so early hor... U c already then say...\n",
              "4      ham  Nah I don't think he goes to usf, he lives aro..."
            ],
            "text/html": [
              "\n",
              "  <div id=\"df-f49e6ff4-1824-41bd-97bf-46513df0fcf0\">\n",
              "    <div class=\"colab-df-container\">\n",
              "      <div>\n",
              "<style scoped>\n",
              "    .dataframe tbody tr th:only-of-type {\n",
              "        vertical-align: middle;\n",
              "    }\n",
              "\n",
              "    .dataframe tbody tr th {\n",
              "        vertical-align: top;\n",
              "    }\n",
              "\n",
              "    .dataframe thead th {\n",
              "        text-align: right;\n",
              "    }\n",
              "</style>\n",
              "<table border=\"1\" class=\"dataframe\">\n",
              "  <thead>\n",
              "    <tr style=\"text-align: right;\">\n",
              "      <th></th>\n",
              "      <th>Category</th>\n",
              "      <th>Message</th>\n",
              "    </tr>\n",
              "  </thead>\n",
              "  <tbody>\n",
              "    <tr>\n",
              "      <th>0</th>\n",
              "      <td>ham</td>\n",
              "      <td>Go until jurong point, crazy.. Available only ...</td>\n",
              "    </tr>\n",
              "    <tr>\n",
              "      <th>1</th>\n",
              "      <td>ham</td>\n",
              "      <td>Ok lar... Joking wif u oni...</td>\n",
              "    </tr>\n",
              "    <tr>\n",
              "      <th>2</th>\n",
              "      <td>spam</td>\n",
              "      <td>Free entry in 2 a wkly comp to win FA Cup fina...</td>\n",
              "    </tr>\n",
              "    <tr>\n",
              "      <th>3</th>\n",
              "      <td>ham</td>\n",
              "      <td>U dun say so early hor... U c already then say...</td>\n",
              "    </tr>\n",
              "    <tr>\n",
              "      <th>4</th>\n",
              "      <td>ham</td>\n",
              "      <td>Nah I don't think he goes to usf, he lives aro...</td>\n",
              "    </tr>\n",
              "  </tbody>\n",
              "</table>\n",
              "</div>\n",
              "      <button class=\"colab-df-convert\" onclick=\"convertToInteractive('df-f49e6ff4-1824-41bd-97bf-46513df0fcf0')\"\n",
              "              title=\"Convert this dataframe to an interactive table.\"\n",
              "              style=\"display:none;\">\n",
              "        \n",
              "  <svg xmlns=\"http://www.w3.org/2000/svg\" height=\"24px\"viewBox=\"0 0 24 24\"\n",
              "       width=\"24px\">\n",
              "    <path d=\"M0 0h24v24H0V0z\" fill=\"none\"/>\n",
              "    <path d=\"M18.56 5.44l.94 2.06.94-2.06 2.06-.94-2.06-.94-.94-2.06-.94 2.06-2.06.94zm-11 1L8.5 8.5l.94-2.06 2.06-.94-2.06-.94L8.5 2.5l-.94 2.06-2.06.94zm10 10l.94 2.06.94-2.06 2.06-.94-2.06-.94-.94-2.06-.94 2.06-2.06.94z\"/><path d=\"M17.41 7.96l-1.37-1.37c-.4-.4-.92-.59-1.43-.59-.52 0-1.04.2-1.43.59L10.3 9.45l-7.72 7.72c-.78.78-.78 2.05 0 2.83L4 21.41c.39.39.9.59 1.41.59.51 0 1.02-.2 1.41-.59l7.78-7.78 2.81-2.81c.8-.78.8-2.07 0-2.86zM5.41 20L4 18.59l7.72-7.72 1.47 1.35L5.41 20z\"/>\n",
              "  </svg>\n",
              "      </button>\n",
              "      \n",
              "  <style>\n",
              "    .colab-df-container {\n",
              "      display:flex;\n",
              "      flex-wrap:wrap;\n",
              "      gap: 12px;\n",
              "    }\n",
              "\n",
              "    .colab-df-convert {\n",
              "      background-color: #E8F0FE;\n",
              "      border: none;\n",
              "      border-radius: 50%;\n",
              "      cursor: pointer;\n",
              "      display: none;\n",
              "      fill: #1967D2;\n",
              "      height: 32px;\n",
              "      padding: 0 0 0 0;\n",
              "      width: 32px;\n",
              "    }\n",
              "\n",
              "    .colab-df-convert:hover {\n",
              "      background-color: #E2EBFA;\n",
              "      box-shadow: 0px 1px 2px rgba(60, 64, 67, 0.3), 0px 1px 3px 1px rgba(60, 64, 67, 0.15);\n",
              "      fill: #174EA6;\n",
              "    }\n",
              "\n",
              "    [theme=dark] .colab-df-convert {\n",
              "      background-color: #3B4455;\n",
              "      fill: #D2E3FC;\n",
              "    }\n",
              "\n",
              "    [theme=dark] .colab-df-convert:hover {\n",
              "      background-color: #434B5C;\n",
              "      box-shadow: 0px 1px 3px 1px rgba(0, 0, 0, 0.15);\n",
              "      filter: drop-shadow(0px 1px 2px rgba(0, 0, 0, 0.3));\n",
              "      fill: #FFFFFF;\n",
              "    }\n",
              "  </style>\n",
              "\n",
              "      <script>\n",
              "        const buttonEl =\n",
              "          document.querySelector('#df-f49e6ff4-1824-41bd-97bf-46513df0fcf0 button.colab-df-convert');\n",
              "        buttonEl.style.display =\n",
              "          google.colab.kernel.accessAllowed ? 'block' : 'none';\n",
              "\n",
              "        async function convertToInteractive(key) {\n",
              "          const element = document.querySelector('#df-f49e6ff4-1824-41bd-97bf-46513df0fcf0');\n",
              "          const dataTable =\n",
              "            await google.colab.kernel.invokeFunction('convertToInteractive',\n",
              "                                                     [key], {});\n",
              "          if (!dataTable) return;\n",
              "\n",
              "          const docLinkHtml = 'Like what you see? Visit the ' +\n",
              "            '<a target=\"_blank\" href=https://colab.research.google.com/notebooks/data_table.ipynb>data table notebook</a>'\n",
              "            + ' to learn more about interactive tables.';\n",
              "          element.innerHTML = '';\n",
              "          dataTable['output_type'] = 'display_data';\n",
              "          await google.colab.output.renderOutput(dataTable, element);\n",
              "          const docLink = document.createElement('div');\n",
              "          docLink.innerHTML = docLinkHtml;\n",
              "          element.appendChild(docLink);\n",
              "        }\n",
              "      </script>\n",
              "    </div>\n",
              "  </div>\n",
              "  "
            ]
          },
          "metadata": {},
          "execution_count": 12
        }
      ],
      "source": [
        "df.head()"
      ]
    },
    {
      "cell_type": "code",
      "execution_count": null,
      "metadata": {
        "ExecuteTime": {
          "end_time": "2022-05-18T05:39:53.607512Z",
          "start_time": "2022-05-18T05:39:53.602862Z"
        },
        "id": "i0d2UZK2uBGq"
      },
      "outputs": [],
      "source": [
        "text_data = df.Message.copy()\n",
        "target = df.Category.apply(lambda x: 1 if x=='spam' else 0)"
      ]
    },
    {
      "cell_type": "code",
      "execution_count": null,
      "metadata": {
        "ExecuteTime": {
          "end_time": "2022-05-18T05:39:53.736809Z",
          "start_time": "2022-05-18T05:39:53.731021Z"
        },
        "colab": {
          "base_uri": "https://localhost:8080/"
        },
        "id": "Zs_QvebxuBGr",
        "outputId": "397e1867-25f9-4752-9bb6-b567fe3f2d47"
      },
      "outputs": [
        {
          "output_type": "execute_result",
          "data": {
            "text/plain": [
              "0    4825\n",
              "1     747\n",
              "Name: Category, dtype: int64"
            ]
          },
          "metadata": {},
          "execution_count": 14
        }
      ],
      "source": [
        "target.value_counts()"
      ]
    },
    {
      "cell_type": "code",
      "execution_count": null,
      "metadata": {
        "ExecuteTime": {
          "end_time": "2022-05-18T05:39:54.456388Z",
          "start_time": "2022-05-18T05:39:54.041913Z"
        },
        "id": "A1CmfkA6uBGs"
      },
      "outputs": [],
      "source": [
        "from sklearn.model_selection import train_test_split\n",
        "text_train, text_test, y_train, y_test = train_test_split(text_data, target, \n",
        "                                                          stratify = target, random_state=1)"
      ]
    },
    {
      "cell_type": "markdown",
      "metadata": {
        "ExecuteTime": {
          "end_time": "2022-05-18T05:40:16.695285Z",
          "start_time": "2022-05-18T05:40:16.690404Z"
        },
        "id": "ydk301TKuBGs"
      },
      "source": [
        "<font color='red'>Question:</font> What are in text_train, text_test, y_train, y_test?"
      ]
    },
    {
      "cell_type": "code",
      "execution_count": null,
      "metadata": {
        "colab": {
          "base_uri": "https://localhost:8080/"
        },
        "id": "9r0AsDwBuBGt",
        "outputId": "7d3d13ea-1fa8-46b7-b547-80e7ee93810d"
      },
      "outputs": [
        {
          "output_type": "stream",
          "name": "stdout",
          "text": [
            "2795    The affidavit says  &lt;#&gt;  E Twiggs St, di...\n",
            "4161    i felt so...not any conveying reason.. Ese he....\n",
            "4651    Finally it has happened..! Aftr decades..! BEE...\n",
            "4018    Eek that's a lot of time especially since Amer...\n",
            "4133    Hi baby ive just got back from work and i was ...\n",
            "                              ...                        \n",
            "4771    CHEERS LOU! YEAH WAS A GOODNITE SHAME U NEVA C...\n",
            "1224       Rofl betta invest in some  anti aging products\n",
            "1195                                        Ok... C ya...\n",
            "1769    How. Its a little difficult but its a simple w...\n",
            "3281    Badrith is only for chennai:)i will surely pic...\n",
            "Name: Message, Length: 4179, dtype: object\n"
          ]
        }
      ],
      "source": [
        "print(text_train)"
      ]
    },
    {
      "cell_type": "code",
      "source": [
        "print(text_test)"
      ],
      "metadata": {
        "colab": {
          "base_uri": "https://localhost:8080/"
        },
        "id": "Vn55zbIjvZVC",
        "outputId": "c9a74753-0742-4bbc-c64c-5e676415412b"
      },
      "execution_count": null,
      "outputs": [
        {
          "output_type": "stream",
          "name": "stdout",
          "text": [
            "1372    I though we shd go out n have some fun so bar ...\n",
            "847     My stomach has been thru so much trauma I swea...\n",
            "547     I know but you need to get hotel now. I just g...\n",
            "3831    I agree. So i can stop thinkin about ipad. Can...\n",
            "3200      No de.am seeing in online shop so that i asked.\n",
            "                              ...                        \n",
            "3714    If i not meeting ü all rite then i'll go home ...\n",
            "4420    How have your little darlings been so far this...\n",
            "3217    URGENT! We are trying to contact U. Todays dra...\n",
            "630     Todays Vodafone numbers ending with 4882 are s...\n",
            "3515    I always chat with you. In fact i need money c...\n",
            "Name: Message, Length: 1393, dtype: object\n"
          ]
        }
      ]
    },
    {
      "cell_type": "code",
      "source": [
        "print(y_train)"
      ],
      "metadata": {
        "colab": {
          "base_uri": "https://localhost:8080/"
        },
        "id": "cSj86XazvcOR",
        "outputId": "259c2537-ab77-4e67-e8c8-663aac9b7ca7"
      },
      "execution_count": null,
      "outputs": [
        {
          "output_type": "stream",
          "name": "stdout",
          "text": [
            "2795    0\n",
            "4161    0\n",
            "4651    0\n",
            "4018    0\n",
            "4133    0\n",
            "       ..\n",
            "4771    0\n",
            "1224    0\n",
            "1195    0\n",
            "1769    0\n",
            "3281    0\n",
            "Name: Category, Length: 4179, dtype: int64\n"
          ]
        }
      ]
    },
    {
      "cell_type": "code",
      "source": [
        "y_test"
      ],
      "metadata": {
        "colab": {
          "base_uri": "https://localhost:8080/"
        },
        "id": "ts1gUZIwvcZj",
        "outputId": "b92ba4f6-bcf7-4867-8816-d0c0ed8085e7"
      },
      "execution_count": null,
      "outputs": [
        {
          "output_type": "execute_result",
          "data": {
            "text/plain": [
              "1372    0\n",
              "847     0\n",
              "547     0\n",
              "3831    0\n",
              "3200    0\n",
              "       ..\n",
              "3714    0\n",
              "4420    0\n",
              "3217    1\n",
              "630     1\n",
              "3515    0\n",
              "Name: Category, Length: 1393, dtype: int64"
            ]
          },
          "metadata": {},
          "execution_count": 19
        }
      ]
    },
    {
      "cell_type": "code",
      "source": [
        "text_train.shape"
      ],
      "metadata": {
        "colab": {
          "base_uri": "https://localhost:8080/"
        },
        "id": "AW0G3vm_qK18",
        "outputId": "6e0c9ac8-362b-4d45-b29b-c5a6dc1e9bcd"
      },
      "execution_count": 104,
      "outputs": [
        {
          "output_type": "execute_result",
          "data": {
            "text/plain": [
              "(4179,)"
            ]
          },
          "metadata": {},
          "execution_count": 104
        }
      ]
    },
    {
      "cell_type": "markdown",
      "metadata": {
        "id": "3sFOYa5XuBGt"
      },
      "source": [
        "# Process Text Data"
      ]
    },
    {
      "cell_type": "code",
      "execution_count": null,
      "metadata": {
        "ExecuteTime": {
          "end_time": "2022-05-18T05:22:09.327604Z",
          "start_time": "2022-05-18T05:22:09.325477Z"
        },
        "colab": {
          "base_uri": "https://localhost:8080/"
        },
        "id": "oOnbRSb-uBGu",
        "outputId": "f203da29-ba17-49f1-8a64-6e1a57876937"
      },
      "outputs": [
        {
          "output_type": "stream",
          "name": "stdout",
          "text": [
            "[nltk_data] Downloading package stopwords to /root/nltk_data...\n",
            "[nltk_data]   Unzipping corpora/stopwords.zip.\n"
          ]
        },
        {
          "output_type": "execute_result",
          "data": {
            "text/plain": [
              "True"
            ]
          },
          "metadata": {},
          "execution_count": 20
        }
      ],
      "source": [
        "## You might need to run the following two lines to download stopwords for NLTK\n",
        "import nltk\n",
        "nltk.download('stopwords')"
      ]
    },
    {
      "cell_type": "code",
      "execution_count": null,
      "metadata": {
        "ExecuteTime": {
          "end_time": "2022-05-18T05:22:09.928556Z",
          "start_time": "2022-05-18T05:22:09.482734Z"
        },
        "id": "W4sJ4_HbuBGu"
      },
      "outputs": [],
      "source": [
        "from nltk.corpus import stopwords"
      ]
    },
    {
      "cell_type": "code",
      "execution_count": null,
      "metadata": {
        "ExecuteTime": {
          "end_time": "2022-05-18T05:22:09.934254Z",
          "start_time": "2022-05-18T05:22:09.930167Z"
        },
        "id": "Xno7cdl2uBGv",
        "outputId": "6dfef2dd-52d7-4b11-dc94-dfb31fc806fc",
        "colab": {
          "base_uri": "https://localhost:8080/"
        }
      },
      "outputs": [
        {
          "output_type": "stream",
          "name": "stdout",
          "text": [
            "['i', 'me', 'my', 'myself', 'we', 'our', 'ours', 'ourselves', 'you', \"you're\", \"you've\", \"you'll\", \"you'd\", 'your', 'yours', 'yourself', 'yourselves', 'he', 'him', 'his', 'himself', 'she', \"she's\", 'her', 'hers', 'herself', 'it', \"it's\", 'its', 'itself', 'they', 'them', 'their', 'theirs', 'themselves', 'what', 'which', 'who', 'whom', 'this', 'that', \"that'll\", 'these', 'those', 'am', 'is', 'are', 'was', 'were', 'be', 'been', 'being', 'have', 'has', 'had', 'having', 'do', 'does', 'did', 'doing', 'a', 'an', 'the', 'and', 'but', 'if', 'or', 'because', 'as', 'until', 'while', 'of', 'at', 'by', 'for', 'with', 'about', 'against', 'between', 'into', 'through', 'during', 'before', 'after', 'above', 'below', 'to', 'from', 'up', 'down', 'in', 'out', 'on', 'off', 'over', 'under', 'again', 'further', 'then', 'once', 'here', 'there', 'when', 'where', 'why', 'how', 'all', 'any', 'both', 'each', 'few', 'more', 'most', 'other', 'some', 'such', 'no', 'nor', 'not', 'only', 'own', 'same', 'so', 'than', 'too', 'very', 's', 't', 'can', 'will', 'just', 'don', \"don't\", 'should', \"should've\", 'now', 'd', 'll', 'm', 'o', 're', 've', 'y', 'ain', 'aren', \"aren't\", 'couldn', \"couldn't\", 'didn', \"didn't\", 'doesn', \"doesn't\", 'hadn', \"hadn't\", 'hasn', \"hasn't\", 'haven', \"haven't\", 'isn', \"isn't\", 'ma', 'mightn', \"mightn't\", 'mustn', \"mustn't\", 'needn', \"needn't\", 'shan', \"shan't\", 'shouldn', \"shouldn't\", 'wasn', \"wasn't\", 'weren', \"weren't\", 'won', \"won't\", 'wouldn', \"wouldn't\"]\n"
          ]
        }
      ],
      "source": [
        "print(stopwords.words('english'))"
      ]
    },
    {
      "cell_type": "markdown",
      "metadata": {
        "id": "_yuELo-KuBGv"
      },
      "source": [
        "<font color='red'>Question:</font> What are stopwords? Why do we need to remove them?"
      ]
    },
    {
      "cell_type": "code",
      "execution_count": null,
      "metadata": {
        "id": "GNKb5gcOuBGw"
      },
      "outputs": [],
      "source": [
        ""
      ]
    },
    {
      "cell_type": "code",
      "execution_count": null,
      "metadata": {
        "ExecuteTime": {
          "end_time": "2022-05-18T05:22:10.110425Z",
          "start_time": "2022-05-18T05:22:10.107691Z"
        },
        "id": "K78yDerduBGw"
      },
      "outputs": [],
      "source": [
        "from nltk.stem.snowball import EnglishStemmer\n",
        "stemmer = EnglishStemmer(ignore_stopwords=False)"
      ]
    },
    {
      "cell_type": "code",
      "execution_count": null,
      "metadata": {
        "ExecuteTime": {
          "end_time": "2022-05-18T05:22:10.269550Z",
          "start_time": "2022-05-18T05:22:10.265372Z"
        },
        "colab": {
          "base_uri": "https://localhost:8080/",
          "height": 35
        },
        "id": "RC2yvFfPuBGw",
        "outputId": "7881a40a-95cb-42a0-d472-169692780682"
      },
      "outputs": [
        {
          "output_type": "execute_result",
          "data": {
            "text/plain": [
              "'dream'"
            ],
            "application/vnd.google.colaboratory.intrinsic+json": {
              "type": "string"
            }
          },
          "metadata": {},
          "execution_count": 15
        }
      ],
      "source": [
        "stemmer.stem('dream')"
      ]
    },
    {
      "cell_type": "code",
      "execution_count": null,
      "metadata": {
        "ExecuteTime": {
          "end_time": "2022-05-18T05:22:10.421684Z",
          "start_time": "2022-05-18T05:22:10.418136Z"
        },
        "colab": {
          "base_uri": "https://localhost:8080/",
          "height": 35
        },
        "id": "-1snH_eruBGx",
        "outputId": "e69d8241-7b96-4c52-ae8a-2048050e68b7"
      },
      "outputs": [
        {
          "output_type": "execute_result",
          "data": {
            "text/plain": [
              "'dream'"
            ],
            "application/vnd.google.colaboratory.intrinsic+json": {
              "type": "string"
            }
          },
          "metadata": {},
          "execution_count": 16
        }
      ],
      "source": [
        "stemmer.stem('dreaming')"
      ]
    },
    {
      "cell_type": "code",
      "execution_count": null,
      "metadata": {
        "ExecuteTime": {
          "end_time": "2022-05-18T05:22:10.578946Z",
          "start_time": "2022-05-18T05:22:10.575151Z"
        },
        "colab": {
          "base_uri": "https://localhost:8080/",
          "height": 35
        },
        "id": "ZVYnfWtluBGx",
        "outputId": "c7edba74-d196-47e5-e8dc-e5b720194037"
      },
      "outputs": [
        {
          "output_type": "execute_result",
          "data": {
            "text/plain": [
              "'dream'"
            ],
            "application/vnd.google.colaboratory.intrinsic+json": {
              "type": "string"
            }
          },
          "metadata": {},
          "execution_count": 17
        }
      ],
      "source": [
        "stemmer.stem('dreamed')"
      ]
    },
    {
      "cell_type": "markdown",
      "metadata": {
        "id": "LLvNKPvduBGx"
      },
      "source": [
        "<font color='red'>Question:</font> What is stemming? Why is it helpful?"
      ]
    },
    {
      "cell_type": "code",
      "execution_count": null,
      "metadata": {
        "ExecuteTime": {
          "end_time": "2022-05-18T05:22:11.060598Z",
          "start_time": "2022-05-18T05:22:11.056751Z"
        },
        "id": "FYZ9bVCmuBGy"
      },
      "outputs": [],
      "source": [
        "import re\n",
        "def stem_tokenizer(text):\n",
        "    stemmer = EnglishStemmer(ignore_stopwords=True)\n",
        "    words = re.sub(r\"[^A-Za-z0-9\\-]\", \" \", text).lower().split()\n",
        "    #words = re.sub(r\"[^A-Za-z0-9\\-]\", \" \", text).split()\n",
        "    words = [stemmer.stem(word) for word in words]\n",
        "    return words "
      ]
    },
    {
      "cell_type": "code",
      "source": [
        "tokens=[]\n",
        "\n",
        "import nltk\n",
        "nltk.download('stopwords')\n",
        "for i in range(len(df)):\n",
        "  tokens.append(stem_tokenizer(df.Message[i]))\n",
        "\n",
        "df['Stemmed_Tokens']=tokens\n",
        "df"
      ],
      "metadata": {
        "colab": {
          "base_uri": "https://localhost:8080/",
          "height": 459
        },
        "id": "5vDOHjsa1Ere",
        "outputId": "80538e60-c128-4230-9617-326017532d28"
      },
      "execution_count": null,
      "outputs": [
        {
          "output_type": "stream",
          "name": "stdout",
          "text": [
            "[nltk_data] Downloading package stopwords to /root/nltk_data...\n",
            "[nltk_data]   Package stopwords is already up-to-date!\n"
          ]
        },
        {
          "output_type": "execute_result",
          "data": {
            "text/plain": [
              "     Category                                            Message  \\\n",
              "0         ham  Go until jurong point, crazy.. Available only ...   \n",
              "1         ham                      Ok lar... Joking wif u oni...   \n",
              "2        spam  Free entry in 2 a wkly comp to win FA Cup fina...   \n",
              "3         ham  U dun say so early hor... U c already then say...   \n",
              "4         ham  Nah I don't think he goes to usf, he lives aro...   \n",
              "...       ...                                                ...   \n",
              "5567     spam  This is the 2nd time we have tried 2 contact u...   \n",
              "5568      ham               Will ü b going to esplanade fr home?   \n",
              "5569      ham  Pity, * was in mood for that. So...any other s...   \n",
              "5570      ham  The guy did some bitching but I acted like i'd...   \n",
              "5571      ham                         Rofl. Its true to its name   \n",
              "\n",
              "                                         Stemmed_Tokens  \n",
              "0     [go, until, jurong, point, crazi, avail, only,...  \n",
              "1                          [ok, lar, joke, wif, u, oni]  \n",
              "2     [free, entri, in, 2, a, wkli, comp, to, win, f...  \n",
              "3     [u, dun, say, so, earli, hor, u, c, alreadi, t...  \n",
              "4     [nah, i, don, t, think, he, goe, to, usf, he, ...  \n",
              "...                                                 ...  \n",
              "5567  [this, is, the, 2nd, time, we, have, tri, 2, c...  \n",
              "5568              [will, b, go, to, esplanad, fr, home]  \n",
              "5569  [piti, was, in, mood, for, that, so, any, othe...  \n",
              "5570  [the, guy, did, some, bitch, but, i, act, like...  \n",
              "5571                   [rofl, its, true, to, its, name]  \n",
              "\n",
              "[5572 rows x 3 columns]"
            ],
            "text/html": [
              "\n",
              "  <div id=\"df-888c1d7b-9673-4611-bcba-e8375cd3f414\">\n",
              "    <div class=\"colab-df-container\">\n",
              "      <div>\n",
              "<style scoped>\n",
              "    .dataframe tbody tr th:only-of-type {\n",
              "        vertical-align: middle;\n",
              "    }\n",
              "\n",
              "    .dataframe tbody tr th {\n",
              "        vertical-align: top;\n",
              "    }\n",
              "\n",
              "    .dataframe thead th {\n",
              "        text-align: right;\n",
              "    }\n",
              "</style>\n",
              "<table border=\"1\" class=\"dataframe\">\n",
              "  <thead>\n",
              "    <tr style=\"text-align: right;\">\n",
              "      <th></th>\n",
              "      <th>Category</th>\n",
              "      <th>Message</th>\n",
              "      <th>Stemmed_Tokens</th>\n",
              "    </tr>\n",
              "  </thead>\n",
              "  <tbody>\n",
              "    <tr>\n",
              "      <th>0</th>\n",
              "      <td>ham</td>\n",
              "      <td>Go until jurong point, crazy.. Available only ...</td>\n",
              "      <td>[go, until, jurong, point, crazi, avail, only,...</td>\n",
              "    </tr>\n",
              "    <tr>\n",
              "      <th>1</th>\n",
              "      <td>ham</td>\n",
              "      <td>Ok lar... Joking wif u oni...</td>\n",
              "      <td>[ok, lar, joke, wif, u, oni]</td>\n",
              "    </tr>\n",
              "    <tr>\n",
              "      <th>2</th>\n",
              "      <td>spam</td>\n",
              "      <td>Free entry in 2 a wkly comp to win FA Cup fina...</td>\n",
              "      <td>[free, entri, in, 2, a, wkli, comp, to, win, f...</td>\n",
              "    </tr>\n",
              "    <tr>\n",
              "      <th>3</th>\n",
              "      <td>ham</td>\n",
              "      <td>U dun say so early hor... U c already then say...</td>\n",
              "      <td>[u, dun, say, so, earli, hor, u, c, alreadi, t...</td>\n",
              "    </tr>\n",
              "    <tr>\n",
              "      <th>4</th>\n",
              "      <td>ham</td>\n",
              "      <td>Nah I don't think he goes to usf, he lives aro...</td>\n",
              "      <td>[nah, i, don, t, think, he, goe, to, usf, he, ...</td>\n",
              "    </tr>\n",
              "    <tr>\n",
              "      <th>...</th>\n",
              "      <td>...</td>\n",
              "      <td>...</td>\n",
              "      <td>...</td>\n",
              "    </tr>\n",
              "    <tr>\n",
              "      <th>5567</th>\n",
              "      <td>spam</td>\n",
              "      <td>This is the 2nd time we have tried 2 contact u...</td>\n",
              "      <td>[this, is, the, 2nd, time, we, have, tri, 2, c...</td>\n",
              "    </tr>\n",
              "    <tr>\n",
              "      <th>5568</th>\n",
              "      <td>ham</td>\n",
              "      <td>Will ü b going to esplanade fr home?</td>\n",
              "      <td>[will, b, go, to, esplanad, fr, home]</td>\n",
              "    </tr>\n",
              "    <tr>\n",
              "      <th>5569</th>\n",
              "      <td>ham</td>\n",
              "      <td>Pity, * was in mood for that. So...any other s...</td>\n",
              "      <td>[piti, was, in, mood, for, that, so, any, othe...</td>\n",
              "    </tr>\n",
              "    <tr>\n",
              "      <th>5570</th>\n",
              "      <td>ham</td>\n",
              "      <td>The guy did some bitching but I acted like i'd...</td>\n",
              "      <td>[the, guy, did, some, bitch, but, i, act, like...</td>\n",
              "    </tr>\n",
              "    <tr>\n",
              "      <th>5571</th>\n",
              "      <td>ham</td>\n",
              "      <td>Rofl. Its true to its name</td>\n",
              "      <td>[rofl, its, true, to, its, name]</td>\n",
              "    </tr>\n",
              "  </tbody>\n",
              "</table>\n",
              "<p>5572 rows × 3 columns</p>\n",
              "</div>\n",
              "      <button class=\"colab-df-convert\" onclick=\"convertToInteractive('df-888c1d7b-9673-4611-bcba-e8375cd3f414')\"\n",
              "              title=\"Convert this dataframe to an interactive table.\"\n",
              "              style=\"display:none;\">\n",
              "        \n",
              "  <svg xmlns=\"http://www.w3.org/2000/svg\" height=\"24px\"viewBox=\"0 0 24 24\"\n",
              "       width=\"24px\">\n",
              "    <path d=\"M0 0h24v24H0V0z\" fill=\"none\"/>\n",
              "    <path d=\"M18.56 5.44l.94 2.06.94-2.06 2.06-.94-2.06-.94-.94-2.06-.94 2.06-2.06.94zm-11 1L8.5 8.5l.94-2.06 2.06-.94-2.06-.94L8.5 2.5l-.94 2.06-2.06.94zm10 10l.94 2.06.94-2.06 2.06-.94-2.06-.94-.94-2.06-.94 2.06-2.06.94z\"/><path d=\"M17.41 7.96l-1.37-1.37c-.4-.4-.92-.59-1.43-.59-.52 0-1.04.2-1.43.59L10.3 9.45l-7.72 7.72c-.78.78-.78 2.05 0 2.83L4 21.41c.39.39.9.59 1.41.59.51 0 1.02-.2 1.41-.59l7.78-7.78 2.81-2.81c.8-.78.8-2.07 0-2.86zM5.41 20L4 18.59l7.72-7.72 1.47 1.35L5.41 20z\"/>\n",
              "  </svg>\n",
              "      </button>\n",
              "      \n",
              "  <style>\n",
              "    .colab-df-container {\n",
              "      display:flex;\n",
              "      flex-wrap:wrap;\n",
              "      gap: 12px;\n",
              "    }\n",
              "\n",
              "    .colab-df-convert {\n",
              "      background-color: #E8F0FE;\n",
              "      border: none;\n",
              "      border-radius: 50%;\n",
              "      cursor: pointer;\n",
              "      display: none;\n",
              "      fill: #1967D2;\n",
              "      height: 32px;\n",
              "      padding: 0 0 0 0;\n",
              "      width: 32px;\n",
              "    }\n",
              "\n",
              "    .colab-df-convert:hover {\n",
              "      background-color: #E2EBFA;\n",
              "      box-shadow: 0px 1px 2px rgba(60, 64, 67, 0.3), 0px 1px 3px 1px rgba(60, 64, 67, 0.15);\n",
              "      fill: #174EA6;\n",
              "    }\n",
              "\n",
              "    [theme=dark] .colab-df-convert {\n",
              "      background-color: #3B4455;\n",
              "      fill: #D2E3FC;\n",
              "    }\n",
              "\n",
              "    [theme=dark] .colab-df-convert:hover {\n",
              "      background-color: #434B5C;\n",
              "      box-shadow: 0px 1px 3px 1px rgba(0, 0, 0, 0.15);\n",
              "      filter: drop-shadow(0px 1px 2px rgba(0, 0, 0, 0.3));\n",
              "      fill: #FFFFFF;\n",
              "    }\n",
              "  </style>\n",
              "\n",
              "      <script>\n",
              "        const buttonEl =\n",
              "          document.querySelector('#df-888c1d7b-9673-4611-bcba-e8375cd3f414 button.colab-df-convert');\n",
              "        buttonEl.style.display =\n",
              "          google.colab.kernel.accessAllowed ? 'block' : 'none';\n",
              "\n",
              "        async function convertToInteractive(key) {\n",
              "          const element = document.querySelector('#df-888c1d7b-9673-4611-bcba-e8375cd3f414');\n",
              "          const dataTable =\n",
              "            await google.colab.kernel.invokeFunction('convertToInteractive',\n",
              "                                                     [key], {});\n",
              "          if (!dataTable) return;\n",
              "\n",
              "          const docLinkHtml = 'Like what you see? Visit the ' +\n",
              "            '<a target=\"_blank\" href=https://colab.research.google.com/notebooks/data_table.ipynb>data table notebook</a>'\n",
              "            + ' to learn more about interactive tables.';\n",
              "          element.innerHTML = '';\n",
              "          dataTable['output_type'] = 'display_data';\n",
              "          await google.colab.output.renderOutput(dataTable, element);\n",
              "          const docLink = document.createElement('div');\n",
              "          docLink.innerHTML = docLinkHtml;\n",
              "          element.appendChild(docLink);\n",
              "        }\n",
              "      </script>\n",
              "    </div>\n",
              "  </div>\n",
              "  "
            ]
          },
          "metadata": {},
          "execution_count": 27
        }
      ]
    },
    {
      "cell_type": "code",
      "source": [
        "corpora=['Will ü b going to esplanade fr home?','Rofl. Its true to its name']\n",
        "\n",
        "from sklearn.feature_extraction.text import CountVectorizer\n",
        "vectorizer = CountVectorizer()\n",
        "# convert the documents into a matrix\n",
        "wm = vectorizer.fit_transform(corpora)\n",
        "#retrieve the terms found in the corpora\n",
        "tokens = vectorizer.get_feature_names()\n",
        "df_vect = pd.DataFrame(data = wm.toarray(),index = ['Doc1','Doc2'],columns = tokens)\n",
        "df_vect\n"
      ],
      "metadata": {
        "colab": {
          "base_uri": "https://localhost:8080/",
          "height": 168
        },
        "id": "_ttSuE9MXRC4",
        "outputId": "d6e13819-9b2d-45af-f992-9344c80aa7a2"
      },
      "execution_count": null,
      "outputs": [
        {
          "output_type": "stream",
          "name": "stderr",
          "text": [
            "/usr/local/lib/python3.7/dist-packages/sklearn/utils/deprecation.py:87: FutureWarning: Function get_feature_names is deprecated; get_feature_names is deprecated in 1.0 and will be removed in 1.2. Please use get_feature_names_out instead.\n",
            "  warnings.warn(msg, category=FutureWarning)\n"
          ]
        },
        {
          "output_type": "execute_result",
          "data": {
            "text/plain": [
              "      esplanade  fr  going  home  its  name  rofl  to  true  will\n",
              "Doc1          1   1      1     1    0     0     0   1     0     1\n",
              "Doc2          0   0      0     0    2     1     1   1     1     0"
            ],
            "text/html": [
              "\n",
              "  <div id=\"df-203192e6-7d73-47b2-af59-9c0631ecda11\">\n",
              "    <div class=\"colab-df-container\">\n",
              "      <div>\n",
              "<style scoped>\n",
              "    .dataframe tbody tr th:only-of-type {\n",
              "        vertical-align: middle;\n",
              "    }\n",
              "\n",
              "    .dataframe tbody tr th {\n",
              "        vertical-align: top;\n",
              "    }\n",
              "\n",
              "    .dataframe thead th {\n",
              "        text-align: right;\n",
              "    }\n",
              "</style>\n",
              "<table border=\"1\" class=\"dataframe\">\n",
              "  <thead>\n",
              "    <tr style=\"text-align: right;\">\n",
              "      <th></th>\n",
              "      <th>esplanade</th>\n",
              "      <th>fr</th>\n",
              "      <th>going</th>\n",
              "      <th>home</th>\n",
              "      <th>its</th>\n",
              "      <th>name</th>\n",
              "      <th>rofl</th>\n",
              "      <th>to</th>\n",
              "      <th>true</th>\n",
              "      <th>will</th>\n",
              "    </tr>\n",
              "  </thead>\n",
              "  <tbody>\n",
              "    <tr>\n",
              "      <th>Doc1</th>\n",
              "      <td>1</td>\n",
              "      <td>1</td>\n",
              "      <td>1</td>\n",
              "      <td>1</td>\n",
              "      <td>0</td>\n",
              "      <td>0</td>\n",
              "      <td>0</td>\n",
              "      <td>1</td>\n",
              "      <td>0</td>\n",
              "      <td>1</td>\n",
              "    </tr>\n",
              "    <tr>\n",
              "      <th>Doc2</th>\n",
              "      <td>0</td>\n",
              "      <td>0</td>\n",
              "      <td>0</td>\n",
              "      <td>0</td>\n",
              "      <td>2</td>\n",
              "      <td>1</td>\n",
              "      <td>1</td>\n",
              "      <td>1</td>\n",
              "      <td>1</td>\n",
              "      <td>0</td>\n",
              "    </tr>\n",
              "  </tbody>\n",
              "</table>\n",
              "</div>\n",
              "      <button class=\"colab-df-convert\" onclick=\"convertToInteractive('df-203192e6-7d73-47b2-af59-9c0631ecda11')\"\n",
              "              title=\"Convert this dataframe to an interactive table.\"\n",
              "              style=\"display:none;\">\n",
              "        \n",
              "  <svg xmlns=\"http://www.w3.org/2000/svg\" height=\"24px\"viewBox=\"0 0 24 24\"\n",
              "       width=\"24px\">\n",
              "    <path d=\"M0 0h24v24H0V0z\" fill=\"none\"/>\n",
              "    <path d=\"M18.56 5.44l.94 2.06.94-2.06 2.06-.94-2.06-.94-.94-2.06-.94 2.06-2.06.94zm-11 1L8.5 8.5l.94-2.06 2.06-.94-2.06-.94L8.5 2.5l-.94 2.06-2.06.94zm10 10l.94 2.06.94-2.06 2.06-.94-2.06-.94-.94-2.06-.94 2.06-2.06.94z\"/><path d=\"M17.41 7.96l-1.37-1.37c-.4-.4-.92-.59-1.43-.59-.52 0-1.04.2-1.43.59L10.3 9.45l-7.72 7.72c-.78.78-.78 2.05 0 2.83L4 21.41c.39.39.9.59 1.41.59.51 0 1.02-.2 1.41-.59l7.78-7.78 2.81-2.81c.8-.78.8-2.07 0-2.86zM5.41 20L4 18.59l7.72-7.72 1.47 1.35L5.41 20z\"/>\n",
              "  </svg>\n",
              "      </button>\n",
              "      \n",
              "  <style>\n",
              "    .colab-df-container {\n",
              "      display:flex;\n",
              "      flex-wrap:wrap;\n",
              "      gap: 12px;\n",
              "    }\n",
              "\n",
              "    .colab-df-convert {\n",
              "      background-color: #E8F0FE;\n",
              "      border: none;\n",
              "      border-radius: 50%;\n",
              "      cursor: pointer;\n",
              "      display: none;\n",
              "      fill: #1967D2;\n",
              "      height: 32px;\n",
              "      padding: 0 0 0 0;\n",
              "      width: 32px;\n",
              "    }\n",
              "\n",
              "    .colab-df-convert:hover {\n",
              "      background-color: #E2EBFA;\n",
              "      box-shadow: 0px 1px 2px rgba(60, 64, 67, 0.3), 0px 1px 3px 1px rgba(60, 64, 67, 0.15);\n",
              "      fill: #174EA6;\n",
              "    }\n",
              "\n",
              "    [theme=dark] .colab-df-convert {\n",
              "      background-color: #3B4455;\n",
              "      fill: #D2E3FC;\n",
              "    }\n",
              "\n",
              "    [theme=dark] .colab-df-convert:hover {\n",
              "      background-color: #434B5C;\n",
              "      box-shadow: 0px 1px 3px 1px rgba(0, 0, 0, 0.15);\n",
              "      filter: drop-shadow(0px 1px 2px rgba(0, 0, 0, 0.3));\n",
              "      fill: #FFFFFF;\n",
              "    }\n",
              "  </style>\n",
              "\n",
              "      <script>\n",
              "        const buttonEl =\n",
              "          document.querySelector('#df-203192e6-7d73-47b2-af59-9c0631ecda11 button.colab-df-convert');\n",
              "        buttonEl.style.display =\n",
              "          google.colab.kernel.accessAllowed ? 'block' : 'none';\n",
              "\n",
              "        async function convertToInteractive(key) {\n",
              "          const element = document.querySelector('#df-203192e6-7d73-47b2-af59-9c0631ecda11');\n",
              "          const dataTable =\n",
              "            await google.colab.kernel.invokeFunction('convertToInteractive',\n",
              "                                                     [key], {});\n",
              "          if (!dataTable) return;\n",
              "\n",
              "          const docLinkHtml = 'Like what you see? Visit the ' +\n",
              "            '<a target=\"_blank\" href=https://colab.research.google.com/notebooks/data_table.ipynb>data table notebook</a>'\n",
              "            + ' to learn more about interactive tables.';\n",
              "          element.innerHTML = '';\n",
              "          dataTable['output_type'] = 'display_data';\n",
              "          await google.colab.output.renderOutput(dataTable, element);\n",
              "          const docLink = document.createElement('div');\n",
              "          docLink.innerHTML = docLinkHtml;\n",
              "          element.appendChild(docLink);\n",
              "        }\n",
              "      </script>\n",
              "    </div>\n",
              "  </div>\n",
              "  "
            ]
          },
          "metadata": {},
          "execution_count": 30
        }
      ]
    },
    {
      "cell_type": "code",
      "source": [
        "from sklearn.feature_extraction.text import TfidfVectorizer\n",
        "tfidf=TfidfVectorizer()\n",
        "wm1= tfidf.fit_transform(corpora)\n",
        "\n",
        "tokens1= tfidf.get_feature_names()\n",
        "df_vect_1 = pd.DataFrame(data = wm1.toarray(),index = ['Doc1','Doc2'],columns = tokens1)\n",
        "df_vect_1\n"
      ],
      "metadata": {
        "colab": {
          "base_uri": "https://localhost:8080/",
          "height": 168
        },
        "id": "k4U2303bc_Yq",
        "outputId": "c26ffce7-45a8-4cde-e1ef-537507fe1a72"
      },
      "execution_count": null,
      "outputs": [
        {
          "output_type": "stream",
          "name": "stderr",
          "text": [
            "/usr/local/lib/python3.7/dist-packages/sklearn/utils/deprecation.py:87: FutureWarning: Function get_feature_names is deprecated; get_feature_names is deprecated in 1.0 and will be removed in 1.2. Please use get_feature_names_out instead.\n",
            "  warnings.warn(msg, category=FutureWarning)\n"
          ]
        },
        {
          "output_type": "execute_result",
          "data": {
            "text/plain": [
              "      esplanade       fr    going     home       its      name      rofl  \\\n",
              "Doc1    0.42616  0.42616  0.42616  0.42616  0.000000  0.000000  0.000000   \n",
              "Doc2    0.00000  0.00000  0.00000  0.00000  0.729993  0.364996  0.364996   \n",
              "\n",
              "            to      true     will  \n",
              "Doc1  0.303216  0.000000  0.42616  \n",
              "Doc2  0.259698  0.364996  0.00000  "
            ],
            "text/html": [
              "\n",
              "  <div id=\"df-edc812b9-4fb2-4b4d-814d-c8c7f98d20b2\">\n",
              "    <div class=\"colab-df-container\">\n",
              "      <div>\n",
              "<style scoped>\n",
              "    .dataframe tbody tr th:only-of-type {\n",
              "        vertical-align: middle;\n",
              "    }\n",
              "\n",
              "    .dataframe tbody tr th {\n",
              "        vertical-align: top;\n",
              "    }\n",
              "\n",
              "    .dataframe thead th {\n",
              "        text-align: right;\n",
              "    }\n",
              "</style>\n",
              "<table border=\"1\" class=\"dataframe\">\n",
              "  <thead>\n",
              "    <tr style=\"text-align: right;\">\n",
              "      <th></th>\n",
              "      <th>esplanade</th>\n",
              "      <th>fr</th>\n",
              "      <th>going</th>\n",
              "      <th>home</th>\n",
              "      <th>its</th>\n",
              "      <th>name</th>\n",
              "      <th>rofl</th>\n",
              "      <th>to</th>\n",
              "      <th>true</th>\n",
              "      <th>will</th>\n",
              "    </tr>\n",
              "  </thead>\n",
              "  <tbody>\n",
              "    <tr>\n",
              "      <th>Doc1</th>\n",
              "      <td>0.42616</td>\n",
              "      <td>0.42616</td>\n",
              "      <td>0.42616</td>\n",
              "      <td>0.42616</td>\n",
              "      <td>0.000000</td>\n",
              "      <td>0.000000</td>\n",
              "      <td>0.000000</td>\n",
              "      <td>0.303216</td>\n",
              "      <td>0.000000</td>\n",
              "      <td>0.42616</td>\n",
              "    </tr>\n",
              "    <tr>\n",
              "      <th>Doc2</th>\n",
              "      <td>0.00000</td>\n",
              "      <td>0.00000</td>\n",
              "      <td>0.00000</td>\n",
              "      <td>0.00000</td>\n",
              "      <td>0.729993</td>\n",
              "      <td>0.364996</td>\n",
              "      <td>0.364996</td>\n",
              "      <td>0.259698</td>\n",
              "      <td>0.364996</td>\n",
              "      <td>0.00000</td>\n",
              "    </tr>\n",
              "  </tbody>\n",
              "</table>\n",
              "</div>\n",
              "      <button class=\"colab-df-convert\" onclick=\"convertToInteractive('df-edc812b9-4fb2-4b4d-814d-c8c7f98d20b2')\"\n",
              "              title=\"Convert this dataframe to an interactive table.\"\n",
              "              style=\"display:none;\">\n",
              "        \n",
              "  <svg xmlns=\"http://www.w3.org/2000/svg\" height=\"24px\"viewBox=\"0 0 24 24\"\n",
              "       width=\"24px\">\n",
              "    <path d=\"M0 0h24v24H0V0z\" fill=\"none\"/>\n",
              "    <path d=\"M18.56 5.44l.94 2.06.94-2.06 2.06-.94-2.06-.94-.94-2.06-.94 2.06-2.06.94zm-11 1L8.5 8.5l.94-2.06 2.06-.94-2.06-.94L8.5 2.5l-.94 2.06-2.06.94zm10 10l.94 2.06.94-2.06 2.06-.94-2.06-.94-.94-2.06-.94 2.06-2.06.94z\"/><path d=\"M17.41 7.96l-1.37-1.37c-.4-.4-.92-.59-1.43-.59-.52 0-1.04.2-1.43.59L10.3 9.45l-7.72 7.72c-.78.78-.78 2.05 0 2.83L4 21.41c.39.39.9.59 1.41.59.51 0 1.02-.2 1.41-.59l7.78-7.78 2.81-2.81c.8-.78.8-2.07 0-2.86zM5.41 20L4 18.59l7.72-7.72 1.47 1.35L5.41 20z\"/>\n",
              "  </svg>\n",
              "      </button>\n",
              "      \n",
              "  <style>\n",
              "    .colab-df-container {\n",
              "      display:flex;\n",
              "      flex-wrap:wrap;\n",
              "      gap: 12px;\n",
              "    }\n",
              "\n",
              "    .colab-df-convert {\n",
              "      background-color: #E8F0FE;\n",
              "      border: none;\n",
              "      border-radius: 50%;\n",
              "      cursor: pointer;\n",
              "      display: none;\n",
              "      fill: #1967D2;\n",
              "      height: 32px;\n",
              "      padding: 0 0 0 0;\n",
              "      width: 32px;\n",
              "    }\n",
              "\n",
              "    .colab-df-convert:hover {\n",
              "      background-color: #E2EBFA;\n",
              "      box-shadow: 0px 1px 2px rgba(60, 64, 67, 0.3), 0px 1px 3px 1px rgba(60, 64, 67, 0.15);\n",
              "      fill: #174EA6;\n",
              "    }\n",
              "\n",
              "    [theme=dark] .colab-df-convert {\n",
              "      background-color: #3B4455;\n",
              "      fill: #D2E3FC;\n",
              "    }\n",
              "\n",
              "    [theme=dark] .colab-df-convert:hover {\n",
              "      background-color: #434B5C;\n",
              "      box-shadow: 0px 1px 3px 1px rgba(0, 0, 0, 0.15);\n",
              "      filter: drop-shadow(0px 1px 2px rgba(0, 0, 0, 0.3));\n",
              "      fill: #FFFFFF;\n",
              "    }\n",
              "  </style>\n",
              "\n",
              "      <script>\n",
              "        const buttonEl =\n",
              "          document.querySelector('#df-edc812b9-4fb2-4b4d-814d-c8c7f98d20b2 button.colab-df-convert');\n",
              "        buttonEl.style.display =\n",
              "          google.colab.kernel.accessAllowed ? 'block' : 'none';\n",
              "\n",
              "        async function convertToInteractive(key) {\n",
              "          const element = document.querySelector('#df-edc812b9-4fb2-4b4d-814d-c8c7f98d20b2');\n",
              "          const dataTable =\n",
              "            await google.colab.kernel.invokeFunction('convertToInteractive',\n",
              "                                                     [key], {});\n",
              "          if (!dataTable) return;\n",
              "\n",
              "          const docLinkHtml = 'Like what you see? Visit the ' +\n",
              "            '<a target=\"_blank\" href=https://colab.research.google.com/notebooks/data_table.ipynb>data table notebook</a>'\n",
              "            + ' to learn more about interactive tables.';\n",
              "          element.innerHTML = '';\n",
              "          dataTable['output_type'] = 'display_data';\n",
              "          await google.colab.output.renderOutput(dataTable, element);\n",
              "          const docLink = document.createElement('div');\n",
              "          docLink.innerHTML = docLinkHtml;\n",
              "          element.appendChild(docLink);\n",
              "        }\n",
              "      </script>\n",
              "    </div>\n",
              "  </div>\n",
              "  "
            ]
          },
          "metadata": {},
          "execution_count": 31
        }
      ]
    },
    {
      "cell_type": "markdown",
      "metadata": {
        "id": "i3YgDd3_uBGy"
      },
      "source": [
        "<font color='red'>Assignment:</font> Use **CountVectorizer** to transform text_train to **X_train**, and text_test to **X_test**. Hint: use stop_words = stopwords.words('english') and tokenizer = stem_tokenizer."
      ]
    },
    {
      "cell_type": "code",
      "source": [
        "for i in range(len(text_train)):\n",
        "  print(text_train[i])\n",
        "  break\n",
        "   # X_train=vectorizer.fit_transform(text_train[i])\n",
        "    # X_train_tokens= vectorizer.get_feature_names()"
      ],
      "metadata": {
        "colab": {
          "base_uri": "https://localhost:8080/"
        },
        "id": "bOtZYUzDgFnD",
        "outputId": "50b9fa6b-c0c7-400f-a5a9-1b3fa7819386"
      },
      "execution_count": null,
      "outputs": [
        {
          "output_type": "stream",
          "name": "stdout",
          "text": [
            "Go until jurong point, crazy.. Available only in bugis n great world la e buffet... Cine there got amore wat...\n"
          ]
        }
      ]
    },
    {
      "cell_type": "code",
      "source": [
        "text_train_list = df.Stemmed_Tokens.tolist()\n",
        "# print(text_train_list)\n",
        "\n",
        "# for i in range(len(text_train)): \n",
        "#   wm = vectorizer.fit_transform(text_train)\n",
        "\n",
        "vectorizer = CountVectorizer(stop_words = stopwords.words('english'))\n",
        "\n",
        "idx=[]\n",
        "for i in range(0,4179):\n",
        "  idx.append(i)\n",
        "\n",
        "X_train= vectorizer.fit_transform(text_train)\n",
        "X_test=vectorizer.fit_transform(text_test)\n",
        "# # print(vectorizer.transform(df.Stemmed_Tokens).toarray())\n",
        "# # # Summarizing the Encoded Texts\n",
        "# #print(\"Encoded Document is: \")\n",
        "tokens_train=vectorizer.get_feature_names()\n",
        "print(X_train.toarray())\n",
        "print(X_test.toarray())\n",
        "\n",
        "df_vect = pd.DataFrame(data = X_train.toarray(),index = idx )\n",
        "df_vect\n"
      ],
      "metadata": {
        "colab": {
          "base_uri": "https://localhost:8080/",
          "height": 729
        },
        "id": "x2pCatGriCt3",
        "outputId": "c5d94e54-1a06-459d-e801-15fe8949c4f3"
      },
      "execution_count": null,
      "outputs": [
        {
          "output_type": "stream",
          "name": "stderr",
          "text": [
            "/usr/local/lib/python3.7/dist-packages/sklearn/utils/deprecation.py:87: FutureWarning: Function get_feature_names is deprecated; get_feature_names is deprecated in 1.0 and will be removed in 1.2. Please use get_feature_names_out instead.\n",
            "  warnings.warn(msg, category=FutureWarning)\n"
          ]
        },
        {
          "output_type": "stream",
          "name": "stdout",
          "text": [
            "[[0 0 0 ... 0 0 0]\n",
            " [0 0 0 ... 0 0 0]\n",
            " [0 0 0 ... 0 0 0]\n",
            " ...\n",
            " [0 0 0 ... 0 0 0]\n",
            " [0 0 0 ... 0 0 0]\n",
            " [0 0 0 ... 0 0 0]]\n",
            "[[0 0 0 ... 0 0 0]\n",
            " [0 0 0 ... 0 0 0]\n",
            " [0 0 0 ... 0 0 0]\n",
            " ...\n",
            " [0 0 0 ... 0 0 0]\n",
            " [0 0 0 ... 0 0 0]\n",
            " [0 0 0 ... 0 0 0]]\n"
          ]
        },
        {
          "output_type": "execute_result",
          "data": {
            "text/plain": [
              "      0     1     2     3     4     5     6     7     8     9     ...  7229  \\\n",
              "0        0     0     0     0     0     0     0     0     0     0  ...     0   \n",
              "1        0     0     0     0     0     0     0     0     0     0  ...     0   \n",
              "2        0     0     0     0     0     0     0     0     0     0  ...     0   \n",
              "3        0     0     0     0     0     0     0     0     0     0  ...     0   \n",
              "4        0     0     0     0     0     0     0     0     0     0  ...     0   \n",
              "...    ...   ...   ...   ...   ...   ...   ...   ...   ...   ...  ...   ...   \n",
              "4174     0     0     0     0     0     0     0     0     0     0  ...     0   \n",
              "4175     0     0     0     0     0     0     0     0     0     0  ...     0   \n",
              "4176     0     0     0     0     0     0     0     0     0     0  ...     0   \n",
              "4177     0     0     0     0     0     0     0     0     0     0  ...     0   \n",
              "4178     0     0     0     0     0     0     0     0     0     0  ...     0   \n",
              "\n",
              "      7230  7231  7232  7233  7234  7235  7236  7237  7238  \n",
              "0        0     0     0     0     0     0     0     0     0  \n",
              "1        0     0     0     0     0     0     0     0     0  \n",
              "2        0     0     0     0     0     0     0     0     0  \n",
              "3        0     0     0     0     0     0     0     0     0  \n",
              "4        0     0     0     0     0     0     0     0     0  \n",
              "...    ...   ...   ...   ...   ...   ...   ...   ...   ...  \n",
              "4174     0     0     0     0     0     0     0     0     0  \n",
              "4175     0     0     0     0     0     0     0     0     0  \n",
              "4176     0     0     0     0     0     0     0     0     0  \n",
              "4177     0     0     0     0     0     0     0     0     0  \n",
              "4178     0     0     0     0     0     0     0     0     0  \n",
              "\n",
              "[4179 rows x 7239 columns]"
            ],
            "text/html": [
              "\n",
              "  <div id=\"df-9933f4b0-8e59-4a0a-8585-ad76c42379f2\">\n",
              "    <div class=\"colab-df-container\">\n",
              "      <div>\n",
              "<style scoped>\n",
              "    .dataframe tbody tr th:only-of-type {\n",
              "        vertical-align: middle;\n",
              "    }\n",
              "\n",
              "    .dataframe tbody tr th {\n",
              "        vertical-align: top;\n",
              "    }\n",
              "\n",
              "    .dataframe thead th {\n",
              "        text-align: right;\n",
              "    }\n",
              "</style>\n",
              "<table border=\"1\" class=\"dataframe\">\n",
              "  <thead>\n",
              "    <tr style=\"text-align: right;\">\n",
              "      <th></th>\n",
              "      <th>0</th>\n",
              "      <th>1</th>\n",
              "      <th>2</th>\n",
              "      <th>3</th>\n",
              "      <th>4</th>\n",
              "      <th>5</th>\n",
              "      <th>6</th>\n",
              "      <th>7</th>\n",
              "      <th>8</th>\n",
              "      <th>9</th>\n",
              "      <th>...</th>\n",
              "      <th>7229</th>\n",
              "      <th>7230</th>\n",
              "      <th>7231</th>\n",
              "      <th>7232</th>\n",
              "      <th>7233</th>\n",
              "      <th>7234</th>\n",
              "      <th>7235</th>\n",
              "      <th>7236</th>\n",
              "      <th>7237</th>\n",
              "      <th>7238</th>\n",
              "    </tr>\n",
              "  </thead>\n",
              "  <tbody>\n",
              "    <tr>\n",
              "      <th>0</th>\n",
              "      <td>0</td>\n",
              "      <td>0</td>\n",
              "      <td>0</td>\n",
              "      <td>0</td>\n",
              "      <td>0</td>\n",
              "      <td>0</td>\n",
              "      <td>0</td>\n",
              "      <td>0</td>\n",
              "      <td>0</td>\n",
              "      <td>0</td>\n",
              "      <td>...</td>\n",
              "      <td>0</td>\n",
              "      <td>0</td>\n",
              "      <td>0</td>\n",
              "      <td>0</td>\n",
              "      <td>0</td>\n",
              "      <td>0</td>\n",
              "      <td>0</td>\n",
              "      <td>0</td>\n",
              "      <td>0</td>\n",
              "      <td>0</td>\n",
              "    </tr>\n",
              "    <tr>\n",
              "      <th>1</th>\n",
              "      <td>0</td>\n",
              "      <td>0</td>\n",
              "      <td>0</td>\n",
              "      <td>0</td>\n",
              "      <td>0</td>\n",
              "      <td>0</td>\n",
              "      <td>0</td>\n",
              "      <td>0</td>\n",
              "      <td>0</td>\n",
              "      <td>0</td>\n",
              "      <td>...</td>\n",
              "      <td>0</td>\n",
              "      <td>0</td>\n",
              "      <td>0</td>\n",
              "      <td>0</td>\n",
              "      <td>0</td>\n",
              "      <td>0</td>\n",
              "      <td>0</td>\n",
              "      <td>0</td>\n",
              "      <td>0</td>\n",
              "      <td>0</td>\n",
              "    </tr>\n",
              "    <tr>\n",
              "      <th>2</th>\n",
              "      <td>0</td>\n",
              "      <td>0</td>\n",
              "      <td>0</td>\n",
              "      <td>0</td>\n",
              "      <td>0</td>\n",
              "      <td>0</td>\n",
              "      <td>0</td>\n",
              "      <td>0</td>\n",
              "      <td>0</td>\n",
              "      <td>0</td>\n",
              "      <td>...</td>\n",
              "      <td>0</td>\n",
              "      <td>0</td>\n",
              "      <td>0</td>\n",
              "      <td>0</td>\n",
              "      <td>0</td>\n",
              "      <td>0</td>\n",
              "      <td>0</td>\n",
              "      <td>0</td>\n",
              "      <td>0</td>\n",
              "      <td>0</td>\n",
              "    </tr>\n",
              "    <tr>\n",
              "      <th>3</th>\n",
              "      <td>0</td>\n",
              "      <td>0</td>\n",
              "      <td>0</td>\n",
              "      <td>0</td>\n",
              "      <td>0</td>\n",
              "      <td>0</td>\n",
              "      <td>0</td>\n",
              "      <td>0</td>\n",
              "      <td>0</td>\n",
              "      <td>0</td>\n",
              "      <td>...</td>\n",
              "      <td>0</td>\n",
              "      <td>0</td>\n",
              "      <td>0</td>\n",
              "      <td>0</td>\n",
              "      <td>0</td>\n",
              "      <td>0</td>\n",
              "      <td>0</td>\n",
              "      <td>0</td>\n",
              "      <td>0</td>\n",
              "      <td>0</td>\n",
              "    </tr>\n",
              "    <tr>\n",
              "      <th>4</th>\n",
              "      <td>0</td>\n",
              "      <td>0</td>\n",
              "      <td>0</td>\n",
              "      <td>0</td>\n",
              "      <td>0</td>\n",
              "      <td>0</td>\n",
              "      <td>0</td>\n",
              "      <td>0</td>\n",
              "      <td>0</td>\n",
              "      <td>0</td>\n",
              "      <td>...</td>\n",
              "      <td>0</td>\n",
              "      <td>0</td>\n",
              "      <td>0</td>\n",
              "      <td>0</td>\n",
              "      <td>0</td>\n",
              "      <td>0</td>\n",
              "      <td>0</td>\n",
              "      <td>0</td>\n",
              "      <td>0</td>\n",
              "      <td>0</td>\n",
              "    </tr>\n",
              "    <tr>\n",
              "      <th>...</th>\n",
              "      <td>...</td>\n",
              "      <td>...</td>\n",
              "      <td>...</td>\n",
              "      <td>...</td>\n",
              "      <td>...</td>\n",
              "      <td>...</td>\n",
              "      <td>...</td>\n",
              "      <td>...</td>\n",
              "      <td>...</td>\n",
              "      <td>...</td>\n",
              "      <td>...</td>\n",
              "      <td>...</td>\n",
              "      <td>...</td>\n",
              "      <td>...</td>\n",
              "      <td>...</td>\n",
              "      <td>...</td>\n",
              "      <td>...</td>\n",
              "      <td>...</td>\n",
              "      <td>...</td>\n",
              "      <td>...</td>\n",
              "      <td>...</td>\n",
              "    </tr>\n",
              "    <tr>\n",
              "      <th>4174</th>\n",
              "      <td>0</td>\n",
              "      <td>0</td>\n",
              "      <td>0</td>\n",
              "      <td>0</td>\n",
              "      <td>0</td>\n",
              "      <td>0</td>\n",
              "      <td>0</td>\n",
              "      <td>0</td>\n",
              "      <td>0</td>\n",
              "      <td>0</td>\n",
              "      <td>...</td>\n",
              "      <td>0</td>\n",
              "      <td>0</td>\n",
              "      <td>0</td>\n",
              "      <td>0</td>\n",
              "      <td>0</td>\n",
              "      <td>0</td>\n",
              "      <td>0</td>\n",
              "      <td>0</td>\n",
              "      <td>0</td>\n",
              "      <td>0</td>\n",
              "    </tr>\n",
              "    <tr>\n",
              "      <th>4175</th>\n",
              "      <td>0</td>\n",
              "      <td>0</td>\n",
              "      <td>0</td>\n",
              "      <td>0</td>\n",
              "      <td>0</td>\n",
              "      <td>0</td>\n",
              "      <td>0</td>\n",
              "      <td>0</td>\n",
              "      <td>0</td>\n",
              "      <td>0</td>\n",
              "      <td>...</td>\n",
              "      <td>0</td>\n",
              "      <td>0</td>\n",
              "      <td>0</td>\n",
              "      <td>0</td>\n",
              "      <td>0</td>\n",
              "      <td>0</td>\n",
              "      <td>0</td>\n",
              "      <td>0</td>\n",
              "      <td>0</td>\n",
              "      <td>0</td>\n",
              "    </tr>\n",
              "    <tr>\n",
              "      <th>4176</th>\n",
              "      <td>0</td>\n",
              "      <td>0</td>\n",
              "      <td>0</td>\n",
              "      <td>0</td>\n",
              "      <td>0</td>\n",
              "      <td>0</td>\n",
              "      <td>0</td>\n",
              "      <td>0</td>\n",
              "      <td>0</td>\n",
              "      <td>0</td>\n",
              "      <td>...</td>\n",
              "      <td>0</td>\n",
              "      <td>0</td>\n",
              "      <td>0</td>\n",
              "      <td>0</td>\n",
              "      <td>0</td>\n",
              "      <td>0</td>\n",
              "      <td>0</td>\n",
              "      <td>0</td>\n",
              "      <td>0</td>\n",
              "      <td>0</td>\n",
              "    </tr>\n",
              "    <tr>\n",
              "      <th>4177</th>\n",
              "      <td>0</td>\n",
              "      <td>0</td>\n",
              "      <td>0</td>\n",
              "      <td>0</td>\n",
              "      <td>0</td>\n",
              "      <td>0</td>\n",
              "      <td>0</td>\n",
              "      <td>0</td>\n",
              "      <td>0</td>\n",
              "      <td>0</td>\n",
              "      <td>...</td>\n",
              "      <td>0</td>\n",
              "      <td>0</td>\n",
              "      <td>0</td>\n",
              "      <td>0</td>\n",
              "      <td>0</td>\n",
              "      <td>0</td>\n",
              "      <td>0</td>\n",
              "      <td>0</td>\n",
              "      <td>0</td>\n",
              "      <td>0</td>\n",
              "    </tr>\n",
              "    <tr>\n",
              "      <th>4178</th>\n",
              "      <td>0</td>\n",
              "      <td>0</td>\n",
              "      <td>0</td>\n",
              "      <td>0</td>\n",
              "      <td>0</td>\n",
              "      <td>0</td>\n",
              "      <td>0</td>\n",
              "      <td>0</td>\n",
              "      <td>0</td>\n",
              "      <td>0</td>\n",
              "      <td>...</td>\n",
              "      <td>0</td>\n",
              "      <td>0</td>\n",
              "      <td>0</td>\n",
              "      <td>0</td>\n",
              "      <td>0</td>\n",
              "      <td>0</td>\n",
              "      <td>0</td>\n",
              "      <td>0</td>\n",
              "      <td>0</td>\n",
              "      <td>0</td>\n",
              "    </tr>\n",
              "  </tbody>\n",
              "</table>\n",
              "<p>4179 rows × 7239 columns</p>\n",
              "</div>\n",
              "      <button class=\"colab-df-convert\" onclick=\"convertToInteractive('df-9933f4b0-8e59-4a0a-8585-ad76c42379f2')\"\n",
              "              title=\"Convert this dataframe to an interactive table.\"\n",
              "              style=\"display:none;\">\n",
              "        \n",
              "  <svg xmlns=\"http://www.w3.org/2000/svg\" height=\"24px\"viewBox=\"0 0 24 24\"\n",
              "       width=\"24px\">\n",
              "    <path d=\"M0 0h24v24H0V0z\" fill=\"none\"/>\n",
              "    <path d=\"M18.56 5.44l.94 2.06.94-2.06 2.06-.94-2.06-.94-.94-2.06-.94 2.06-2.06.94zm-11 1L8.5 8.5l.94-2.06 2.06-.94-2.06-.94L8.5 2.5l-.94 2.06-2.06.94zm10 10l.94 2.06.94-2.06 2.06-.94-2.06-.94-.94-2.06-.94 2.06-2.06.94z\"/><path d=\"M17.41 7.96l-1.37-1.37c-.4-.4-.92-.59-1.43-.59-.52 0-1.04.2-1.43.59L10.3 9.45l-7.72 7.72c-.78.78-.78 2.05 0 2.83L4 21.41c.39.39.9.59 1.41.59.51 0 1.02-.2 1.41-.59l7.78-7.78 2.81-2.81c.8-.78.8-2.07 0-2.86zM5.41 20L4 18.59l7.72-7.72 1.47 1.35L5.41 20z\"/>\n",
              "  </svg>\n",
              "      </button>\n",
              "      \n",
              "  <style>\n",
              "    .colab-df-container {\n",
              "      display:flex;\n",
              "      flex-wrap:wrap;\n",
              "      gap: 12px;\n",
              "    }\n",
              "\n",
              "    .colab-df-convert {\n",
              "      background-color: #E8F0FE;\n",
              "      border: none;\n",
              "      border-radius: 50%;\n",
              "      cursor: pointer;\n",
              "      display: none;\n",
              "      fill: #1967D2;\n",
              "      height: 32px;\n",
              "      padding: 0 0 0 0;\n",
              "      width: 32px;\n",
              "    }\n",
              "\n",
              "    .colab-df-convert:hover {\n",
              "      background-color: #E2EBFA;\n",
              "      box-shadow: 0px 1px 2px rgba(60, 64, 67, 0.3), 0px 1px 3px 1px rgba(60, 64, 67, 0.15);\n",
              "      fill: #174EA6;\n",
              "    }\n",
              "\n",
              "    [theme=dark] .colab-df-convert {\n",
              "      background-color: #3B4455;\n",
              "      fill: #D2E3FC;\n",
              "    }\n",
              "\n",
              "    [theme=dark] .colab-df-convert:hover {\n",
              "      background-color: #434B5C;\n",
              "      box-shadow: 0px 1px 3px 1px rgba(0, 0, 0, 0.15);\n",
              "      filter: drop-shadow(0px 1px 2px rgba(0, 0, 0, 0.3));\n",
              "      fill: #FFFFFF;\n",
              "    }\n",
              "  </style>\n",
              "\n",
              "      <script>\n",
              "        const buttonEl =\n",
              "          document.querySelector('#df-9933f4b0-8e59-4a0a-8585-ad76c42379f2 button.colab-df-convert');\n",
              "        buttonEl.style.display =\n",
              "          google.colab.kernel.accessAllowed ? 'block' : 'none';\n",
              "\n",
              "        async function convertToInteractive(key) {\n",
              "          const element = document.querySelector('#df-9933f4b0-8e59-4a0a-8585-ad76c42379f2');\n",
              "          const dataTable =\n",
              "            await google.colab.kernel.invokeFunction('convertToInteractive',\n",
              "                                                     [key], {});\n",
              "          if (!dataTable) return;\n",
              "\n",
              "          const docLinkHtml = 'Like what you see? Visit the ' +\n",
              "            '<a target=\"_blank\" href=https://colab.research.google.com/notebooks/data_table.ipynb>data table notebook</a>'\n",
              "            + ' to learn more about interactive tables.';\n",
              "          element.innerHTML = '';\n",
              "          dataTable['output_type'] = 'display_data';\n",
              "          await google.colab.output.renderOutput(dataTable, element);\n",
              "          const docLink = document.createElement('div');\n",
              "          docLink.innerHTML = docLinkHtml;\n",
              "          element.appendChild(docLink);\n",
              "        }\n",
              "      </script>\n",
              "    </div>\n",
              "  </div>\n",
              "  "
            ]
          },
          "metadata": {},
          "execution_count": 32
        }
      ]
    },
    {
      "cell_type": "code",
      "source": [
        "X_train.shape"
      ],
      "metadata": {
        "colab": {
          "base_uri": "https://localhost:8080/"
        },
        "id": "AXQKUSmJZ5K4",
        "outputId": "c4114cb5-9cf6-48c0-f2ca-f23213b601a7"
      },
      "execution_count": null,
      "outputs": [
        {
          "output_type": "execute_result",
          "data": {
            "text/plain": [
              "(4179, 7239)"
            ]
          },
          "metadata": {},
          "execution_count": 38
        }
      ]
    },
    {
      "cell_type": "markdown",
      "metadata": {
        "id": "yPww-2EhuBGz"
      },
      "source": [
        "<font color='red'>Question:</font> How does **CountVectorizer** work? What is **Bag of Words**?"
      ]
    },
    {
      "cell_type": "markdown",
      "source": [
        "CountVectorizer creates a matrix in which each unique word is represented by a column of the matrix, and each text sample from the document is a row in the matrix. The value of each cell is nothing but the count of the word in that particular text sample. \n",
        "\n"
      ],
      "metadata": {
        "id": "J5DN0C_jZUAB"
      }
    },
    {
      "cell_type": "markdown",
      "source": [
        "A bag-of-words model, or BoW for short, is a way of extracting features from text for use in modeling, such as with machine learning algorithms.\n",
        "\n",
        "The approach is very simple and flexible, and can be used in a myriad of ways for extracting features from documents.\n",
        "\n",
        "A bag-of-words is a representation of text that describes the occurrence of words within a document. It involves two things:\n",
        "\n",
        "A vocabulary of known words.\n",
        "A measure of the presence of known words.\n",
        "It is called a “bag” of words, because any information about the order or structure of words in the document is discarded. The model is only concerned with whether known words occur in the document, not where in the document."
      ],
      "metadata": {
        "id": "KS3foRB7ZsWo"
      }
    },
    {
      "cell_type": "markdown",
      "metadata": {
        "id": "br7tnGeDuBGz"
      },
      "source": [
        "# Text Classifier"
      ]
    },
    {
      "cell_type": "markdown",
      "metadata": {
        "id": "-8wxeBwUuBGz"
      },
      "source": [
        "<font color='red'>Assignment:</font> build a random forest classification model to predict whether each text message is \"spam\" (target = 1) or \"ham\" (target = 0). Do this for both training data and test data. Print the accuracy, precision, recall, and F1 scores."
      ]
    },
    {
      "cell_type": "code",
      "execution_count": 115,
      "metadata": {
        "colab": {
          "base_uri": "https://localhost:8080/"
        },
        "id": "FiR52LAAuBGz",
        "outputId": "754a9060-9e15-40a0-c818-58911c5d41ec"
      },
      "outputs": [
        {
          "output_type": "stream",
          "name": "stdout",
          "text": [
            "              precision    recall  f1-score   support\n",
            "\n",
            "           0       1.00      1.00      1.00      1206\n",
            "           1       1.00      1.00      1.00       187\n",
            "\n",
            "    accuracy                           1.00      1393\n",
            "   macro avg       1.00      1.00      1.00      1393\n",
            "weighted avg       1.00      1.00      1.00      1393\n",
            "\n",
            "Accuracy:  1.0\n"
          ]
        },
        {
          "output_type": "execute_result",
          "data": {
            "text/plain": [
              "array([0, 0, 0, ..., 1, 1, 0])"
            ]
          },
          "metadata": {},
          "execution_count": 115
        }
      ],
      "source": [
        "from sklearn.ensemble import RandomForestClassifier\n",
        "from sklearn.metrics import classification_report\n",
        "from sklearn.metrics import accuracy_score\n",
        "\n",
        "rfc1=RandomForestClassifier()\n",
        "rfc1=rfc1.fit(X_train,y_train)\n",
        "\n",
        "rfc_test=rfc1.fit(X_test,y_test)\n",
        "\n",
        "#predictions_train = rfc1.predict(text_train)\n",
        "predictions_test = rfc_test.predict(X_test)\n",
        "\n",
        "# print(classification_report(y_train,predictions_train))\n",
        "print(classification_report(y_test,predictions_test))\n",
        "\n",
        "\n",
        "print(\"Accuracy: \", accuracy_score(y_test, predictions_test))\n",
        "predictions_test"
      ]
    },
    {
      "cell_type": "markdown",
      "metadata": {
        "id": "qG05s2euuBG0"
      },
      "source": [
        "# TFIDF"
      ]
    },
    {
      "cell_type": "markdown",
      "metadata": {
        "id": "ZTuj8woJuBG0"
      },
      "source": [
        "<font color='red'>Assignment:</font> Instead of **CountVectorizer**, process text data using **TfidfVectorizer**. Then use random forest classifier to predict whether each text message is \"spam\" (target = 1) or \"ham\" (target = 0). Check how the model performs compared with previous results. Hint: besides the previous parameters, try max_df=0.5, min_df=5, ngram_range=(1, 3) in TfidfVectorizer. "
      ]
    },
    {
      "cell_type": "code",
      "execution_count": null,
      "metadata": {
        "colab": {
          "base_uri": "https://localhost:8080/"
        },
        "id": "ckVIxdqVuBG0",
        "outputId": "22dca6d6-b420-44c4-8ce6-6e8a5ac1b9c7"
      },
      "outputs": [
        {
          "output_type": "stream",
          "name": "stdout",
          "text": [
            "[[0. 0. 0. ... 0. 0. 0.]\n",
            " [0. 0. 0. ... 0. 0. 0.]\n",
            " [0. 0. 0. ... 0. 0. 0.]\n",
            " ...\n",
            " [0. 0. 0. ... 0. 0. 0.]\n",
            " [0. 0. 0. ... 0. 0. 0.]\n",
            " [0. 0. 0. ... 0. 0. 0.]]\n",
            "[[0. 0. 0. ... 0. 0. 0.]\n",
            " [0. 0. 0. ... 0. 0. 0.]\n",
            " [0. 0. 0. ... 0. 0. 0.]\n",
            " ...\n",
            " [0. 0. 0. ... 0. 0. 0.]\n",
            " [0. 0. 0. ... 0. 0. 0.]\n",
            " [0. 0. 0. ... 0. 0. 0.]]\n"
          ]
        }
      ],
      "source": [
        " from sklearn.feature_extraction.text import TfidfVectorizer\n",
        "\n",
        " tfidf = TfidfVectorizer(stop_words='english')\n",
        " X_train_tfidf = tfidf.fit_transform(text_train)\n",
        " X_test_tfidf = tfidf.transform(text_test)\n",
        "\n",
        "# #print(vectorizer.fit_transform(df.Stemmed_Tokens).toarray())\n",
        "# # Summarizing the Encoded Texts\n",
        "# #print(\"Encoded Document is: \")\n",
        " print(X_train_tfidf.toarray())\n",
        " print(X_test_tfidf.toarray())"
      ]
    },
    {
      "cell_type": "markdown",
      "metadata": {
        "ExecuteTime": {
          "end_time": "2022-05-16T04:58:10.844875Z",
          "start_time": "2022-05-16T04:58:10.840915Z"
        },
        "id": "cB7vRCiouBG0"
      },
      "source": [
        "<font color='red'>Question:</font> What does TFIDF mean? Why is it useful?"
      ]
    },
    {
      "cell_type": "markdown",
      "source": [
        "TFIDF - means - 'Term Frequency - Inverse Document Frequency'"
      ],
      "metadata": {
        "id": "O_71Z2xQHLky"
      }
    },
    {
      "cell_type": "code",
      "execution_count": null,
      "metadata": {
        "id": "ki-WGAcSuBG0",
        "colab": {
          "base_uri": "https://localhost:8080/",
          "height": 168
        },
        "outputId": "bac98e11-1c44-4e1d-c73b-2de0b0594eb8"
      },
      "outputs": [
        {
          "output_type": "stream",
          "name": "stderr",
          "text": [
            "/usr/local/lib/python3.7/dist-packages/sklearn/utils/deprecation.py:87: FutureWarning: Function get_feature_names is deprecated; get_feature_names is deprecated in 1.0 and will be removed in 1.2. Please use get_feature_names_out instead.\n",
            "  warnings.warn(msg, category=FutureWarning)\n"
          ]
        },
        {
          "output_type": "execute_result",
          "data": {
            "text/plain": [
              "      esplanade       fr    going     home       its      name      rofl  \\\n",
              "Doc1    0.42616  0.42616  0.42616  0.42616  0.000000  0.000000  0.000000   \n",
              "Doc2    0.00000  0.00000  0.00000  0.00000  0.729993  0.364996  0.364996   \n",
              "\n",
              "            to      true     will  \n",
              "Doc1  0.303216  0.000000  0.42616  \n",
              "Doc2  0.259698  0.364996  0.00000  "
            ],
            "text/html": [
              "\n",
              "  <div id=\"df-03a81d16-e264-447a-9d69-76720c9c3fa3\">\n",
              "    <div class=\"colab-df-container\">\n",
              "      <div>\n",
              "<style scoped>\n",
              "    .dataframe tbody tr th:only-of-type {\n",
              "        vertical-align: middle;\n",
              "    }\n",
              "\n",
              "    .dataframe tbody tr th {\n",
              "        vertical-align: top;\n",
              "    }\n",
              "\n",
              "    .dataframe thead th {\n",
              "        text-align: right;\n",
              "    }\n",
              "</style>\n",
              "<table border=\"1\" class=\"dataframe\">\n",
              "  <thead>\n",
              "    <tr style=\"text-align: right;\">\n",
              "      <th></th>\n",
              "      <th>esplanade</th>\n",
              "      <th>fr</th>\n",
              "      <th>going</th>\n",
              "      <th>home</th>\n",
              "      <th>its</th>\n",
              "      <th>name</th>\n",
              "      <th>rofl</th>\n",
              "      <th>to</th>\n",
              "      <th>true</th>\n",
              "      <th>will</th>\n",
              "    </tr>\n",
              "  </thead>\n",
              "  <tbody>\n",
              "    <tr>\n",
              "      <th>Doc1</th>\n",
              "      <td>0.42616</td>\n",
              "      <td>0.42616</td>\n",
              "      <td>0.42616</td>\n",
              "      <td>0.42616</td>\n",
              "      <td>0.000000</td>\n",
              "      <td>0.000000</td>\n",
              "      <td>0.000000</td>\n",
              "      <td>0.303216</td>\n",
              "      <td>0.000000</td>\n",
              "      <td>0.42616</td>\n",
              "    </tr>\n",
              "    <tr>\n",
              "      <th>Doc2</th>\n",
              "      <td>0.00000</td>\n",
              "      <td>0.00000</td>\n",
              "      <td>0.00000</td>\n",
              "      <td>0.00000</td>\n",
              "      <td>0.729993</td>\n",
              "      <td>0.364996</td>\n",
              "      <td>0.364996</td>\n",
              "      <td>0.259698</td>\n",
              "      <td>0.364996</td>\n",
              "      <td>0.00000</td>\n",
              "    </tr>\n",
              "  </tbody>\n",
              "</table>\n",
              "</div>\n",
              "      <button class=\"colab-df-convert\" onclick=\"convertToInteractive('df-03a81d16-e264-447a-9d69-76720c9c3fa3')\"\n",
              "              title=\"Convert this dataframe to an interactive table.\"\n",
              "              style=\"display:none;\">\n",
              "        \n",
              "  <svg xmlns=\"http://www.w3.org/2000/svg\" height=\"24px\"viewBox=\"0 0 24 24\"\n",
              "       width=\"24px\">\n",
              "    <path d=\"M0 0h24v24H0V0z\" fill=\"none\"/>\n",
              "    <path d=\"M18.56 5.44l.94 2.06.94-2.06 2.06-.94-2.06-.94-.94-2.06-.94 2.06-2.06.94zm-11 1L8.5 8.5l.94-2.06 2.06-.94-2.06-.94L8.5 2.5l-.94 2.06-2.06.94zm10 10l.94 2.06.94-2.06 2.06-.94-2.06-.94-.94-2.06-.94 2.06-2.06.94z\"/><path d=\"M17.41 7.96l-1.37-1.37c-.4-.4-.92-.59-1.43-.59-.52 0-1.04.2-1.43.59L10.3 9.45l-7.72 7.72c-.78.78-.78 2.05 0 2.83L4 21.41c.39.39.9.59 1.41.59.51 0 1.02-.2 1.41-.59l7.78-7.78 2.81-2.81c.8-.78.8-2.07 0-2.86zM5.41 20L4 18.59l7.72-7.72 1.47 1.35L5.41 20z\"/>\n",
              "  </svg>\n",
              "      </button>\n",
              "      \n",
              "  <style>\n",
              "    .colab-df-container {\n",
              "      display:flex;\n",
              "      flex-wrap:wrap;\n",
              "      gap: 12px;\n",
              "    }\n",
              "\n",
              "    .colab-df-convert {\n",
              "      background-color: #E8F0FE;\n",
              "      border: none;\n",
              "      border-radius: 50%;\n",
              "      cursor: pointer;\n",
              "      display: none;\n",
              "      fill: #1967D2;\n",
              "      height: 32px;\n",
              "      padding: 0 0 0 0;\n",
              "      width: 32px;\n",
              "    }\n",
              "\n",
              "    .colab-df-convert:hover {\n",
              "      background-color: #E2EBFA;\n",
              "      box-shadow: 0px 1px 2px rgba(60, 64, 67, 0.3), 0px 1px 3px 1px rgba(60, 64, 67, 0.15);\n",
              "      fill: #174EA6;\n",
              "    }\n",
              "\n",
              "    [theme=dark] .colab-df-convert {\n",
              "      background-color: #3B4455;\n",
              "      fill: #D2E3FC;\n",
              "    }\n",
              "\n",
              "    [theme=dark] .colab-df-convert:hover {\n",
              "      background-color: #434B5C;\n",
              "      box-shadow: 0px 1px 3px 1px rgba(0, 0, 0, 0.15);\n",
              "      filter: drop-shadow(0px 1px 2px rgba(0, 0, 0, 0.3));\n",
              "      fill: #FFFFFF;\n",
              "    }\n",
              "  </style>\n",
              "\n",
              "      <script>\n",
              "        const buttonEl =\n",
              "          document.querySelector('#df-03a81d16-e264-447a-9d69-76720c9c3fa3 button.colab-df-convert');\n",
              "        buttonEl.style.display =\n",
              "          google.colab.kernel.accessAllowed ? 'block' : 'none';\n",
              "\n",
              "        async function convertToInteractive(key) {\n",
              "          const element = document.querySelector('#df-03a81d16-e264-447a-9d69-76720c9c3fa3');\n",
              "          const dataTable =\n",
              "            await google.colab.kernel.invokeFunction('convertToInteractive',\n",
              "                                                     [key], {});\n",
              "          if (!dataTable) return;\n",
              "\n",
              "          const docLinkHtml = 'Like what you see? Visit the ' +\n",
              "            '<a target=\"_blank\" href=https://colab.research.google.com/notebooks/data_table.ipynb>data table notebook</a>'\n",
              "            + ' to learn more about interactive tables.';\n",
              "          element.innerHTML = '';\n",
              "          dataTable['output_type'] = 'display_data';\n",
              "          await google.colab.output.renderOutput(dataTable, element);\n",
              "          const docLink = document.createElement('div');\n",
              "          docLink.innerHTML = docLinkHtml;\n",
              "          element.appendChild(docLink);\n",
              "        }\n",
              "      </script>\n",
              "    </div>\n",
              "  </div>\n",
              "  "
            ]
          },
          "metadata": {},
          "execution_count": 38
        }
      ],
      "source": [
        "from sklearn.feature_extraction.text import TfidfVectorizer\n",
        "tfidf=TfidfVectorizer()\n",
        "wm1= tfidf.fit_transform(corpora)\n",
        "\n",
        "tokens1= tfidf.get_feature_names()\n",
        "df_vect_1 = pd.DataFrame(data = wm1.toarray(),index = ['Doc1','Doc2'],columns = tokens1)\n",
        "df_vect_1\n"
      ]
    },
    {
      "cell_type": "markdown",
      "metadata": {
        "id": "UKg8ErZduBG1"
      },
      "source": [
        "# Topic Modeling"
      ]
    },
    {
      "cell_type": "code",
      "execution_count": null,
      "metadata": {
        "ExecuteTime": {
          "end_time": "2022-05-18T05:22:18.835482Z",
          "start_time": "2022-05-18T05:22:18.771720Z"
        },
        "colab": {
          "base_uri": "https://localhost:8080/"
        },
        "id": "3QoM77BFuBG1",
        "outputId": "0c4ad997-77f7-4314-90ea-6b286cf100a0"
      },
      "outputs": [
        {
          "output_type": "execute_result",
          "data": {
            "text/plain": [
              "(4179, 7112)"
            ]
          },
          "metadata": {},
          "execution_count": 62
        }
      ],
      "source": [
        "\n",
        "X_train_tfidf.shape"
      ]
    },
    {
      "cell_type": "code",
      "execution_count": null,
      "metadata": {
        "ExecuteTime": {
          "end_time": "2022-05-18T05:22:18.857492Z",
          "start_time": "2022-05-18T05:22:18.836839Z"
        },
        "colab": {
          "base_uri": "https://localhost:8080/"
        },
        "id": "TVJ6GsSOuBG1",
        "outputId": "f0956e9b-8fdd-41b1-936b-f45ed2a5cf18"
      },
      "outputs": [
        {
          "output_type": "execute_result",
          "data": {
            "text/plain": [
              "(1393, 7112)"
            ]
          },
          "metadata": {},
          "execution_count": 63
        }
      ],
      "source": [
        "\n",
        "X_test_tfidf.shape"
      ]
    },
    {
      "cell_type": "code",
      "execution_count": null,
      "metadata": {
        "ExecuteTime": {
          "end_time": "2022-05-18T05:22:18.861829Z",
          "start_time": "2022-05-18T05:22:18.858947Z"
        },
        "colab": {
          "base_uri": "https://localhost:8080/"
        },
        "id": "BLMKeT0EuBG2",
        "outputId": "fac61e03-df48-4b78-b155-18ffa3b65562"
      },
      "outputs": [
        {
          "output_type": "execute_result",
          "data": {
            "text/plain": [
              "7112"
            ]
          },
          "metadata": {},
          "execution_count": 64
        }
      ],
      "source": [
        "len(tfidf.vocabulary_)"
      ]
    },
    {
      "cell_type": "markdown",
      "metadata": {
        "id": "siiOEr3SuBG2"
      },
      "source": [
        "<font color='red'>Question:</font> What is Latent Semantic Analysis (LSA)? What is the relationship between LSA and PCA?"
      ]
    },
    {
      "cell_type": "code",
      "execution_count": null,
      "metadata": {
        "id": "RIcYUE0PuBG2"
      },
      "outputs": [],
      "source": [
        ""
      ]
    },
    {
      "cell_type": "markdown",
      "source": [
        "Dimensionality reduction using truncated SVD (aka LSA).\n",
        "\n",
        "This transformer performs linear dimensionality reduction by means of truncated singular value decomposition (SVD). Contrary to PCA, this estimator does not center the data before computing the singular value decomposition. This means it can work with sparse matrices efficiently.\n",
        "\n",
        "In particular, truncated SVD works on term count/tf-idf matrices as returned by the vectorizers in sklearn.feature_extraction.text. In that context, it is known as latent semantic analysis (LSA)."
      ],
      "metadata": {
        "id": "pEJinqGOfp7L"
      }
    },
    {
      "cell_type": "markdown",
      "source": [
        "LSA and Singular Value Decomposition (SVD)\n",
        "SVD tries to connect the correlation matrix of terms ( 𝑀⋅𝑀⊤ ) with the correlation matrix of documents ( 𝑀⊤⋅𝑀 ) through the singular matrix.\n",
        "\n",
        "To see this connection, note that matrix  𝑇  contains the eigenvectors of the correlation matrix of terms. Likewise, the matrix  𝐷  contains the eigenvectors of the correlation matrix of documents. To see this, let’s compute"
      ],
      "metadata": {
        "id": "F-2J2EV-W3gI"
      }
    },
    {
      "cell_type": "markdown",
      "source": [
        " Essentially LSA is PCA applied to text data. When using SVD for PCA, it's not applied to the covariance matrix but the feature-sample matrix directly, which is just the term-document matrix in LSA. The difference is PCA often requires feature-wise normalization for the data while LSA doesn't."
      ],
      "metadata": {
        "id": "Bt2LA4_mn6Aw"
      }
    },
    {
      "cell_type": "markdown",
      "metadata": {
        "id": "dO2_IPhSuBG2"
      },
      "source": [
        "<font color='red'>Assignment:</font> create a pipeline using **MaxAbsScaler** and **TruncatedSVD** to transform X_train and X_test and reduce their dimensions to 100. Assign the transformed results to transformed_X_train and transformed_X_test.\n"
      ]
    },
    {
      "cell_type": "code",
      "execution_count": null,
      "metadata": {
        "id": "lR7Rcg9luBG2",
        "colab": {
          "base_uri": "https://localhost:8080/"
        },
        "outputId": "2c1acbba-c95b-443a-f298-74a8a71155f8"
      },
      "outputs": [
        {
          "output_type": "stream",
          "name": "stdout",
          "text": [
            "[[ 0.11081056 -0.07288709 -0.10925849 ...  0.17271696  0.05645757\n",
            "   0.10098681]\n",
            " [ 0.02633251 -0.02584967 -0.05990575 ...  0.04802929 -0.01080289\n",
            "   0.0067825 ]\n",
            " [ 0.03264242 -0.03170517 -0.05341541 ... -0.0661484  -0.05565461\n",
            "  -0.03006578]\n",
            " ...\n",
            " [ 0.01063675 -0.00935129 -0.01863167 ... -0.00785992  0.04067648\n",
            "  -0.02033148]\n",
            " [ 0.06729333 -0.05376156 -0.08174623 ...  0.0339097  -0.11256722\n",
            "   0.02537639]\n",
            " [ 0.03421399 -0.03138009 -0.04172886 ... -0.03594558  0.05215378\n",
            "   0.05882444]]\n",
            "[[ 0.14770559 -0.16580953  0.04117768 ... -0.15539206 -0.05666198\n",
            "   0.18071089]\n",
            " [ 0.07073    -0.08607091  0.03755496 ... -0.05123425  0.06021602\n",
            "   0.08403093]\n",
            " [ 0.23669039 -0.22510931  0.02965491 ...  0.06712476 -0.14467198\n",
            "  -0.03677722]\n",
            " ...\n",
            " [ 0.83846455  0.90240743 -0.15841356 ... -0.10679874 -0.20298916\n",
            "   0.14854897]\n",
            " [ 0.25703079  0.2037342   0.03316302 ... -0.13117059  0.23207162\n",
            "  -0.04123205]\n",
            " [ 0.08824429 -0.10258536  0.02753083 ... -0.0087589  -0.01131105\n",
            "  -0.00197682]]\n"
          ]
        }
      ],
      "source": [
        "from sklearn.preprocessing  import MaxAbsScaler\n",
        "from sklearn.decomposition import TruncatedSVD\n",
        "from sklearn.pipeline import make_pipeline\n",
        "\n",
        "pipe= make_pipeline(MaxAbsScaler(),TruncatedSVD(n_components=100))\n",
        "pipe\n",
        "\n",
        "transformed_X_train =pipe.fit_transform(X_train)\n",
        "transformed_X_test = pipe.fit_transform(X_test)\n",
        "\n",
        "print(transformed_X_train)\n",
        "print(transformed_X_test)\n"
      ]
    },
    {
      "cell_type": "code",
      "source": [
        "svd=TruncatedSVD(n_components=100)\n",
        "svd.fit(X_train)\n",
        "svd.fit_transform(X_train)\n",
        "print(svd.explained_variance_ratio_)\n",
        "\n",
        "explained_variance=svd.explained_variance_ratio_\n"
      ],
      "metadata": {
        "colab": {
          "base_uri": "https://localhost:8080/"
        },
        "id": "Ko3xfSlecDvd",
        "outputId": "a82701da-de21-4d47-af83-c6d027c911de"
      },
      "execution_count": null,
      "outputs": [
        {
          "output_type": "stream",
          "name": "stdout",
          "text": [
            "[0.03182675 0.01390001 0.0141987  0.01092822 0.0099104  0.00910482\n",
            " 0.00740469 0.00700856 0.00627733 0.00608445 0.00590545 0.00583232\n",
            " 0.00570799 0.00555627 0.00528446 0.00520894 0.00510017 0.00496413\n",
            " 0.00490414 0.0048215  0.00469688 0.00458246 0.00441588 0.00425501\n",
            " 0.00423591 0.00413639 0.00403063 0.00399757 0.00391884 0.00386354\n",
            " 0.00382835 0.00376079 0.00361986 0.0035651  0.00352868 0.00352343\n",
            " 0.00345732 0.00345455 0.00342349 0.0033486  0.00332469 0.00326193\n",
            " 0.00322615 0.00316856 0.00314401 0.0031149  0.00307748 0.0030474\n",
            " 0.00302663 0.00297048 0.00295366 0.00289765 0.0028953  0.00285258\n",
            " 0.0028131  0.00277853 0.0027315  0.00270654 0.00268404 0.00264945\n",
            " 0.00259951 0.00255035 0.00254041 0.00248819 0.00245929 0.00242669\n",
            " 0.00241207 0.00239545 0.00236174 0.00233946 0.00232568 0.00228461\n",
            " 0.00227305 0.00224701 0.00223914 0.00220326 0.00218026 0.00216607\n",
            " 0.00214616 0.00212987 0.00211021 0.00210693 0.00209437 0.00206824\n",
            " 0.00200989 0.00201001 0.00199835 0.00197736 0.00196329 0.00194112\n",
            " 0.00192292 0.00190054 0.00188212 0.00185304 0.00183539 0.00181481\n",
            " 0.00178059 0.00176785 0.00174654 0.00173282]\n"
          ]
        }
      ]
    },
    {
      "cell_type": "code",
      "source": [
        "print(len(transformed_X_train))\n",
        "\n",
        "print(len(transformed_X_test))"
      ],
      "metadata": {
        "colab": {
          "base_uri": "https://localhost:8080/"
        },
        "id": "b0PUENa_GzGU",
        "outputId": "c7f357ec-2a6b-4e3a-b081-041920918fdd"
      },
      "execution_count": 61,
      "outputs": [
        {
          "output_type": "stream",
          "name": "stdout",
          "text": [
            "4179\n",
            "1393\n"
          ]
        }
      ]
    },
    {
      "cell_type": "code",
      "source": [
        "from sklearn.decomposition import TruncatedSVD\n",
        "lsa = TruncatedSVD(n_components=100)\n",
        "X_lsa = lsa.fit_transform(X_train)\n",
        "lsa.components_.shape"
      ],
      "metadata": {
        "colab": {
          "base_uri": "https://localhost:8080/"
        },
        "id": "AyHvmQk_k3t1",
        "outputId": "9d0e642e-359e-4088-af39-582e9a5d07f0"
      },
      "execution_count": 62,
      "outputs": [
        {
          "output_type": "execute_result",
          "data": {
            "text/plain": [
              "(100, 7239)"
            ]
          },
          "metadata": {},
          "execution_count": 62
        }
      ]
    },
    {
      "cell_type": "code",
      "source": [
        "from sklearn.preprocessing import MaxAbsScaler\n",
        "scaler = MaxAbsScaler()\n",
        "X_scaled = scaler.fit_transform(X_train)\n",
        "lsa_scaled = TruncatedSVD(n_components=100)\n",
        "X_lsa_scaled = lsa_scaled.fit_transform(X_scaled)\n",
        "X_lsa_scaled.shape"
      ],
      "metadata": {
        "colab": {
          "base_uri": "https://localhost:8080/"
        },
        "id": "RuWyhGg8l1qM",
        "outputId": "dcf44375-c5b6-4bf6-944e-c68cc7b6dd52"
      },
      "execution_count": 71,
      "outputs": [
        {
          "output_type": "execute_result",
          "data": {
            "text/plain": [
              "(4179, 100)"
            ]
          },
          "metadata": {},
          "execution_count": 71
        }
      ]
    },
    {
      "cell_type": "markdown",
      "source": [
        "#The dimensions are reduced to 100."
      ],
      "metadata": {
        "id": "IXmNSMVNl3Xi"
      }
    },
    {
      "cell_type": "markdown",
      "metadata": {
        "id": "cWIfY941uBG3"
      },
      "source": [
        "<font color='red'>Assignment: </font> visualize explained variance ratio vs. number of components. What does it tell you?"
      ]
    },
    {
      "cell_type": "code",
      "execution_count": null,
      "metadata": {
        "id": "1vzGpKm5uBG3",
        "colab": {
          "base_uri": "https://localhost:8080/",
          "height": 297
        },
        "outputId": "b150784b-aa7c-463f-ccd8-d07d3b398cb4"
      },
      "outputs": [
        {
          "output_type": "display_data",
          "data": {
            "text/plain": [
              "<Figure size 432x288 with 1 Axes>"
            ],
            "image/png": "[encoded data removed]"
          },
          "metadata": {}
        }
      ],
      "source": [
        "import matplotlib.pyplot as plt\n",
        "plt.plot\n",
        "\n",
        "with plt.style.context('dark_background'):\n",
        "    plt.figure(figsize=(6, 4))\n",
        "    plt.bar(range(100),explained_variance, alpha=0.5,align='center', label='individual explained variance' )\n",
        "    plt.xlabel('Principal components')\n",
        "    plt.ylabel('Explained variance ratio')\n",
        "    plt.legend()\n",
        "    plt.tight_layout()\n"
      ]
    },
    {
      "cell_type": "code",
      "source": [
        "#Plot\n",
        "plt.semilogy(lsa.explained_variance_ratio_)"
      ],
      "metadata": {
        "colab": {
          "base_uri": "https://localhost:8080/",
          "height": 283
        },
        "id": "L1az2FZsmIGH",
        "outputId": "89ee9098-b8c5-4a9e-a117-591a1fbd5923"
      },
      "execution_count": 73,
      "outputs": [
        {
          "output_type": "execute_result",
          "data": {
            "text/plain": [
              "[<matplotlib.lines.Line2D at 0x7f7c1ade5890>]"
            ]
          },
          "metadata": {},
          "execution_count": 73
        },
        {
          "output_type": "display_data",
          "data": {
            "text/plain": [
              "<Figure size 432x288 with 1 Axes>"
            ],
            "image/png": "[encoded data removed]"
          },
          "metadata": {
            "needs_background": "light"
          }
        }
      ]
    },
    {
      "cell_type": "markdown",
      "metadata": {
        "id": "9ayWw6NfuBG3"
      },
      "source": [
        "<font color='red'>Assignment: </font> Train a **RandomForestClassifier** with transformed data of 100 dimensions, then use it to make predictions. Print the accuracy score and classification report."
      ]
    },
    {
      "cell_type": "code",
      "execution_count": 122,
      "metadata": {
        "id": "NkQWwbrruBG3",
        "colab": {
          "base_uri": "https://localhost:8080/"
        },
        "outputId": "3c35cc89-03ce-45d1-bf73-7d3f451c344b"
      },
      "outputs": [
        {
          "output_type": "execute_result",
          "data": {
            "text/plain": [
              "RandomForestClassifier()"
            ]
          },
          "metadata": {},
          "execution_count": 122
        }
      ],
      "source": [
        "from sklearn.ensemble import RandomForestClassifier\n",
        "\n",
        "rfc = RandomForestClassifier()\n",
        "\n",
        "# rfc.fit_transform(X_train)\n",
        "clf=RandomForestClassifier()\n",
        "clf.fit(transformed_X_train,y_train)\n",
        "\n",
        "\n"
      ]
    },
    {
      "cell_type": "markdown",
      "source": [
        ""
      ],
      "metadata": {
        "id": "TYl5l0x7nz3S"
      }
    },
    {
      "cell_type": "code",
      "source": [
        "y_test_pred=clf.predict(transformed_X_test)\n",
        "y_test_pred\n"
      ],
      "metadata": {
        "colab": {
          "base_uri": "https://localhost:8080/"
        },
        "id": "utISXG9O1zvr",
        "outputId": "59ca2733-aff2-4b56-d26d-0f72680e8773"
      },
      "execution_count": 75,
      "outputs": [
        {
          "output_type": "execute_result",
          "data": {
            "text/plain": [
              "array([0, 0, 1, ..., 1, 1, 0])"
            ]
          },
          "metadata": {},
          "execution_count": 75
        }
      ]
    },
    {
      "cell_type": "code",
      "source": [
        "print(\"Accuracy: \", accuracy_score(y_train, y_train_pred))\n",
        "print(\"Accuracy: \", accuracy_score(y_test,y_test_pred))"
      ],
      "metadata": {
        "id": "HHFApXslbWJ_",
        "colab": {
          "base_uri": "https://localhost:8080/"
        },
        "outputId": "f27349cd-11cc-47dd-cb9e-a64760545169"
      },
      "execution_count": 118,
      "outputs": [
        {
          "output_type": "stream",
          "name": "stdout",
          "text": [
            "Accuracy:  1.0\n",
            "Accuracy:  0.6870064608758076\n"
          ]
        }
      ]
    },
    {
      "cell_type": "code",
      "source": [
        "y_train_pred= clf.predict(transformed_X_train)\n",
        "y_train_pred"
      ],
      "metadata": {
        "id": "TGTOXb6K3zsx",
        "outputId": "4c83541f-522e-4a1a-c50c-eca906a82d34",
        "colab": {
          "base_uri": "https://localhost:8080/"
        }
      },
      "execution_count": null,
      "outputs": [
        {
          "output_type": "execute_result",
          "data": {
            "text/plain": [
              "array([0, 0, 0, ..., 0, 0, 0])"
            ]
          },
          "metadata": {},
          "execution_count": 46
        }
      ]
    },
    {
      "cell_type": "code",
      "source": [
        "from sklearn.metrics import classification_report\n",
        "print(classification_report(y_test,y_test_pred))\n"
      ],
      "metadata": {
        "colab": {
          "base_uri": "https://localhost:8080/"
        },
        "id": "H-I_TlMT11Uh",
        "outputId": "d5646f44-9a58-4282-895c-0e01738a6f3c"
      },
      "execution_count": null,
      "outputs": [
        {
          "output_type": "stream",
          "name": "stdout",
          "text": [
            "              precision    recall  f1-score   support\n",
            "\n",
            "           0       0.94      0.68      0.79      1206\n",
            "           1       0.26      0.74      0.39       187\n",
            "\n",
            "    accuracy                           0.69      1393\n",
            "   macro avg       0.60      0.71      0.59      1393\n",
            "weighted avg       0.85      0.69      0.74      1393\n",
            "\n"
          ]
        }
      ]
    },
    {
      "cell_type": "code",
      "source": [
        "print(classification_report(y_train,y_train_pred))\n"
      ],
      "metadata": {
        "colab": {
          "base_uri": "https://localhost:8080/"
        },
        "id": "3HwrUwKU2ZOS",
        "outputId": "b977f718-0419-43ac-ccb8-42e8dd69a4a9"
      },
      "execution_count": 74,
      "outputs": [
        {
          "output_type": "stream",
          "name": "stdout",
          "text": [
            "              precision    recall  f1-score   support\n",
            "\n",
            "           0       1.00      1.00      1.00      3619\n",
            "           1       1.00      1.00      1.00       560\n",
            "\n",
            "    accuracy                           1.00      4179\n",
            "   macro avg       1.00      1.00      1.00      4179\n",
            "weighted avg       1.00      1.00      1.00      4179\n",
            "\n"
          ]
        }
      ]
    },
    {
      "cell_type": "markdown",
      "metadata": {
        "id": "6OLlWNv9uBG3"
      },
      "source": [
        "<font color='red'>Assignment: </font> train and predict using only the first 4 components. How does the result compare with above? Why?"
      ]
    },
    {
      "cell_type": "code",
      "execution_count": 76,
      "metadata": {
        "id": "hHsAy1TZuBG3",
        "colab": {
          "base_uri": "https://localhost:8080/"
        },
        "outputId": "0a29c1bb-dc2e-4cbd-b74f-95c2b366c621"
      },
      "outputs": [
        {
          "output_type": "stream",
          "name": "stdout",
          "text": [
            "[[ 0.11079634 -0.07313165 -0.10595483 -0.02811655]\n",
            " [ 0.02602334 -0.02571413 -0.06174926  0.0025701 ]\n",
            " [ 0.03266799 -0.03185357 -0.05350991 -0.00373106]\n",
            " ...\n",
            " [ 0.01061533 -0.00943985 -0.01848662  0.00107982]\n",
            " [ 0.0671627  -0.05353042 -0.08424736  0.00676616]\n",
            " [ 0.03415881 -0.03063773 -0.04235898 -0.02527591]]\n",
            "[[ 0.14663965 -0.16319324  0.04892103  0.01678024]\n",
            " [ 0.0704271  -0.08477062  0.04599154 -0.01750567]\n",
            " [ 0.23582979 -0.21920612  0.04121414  0.07661371]\n",
            " ...\n",
            " [ 0.83888424  0.88258865 -0.15051529 -1.40293007]\n",
            " [ 0.25565952  0.19362659  0.02171794 -0.18103111]\n",
            " [ 0.08837556 -0.10568106  0.02672365  0.02741046]]\n"
          ]
        }
      ],
      "source": [
        "from sklearn.preprocessing  import MaxAbsScaler\n",
        "from sklearn.decomposition import TruncatedSVD\n",
        "from sklearn.pipeline import make_pipeline\n",
        "\n",
        "#use number of components =4\n",
        "pipe2= make_pipeline(MaxAbsScaler(),TruncatedSVD(n_components=4))\n",
        "pipe2\n",
        "\n",
        "transformed_X_train_2 =pipe2.fit_transform(X_train)\n",
        "transformed_X_test_2 = pipe2.fit_transform(X_test)\n",
        "\n",
        "print(transformed_X_train_2)\n",
        "print(transformed_X_test_2)"
      ]
    },
    {
      "cell_type": "code",
      "source": [
        "print(transformed_X_train_2.shape)"
      ],
      "metadata": {
        "colab": {
          "base_uri": "https://localhost:8080/"
        },
        "id": "ooHreMU5lYfv",
        "outputId": "f15f7ccf-e8d2-48a3-83be-78cf109dccb1"
      },
      "execution_count": 77,
      "outputs": [
        {
          "output_type": "stream",
          "name": "stdout",
          "text": [
            "(4179, 4)\n"
          ]
        }
      ]
    },
    {
      "cell_type": "code",
      "source": [
        "print(transformed_X_test_2.shape)"
      ],
      "metadata": {
        "colab": {
          "base_uri": "https://localhost:8080/"
        },
        "id": "wQohp1Wklp8A",
        "outputId": "d12932f0-9ab6-4473-eb3f-11b29550e402"
      },
      "execution_count": 78,
      "outputs": [
        {
          "output_type": "stream",
          "name": "stdout",
          "text": [
            "(1393, 4)\n"
          ]
        }
      ]
    },
    {
      "cell_type": "markdown",
      "source": [
        "Number of dimensions reduced to 4"
      ],
      "metadata": {
        "id": "hsDAwCYBnW66"
      }
    },
    {
      "cell_type": "code",
      "source": [
        "from sklearn.ensemble import RandomForestClassifier\n",
        "\n",
        "rfc_2 = RandomForestClassifier()\n",
        "\n",
        "# rfc.fit_transform(X_train)\n",
        "clf=RandomForestClassifier()\n",
        "clf=clf.fit(transformed_X_train_2,y_train)"
      ],
      "metadata": {
        "id": "ligbYtdImykK"
      },
      "execution_count": 83,
      "outputs": []
    },
    {
      "cell_type": "code",
      "source": [
        "y_test_pred_2=clf.predict(transformed_X_test_2)\n",
        "y_test_pred_2\n"
      ],
      "metadata": {
        "colab": {
          "base_uri": "https://localhost:8080/"
        },
        "id": "1XkOldgwm6_P",
        "outputId": "b3b4ce11-8ccf-440c-dbc4-bb173cc47cab"
      },
      "execution_count": 84,
      "outputs": [
        {
          "output_type": "execute_result",
          "data": {
            "text/plain": [
              "array([0, 1, 1, ..., 1, 1, 0])"
            ]
          },
          "metadata": {},
          "execution_count": 84
        }
      ]
    },
    {
      "cell_type": "code",
      "source": [
        "print(accuracy_score(y_test,y_test_pred_2))"
      ],
      "metadata": {
        "colab": {
          "base_uri": "https://localhost:8080/"
        },
        "id": "RIloVxZcsIs2",
        "outputId": "3acad1ac-5ec3-4db7-8726-237aa6091e46"
      },
      "execution_count": 121,
      "outputs": [
        {
          "output_type": "stream",
          "name": "stdout",
          "text": [
            "0.6302943287867911\n"
          ]
        }
      ]
    },
    {
      "cell_type": "code",
      "source": [
        ""
      ],
      "metadata": {
        "id": "CXD2gVU9smiw"
      },
      "execution_count": null,
      "outputs": []
    }
  ],
  "metadata": {
    "kernelspec": {
      "display_name": "Python 3",
      "language": "python",
      "name": "python3"
    },
    "language_info": {
      "codemirror_mode": {
        "name": "ipython",
        "version": 3
      },
      "file_extension": ".py",
      "mimetype": "text/x-python",
      "name": "python",
      "nbconvert_exporter": "python",
      "pygments_lexer": "ipython3",
      "version": "3.7.7"
    },
    "colab": {
      "name": "HW8_Aniketh.ipynb",
      "provenance": []
    }
  },
  "nbformat": 4,
  "nbformat_minor": 0
}
