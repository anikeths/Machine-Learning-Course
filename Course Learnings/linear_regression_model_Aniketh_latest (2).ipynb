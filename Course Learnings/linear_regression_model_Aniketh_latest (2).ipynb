{
 "cells": [
  {
   "cell_type": "code",
   "execution_count": 11,
   "metadata": {
    "ExecuteTime": {
     "end_time": "2022-03-29T03:15:54.625043Z",
     "start_time": "2022-03-29T03:15:54.215296Z"
    }
   },
   "outputs": [
    {
     "data": {
      "text/html": [
       "<div>\n",
       "<style scoped>\n",
       "    .dataframe tbody tr th:only-of-type {\n",
       "        vertical-align: middle;\n",
       "    }\n",
       "\n",
       "    .dataframe tbody tr th {\n",
       "        vertical-align: top;\n",
       "    }\n",
       "\n",
       "    .dataframe thead th {\n",
       "        text-align: right;\n",
       "    }\n",
       "</style>\n",
       "<table border=\"1\" class=\"dataframe\">\n",
       "  <thead>\n",
       "    <tr style=\"text-align: right;\">\n",
       "      <th></th>\n",
       "      <th>Id</th>\n",
       "      <th>BldgType</th>\n",
       "      <th>LotArea</th>\n",
       "      <th>GrLivArea</th>\n",
       "      <th>YearBuilt</th>\n",
       "      <th>YrSold</th>\n",
       "      <th>SalePrice</th>\n",
       "    </tr>\n",
       "  </thead>\n",
       "  <tbody>\n",
       "    <tr>\n",
       "      <th>0</th>\n",
       "      <td>1</td>\n",
       "      <td>1Fam</td>\n",
       "      <td>8450</td>\n",
       "      <td>1710.0</td>\n",
       "      <td>2003</td>\n",
       "      <td>2008</td>\n",
       "      <td>208500</td>\n",
       "    </tr>\n",
       "    <tr>\n",
       "      <th>1</th>\n",
       "      <td>2</td>\n",
       "      <td>1Fam</td>\n",
       "      <td>9600</td>\n",
       "      <td>NaN</td>\n",
       "      <td>1976</td>\n",
       "      <td>2007</td>\n",
       "      <td>181500</td>\n",
       "    </tr>\n",
       "    <tr>\n",
       "      <th>2</th>\n",
       "      <td>3</td>\n",
       "      <td>1Fam</td>\n",
       "      <td>11250</td>\n",
       "      <td>1786.0</td>\n",
       "      <td>2001</td>\n",
       "      <td>2008</td>\n",
       "      <td>223500</td>\n",
       "    </tr>\n",
       "    <tr>\n",
       "      <th>3</th>\n",
       "      <td>4</td>\n",
       "      <td>1Fam</td>\n",
       "      <td>9550</td>\n",
       "      <td>1717.0</td>\n",
       "      <td>1915</td>\n",
       "      <td>2006</td>\n",
       "      <td>140000</td>\n",
       "    </tr>\n",
       "    <tr>\n",
       "      <th>4</th>\n",
       "      <td>5</td>\n",
       "      <td>1Fam</td>\n",
       "      <td>14260</td>\n",
       "      <td>2198.0</td>\n",
       "      <td>2000</td>\n",
       "      <td>2008</td>\n",
       "      <td>250000</td>\n",
       "    </tr>\n",
       "  </tbody>\n",
       "</table>\n",
       "</div>"
      ],
      "text/plain": [
       "   Id BldgType  LotArea  GrLivArea  YearBuilt  YrSold  SalePrice\n",
       "0   1     1Fam     8450     1710.0       2003    2008     208500\n",
       "1   2     1Fam     9600        NaN       1976    2007     181500\n",
       "2   3     1Fam    11250     1786.0       2001    2008     223500\n",
       "3   4     1Fam     9550     1717.0       1915    2006     140000\n",
       "4   5     1Fam    14260     2198.0       2000    2008     250000"
      ]
     },
     "execution_count": 11,
     "metadata": {},
     "output_type": "execute_result"
    }
   ],
   "source": [
    "import pandas as pd\n",
    "\n",
    "df = pd.read_csv('house_prices.csv')\n",
    "df.head()\n"
   ]
  },
  {
   "cell_type": "markdown",
   "metadata": {},
   "source": [
    "<font color='red'>Assignment:</font> Create a new DataFrame \"df_new\" which contains only single family residences (hint: df.BldgType == '1Fam')"
   ]
  },
  {
   "cell_type": "code",
   "execution_count": 12,
   "metadata": {
    "ExecuteTime": {
     "end_time": "2022-03-29T03:15:54.691950Z",
     "start_time": "2022-03-29T03:15:54.688241Z"
    }
   },
   "outputs": [
    {
     "name": "stdout",
     "output_type": "stream",
     "text": [
      "['1Fam' '2fmCon' 'Duplex' 'TwnhsE' 'Twnhs']\n",
      "['1Fam']\n",
      "['1Fam']\n",
      "['1Fam']\n"
     ]
    },
    {
     "data": {
      "text/html": [
       "<div>\n",
       "<style scoped>\n",
       "    .dataframe tbody tr th:only-of-type {\n",
       "        vertical-align: middle;\n",
       "    }\n",
       "\n",
       "    .dataframe tbody tr th {\n",
       "        vertical-align: top;\n",
       "    }\n",
       "\n",
       "    .dataframe thead th {\n",
       "        text-align: right;\n",
       "    }\n",
       "</style>\n",
       "<table border=\"1\" class=\"dataframe\">\n",
       "  <thead>\n",
       "    <tr style=\"text-align: right;\">\n",
       "      <th></th>\n",
       "      <th>Id</th>\n",
       "      <th>BldgType</th>\n",
       "      <th>LotArea</th>\n",
       "      <th>GrLivArea</th>\n",
       "      <th>YearBuilt</th>\n",
       "      <th>YrSold</th>\n",
       "      <th>SalePrice</th>\n",
       "    </tr>\n",
       "  </thead>\n",
       "  <tbody>\n",
       "    <tr>\n",
       "      <th>0</th>\n",
       "      <td>1</td>\n",
       "      <td>1Fam</td>\n",
       "      <td>8450</td>\n",
       "      <td>1710.0</td>\n",
       "      <td>2003</td>\n",
       "      <td>2008</td>\n",
       "      <td>208500</td>\n",
       "    </tr>\n",
       "    <tr>\n",
       "      <th>1</th>\n",
       "      <td>2</td>\n",
       "      <td>1Fam</td>\n",
       "      <td>9600</td>\n",
       "      <td>NaN</td>\n",
       "      <td>1976</td>\n",
       "      <td>2007</td>\n",
       "      <td>181500</td>\n",
       "    </tr>\n",
       "    <tr>\n",
       "      <th>2</th>\n",
       "      <td>3</td>\n",
       "      <td>1Fam</td>\n",
       "      <td>11250</td>\n",
       "      <td>1786.0</td>\n",
       "      <td>2001</td>\n",
       "      <td>2008</td>\n",
       "      <td>223500</td>\n",
       "    </tr>\n",
       "    <tr>\n",
       "      <th>3</th>\n",
       "      <td>4</td>\n",
       "      <td>1Fam</td>\n",
       "      <td>9550</td>\n",
       "      <td>1717.0</td>\n",
       "      <td>1915</td>\n",
       "      <td>2006</td>\n",
       "      <td>140000</td>\n",
       "    </tr>\n",
       "    <tr>\n",
       "      <th>4</th>\n",
       "      <td>5</td>\n",
       "      <td>1Fam</td>\n",
       "      <td>14260</td>\n",
       "      <td>2198.0</td>\n",
       "      <td>2000</td>\n",
       "      <td>2008</td>\n",
       "      <td>250000</td>\n",
       "    </tr>\n",
       "    <tr>\n",
       "      <th>...</th>\n",
       "      <td>...</td>\n",
       "      <td>...</td>\n",
       "      <td>...</td>\n",
       "      <td>...</td>\n",
       "      <td>...</td>\n",
       "      <td>...</td>\n",
       "      <td>...</td>\n",
       "    </tr>\n",
       "    <tr>\n",
       "      <th>1455</th>\n",
       "      <td>1439</td>\n",
       "      <td>1Fam</td>\n",
       "      <td>7407</td>\n",
       "      <td>1236.0</td>\n",
       "      <td>1957</td>\n",
       "      <td>2010</td>\n",
       "      <td>149700</td>\n",
       "    </tr>\n",
       "    <tr>\n",
       "      <th>1456</th>\n",
       "      <td>1447</td>\n",
       "      <td>1Fam</td>\n",
       "      <td>26142</td>\n",
       "      <td>1188.0</td>\n",
       "      <td>1962</td>\n",
       "      <td>2010</td>\n",
       "      <td>157900</td>\n",
       "    </tr>\n",
       "    <tr>\n",
       "      <th>1457</th>\n",
       "      <td>1457</td>\n",
       "      <td>1Fam</td>\n",
       "      <td>13175</td>\n",
       "      <td>2073.0</td>\n",
       "      <td>1978</td>\n",
       "      <td>2010</td>\n",
       "      <td>210000</td>\n",
       "    </tr>\n",
       "    <tr>\n",
       "      <th>1458</th>\n",
       "      <td>1458</td>\n",
       "      <td>1Fam</td>\n",
       "      <td>9042</td>\n",
       "      <td>2340.0</td>\n",
       "      <td>1941</td>\n",
       "      <td>2010</td>\n",
       "      <td>266500</td>\n",
       "    </tr>\n",
       "    <tr>\n",
       "      <th>1459</th>\n",
       "      <td>1459</td>\n",
       "      <td>1Fam</td>\n",
       "      <td>9717</td>\n",
       "      <td>1078.0</td>\n",
       "      <td>1950</td>\n",
       "      <td>2010</td>\n",
       "      <td>142125</td>\n",
       "    </tr>\n",
       "  </tbody>\n",
       "</table>\n",
       "<p>1220 rows × 7 columns</p>\n",
       "</div>"
      ],
      "text/plain": [
       "        Id BldgType  LotArea  GrLivArea  YearBuilt  YrSold  SalePrice\n",
       "0        1     1Fam     8450     1710.0       2003    2008     208500\n",
       "1        2     1Fam     9600        NaN       1976    2007     181500\n",
       "2        3     1Fam    11250     1786.0       2001    2008     223500\n",
       "3        4     1Fam     9550     1717.0       1915    2006     140000\n",
       "4        5     1Fam    14260     2198.0       2000    2008     250000\n",
       "...    ...      ...      ...        ...        ...     ...        ...\n",
       "1455  1439     1Fam     7407     1236.0       1957    2010     149700\n",
       "1456  1447     1Fam    26142     1188.0       1962    2010     157900\n",
       "1457  1457     1Fam    13175     2073.0       1978    2010     210000\n",
       "1458  1458     1Fam     9042     2340.0       1941    2010     266500\n",
       "1459  1459     1Fam     9717     1078.0       1950    2010     142125\n",
       "\n",
       "[1220 rows x 7 columns]"
      ]
     },
     "execution_count": 12,
     "metadata": {},
     "output_type": "execute_result"
    }
   ],
   "source": [
    "df_new = df[df.BldgType == '1Fam']\n",
    "print(df.BldgType.unique())\n",
    "print(df_new.BldgType.unique())\n",
    "print(pd.unique(df_new.BldgType))\n",
    "print(pd.unique(df_new.BldgType))\n",
    "df_new"
   ]
  },
  {
   "cell_type": "markdown",
   "metadata": {
    "ExecuteTime": {
     "end_time": "2022-03-28T02:01:29.409727Z",
     "start_time": "2022-03-28T02:01:29.405101Z"
    }
   },
   "source": [
    "<font color='red'>Assignment:</font> How many rows are there in df_new and how many rows are there in df? How many rows did you remove?"
   ]
  },
  {
   "cell_type": "code",
   "execution_count": 13,
   "metadata": {
    "ExecuteTime": {
     "end_time": "2022-03-29T03:15:54.961746Z",
     "start_time": "2022-03-29T03:15:54.957692Z"
    }
   },
   "outputs": [
    {
     "name": "stdout",
     "output_type": "stream",
     "text": [
      "(1460, 7)\n",
      "(1220, 7)\n",
      "Number of rows in df is 1460\n",
      "Number of rows in df_new is 1220\n"
     ]
    }
   ],
   "source": [
    "print(df.shape)\n",
    "print(df_new.shape)\n",
    "print(\"Number of rows in df is\", len(df))\n",
    "print(\"Number of rows in df_new is\",len(df_new))"
   ]
  },
  {
   "cell_type": "markdown",
   "metadata": {},
   "source": [
    "### 1460 rows in df, 1220 rows in df_new.  240 rows removed."
   ]
  },
  {
   "cell_type": "code",
   "execution_count": 14,
   "metadata": {
    "ExecuteTime": {
     "end_time": "2022-03-29T03:15:55.114204Z",
     "start_time": "2022-03-29T03:15:55.110548Z"
    }
   },
   "outputs": [
    {
     "data": {
      "text/plain": [
       "[2006, 2007, 2008, 2009, 2010]"
      ]
     },
     "execution_count": 14,
     "metadata": {},
     "output_type": "execute_result"
    }
   ],
   "source": [
    "sorted(list(df_new.YrSold.unique()))"
   ]
  },
  {
   "cell_type": "code",
   "execution_count": 15,
   "metadata": {
    "ExecuteTime": {
     "end_time": "2022-03-29T03:15:55.271409Z",
     "start_time": "2022-03-29T03:15:55.266117Z"
    }
   },
   "outputs": [
    {
     "name": "stdout",
     "output_type": "stream",
     "text": [
      "143 1077\n"
     ]
    }
   ],
   "source": [
    "train_raw = df_new[df_new.YrSold < 2010].reset_index(drop=True)\n",
    "test_raw = df_new[df_new.YrSold >= 2010].reset_index(drop=True)\n",
    "print(len(test_raw), len(train_raw))"
   ]
  },
  {
   "cell_type": "markdown",
   "metadata": {
    "ExecuteTime": {
     "end_time": "2022-03-28T01:42:19.813296Z",
     "start_time": "2022-03-28T01:42:19.809816Z"
    }
   },
   "source": [
    "<font color='red'>Assignment:</font> check if there are any missing values in train_raw and test_raw."
   ]
  },
  {
   "cell_type": "code",
   "execution_count": 16,
   "metadata": {
    "ExecuteTime": {
     "end_time": "2022-03-29T03:15:55.663264Z",
     "start_time": "2022-03-29T03:15:55.643113Z"
    }
   },
   "outputs": [
    {
     "name": "stdout",
     "output_type": "stream",
     "text": [
      "         Id  BldgType  LotArea  GrLivArea  YearBuilt  YrSold  SalePrice\n",
      "0     False     False    False      False      False   False      False\n",
      "1     False     False    False       True      False   False      False\n",
      "2     False     False    False      False      False   False      False\n",
      "3     False     False    False      False      False   False      False\n",
      "4     False     False    False      False      False   False      False\n",
      "...     ...       ...      ...        ...        ...     ...        ...\n",
      "1072  False     False    False      False      False   False      False\n",
      "1073  False     False    False       True      False   False      False\n",
      "1074  False     False    False      False      False   False      False\n",
      "1075  False     False    False      False      False   False      False\n",
      "1076  False     False    False      False      False   False      False\n",
      "\n",
      "[1077 rows x 7 columns]\n",
      "        Id BldgType  LotArea  GrLivArea  YearBuilt  YrSold  SalePrice\n",
      "1        2     1Fam     9600        NaN       1976    2007     181500\n",
      "14      16     1Fam     6120        NaN       1929    2007     132000\n",
      "15      19     1Fam    13695        NaN       2004    2008     159000\n",
      "19      23     1Fam     9742        NaN       2002    2008     230000\n",
      "22      30     1Fam     6324        NaN       1927    2008      68500\n",
      "...    ...      ...      ...        ...        ...     ...        ...\n",
      "1061  1436     1Fam     8400        NaN       1962    2008     174000\n",
      "1066  1443     1Fam    11003        NaN       2008    2009     310000\n",
      "1067  1444     1Fam     8854        NaN       1916    2009     121000\n",
      "1070  1448     1Fam    10000        NaN       1995    2007     240000\n",
      "1073  1454     1Fam    17217        NaN       2006    2006      84500\n",
      "\n",
      "[204 rows x 7 columns]\n",
      "         Id  BldgType  LotArea  GrLivArea  YearBuilt  YrSold  SalePrice\n",
      "0     False     False    False      False      False   False      False\n",
      "1     False     False    False       True      False   False      False\n",
      "2     False     False    False      False      False   False      False\n",
      "3     False     False    False      False      False   False      False\n",
      "4     False     False    False      False      False   False      False\n",
      "...     ...       ...      ...        ...        ...     ...        ...\n",
      "1072  False     False    False      False      False   False      False\n",
      "1073  False     False    False       True      False   False      False\n",
      "1074  False     False    False      False      False   False      False\n",
      "1075  False     False    False      False      False   False      False\n",
      "1076  False     False    False      False      False   False      False\n",
      "\n",
      "[1077 rows x 7 columns]\n"
     ]
    },
    {
     "data": {
      "text/html": [
       "<div>\n",
       "<style scoped>\n",
       "    .dataframe tbody tr th:only-of-type {\n",
       "        vertical-align: middle;\n",
       "    }\n",
       "\n",
       "    .dataframe tbody tr th {\n",
       "        vertical-align: top;\n",
       "    }\n",
       "\n",
       "    .dataframe thead th {\n",
       "        text-align: right;\n",
       "    }\n",
       "</style>\n",
       "<table border=\"1\" class=\"dataframe\">\n",
       "  <thead>\n",
       "    <tr style=\"text-align: right;\">\n",
       "      <th></th>\n",
       "      <th>Id</th>\n",
       "      <th>BldgType</th>\n",
       "      <th>LotArea</th>\n",
       "      <th>GrLivArea</th>\n",
       "      <th>YearBuilt</th>\n",
       "      <th>YrSold</th>\n",
       "      <th>SalePrice</th>\n",
       "    </tr>\n",
       "  </thead>\n",
       "  <tbody>\n",
       "    <tr>\n",
       "      <th>0</th>\n",
       "      <td>False</td>\n",
       "      <td>False</td>\n",
       "      <td>False</td>\n",
       "      <td>False</td>\n",
       "      <td>False</td>\n",
       "      <td>False</td>\n",
       "      <td>False</td>\n",
       "    </tr>\n",
       "    <tr>\n",
       "      <th>1</th>\n",
       "      <td>False</td>\n",
       "      <td>False</td>\n",
       "      <td>False</td>\n",
       "      <td>False</td>\n",
       "      <td>False</td>\n",
       "      <td>False</td>\n",
       "      <td>False</td>\n",
       "    </tr>\n",
       "    <tr>\n",
       "      <th>2</th>\n",
       "      <td>False</td>\n",
       "      <td>False</td>\n",
       "      <td>False</td>\n",
       "      <td>False</td>\n",
       "      <td>False</td>\n",
       "      <td>False</td>\n",
       "      <td>False</td>\n",
       "    </tr>\n",
       "    <tr>\n",
       "      <th>3</th>\n",
       "      <td>False</td>\n",
       "      <td>False</td>\n",
       "      <td>False</td>\n",
       "      <td>False</td>\n",
       "      <td>False</td>\n",
       "      <td>False</td>\n",
       "      <td>False</td>\n",
       "    </tr>\n",
       "    <tr>\n",
       "      <th>4</th>\n",
       "      <td>False</td>\n",
       "      <td>False</td>\n",
       "      <td>False</td>\n",
       "      <td>False</td>\n",
       "      <td>False</td>\n",
       "      <td>False</td>\n",
       "      <td>False</td>\n",
       "    </tr>\n",
       "    <tr>\n",
       "      <th>...</th>\n",
       "      <td>...</td>\n",
       "      <td>...</td>\n",
       "      <td>...</td>\n",
       "      <td>...</td>\n",
       "      <td>...</td>\n",
       "      <td>...</td>\n",
       "      <td>...</td>\n",
       "    </tr>\n",
       "    <tr>\n",
       "      <th>138</th>\n",
       "      <td>False</td>\n",
       "      <td>False</td>\n",
       "      <td>False</td>\n",
       "      <td>False</td>\n",
       "      <td>False</td>\n",
       "      <td>False</td>\n",
       "      <td>False</td>\n",
       "    </tr>\n",
       "    <tr>\n",
       "      <th>139</th>\n",
       "      <td>False</td>\n",
       "      <td>False</td>\n",
       "      <td>False</td>\n",
       "      <td>False</td>\n",
       "      <td>False</td>\n",
       "      <td>False</td>\n",
       "      <td>False</td>\n",
       "    </tr>\n",
       "    <tr>\n",
       "      <th>140</th>\n",
       "      <td>False</td>\n",
       "      <td>False</td>\n",
       "      <td>False</td>\n",
       "      <td>False</td>\n",
       "      <td>False</td>\n",
       "      <td>False</td>\n",
       "      <td>False</td>\n",
       "    </tr>\n",
       "    <tr>\n",
       "      <th>141</th>\n",
       "      <td>False</td>\n",
       "      <td>False</td>\n",
       "      <td>False</td>\n",
       "      <td>False</td>\n",
       "      <td>False</td>\n",
       "      <td>False</td>\n",
       "      <td>False</td>\n",
       "    </tr>\n",
       "    <tr>\n",
       "      <th>142</th>\n",
       "      <td>False</td>\n",
       "      <td>False</td>\n",
       "      <td>False</td>\n",
       "      <td>False</td>\n",
       "      <td>False</td>\n",
       "      <td>False</td>\n",
       "      <td>False</td>\n",
       "    </tr>\n",
       "  </tbody>\n",
       "</table>\n",
       "<p>143 rows × 7 columns</p>\n",
       "</div>"
      ],
      "text/plain": [
       "        Id  BldgType  LotArea  GrLivArea  YearBuilt  YrSold  SalePrice\n",
       "0    False     False    False      False      False   False      False\n",
       "1    False     False    False      False      False   False      False\n",
       "2    False     False    False      False      False   False      False\n",
       "3    False     False    False      False      False   False      False\n",
       "4    False     False    False      False      False   False      False\n",
       "..     ...       ...      ...        ...        ...     ...        ...\n",
       "138  False     False    False      False      False   False      False\n",
       "139  False     False    False      False      False   False      False\n",
       "140  False     False    False      False      False   False      False\n",
       "141  False     False    False      False      False   False      False\n",
       "142  False     False    False      False      False   False      False\n",
       "\n",
       "[143 rows x 7 columns]"
      ]
     },
     "execution_count": 16,
     "metadata": {},
     "output_type": "execute_result"
    }
   ],
   "source": [
    "print(train_raw.isnull())\n",
    "print(train_raw[train_raw.isnull().any(axis=1)])\n",
    "print(train_raw.isna())\n",
    "test_raw.isnull()\n",
    "\n",
    "\n",
    "\n",
    "\n"
   ]
  },
  {
   "cell_type": "markdown",
   "metadata": {},
   "source": [
    "# Data Pre-processing"
   ]
  },
  {
   "cell_type": "markdown",
   "metadata": {},
   "source": [
    "<font color='red'>Assignment:</font> Build a DataFrame named **train** which contains numerical values of **SalePrice** and **GrLivArea** in **train_raw**."
   ]
  },
  {
   "cell_type": "code",
   "execution_count": 17,
   "metadata": {
    "ExecuteTime": {
     "end_time": "2022-03-29T05:24:19.257584Z",
     "start_time": "2022-03-29T05:24:19.253339Z"
    }
   },
   "outputs": [
    {
     "data": {
      "text/html": [
       "<div>\n",
       "<style scoped>\n",
       "    .dataframe tbody tr th:only-of-type {\n",
       "        vertical-align: middle;\n",
       "    }\n",
       "\n",
       "    .dataframe tbody tr th {\n",
       "        vertical-align: top;\n",
       "    }\n",
       "\n",
       "    .dataframe thead th {\n",
       "        text-align: right;\n",
       "    }\n",
       "</style>\n",
       "<table border=\"1\" class=\"dataframe\">\n",
       "  <thead>\n",
       "    <tr style=\"text-align: right;\">\n",
       "      <th></th>\n",
       "      <th>SalePrice</th>\n",
       "      <th>GrLivArea</th>\n",
       "    </tr>\n",
       "  </thead>\n",
       "  <tbody>\n",
       "    <tr>\n",
       "      <th>0</th>\n",
       "      <td>208500</td>\n",
       "      <td>1710.0</td>\n",
       "    </tr>\n",
       "    <tr>\n",
       "      <th>1</th>\n",
       "      <td>181500</td>\n",
       "      <td>NaN</td>\n",
       "    </tr>\n",
       "    <tr>\n",
       "      <th>2</th>\n",
       "      <td>223500</td>\n",
       "      <td>1786.0</td>\n",
       "    </tr>\n",
       "    <tr>\n",
       "      <th>3</th>\n",
       "      <td>140000</td>\n",
       "      <td>1717.0</td>\n",
       "    </tr>\n",
       "    <tr>\n",
       "      <th>4</th>\n",
       "      <td>250000</td>\n",
       "      <td>2198.0</td>\n",
       "    </tr>\n",
       "    <tr>\n",
       "      <th>...</th>\n",
       "      <td>...</td>\n",
       "      <td>...</td>\n",
       "    </tr>\n",
       "    <tr>\n",
       "      <th>1072</th>\n",
       "      <td>287090</td>\n",
       "      <td>1578.0</td>\n",
       "    </tr>\n",
       "    <tr>\n",
       "      <th>1073</th>\n",
       "      <td>84500</td>\n",
       "      <td>NaN</td>\n",
       "    </tr>\n",
       "    <tr>\n",
       "      <th>1074</th>\n",
       "      <td>185000</td>\n",
       "      <td>1221.0</td>\n",
       "    </tr>\n",
       "    <tr>\n",
       "      <th>1075</th>\n",
       "      <td>175000</td>\n",
       "      <td>1647.0</td>\n",
       "    </tr>\n",
       "    <tr>\n",
       "      <th>1076</th>\n",
       "      <td>147500</td>\n",
       "      <td>1256.0</td>\n",
       "    </tr>\n",
       "  </tbody>\n",
       "</table>\n",
       "<p>1077 rows × 2 columns</p>\n",
       "</div>"
      ],
      "text/plain": [
       "      SalePrice  GrLivArea\n",
       "0        208500     1710.0\n",
       "1        181500        NaN\n",
       "2        223500     1786.0\n",
       "3        140000     1717.0\n",
       "4        250000     2198.0\n",
       "...         ...        ...\n",
       "1072     287090     1578.0\n",
       "1073      84500        NaN\n",
       "1074     185000     1221.0\n",
       "1075     175000     1647.0\n",
       "1076     147500     1256.0\n",
       "\n",
       "[1077 rows x 2 columns]"
      ]
     },
     "execution_count": 17,
     "metadata": {},
     "output_type": "execute_result"
    }
   ],
   "source": [
    "#train = train_raw.filter(['SalePrice','GrLivArea'],axis=1)\n",
    "\n",
    "train= train_raw[['SalePrice','GrLivArea']].copy()\n",
    "train\n"
   ]
  },
  {
   "cell_type": "markdown",
   "metadata": {},
   "source": [
    "**Example:** Generate features and target."
   ]
  },
  {
   "cell_type": "code",
   "execution_count": 18,
   "metadata": {
    "ExecuteTime": {
     "end_time": "2022-03-29T05:24:24.382579Z",
     "start_time": "2022-03-29T05:24:24.377617Z"
    }
   },
   "outputs": [],
   "source": [
    "features = list(train.columns)\n",
    "target = \"SalePrice\"\n",
    "features.remove(target)\n",
    "\n",
    "X_train = train[features].copy()\n",
    "y_train = train[target].copy()"
   ]
  },
  {
   "cell_type": "markdown",
   "metadata": {},
   "source": [
    "**Example:** Imputing missing values in **X_train** using the column mean."
   ]
  },
  {
   "cell_type": "code",
   "execution_count": 19,
   "metadata": {
    "ExecuteTime": {
     "end_time": "2022-03-29T05:24:32.449213Z",
     "start_time": "2022-03-29T05:24:32.445362Z"
    }
   },
   "outputs": [],
   "source": [
    "X_train = X_train.fillna(X_train.mean())"
   ]
  },
  {
   "cell_type": "code",
   "execution_count": 20,
   "metadata": {
    "ExecuteTime": {
     "end_time": "2022-03-29T05:24:32.983350Z",
     "start_time": "2022-03-29T05:24:32.975582Z"
    }
   },
   "outputs": [
    {
     "data": {
      "text/html": [
       "<div>\n",
       "<style scoped>\n",
       "    .dataframe tbody tr th:only-of-type {\n",
       "        vertical-align: middle;\n",
       "    }\n",
       "\n",
       "    .dataframe tbody tr th {\n",
       "        vertical-align: top;\n",
       "    }\n",
       "\n",
       "    .dataframe thead th {\n",
       "        text-align: right;\n",
       "    }\n",
       "</style>\n",
       "<table border=\"1\" class=\"dataframe\">\n",
       "  <thead>\n",
       "    <tr style=\"text-align: right;\">\n",
       "      <th></th>\n",
       "      <th>GrLivArea</th>\n",
       "    </tr>\n",
       "  </thead>\n",
       "  <tbody>\n",
       "    <tr>\n",
       "      <th>0</th>\n",
       "      <td>1710.000000</td>\n",
       "    </tr>\n",
       "    <tr>\n",
       "      <th>1</th>\n",
       "      <td>1539.019473</td>\n",
       "    </tr>\n",
       "    <tr>\n",
       "      <th>2</th>\n",
       "      <td>1786.000000</td>\n",
       "    </tr>\n",
       "    <tr>\n",
       "      <th>3</th>\n",
       "      <td>1717.000000</td>\n",
       "    </tr>\n",
       "    <tr>\n",
       "      <th>4</th>\n",
       "      <td>2198.000000</td>\n",
       "    </tr>\n",
       "  </tbody>\n",
       "</table>\n",
       "</div>"
      ],
      "text/plain": [
       "     GrLivArea\n",
       "0  1710.000000\n",
       "1  1539.019473\n",
       "2  1786.000000\n",
       "3  1717.000000\n",
       "4  2198.000000"
      ]
     },
     "execution_count": 20,
     "metadata": {},
     "output_type": "execute_result"
    }
   ],
   "source": [
    "X_train.head()"
   ]
  },
  {
   "cell_type": "markdown",
   "metadata": {},
   "source": [
    "<font color='red'>Assignment:</font> Get **X_test** and **y_test**.  "
   ]
  },
  {
   "cell_type": "code",
   "execution_count": 57,
   "metadata": {
    "ExecuteTime": {
     "end_time": "2022-03-29T05:24:39.587473Z",
     "start_time": "2022-03-29T05:24:39.581796Z"
    }
   },
   "outputs": [],
   "source": [
    "from sklearn.model_selection import train_test_split\n",
    "test=test_raw[['GrLivArea','SalePrice'].copy()]\n",
    "X_test=test[features].copy()\n",
    "y_test=test[target].copy()"
   ]
  },
  {
   "cell_type": "markdown",
   "metadata": {},
   "source": [
    "<font color='red'>Question:</font> Why do we use mean from **X_train** rather than mean from **X_test**?"
   ]
  },
  {
   "cell_type": "markdown",
   "metadata": {},
   "source": [
    "### This is done to avoid data leakage. The training data set is meant to train the data whereas the actual testing happens with the test dataset."
   ]
  },
  {
   "cell_type": "markdown",
   "metadata": {},
   "source": [
    "# Linear Regression"
   ]
  },
  {
   "cell_type": "code",
   "execution_count": 22,
   "metadata": {
    "ExecuteTime": {
     "end_time": "2022-03-29T03:43:41.892139Z",
     "start_time": "2022-03-29T03:43:41.889247Z"
    }
   },
   "outputs": [],
   "source": [
    "from sklearn.linear_model import LinearRegression"
   ]
  },
  {
   "cell_type": "markdown",
   "metadata": {},
   "source": [
    "**Example:** Initialize model"
   ]
  },
  {
   "cell_type": "code",
   "execution_count": 23,
   "metadata": {
    "ExecuteTime": {
     "end_time": "2022-03-29T03:43:42.806474Z",
     "start_time": "2022-03-29T03:43:42.803832Z"
    }
   },
   "outputs": [],
   "source": [
    "model = LinearRegression()"
   ]
  },
  {
   "cell_type": "markdown",
   "metadata": {},
   "source": [
    "**Example:** Fit model"
   ]
  },
  {
   "cell_type": "code",
   "execution_count": 24,
   "metadata": {
    "ExecuteTime": {
     "end_time": "2022-03-29T03:43:43.703144Z",
     "start_time": "2022-03-29T03:43:43.695554Z"
    }
   },
   "outputs": [
    {
     "data": {
      "text/plain": [
       "LinearRegression(copy_X=True, fit_intercept=True, n_jobs=None, normalize=False)"
      ]
     },
     "execution_count": 24,
     "metadata": {},
     "output_type": "execute_result"
    }
   ],
   "source": [
    "model.fit(X_train, y_train)\n"
   ]
  },
  {
   "cell_type": "markdown",
   "metadata": {},
   "source": [
    "**Example:** Get prediction"
   ]
  },
  {
   "cell_type": "code",
   "execution_count": 25,
   "metadata": {
    "ExecuteTime": {
     "end_time": "2022-03-29T03:43:44.804712Z",
     "start_time": "2022-03-29T03:43:44.799943Z"
    }
   },
   "outputs": [
    {
     "data": {
      "text/plain": [
       "array([204258.5216231 , 185873.4001857 , 212430.6173256 , ...,\n",
       "       151677.53743205, 197484.28439603, 155441.0025582 ])"
      ]
     },
     "execution_count": 25,
     "metadata": {},
     "output_type": "execute_result"
    }
   ],
   "source": [
    "y_train_pred = model.predict(X_train)\n",
    "y_train_pred"
   ]
  },
  {
   "cell_type": "markdown",
   "metadata": {},
   "source": [
    "<font color='red'>Assignment:</font> Calculate **train loss**: **MAE**, **MSE**, and **R2 score**."
   ]
  },
  {
   "cell_type": "code",
   "execution_count": 26,
   "metadata": {
    "ExecuteTime": {
     "end_time": "2022-04-01T04:23:01.884354Z",
     "start_time": "2022-04-01T04:23:00.819366Z"
    }
   },
   "outputs": [
    {
     "name": "stdout",
     "output_type": "stream",
     "text": [
      "Mean absolute error is  41856.51240871165\n",
      "Mean squared error is  3997917652.340051\n",
      "r2_score is 0.41333670988801474\n"
     ]
    }
   ],
   "source": [
    "from sklearn.metrics import mean_absolute_error, mean_squared_error, r2_score\n",
    "\n",
    "mae=mean_absolute_error(y_train, y_train_pred)\n",
    "print(\"Mean absolute error is \", mae)\n",
    "\n",
    "mse = mean_squared_error(y_train,y_train_pred,squared='false')\n",
    "print(\"Mean squared error is \", mse)\n",
    "\n",
    "r2 = r2_score(y_train, y_train_pred)\n",
    "print(\"r2_score is\", r2)\n",
    "\n"
   ]
  },
  {
   "cell_type": "code",
   "execution_count": null,
   "metadata": {},
   "outputs": [],
   "source": []
  },
  {
   "cell_type": "markdown",
   "metadata": {},
   "source": [
    "<font color='red'>Assignment:</font> Visualize the difference between prediction and ground truth. Do you see any problem or anything unusual? Why? Hint: use plt.scatter()"
   ]
  },
  {
   "cell_type": "code",
   "execution_count": 49,
   "metadata": {
    "ExecuteTime": {
     "end_time": "2022-04-01T04:24:16.745981Z",
     "start_time": "2022-04-01T04:24:16.439864Z"
    }
   },
   "outputs": [
    {
     "data": {
      "image/png": "[encoded data removed]",
      "text/plain": [
       "<Figure size 432x288 with 1 Axes>"
      ]
     },
     "metadata": {
      "needs_background": "light"
     },
     "output_type": "display_data"
    }
   ],
   "source": [
    "import matplotlib.pyplot as plt\n",
    "%matplotlib inline\n",
    "\n",
    "plt.scatter(y_train, y_train_pred,alpha=0.3)\n",
    "plt.xlabel('x_train')\n",
    "plt.ylabel('y_train_pred')\n",
    "plt.show()"
   ]
  },
  {
   "cell_type": "code",
   "execution_count": null,
   "metadata": {},
   "outputs": [],
   "source": []
  },
  {
   "cell_type": "markdown",
   "metadata": {},
   "source": [
    "<font color='red'>Question:</font> What are the coefficient and intercept for this model?"
   ]
  },
  {
   "cell_type": "code",
   "execution_count": 62,
   "metadata": {
    "ExecuteTime": {
     "end_time": "2022-03-29T03:43:48.958671Z",
     "start_time": "2022-03-29T03:43:48.955222Z"
    }
   },
   "outputs": [
    {
     "ename": "AttributeError",
     "evalue": "'Pipeline' object has no attribute 'coef_'",
     "output_type": "error",
     "traceback": [
      "\u001b[0;31m---------------------------------------------------------------------------\u001b[0m",
      "\u001b[0;31mAttributeError\u001b[0m                            Traceback (most recent call last)",
      "\u001b[0;32m<ipython-input-62-37c12b8efe87>\u001b[0m in \u001b[0;36m<module>\u001b[0;34m\u001b[0m\n\u001b[0;32m----> 1\u001b[0;31m \u001b[0mprint\u001b[0m\u001b[0;34m(\u001b[0m \u001b[0mmodel\u001b[0m\u001b[0;34m.\u001b[0m\u001b[0mcoef_\u001b[0m\u001b[0;34m)\u001b[0m\u001b[0;34m\u001b[0m\u001b[0;34m\u001b[0m\u001b[0m\n\u001b[0m\u001b[1;32m      2\u001b[0m \u001b[0mprint\u001b[0m\u001b[0;34m(\u001b[0m\u001b[0;34m'Intercept is'\u001b[0m\u001b[0;34m,\u001b[0m \u001b[0mmodel\u001b[0m\u001b[0;34m.\u001b[0m\u001b[0mintercept_\u001b[0m\u001b[0;34m)\u001b[0m\u001b[0;34m\u001b[0m\u001b[0;34m\u001b[0m\u001b[0m\n",
      "\u001b[0;31mAttributeError\u001b[0m: 'Pipeline' object has no attribute 'coef_'"
     ]
    }
   ],
   "source": [
    "print('Coefficinet is', model.coef_)\n",
    "print('Intercept is', model.intercept_)"
   ]
  },
  {
   "cell_type": "markdown",
   "metadata": {},
   "source": [
    "**Example:** Visualize the relationship between **sale price** and **living area**."
   ]
  },
  {
   "cell_type": "code",
   "execution_count": 72,
   "metadata": {
    "ExecuteTime": {
     "end_time": "2022-04-01T04:24:59.829111Z",
     "start_time": "2022-04-01T04:24:59.824004Z"
    }
   },
   "outputs": [],
   "source": [
    "import numpy as np\n",
    "\n",
    "def myPlot(area, price, model):\n",
    "    plt.scatter(area, price, alpha=0.3)\n",
    "    x = np.linspace(0, area.max())\n",
    "    y = model.predict(x.reshape(-1,1))\n",
    "    plt.plot(x, y, color='r')\n",
    "    plt.xlabel('Living area')\n",
    "    plt.ylabel('Sale price')\n",
    "    plt.show()"
   ]
  },
  {
   "cell_type": "code",
   "execution_count": 73,
   "metadata": {
    "ExecuteTime": {
     "end_time": "2022-03-29T03:43:51.463162Z",
     "start_time": "2022-03-29T03:43:51.339261Z"
    }
   },
   "outputs": [
    {
     "data": {
      "image/png": "[encoded data removed]",
      "text/plain": [
       "<Figure size 432x288 with 1 Axes>"
      ]
     },
     "metadata": {
      "needs_background": "light"
     },
     "output_type": "display_data"
    }
   ],
   "source": [
    "myPlot(train.GrLivArea, train.SalePrice, model)"
   ]
  },
  {
   "cell_type": "markdown",
   "metadata": {},
   "source": [
    "<font color='red'>Assignment:</font> Calculate the **test loss**; visualize the comparision between prediction and ground truth, and the relationship between living area and sale price."
   ]
  },
  {
   "cell_type": "code",
   "execution_count": 84,
   "metadata": {
    "ExecuteTime": {
     "end_time": "2022-04-01T04:26:26.960331Z",
     "start_time": "2022-04-01T04:26:26.957801Z"
    }
   },
   "outputs": [
    {
     "ename": "SyntaxError",
     "evalue": "invalid syntax (<ipython-input-84-6856e22a7c09>, line 7)",
     "output_type": "error",
     "traceback": [
      "\u001b[0;36m  File \u001b[0;32m\"<ipython-input-84-6856e22a7c09>\"\u001b[0;36m, line \u001b[0;32m7\u001b[0m\n\u001b[0;31m    plt.scatter(y_test, y_test_predict)\u001b[0m\n\u001b[0m      ^\u001b[0m\n\u001b[0;31mSyntaxError\u001b[0m\u001b[0;31m:\u001b[0m invalid syntax\n"
     ]
    }
   ],
   "source": [
    "#hint: use model to predict price with test data first\n",
    "import matplotlib.pyplot as plt\n",
    "y_test_predict = model.predict(X_test)\n",
    "print(\"Mean Absolute Error is {:.2e}\".format(mean_absolute_error(y_test,y_test_predict)))\n",
    "print(\"Mean square Error is {:.2e}\".format(mean_squared_error(y_test,y_test_predict)))\n",
    "print('R2 Score is {:.2f}'.format(r2_score(y_test,y_test_predict))\n",
    "plt.scatter(y_test,y_test_predict)\n",
    "plt.xlabel('y_test')\n",
    "plt.ylabel('y_test_predict')"
   ]
  },
  {
   "cell_type": "code",
   "execution_count": 85,
   "metadata": {
    "ExecuteTime": {
     "end_time": "2022-03-29T03:43:56.561899Z",
     "start_time": "2022-03-29T03:43:56.434116Z"
    }
   },
   "outputs": [
    {
     "data": {
      "image/png": "[encoded data removed]",
      "text/plain": [
       "<Figure size 432x288 with 1 Axes>"
      ]
     },
     "metadata": {
      "needs_background": "light"
     },
     "output_type": "display_data"
    }
   ],
   "source": [
    "myPlot(test.GrLivArea,test.SalePrice,model)"
   ]
  },
  {
   "cell_type": "markdown",
   "metadata": {},
   "source": [
    "# Polynomial Features"
   ]
  },
  {
   "cell_type": "code",
   "execution_count": 75,
   "metadata": {
    "ExecuteTime": {
     "end_time": "2022-03-29T03:45:50.472847Z",
     "start_time": "2022-03-29T03:45:50.469824Z"
    }
   },
   "outputs": [],
   "source": [
    "from sklearn.preprocessing import PolynomialFeatures"
   ]
  },
  {
   "cell_type": "code",
   "execution_count": 76,
   "metadata": {
    "ExecuteTime": {
     "end_time": "2022-03-29T03:45:50.686000Z",
     "start_time": "2022-03-29T03:45:50.683483Z"
    }
   },
   "outputs": [],
   "source": [
    "pf = PolynomialFeatures(degree=3)"
   ]
  },
  {
   "cell_type": "code",
   "execution_count": 77,
   "metadata": {
    "ExecuteTime": {
     "end_time": "2022-03-29T03:45:50.885440Z",
     "start_time": "2022-03-29T03:45:50.878048Z"
    }
   },
   "outputs": [
    {
     "data": {
      "text/plain": [
       "array([[1.00000000e+00, 1.71000000e+03, 2.92410000e+06, 5.00021100e+09],\n",
       "       [1.00000000e+00, 1.53901947e+03, 2.36858094e+06, 3.64529219e+09],\n",
       "       [1.00000000e+00, 1.78600000e+03, 3.18979600e+06, 5.69697566e+09],\n",
       "       ...,\n",
       "       [1.00000000e+00, 1.22100000e+03, 1.49084100e+06, 1.82031686e+09],\n",
       "       [1.00000000e+00, 1.64700000e+03, 2.71260900e+06, 4.46766702e+09],\n",
       "       [1.00000000e+00, 1.25600000e+03, 1.57753600e+06, 1.98138522e+09]])"
      ]
     },
     "execution_count": 77,
     "metadata": {},
     "output_type": "execute_result"
    }
   ],
   "source": [
    "pf.fit_transform(X_train)"
   ]
  },
  {
   "cell_type": "code",
   "execution_count": 78,
   "metadata": {
    "ExecuteTime": {
     "end_time": "2022-03-29T03:45:51.055076Z",
     "start_time": "2022-03-29T03:45:51.050947Z"
    }
   },
   "outputs": [
    {
     "data": {
      "text/plain": [
       "['1', 'x0', 'x0^2', 'x0^3']"
      ]
     },
     "execution_count": 78,
     "metadata": {},
     "output_type": "execute_result"
    }
   ],
   "source": [
    "pf.get_feature_names()"
   ]
  },
  {
   "cell_type": "code",
   "execution_count": 79,
   "metadata": {
    "ExecuteTime": {
     "end_time": "2022-03-29T03:45:51.227068Z",
     "start_time": "2022-03-29T03:45:51.216002Z"
    }
   },
   "outputs": [
    {
     "data": {
      "text/html": [
       "<div>\n",
       "<style scoped>\n",
       "    .dataframe tbody tr th:only-of-type {\n",
       "        vertical-align: middle;\n",
       "    }\n",
       "\n",
       "    .dataframe tbody tr th {\n",
       "        vertical-align: top;\n",
       "    }\n",
       "\n",
       "    .dataframe thead th {\n",
       "        text-align: right;\n",
       "    }\n",
       "</style>\n",
       "<table border=\"1\" class=\"dataframe\">\n",
       "  <thead>\n",
       "    <tr style=\"text-align: right;\">\n",
       "      <th></th>\n",
       "      <th>1</th>\n",
       "      <th>x0</th>\n",
       "      <th>x0^2</th>\n",
       "      <th>x0^3</th>\n",
       "    </tr>\n",
       "  </thead>\n",
       "  <tbody>\n",
       "    <tr>\n",
       "      <th>0</th>\n",
       "      <td>1.0</td>\n",
       "      <td>1710.000000</td>\n",
       "      <td>2.924100e+06</td>\n",
       "      <td>5.000211e+09</td>\n",
       "    </tr>\n",
       "    <tr>\n",
       "      <th>1</th>\n",
       "      <td>1.0</td>\n",
       "      <td>1539.019473</td>\n",
       "      <td>2.368581e+06</td>\n",
       "      <td>3.645292e+09</td>\n",
       "    </tr>\n",
       "    <tr>\n",
       "      <th>2</th>\n",
       "      <td>1.0</td>\n",
       "      <td>1786.000000</td>\n",
       "      <td>3.189796e+06</td>\n",
       "      <td>5.696976e+09</td>\n",
       "    </tr>\n",
       "    <tr>\n",
       "      <th>3</th>\n",
       "      <td>1.0</td>\n",
       "      <td>1717.000000</td>\n",
       "      <td>2.948089e+06</td>\n",
       "      <td>5.061869e+09</td>\n",
       "    </tr>\n",
       "    <tr>\n",
       "      <th>4</th>\n",
       "      <td>1.0</td>\n",
       "      <td>2198.000000</td>\n",
       "      <td>4.831204e+06</td>\n",
       "      <td>1.061899e+10</td>\n",
       "    </tr>\n",
       "  </tbody>\n",
       "</table>\n",
       "</div>"
      ],
      "text/plain": [
       "     1           x0          x0^2          x0^3\n",
       "0  1.0  1710.000000  2.924100e+06  5.000211e+09\n",
       "1  1.0  1539.019473  2.368581e+06  3.645292e+09\n",
       "2  1.0  1786.000000  3.189796e+06  5.696976e+09\n",
       "3  1.0  1717.000000  2.948089e+06  5.061869e+09\n",
       "4  1.0  2198.000000  4.831204e+06  1.061899e+10"
      ]
     },
     "execution_count": 79,
     "metadata": {},
     "output_type": "execute_result"
    }
   ],
   "source": [
    "pd.DataFrame(pf.transform(X_train), \n",
    "             columns=pf.get_feature_names()).head()"
   ]
  },
  {
   "cell_type": "markdown",
   "metadata": {},
   "source": [
    "<font color='red'>Question:</font> What is each column in above dataframe?"
   ]
  },
  {
   "cell_type": "markdown",
   "metadata": {},
   "source": [
    "## Features"
   ]
  },
  {
   "cell_type": "markdown",
   "metadata": {},
   "source": [
    "## Pipeline"
   ]
  },
  {
   "cell_type": "markdown",
   "metadata": {},
   "source": [
    "**Example:** use of **pipeline**."
   ]
  },
  {
   "cell_type": "code",
   "execution_count": 36,
   "metadata": {
    "ExecuteTime": {
     "end_time": "2022-03-29T03:45:52.163203Z",
     "start_time": "2022-03-29T03:45:52.160522Z"
    }
   },
   "outputs": [],
   "source": [
    "from sklearn.pipeline import Pipeline"
   ]
  },
  {
   "cell_type": "code",
   "execution_count": 37,
   "metadata": {
    "ExecuteTime": {
     "end_time": "2022-03-29T03:45:52.371811Z",
     "start_time": "2022-03-29T03:45:52.368589Z"
    }
   },
   "outputs": [],
   "source": [
    "steps = [('poly', PolynomialFeatures(degree=2)),\n",
    "         ('lr', LinearRegression())]\n",
    "model = Pipeline(steps)"
   ]
  },
  {
   "cell_type": "markdown",
   "metadata": {},
   "source": [
    "**Example:** use pipeline as model."
   ]
  },
  {
   "cell_type": "code",
   "execution_count": 38,
   "metadata": {
    "ExecuteTime": {
     "end_time": "2022-03-29T03:45:52.748214Z",
     "start_time": "2022-03-29T03:45:52.738975Z"
    }
   },
   "outputs": [
    {
     "data": {
      "text/plain": [
       "Pipeline(memory=None,\n",
       "         steps=[('poly',\n",
       "                 PolynomialFeatures(degree=2, include_bias=True,\n",
       "                                    interaction_only=False, order='C')),\n",
       "                ('lr',\n",
       "                 LinearRegression(copy_X=True, fit_intercept=True, n_jobs=None,\n",
       "                                  normalize=False))],\n",
       "         verbose=False)"
      ]
     },
     "execution_count": 38,
     "metadata": {},
     "output_type": "execute_result"
    }
   ],
   "source": [
    "model.fit(X_train, y_train)"
   ]
  },
  {
   "cell_type": "code",
   "execution_count": 39,
   "metadata": {
    "ExecuteTime": {
     "end_time": "2022-03-29T03:45:52.936539Z",
     "start_time": "2022-03-29T03:45:52.932809Z"
    }
   },
   "outputs": [],
   "source": [
    "y_train_pred = model.predict(X_train)"
   ]
  },
  {
   "cell_type": "markdown",
   "metadata": {},
   "source": [
    "<font color='red'>Assignment:</font> Calculate regression metrics; visualize both **train** and **cost** loss; visualize relationship between **living area** and **sale price**."
   ]
  },
  {
   "cell_type": "markdown",
   "metadata": {
    "ExecuteTime": {
     "end_time": "2022-03-29T03:45:53.473119Z",
     "start_time": "2022-03-29T03:45:53.349935Z"
    }
   },
   "source": [
    "### Regression metrics are: Mean Squared Error, Mean Absolute Error, Root Mean Squared Error\n"
   ]
  },
  {
   "cell_type": "code",
   "execution_count": 83,
   "metadata": {},
   "outputs": [
    {
     "ename": "SyntaxError",
     "evalue": "invalid syntax (<ipython-input-83-86702182188b>, line 4)",
     "output_type": "error",
     "traceback": [
      "\u001b[0;36m  File \u001b[0;32m\"<ipython-input-83-86702182188b>\"\u001b[0;36m, line \u001b[0;32m4\u001b[0m\n\u001b[0;31m    plt.scatter(y_train,y_train_predict,alpha=0.3)\u001b[0m\n\u001b[0m      ^\u001b[0m\n\u001b[0;31mSyntaxError\u001b[0m\u001b[0;31m:\u001b[0m invalid syntax\n"
     ]
    }
   ],
   "source": [
    "print(\"Mean Absolute Error is {:.2e}\".format(mean_absolute_error(y_train,y_train_predict)))\n",
    "print(\"Mean square Error is {:.2e}\".format(mean_squared_error(y_train,y_train_predict)))\n",
    "print('R2 Score is {:.2f}'.format(r2_score(y_train,y_train_predict))\n",
    "plt.scatter(y_train,y_train_predict,alpha=0.3)\n",
    "plt.xlabel('y_train')\n",
    "plt.ylabel('y_train_predict')\n",
    "plt.show()"
   ]
  },
  {
   "cell_type": "markdown",
   "metadata": {},
   "source": [
    "<font color='red'>Question:</font> Does the model with polynomial features perform better? Why?"
   ]
  },
  {
   "cell_type": "markdown",
   "metadata": {},
   "source": [
    "\n",
    "### Advantages of using Polynomial Regression:\n",
    "\n",
    "### Polynomial provides the best approximation of the relationship between the dependent and independent variable.\n",
    "### A Broad range of function can be fit under it. \n",
    "### Polynomial basically fits a wide range of curvature."
   ]
  },
  {
   "cell_type": "markdown",
   "metadata": {},
   "source": [
    "**Example:** Extract the linear model from pipeline"
   ]
  },
  {
   "cell_type": "code",
   "execution_count": 40,
   "metadata": {
    "ExecuteTime": {
     "end_time": "2022-03-29T03:45:59.439332Z",
     "start_time": "2022-03-29T03:45:59.436372Z"
    }
   },
   "outputs": [],
   "source": [
    "lr = model.steps[1][1]"
   ]
  },
  {
   "cell_type": "markdown",
   "metadata": {},
   "source": [
    "**Example:** Extract the coefficents"
   ]
  },
  {
   "cell_type": "code",
   "execution_count": 41,
   "metadata": {
    "ExecuteTime": {
     "end_time": "2022-03-29T03:46:01.213853Z",
     "start_time": "2022-03-29T03:46:01.209661Z"
    }
   },
   "outputs": [
    {
     "data": {
      "text/plain": [
       "array([ 0.00000000e+00,  1.63784703e+02, -1.43272371e-02])"
      ]
     },
     "execution_count": 41,
     "metadata": {},
     "output_type": "execute_result"
    }
   ],
   "source": [
    "lr.coef_"
   ]
  },
  {
   "cell_type": "markdown",
   "metadata": {},
   "source": [
    "<font color='red'>Question:</font> Why is the coefficient for x^2 so small?"
   ]
  },
  {
   "cell_type": "markdown",
   "metadata": {},
   "source": [
    "### As the degree of x progresses, the coefficient really becomes less, so all that matters in the end is the x term and its coefficient."
   ]
  },
  {
   "cell_type": "markdown",
   "metadata": {},
   "source": [
    "## Scaling"
   ]
  },
  {
   "cell_type": "code",
   "execution_count": 42,
   "metadata": {
    "ExecuteTime": {
     "end_time": "2022-03-29T03:46:15.651450Z",
     "start_time": "2022-03-29T03:46:15.648767Z"
    }
   },
   "outputs": [],
   "source": [
    "from sklearn.preprocessing import MinMaxScaler"
   ]
  },
  {
   "cell_type": "code",
   "execution_count": 43,
   "metadata": {
    "ExecuteTime": {
     "end_time": "2022-03-29T03:46:20.415085Z",
     "start_time": "2022-03-29T03:46:20.411477Z"
    }
   },
   "outputs": [],
   "source": [
    "steps = [('poly', PolynomialFeatures(degree=2)),\n",
    "         ('Rescale', MinMaxScaler()),\n",
    "         ('lr', LinearRegression())]\n",
    "model = Pipeline(steps)"
   ]
  },
  {
   "cell_type": "code",
   "execution_count": 44,
   "metadata": {
    "ExecuteTime": {
     "end_time": "2022-03-29T03:46:21.626840Z",
     "start_time": "2022-03-29T03:46:21.614003Z"
    }
   },
   "outputs": [
    {
     "data": {
      "text/plain": [
       "Pipeline(memory=None,\n",
       "         steps=[('poly',\n",
       "                 PolynomialFeatures(degree=2, include_bias=True,\n",
       "                                    interaction_only=False, order='C')),\n",
       "                ('Rescale', MinMaxScaler(copy=True, feature_range=(0, 1))),\n",
       "                ('lr',\n",
       "                 LinearRegression(copy_X=True, fit_intercept=True, n_jobs=None,\n",
       "                                  normalize=False))],\n",
       "         verbose=False)"
      ]
     },
     "execution_count": 44,
     "metadata": {},
     "output_type": "execute_result"
    }
   ],
   "source": [
    "model.fit(X_train, y_train)"
   ]
  },
  {
   "cell_type": "code",
   "execution_count": 45,
   "metadata": {
    "ExecuteTime": {
     "end_time": "2022-03-29T03:46:24.366225Z",
     "start_time": "2022-03-29T03:46:24.361737Z"
    }
   },
   "outputs": [
    {
     "data": {
      "text/plain": [
       "array([      0.        ,  869369.20419295, -454468.67062754])"
      ]
     },
     "execution_count": 45,
     "metadata": {},
     "output_type": "execute_result"
    }
   ],
   "source": [
    "model.steps[2][1].coef_"
   ]
  },
  {
   "cell_type": "markdown",
   "metadata": {},
   "source": [
    "<font color='red'>Question:</font> What does **MinMaxScaler** do? Why do we need it?"
   ]
  },
  {
   "cell_type": "markdown",
   "metadata": {},
   "source": [
    "### Transform features by scaling each feature to a given range.\n",
    "\n",
    "### This estimator scales and translates each feature individually such that it is in the given range on the training set, e.g. between zero and one."
   ]
  },
  {
   "cell_type": "markdown",
   "metadata": {},
   "source": [
    "## High degree polynomial terms"
   ]
  },
  {
   "cell_type": "markdown",
   "metadata": {},
   "source": [
    "<font color='red'>Assignment:</font> Repeat above steps with higher **degree** values in **PolynomialFeatures**. Hint: you can write a for loop to loop through degree 1 to 50, and record the MAE of train and test in mae_train and mae_test."
   ]
  },
  {
   "cell_type": "code",
   "execution_count": 46,
   "metadata": {
    "ExecuteTime": {
     "end_time": "2022-03-29T03:53:52.295341Z",
     "start_time": "2022-03-29T03:53:51.896119Z"
    }
   },
   "outputs": [],
   "source": [
    "mae_train={}\n",
    "mae_test={}\n",
    "for i in range(1,50):\n",
    "    steps = [('poly', PolynomialFeatures(degree=i)),('Rescale', MinMaxScaler()),('lr', LinearRegression())]\n",
    "    # add your code here\n",
    "    \n",
    "    \n",
    "\n"
   ]
  },
  {
   "cell_type": "markdown",
   "metadata": {},
   "source": [
    "<font color='red'>Assignment:</font> Visualize the change of train loss and test loss with polynomial degree value, respectively. Use **MAE**."
   ]
  },
  {
   "cell_type": "code",
   "execution_count": null,
   "metadata": {
    "ExecuteTime": {
     "end_time": "2022-03-29T03:55:51.131651Z",
     "start_time": "2022-03-29T03:55:50.996555Z"
    }
   },
   "outputs": [],
   "source": [
    "print(\"Mean Absolute Error is {:.2e}\".format(mean_absolute_error(y_train,y_train_predict)))"
   ]
  },
  {
   "cell_type": "markdown",
   "metadata": {},
   "source": [
    "<font color='red'>Assignment:</font> Is there anything wrong with the approach in this notebook? Please try removing the rows with missing value in train instead of imputing it with mean, and see how the results change. You can create a new notebook to do it."
   ]
  },
  {
   "cell_type": "code",
   "execution_count": null,
   "metadata": {},
   "outputs": [],
   "source": []
  },
  {
   "cell_type": "code",
   "execution_count": null,
   "metadata": {},
   "outputs": [],
   "source": []
  }
 ],
 "metadata": {
  "kernelspec": {
   "display_name": "Python 3",
   "language": "python",
   "name": "python3"
  },
  "language_info": {
   "codemirror_mode": {
    "name": "ipython",
    "version": 3
   },
   "file_extension": ".py",
   "mimetype": "text/x-python",
   "name": "python",
   "nbconvert_exporter": "python",
   "pygments_lexer": "ipython3",
   "version": "3.7.6"
  }
 },
 "nbformat": 4,
 "nbformat_minor": 2
}
