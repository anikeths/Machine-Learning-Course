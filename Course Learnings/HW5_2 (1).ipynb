{
  "cells": [
    {
      "cell_type": "code",
      "execution_count": 2,
      "metadata": {
        "ExecuteTime": {
          "end_time": "2022-04-24T21:04:58.674053Z",
          "start_time": "2022-04-24T21:04:58.014668Z"
        },
        "id": "YrmYM0KfQZtY"
      },
      "outputs": [],
      "source": [
        "import pandas as pd\n",
        "\n",
        "df = pd.read_csv('train.csv')\n"
      ]
    },
    {
      "cell_type": "code",
      "source": [
        ""
      ],
      "metadata": {
        "id": "KcYrsUxNa02T"
      },
      "execution_count": null,
      "outputs": []
    },
    {
      "cell_type": "code",
      "execution_count": 3,
      "metadata": {
        "ExecuteTime": {
          "end_time": "2022-04-24T21:04:59.762959Z",
          "start_time": "2022-04-24T21:04:59.731916Z"
        },
        "colab": {
          "base_uri": "https://localhost:8080/",
          "height": 299
        },
        "id": "FC1Ik-nqQZtb",
        "outputId": "41a7d73f-5abc-448f-c370-7aebdab9c390"
      },
      "outputs": [
        {
          "output_type": "execute_result",
          "data": {
            "text/plain": [
              "   Id  MSSubClass MSZoning  LotFrontage  LotArea Street Alley LotShape  \\\n",
              "0   1          60       RL         65.0     8450   Pave   NaN      Reg   \n",
              "1   2          20       RL         80.0     9600   Pave   NaN      Reg   \n",
              "2   3          60       RL         68.0    11250   Pave   NaN      IR1   \n",
              "3   4          70       RL         60.0     9550   Pave   NaN      IR1   \n",
              "4   5          60       RL         84.0    14260   Pave   NaN      IR1   \n",
              "\n",
              "  LandContour Utilities  ... PoolArea PoolQC Fence MiscFeature MiscVal MoSold  \\\n",
              "0         Lvl    AllPub  ...        0    NaN   NaN         NaN       0      2   \n",
              "1         Lvl    AllPub  ...        0    NaN   NaN         NaN       0      5   \n",
              "2         Lvl    AllPub  ...        0    NaN   NaN         NaN       0      9   \n",
              "3         Lvl    AllPub  ...        0    NaN   NaN         NaN       0      2   \n",
              "4         Lvl    AllPub  ...        0    NaN   NaN         NaN       0     12   \n",
              "\n",
              "  YrSold  SaleType  SaleCondition  SalePrice  \n",
              "0   2008        WD         Normal     208500  \n",
              "1   2007        WD         Normal     181500  \n",
              "2   2008        WD         Normal     223500  \n",
              "3   2006        WD        Abnorml     140000  \n",
              "4   2008        WD         Normal     250000  \n",
              "\n",
              "[5 rows x 81 columns]"
            ],
            "text/html": [
              "\n",
              "  <div id=\"df-7c86cdcd-d10b-41f0-98cb-32df2bb35872\">\n",
              "    <div class=\"colab-df-container\">\n",
              "      <div>\n",
              "<style scoped>\n",
              "    .dataframe tbody tr th:only-of-type {\n",
              "        vertical-align: middle;\n",
              "    }\n",
              "\n",
              "    .dataframe tbody tr th {\n",
              "        vertical-align: top;\n",
              "    }\n",
              "\n",
              "    .dataframe thead th {\n",
              "        text-align: right;\n",
              "    }\n",
              "</style>\n",
              "<table border=\"1\" class=\"dataframe\">\n",
              "  <thead>\n",
              "    <tr style=\"text-align: right;\">\n",
              "      <th></th>\n",
              "      <th>Id</th>\n",
              "      <th>MSSubClass</th>\n",
              "      <th>MSZoning</th>\n",
              "      <th>LotFrontage</th>\n",
              "      <th>LotArea</th>\n",
              "      <th>Street</th>\n",
              "      <th>Alley</th>\n",
              "      <th>LotShape</th>\n",
              "      <th>LandContour</th>\n",
              "      <th>Utilities</th>\n",
              "      <th>...</th>\n",
              "      <th>PoolArea</th>\n",
              "      <th>PoolQC</th>\n",
              "      <th>Fence</th>\n",
              "      <th>MiscFeature</th>\n",
              "      <th>MiscVal</th>\n",
              "      <th>MoSold</th>\n",
              "      <th>YrSold</th>\n",
              "      <th>SaleType</th>\n",
              "      <th>SaleCondition</th>\n",
              "      <th>SalePrice</th>\n",
              "    </tr>\n",
              "  </thead>\n",
              "  <tbody>\n",
              "    <tr>\n",
              "      <th>0</th>\n",
              "      <td>1</td>\n",
              "      <td>60</td>\n",
              "      <td>RL</td>\n",
              "      <td>65.0</td>\n",
              "      <td>8450</td>\n",
              "      <td>Pave</td>\n",
              "      <td>NaN</td>\n",
              "      <td>Reg</td>\n",
              "      <td>Lvl</td>\n",
              "      <td>AllPub</td>\n",
              "      <td>...</td>\n",
              "      <td>0</td>\n",
              "      <td>NaN</td>\n",
              "      <td>NaN</td>\n",
              "      <td>NaN</td>\n",
              "      <td>0</td>\n",
              "      <td>2</td>\n",
              "      <td>2008</td>\n",
              "      <td>WD</td>\n",
              "      <td>Normal</td>\n",
              "      <td>208500</td>\n",
              "    </tr>\n",
              "    <tr>\n",
              "      <th>1</th>\n",
              "      <td>2</td>\n",
              "      <td>20</td>\n",
              "      <td>RL</td>\n",
              "      <td>80.0</td>\n",
              "      <td>9600</td>\n",
              "      <td>Pave</td>\n",
              "      <td>NaN</td>\n",
              "      <td>Reg</td>\n",
              "      <td>Lvl</td>\n",
              "      <td>AllPub</td>\n",
              "      <td>...</td>\n",
              "      <td>0</td>\n",
              "      <td>NaN</td>\n",
              "      <td>NaN</td>\n",
              "      <td>NaN</td>\n",
              "      <td>0</td>\n",
              "      <td>5</td>\n",
              "      <td>2007</td>\n",
              "      <td>WD</td>\n",
              "      <td>Normal</td>\n",
              "      <td>181500</td>\n",
              "    </tr>\n",
              "    <tr>\n",
              "      <th>2</th>\n",
              "      <td>3</td>\n",
              "      <td>60</td>\n",
              "      <td>RL</td>\n",
              "      <td>68.0</td>\n",
              "      <td>11250</td>\n",
              "      <td>Pave</td>\n",
              "      <td>NaN</td>\n",
              "      <td>IR1</td>\n",
              "      <td>Lvl</td>\n",
              "      <td>AllPub</td>\n",
              "      <td>...</td>\n",
              "      <td>0</td>\n",
              "      <td>NaN</td>\n",
              "      <td>NaN</td>\n",
              "      <td>NaN</td>\n",
              "      <td>0</td>\n",
              "      <td>9</td>\n",
              "      <td>2008</td>\n",
              "      <td>WD</td>\n",
              "      <td>Normal</td>\n",
              "      <td>223500</td>\n",
              "    </tr>\n",
              "    <tr>\n",
              "      <th>3</th>\n",
              "      <td>4</td>\n",
              "      <td>70</td>\n",
              "      <td>RL</td>\n",
              "      <td>60.0</td>\n",
              "      <td>9550</td>\n",
              "      <td>Pave</td>\n",
              "      <td>NaN</td>\n",
              "      <td>IR1</td>\n",
              "      <td>Lvl</td>\n",
              "      <td>AllPub</td>\n",
              "      <td>...</td>\n",
              "      <td>0</td>\n",
              "      <td>NaN</td>\n",
              "      <td>NaN</td>\n",
              "      <td>NaN</td>\n",
              "      <td>0</td>\n",
              "      <td>2</td>\n",
              "      <td>2006</td>\n",
              "      <td>WD</td>\n",
              "      <td>Abnorml</td>\n",
              "      <td>140000</td>\n",
              "    </tr>\n",
              "    <tr>\n",
              "      <th>4</th>\n",
              "      <td>5</td>\n",
              "      <td>60</td>\n",
              "      <td>RL</td>\n",
              "      <td>84.0</td>\n",
              "      <td>14260</td>\n",
              "      <td>Pave</td>\n",
              "      <td>NaN</td>\n",
              "      <td>IR1</td>\n",
              "      <td>Lvl</td>\n",
              "      <td>AllPub</td>\n",
              "      <td>...</td>\n",
              "      <td>0</td>\n",
              "      <td>NaN</td>\n",
              "      <td>NaN</td>\n",
              "      <td>NaN</td>\n",
              "      <td>0</td>\n",
              "      <td>12</td>\n",
              "      <td>2008</td>\n",
              "      <td>WD</td>\n",
              "      <td>Normal</td>\n",
              "      <td>250000</td>\n",
              "    </tr>\n",
              "  </tbody>\n",
              "</table>\n",
              "<p>5 rows × 81 columns</p>\n",
              "</div>\n",
              "      <button class=\"colab-df-convert\" onclick=\"convertToInteractive('df-7c86cdcd-d10b-41f0-98cb-32df2bb35872')\"\n",
              "              title=\"Convert this dataframe to an interactive table.\"\n",
              "              style=\"display:none;\">\n",
              "        \n",
              "  <svg xmlns=\"http://www.w3.org/2000/svg\" height=\"24px\"viewBox=\"0 0 24 24\"\n",
              "       width=\"24px\">\n",
              "    <path d=\"M0 0h24v24H0V0z\" fill=\"none\"/>\n",
              "    <path d=\"M18.56 5.44l.94 2.06.94-2.06 2.06-.94-2.06-.94-.94-2.06-.94 2.06-2.06.94zm-11 1L8.5 8.5l.94-2.06 2.06-.94-2.06-.94L8.5 2.5l-.94 2.06-2.06.94zm10 10l.94 2.06.94-2.06 2.06-.94-2.06-.94-.94-2.06-.94 2.06-2.06.94z\"/><path d=\"M17.41 7.96l-1.37-1.37c-.4-.4-.92-.59-1.43-.59-.52 0-1.04.2-1.43.59L10.3 9.45l-7.72 7.72c-.78.78-.78 2.05 0 2.83L4 21.41c.39.39.9.59 1.41.59.51 0 1.02-.2 1.41-.59l7.78-7.78 2.81-2.81c.8-.78.8-2.07 0-2.86zM5.41 20L4 18.59l7.72-7.72 1.47 1.35L5.41 20z\"/>\n",
              "  </svg>\n",
              "      </button>\n",
              "      \n",
              "  <style>\n",
              "    .colab-df-container {\n",
              "      display:flex;\n",
              "      flex-wrap:wrap;\n",
              "      gap: 12px;\n",
              "    }\n",
              "\n",
              "    .colab-df-convert {\n",
              "      background-color: #E8F0FE;\n",
              "      border: none;\n",
              "      border-radius: 50%;\n",
              "      cursor: pointer;\n",
              "      display: none;\n",
              "      fill: #1967D2;\n",
              "      height: 32px;\n",
              "      padding: 0 0 0 0;\n",
              "      width: 32px;\n",
              "    }\n",
              "\n",
              "    .colab-df-convert:hover {\n",
              "      background-color: #E2EBFA;\n",
              "      box-shadow: 0px 1px 2px rgba(60, 64, 67, 0.3), 0px 1px 3px 1px rgba(60, 64, 67, 0.15);\n",
              "      fill: #174EA6;\n",
              "    }\n",
              "\n",
              "    [theme=dark] .colab-df-convert {\n",
              "      background-color: #3B4455;\n",
              "      fill: #D2E3FC;\n",
              "    }\n",
              "\n",
              "    [theme=dark] .colab-df-convert:hover {\n",
              "      background-color: #434B5C;\n",
              "      box-shadow: 0px 1px 3px 1px rgba(0, 0, 0, 0.15);\n",
              "      filter: drop-shadow(0px 1px 2px rgba(0, 0, 0, 0.3));\n",
              "      fill: #FFFFFF;\n",
              "    }\n",
              "  </style>\n",
              "\n",
              "      <script>\n",
              "        const buttonEl =\n",
              "          document.querySelector('#df-7c86cdcd-d10b-41f0-98cb-32df2bb35872 button.colab-df-convert');\n",
              "        buttonEl.style.display =\n",
              "          google.colab.kernel.accessAllowed ? 'block' : 'none';\n",
              "\n",
              "        async function convertToInteractive(key) {\n",
              "          const element = document.querySelector('#df-7c86cdcd-d10b-41f0-98cb-32df2bb35872');\n",
              "          const dataTable =\n",
              "            await google.colab.kernel.invokeFunction('convertToInteractive',\n",
              "                                                     [key], {});\n",
              "          if (!dataTable) return;\n",
              "\n",
              "          const docLinkHtml = 'Like what you see? Visit the ' +\n",
              "            '<a target=\"_blank\" href=https://colab.research.google.com/notebooks/data_table.ipynb>data table notebook</a>'\n",
              "            + ' to learn more about interactive tables.';\n",
              "          element.innerHTML = '';\n",
              "          dataTable['output_type'] = 'display_data';\n",
              "          await google.colab.output.renderOutput(dataTable, element);\n",
              "          const docLink = document.createElement('div');\n",
              "          docLink.innerHTML = docLinkHtml;\n",
              "          element.appendChild(docLink);\n",
              "        }\n",
              "      </script>\n",
              "    </div>\n",
              "  </div>\n",
              "  "
            ]
          },
          "metadata": {},
          "execution_count": 3
        }
      ],
      "source": [
        "df.head()"
      ]
    },
    {
      "cell_type": "code",
      "execution_count": 4,
      "metadata": {
        "ExecuteTime": {
          "end_time": "2022-04-24T21:05:20.048850Z",
          "start_time": "2022-04-24T21:05:20.038309Z"
        },
        "id": "X0AFVldyQZtc"
      },
      "outputs": [],
      "source": [
        "cols = ['LotFrontage','LotArea','BsmtFinSF1',\n",
        "        'BsmtFinSF2', 'BsmtUnfSF','TotalBsmtSF','1stFlrSF', '2ndFlrSF',\n",
        "       'LowQualFinSF', 'GrLivArea','TotRmsAbvGrd',\n",
        "        'GarageArea','OpenPorchSF']\n",
        "df = df[cols+['YrSold','SalePrice']]\n",
        "df = df.dropna()\n",
        "train_raw = df[df.YrSold < 2010]\n",
        "test_raw = df[df.YrSold >= 2010]"
      ]
    },
    {
      "cell_type": "markdown",
      "metadata": {
        "id": "xs9GjRcjQZtd"
      },
      "source": [
        "# Random Forest"
      ]
    },
    {
      "cell_type": "markdown",
      "metadata": {
        "id": "FsVGNDRLQZte"
      },
      "source": [
        "<font color='red'>Assignment:</font> Build a model with **RandomForestRegressor** to predict **SalePrice** with **cols**."
      ]
    },
    {
      "cell_type": "code",
      "execution_count": 6,
      "metadata": {
        "ExecuteTime": {
          "end_time": "2022-04-24T21:09:14.399070Z",
          "start_time": "2022-04-24T21:09:12.970784Z"
        },
        "colab": {
          "base_uri": "https://localhost:8080/"
        },
        "id": "N6QMqy4oQZte",
        "outputId": "2120f7a7-0652-4761-9525-5e4a5a9eb473"
      },
      "outputs": [
        {
          "output_type": "stream",
          "name": "stdout",
          "text": [
            "      LotFrontage  LotArea  BsmtFinSF1  BsmtFinSF2  BsmtUnfSF  TotalBsmtSF  \\\n",
            "0            65.0     8450         706           0        150          856   \n",
            "1            80.0     9600         978           0        284         1262   \n",
            "2            68.0    11250         486           0        434          920   \n",
            "3            60.0     9550         216           0        540          756   \n",
            "4            84.0    14260         655           0        490         1145   \n",
            "...           ...      ...         ...         ...        ...          ...   \n",
            "1452         35.0     3675         547           0          0          547   \n",
            "1453         90.0    17217           0           0       1140         1140   \n",
            "1454         62.0     7500         410           0        811         1221   \n",
            "1455         62.0     7917           0           0        953          953   \n",
            "1459         75.0     9937         830         290        136         1256   \n",
            "\n",
            "      1stFlrSF  2ndFlrSF  LowQualFinSF  GrLivArea  TotRmsAbvGrd  GarageArea  \\\n",
            "0          856       854             0       1710             8         548   \n",
            "1         1262         0             0       1262             6         460   \n",
            "2          920       866             0       1786             6         608   \n",
            "3          961       756             0       1717             7         642   \n",
            "4         1145      1053             0       2198             9         836   \n",
            "...        ...       ...           ...        ...           ...         ...   \n",
            "1452      1072         0             0       1072             5         525   \n",
            "1453      1140         0             0       1140             6           0   \n",
            "1454      1221         0             0       1221             6         400   \n",
            "1455       953       694             0       1647             7         460   \n",
            "1459      1256         0             0       1256             6         276   \n",
            "\n",
            "      OpenPorchSF  \n",
            "0              61  \n",
            "1               0  \n",
            "2              42  \n",
            "3              35  \n",
            "4              84  \n",
            "...           ...  \n",
            "1452           28  \n",
            "1453           56  \n",
            "1454          113  \n",
            "1455           40  \n",
            "1459           68  \n",
            "\n",
            "[1058 rows x 13 columns]\n",
            "      SalePrice\n",
            "0        208500\n",
            "1        181500\n",
            "2        223500\n",
            "3        140000\n",
            "4        250000\n",
            "...         ...\n",
            "1452     145000\n",
            "1453      84500\n",
            "1454     185000\n",
            "1455     175000\n",
            "1459     147500\n",
            "\n",
            "[1058 rows x 1 columns]\n"
          ]
        },
        {
          "output_type": "stream",
          "name": "stderr",
          "text": [
            "/usr/local/lib/python3.7/dist-packages/ipykernel_launcher.py:19: DataConversionWarning: A column-vector y was passed when a 1d array was expected. Please change the shape of y to (n_samples,), for example using ravel().\n"
          ]
        },
        {
          "output_type": "stream",
          "name": "stdout",
          "text": [
            "Predicted values are:  [127132.08       316132.32       201387.37       137271.6\n",
            " 212629.18       117476.5        167844.22        83826.\n",
            " 149257.         147549.1        155037.63       105751.27\n",
            " 125622.5        174188.2        187589.32       234159.95\n",
            " 305428.56       111172.         145162.62       221865.91\n",
            " 229590.56       250418.17       179207.05       147225.71\n",
            " 166333.02       132097.16       132752.75       121594.82\n",
            " 201327.5        146729.22       242712.31       114460.29\n",
            " 152839.18       138093.51       263699.85       213593.1\n",
            " 112068.59       214423.87       175864.26       104304.28333333\n",
            "  90574.11       155896.35       108583.61       323204.04\n",
            " 144140.25714286 173887.68       149712.87       111504.86\n",
            " 137640.97       214017.74       264867.8         95548.43\n",
            " 149981.08       171703.02       149955.07238095  86100.61\n",
            " 142748.5        146204.9        154987.32       141666.82\n",
            " 176541.84        94669.         142060.2        120964.33\n",
            " 193410.69       114777.78       174096.57       203504.82\n",
            "  84514.72       116940.58       263925.45       236215.73\n",
            "  91258.04       184422.97       178923.3        449525.24\n",
            " 139220.63       155237.59       237445.83       171973.59\n",
            " 108405.02       229937.2        136491.58       203455.08\n",
            " 214631.03       138626.59       144418.         139050.71\n",
            " 240626.33       196040.85       152738.5        433711.22\n",
            " 135852.5        211616.28       166892.39       169786.9\n",
            " 114314.66       208944.86       114670.58       315489.94\n",
            " 165251.59       118667.28       167494.15        95481.5\n",
            " 169993.74       188316.22       245608.75       131005.\n",
            " 138577.         113557.95       332133.88        94497.\n",
            " 108733.         149908.28       249591.11       171008.65\n",
            " 128624.16       187483.6        165301.82       145482.02\n",
            " 163116.5        157993.87       227185.44       351726.3\n",
            " 119387.55       143061.83       157291.85714286 152510.98\n",
            " 312265.32       312743.51       200449.33       364215.13\n",
            " 203386.16       100181.74       120981.37       135760.05666667\n",
            " 168227.03       130254.52571429 111358.5        154353.4\n",
            " 212169.69       218727.95       124709.59      ]\n"
          ]
        }
      ],
      "source": [
        "#import the Random Forest regressor\n",
        "from sklearn.ensemble import RandomForestRegressor\n",
        " \n",
        "# create the Random Forest regressor object\n",
        "regressor = RandomForestRegressor(n_estimators = 100, random_state = 0)\n",
        "\n",
        "df1=df[cols]\n",
        "#Creating the train datasets\n",
        "X_train = pd.DataFrame(train_raw[cols])\n",
        "Y_train = pd.DataFrame(train_raw['SalePrice'])\n",
        "\n",
        "#Creating the test datasets\n",
        "X_test= pd.DataFrame(test_raw[cols])\n",
        "Y_test= pd.DataFrame(test_raw['SalePrice'])\n",
        "\n",
        "print(X_train)\n",
        "print(Y_train)\n",
        "# fit the regressor with x and y data and assign it to rf_model\n",
        "rf_model=regressor.fit(X_train,Y_train) \n",
        "\n",
        "#predict the value\n",
        "Y_pred_random_forest= rf_model.predict(X_test)\n",
        "print(\"Predicted values are: \",Y_pred_random_forest)\n",
        "\n",
        "\n",
        "\n",
        "\n",
        "\n"
      ]
    },
    {
      "cell_type": "code",
      "source": [
        ""
      ],
      "metadata": {
        "id": "y1_RQO3UQZa1"
      },
      "execution_count": null,
      "outputs": []
    },
    {
      "cell_type": "markdown",
      "metadata": {
        "id": "M_x1pbd4QZtf"
      },
      "source": [
        "<font color='red'>Assignment:</font> Calculate the train/test scores."
      ]
    },
    {
      "cell_type": "code",
      "execution_count": 11,
      "metadata": {
        "ExecuteTime": {
          "end_time": "2022-04-27T04:53:26.613851Z",
          "start_time": "2022-04-27T04:53:26.610403Z"
        },
        "id": "_SlA-EO1QZtf",
        "colab": {
          "base_uri": "https://localhost:8080/"
        },
        "outputId": "5c77effb-3e8c-4400-fcb4-608ec7fd0c21"
      },
      "outputs": [
        {
          "output_type": "stream",
          "name": "stdout",
          "text": [
            "964289742.9483594\n",
            "Random Forest Regressor score for train is: 0.9663458860333919\n",
            "Random Forest Regressor score for test is: 0.8709824974585985\n"
          ]
        }
      ],
      "source": [
        "#Train and test scores for the random forest \n",
        "from sklearn.metrics import mean_squared_error as MSE\n",
        "print(MSE(Y_test, Y_pred_random_forest))\n",
        "\n",
        "print('Random Forest Regressor score for train is:', regressor.score(X_train, Y_train))\n",
        "\n",
        "print('Random Forest Regressor score for test is:', regressor.score(X_test, Y_test))"
      ]
    },
    {
      "cell_type": "markdown",
      "metadata": {
        "id": "7-t0R5OeQZtg"
      },
      "source": [
        "<font color='red'>Assignment:</font> Plot the feature importance in a bar chart."
      ]
    },
    {
      "cell_type": "code",
      "execution_count": 12,
      "metadata": {
        "ExecuteTime": {
          "end_time": "2022-04-24T21:11:50.844184Z",
          "start_time": "2022-04-24T21:11:50.690673Z"
        },
        "id": "35SiZlqFQZtg",
        "colab": {
          "base_uri": "https://localhost:8080/",
          "height": 513
        },
        "outputId": "d467d0f1-c5ea-4ad0-c172-e440a63f7499"
      },
      "outputs": [
        {
          "output_type": "display_data",
          "data": {
            "text/plain": [
              "<Figure size 720x576 with 1 Axes>"
            ],
            "image/png": "[encoded data removed]"
          },
          "metadata": {
            "needs_background": "light"
          }
        }
      ],
      "source": [
        "import pandas as pd\n",
        "import numpy as np\n",
        "import matplotlib.pyplot as plt\n",
        "import seaborn as sns\n",
        "\n",
        "importance = rf_model.feature_importances_\n",
        "names=cols\n",
        "\n",
        "def plot_feature_importance(importance,names,model_type):\n",
        "\n",
        "  #Create arrays from feature importance and feature names\n",
        "  feature_importance = np.array(importance)\n",
        "  feature_names = np.array(names)\n",
        "\n",
        "  #Create a DataFrame using a Dictionary\n",
        "  data={'feature_names':feature_names,'feature_importance':feature_importance}\n",
        "  fi_df = pd.DataFrame(data)\n",
        "\n",
        "  #Sort the DataFrame in order decreasing feature importance\n",
        "  fi_df.sort_values(by=['feature_importance'], ascending=False,inplace=True)\n",
        "\n",
        "  #Define size of bar plot\n",
        "  plt.figure(figsize=(10,8))\n",
        "  #Plot Searborn bar chart\n",
        "  sns.barplot(x=fi_df['feature_importance'], y=fi_df['feature_names'])\n",
        "  #Add chart labels\n",
        "  plt.title(model_type + 'FEATURE IMPORTANCE')\n",
        "  plt.xlabel('FEATURE IMPORTANCE')\n",
        "  plt.ylabel('FEATURE NAMES')\n",
        "\n",
        "  \n",
        "plot_feature_importance(importance,cols,'RANDOM FOREST ')\n",
        "\n",
        "\n"
      ]
    },
    {
      "cell_type": "code",
      "source": [
        ""
      ],
      "metadata": {
        "id": "UnrdRFRpoV0U"
      },
      "execution_count": null,
      "outputs": []
    },
    {
      "cell_type": "markdown",
      "metadata": {
        "id": "O832X54nQZtg"
      },
      "source": [
        "<font color='red'>Question:</font> How does Random Forest work? Why is it better than a single decision tree?"
      ]
    },
    {
      "cell_type": "markdown",
      "source": [
        "random forests are a strong modeling technique and much more robust than a single decision tree. They aggregate many decision trees to limit overfitting as well as error due to bias and therefore yield useful results."
      ],
      "metadata": {
        "id": "lvPwH1ayTOnv"
      }
    },
    {
      "cell_type": "markdown",
      "metadata": {
        "id": "odL4-XJyQZth"
      },
      "source": [
        "<font color='red'>Question:</font> Why is Random Forest better than a single decision tree? How does it decrease model error? How does it affect bias and virance?"
      ]
    },
    {
      "cell_type": "markdown",
      "source": [
        "Random forests are a strong modeling technique and much more robust than a single decision tree. They aggregate many decision trees to limit overfitting as well as error due to bias and therefore yield useful results."
      ],
      "metadata": {
        "id": "2FuDE-AuTSYp"
      }
    },
    {
      "cell_type": "markdown",
      "metadata": {
        "id": "iOuhNz7qQZti"
      },
      "source": [
        "<font color='red'>Question:</font> What is Bagging?"
      ]
    },
    {
      "cell_type": "markdown",
      "source": [
        "Bagging, also known as bootstrap aggregation, is the ensemble learning method that is commonly used to reduce variance within a noisy dataset. In bagging, a random sample of data in a training set is selected with replacement—meaning that the individual data points can be chosen more than once."
      ],
      "metadata": {
        "id": "6SNppBkKTkaT"
      }
    },
    {
      "cell_type": "markdown",
      "source": [
        "After several data samples are generated, these weak models are then trained independently, and depending on the type of task—regression or classification, for example—the average or majority of those predictions yield a more accurate estimate. "
      ],
      "metadata": {
        "id": "M8En6rMaTo6v"
      }
    },
    {
      "cell_type": "markdown",
      "source": [
        ""
      ],
      "metadata": {
        "id": "r5w0cU4tTiMF"
      }
    },
    {
      "cell_type": "markdown",
      "metadata": {
        "id": "i9EqWWYlQZti"
      },
      "source": [
        "<font color='red'>Assignment:</font> Tune hyperparameters with k-fold cross validation to optimize model performance."
      ]
    },
    {
      "cell_type": "code",
      "execution_count": 80,
      "metadata": {
        "ExecuteTime": {
          "end_time": "2022-04-24T21:22:01.299555Z",
          "start_time": "2022-04-24T21:20:53.275869Z"
        },
        "id": "IxekQMUcQZtj",
        "colab": {
          "base_uri": "https://localhost:8080/"
        },
        "outputId": "406c8360-1c6f-4c22-ebf2-4e0d9aafbf32"
      },
      "outputs": [
        {
          "output_type": "stream",
          "name": "stderr",
          "text": [
            "/usr/local/lib/python3.7/dist-packages/sklearn/model_selection/_validation.py:680: DataConversionWarning: A column-vector y was passed when a 1d array was expected. Please change the shape of y to (n_samples,), for example using ravel().\n",
            "  estimator.fit(X_train, y_train, **fit_params)\n",
            "/usr/local/lib/python3.7/dist-packages/sklearn/model_selection/_validation.py:680: DataConversionWarning: A column-vector y was passed when a 1d array was expected. Please change the shape of y to (n_samples,), for example using ravel().\n",
            "  estimator.fit(X_train, y_train, **fit_params)\n",
            "/usr/local/lib/python3.7/dist-packages/sklearn/model_selection/_validation.py:680: DataConversionWarning: A column-vector y was passed when a 1d array was expected. Please change the shape of y to (n_samples,), for example using ravel().\n",
            "  estimator.fit(X_train, y_train, **fit_params)\n",
            "/usr/local/lib/python3.7/dist-packages/sklearn/model_selection/_validation.py:680: DataConversionWarning: A column-vector y was passed when a 1d array was expected. Please change the shape of y to (n_samples,), for example using ravel().\n",
            "  estimator.fit(X_train, y_train, **fit_params)\n",
            "/usr/local/lib/python3.7/dist-packages/sklearn/model_selection/_validation.py:680: DataConversionWarning: A column-vector y was passed when a 1d array was expected. Please change the shape of y to (n_samples,), for example using ravel().\n",
            "  estimator.fit(X_train, y_train, **fit_params)\n"
          ]
        },
        {
          "output_type": "stream",
          "name": "stdout",
          "text": [
            "[0.63684538 0.81399105 0.72878667 0.7532689  0.61768167]\n",
            "0.710114732450795\n"
          ]
        }
      ],
      "source": [
        "from sklearn.model_selection import cross_validate\n",
        "from sklearn.model_selection import KFold\n",
        "\n",
        "k_fold = KFold(n_splits=5)\n",
        "#k_fold.split(X_train, Y_train)\n",
        "\n",
        "#cv = cross_validate(rf_model, X_train, Y_train, cv=5)\n",
        "#print(cv['test_score'])\n",
        "#print(cv['test_score'].mean())\n",
        "\n",
        "cv = cross_validate(rf_model, X_test, Y_test, cv=5)\n",
        "print(cv['test_score'])\n",
        "print(cv['test_score'].mean())\n",
        "\n",
        "\n",
        "\n",
        "\n"
      ]
    },
    {
      "cell_type": "markdown",
      "metadata": {
        "id": "pUk-gr79QZtj"
      },
      "source": [
        "<font color='red'>Question:</font> What are the hyper parameters which can effetively affect model performance? How do they affect the performance respectively?"
      ]
    },
    {
      "cell_type": "code",
      "execution_count": 67,
      "metadata": {
        "ExecuteTime": {
          "end_time": "2022-04-24T21:22:24.928036Z",
          "start_time": "2022-04-24T21:22:24.743310Z"
        },
        "id": "tfPDt-PbQZtj",
        "colab": {
          "base_uri": "https://localhost:8080/"
        },
        "outputId": "948ec3ed-6a9a-4d5b-9883-5e4f330bbd51"
      },
      "outputs": [
        {
          "output_type": "execute_result",
          "data": {
            "text/plain": [
              "{'bootstrap': True,\n",
              " 'ccp_alpha': 0.0,\n",
              " 'criterion': 'squared_error',\n",
              " 'max_depth': None,\n",
              " 'max_features': 'auto',\n",
              " 'max_leaf_nodes': None,\n",
              " 'max_samples': None,\n",
              " 'min_impurity_decrease': 0.0,\n",
              " 'min_samples_leaf': 1,\n",
              " 'min_samples_split': 2,\n",
              " 'min_weight_fraction_leaf': 0.0,\n",
              " 'n_estimators': 100,\n",
              " 'n_jobs': None,\n",
              " 'oob_score': False,\n",
              " 'random_state': 0,\n",
              " 'verbose': 0,\n",
              " 'warm_start': False}"
            ]
          },
          "metadata": {},
          "execution_count": 67
        }
      ],
      "source": [
        "regressor.get_params()"
      ]
    },
    {
      "cell_type": "markdown",
      "source": [
        ""
      ],
      "metadata": {
        "id": "vlFQ6OyDjVnI"
      }
    },
    {
      "cell_type": "code",
      "source": [
        ""
      ],
      "metadata": {
        "id": "o3HEKEgUg4JQ"
      },
      "execution_count": null,
      "outputs": []
    },
    {
      "cell_type": "markdown",
      "source": [
        "The most important hyper-parameters of a Random Forest that can be tuned are:\n",
        "\n",
        "The Nº of Decision Trees in the forest (in Scikit-learn this parameter is called n_estimators)\n",
        "The criteria with which to split on each node (Gini or Entropy for a classification task, or the MSE or MAE for regression)\n",
        "The maximum depth of the individual trees. The larger an individual tree, the more chance it has of overfitting the training data, however, as in Random Forests we have many individual trees, this is not such a big problem.\n",
        "The minimum samples to split on at an internal node of the trees. Playing with this parameter and the previous one we could regularise the individual trees if needed.\n",
        "Maximum number of leaf nodes. In Random Forest this is not so important, but in an individual Decision Tree it can greatly help reduce over-fitting as well and also help increase the explainability of the tree by reducing the possible number of paths to leaf nodes. \n",
        "Number of random features to include at each node for splitting.\n",
        "The size of the bootstrapped dataset to train each Decision Tree with."
      ],
      "metadata": {
        "id": "bQ40iRKqjWbH"
      }
    },
    {
      "cell_type": "markdown",
      "source": [
        "Main parameter: max_features\n",
        "around sqrt(n_features) for classication\n",
        "Around n_features / 3 for regression\n",
        "n_estimators > 100\n",
        "Prepruning might help, denitely helps with model size!\n",
        "max_depth, max_leaf_nodes, min_samples_split again"
      ],
      "metadata": {
        "id": "2hAsJ66_g6IH"
      }
    },
    {
      "cell_type": "markdown",
      "metadata": {
        "id": "pXCUyyTHQZtj"
      },
      "source": [
        "# Gradient Boosting Trees"
      ]
    },
    {
      "cell_type": "code",
      "source": [
        "#Creating the train and test datasets.\n",
        "import pandas as pd\n",
        "X_train = pd.DataFrame(train_raw[cols])\n",
        "Y_train = pd.DataFrame(train_raw['SalePrice'])\n",
        "\n",
        "X_test= pd.DataFrame(test_raw[cols])\n",
        "Y_test= pd.DataFrame(test_raw['SalePrice'])\n",
        "#print(X_train)"
      ],
      "metadata": {
        "id": "Ul1_7EoNa2iq"
      },
      "execution_count": null,
      "outputs": []
    },
    {
      "cell_type": "markdown",
      "metadata": {
        "id": "FSVo0RLRQZtj"
      },
      "source": [
        "<font color='red'>Assignment:</font> Build a model with **GradientBoostingRegressor** to predict **SalePrice**."
      ]
    },
    {
      "cell_type": "code",
      "execution_count": 56,
      "metadata": {
        "ExecuteTime": {
          "end_time": "2022-04-24T23:15:01.590123Z",
          "start_time": "2022-04-24T23:15:01.396509Z"
        },
        "id": "ZE3edGzhQZtk",
        "colab": {
          "base_uri": "https://localhost:8080/"
        },
        "outputId": "62052866-c3b6-4b17-c068-73f940b038f1"
      },
      "outputs": [
        {
          "output_type": "stream",
          "name": "stderr",
          "text": [
            "/usr/local/lib/python3.7/dist-packages/sklearn/ensemble/_gb.py:494: DataConversionWarning: A column-vector y was passed when a 1d array was expected. Please change the shape of y to (n_samples, ), for example using ravel().\n",
            "  y = column_or_1d(y, warn=True)\n"
          ]
        },
        {
          "output_type": "stream",
          "name": "stdout",
          "text": [
            "[134697.70346202 292938.91149577 206174.86062357 140142.55974894\n",
            " 242879.51308407 115855.71118618 154636.4515772  104769.40911548\n",
            " 133345.4565903  145987.74207576 194479.9048068  109453.50848988\n",
            " 107276.16684368 174190.33011735 198663.20554787 262486.52925915\n",
            " 396115.79442315  99881.94633472 171263.482853   249729.47275555\n",
            " 237541.27045685 241834.94640638 191852.02980339 154465.85895234\n",
            " 149435.54568032 121043.08544413 128262.12462752 105866.75769058\n",
            " 177665.20412082 153365.06621336 252158.8555984  104029.30780345\n",
            " 160404.63002992  91599.80826492 255252.2973938  204370.54882238\n",
            " 128315.60107302 275451.02538968 186710.62731894 104976.79596077\n",
            " 110446.67236768 161612.9894391  102355.07340194 325820.03917537\n",
            " 144120.44710225 151115.59894336 154959.67128061 109814.36481634\n",
            " 140831.41302215 228138.08512695 258383.32419527  98279.97740122\n",
            " 167030.28945095 188345.71968755 138910.67771233  80417.21174872\n",
            " 133876.63531821 138441.0298175  159640.25136775 152136.5428037\n",
            " 193750.46529835 104976.79596077 143668.96220147 113914.84517704\n",
            " 206472.20985848 132506.88326036 177130.12388528 216578.22300448\n",
            "  85366.11376555 121985.25460169 248824.03507861 242316.32962884\n",
            " 105896.80310573 172851.0975     178636.91605186 438725.33467137\n",
            " 147309.3576078  144615.11156134 235432.82426163 155697.21015987\n",
            " 118058.83701702 220954.13962812 129315.6039996  175886.15158904\n",
            " 198829.89921336 133732.41672192 135321.41599509 128965.57447953\n",
            " 214211.41010463 182804.96080258 155432.43543584 354419.92281158\n",
            " 117775.97666246 224526.70748402 191983.26131445 158011.90312118\n",
            " 101875.76870484 207223.46647769 109814.36481634 339276.17149257\n",
            " 184751.84630562 110685.22262732 161823.3826138   93016.17874376\n",
            " 168634.47327772 164477.81659852 270177.44890318 123647.22500417\n",
            " 132717.27643505 112381.57376482 338066.6901871   93214.25702553\n",
            " 111653.43333885 144937.26436909 259552.7775117  181195.05776219\n",
            " 137263.2238942  196354.60485838 160587.28886776 154005.50626552\n",
            " 166363.99376439 154320.68187785 285906.11568087 343159.25557637\n",
            " 120765.43444744 139463.13879412 200748.51521639 136119.17514992\n",
            " 317380.70016221 305074.79773755 208791.58906453 406147.06374479\n",
            " 212833.789773   109814.36481634 137155.35031457 126306.67884646\n",
            " 192444.90969752 146598.81667729 110681.87404934 185024.45406365\n",
            " 244944.33595726 231766.60872255 114010.13824453]\n",
            "RMSE test set: 36690.53\n"
          ]
        }
      ],
      "source": [
        "#import the regressor\n",
        "from sklearn.ensemble import GradientBoostingRegressor\n",
        "from sklearn.metrics import mean_squared_error as MSE\n",
        "\n",
        "# Instantiate Gradient Boosting Regressor\n",
        "gbr = GradientBoostingRegressor(n_estimators = 200, max_depth = 1)#random_state = SEED)\n",
        "  \n",
        "# Fit to training set\n",
        "gbr_model=gbr.fit(X_train, Y_train)\n",
        "  \n",
        "# Predict on test set\n",
        "Y_pred = gbr.predict(X_test)\n",
        "Y_pred_gbr = gbr_model.predict(X_test)\n",
        "\n",
        "#print(Y_pred)\n",
        "print(Y_pred_gbr)\n",
        "  \n",
        "# test set RMSE\n",
        "test_rmse = MSE(Y_test, Y_pred) ** (1 / 2)\n",
        "  \n",
        "# Print rmse\n",
        "print('RMSE test set: {:.2f}'.format(test_rmse))\n"
      ]
    },
    {
      "cell_type": "markdown",
      "metadata": {
        "id": "itc7hdNxQZtk"
      },
      "source": [
        "<font color='red'>Assignment:</font> Calculate the train/test scores."
      ]
    },
    {
      "cell_type": "code",
      "execution_count": 20,
      "metadata": {
        "ExecuteTime": {
          "end_time": "2022-04-24T23:15:39.751503Z",
          "start_time": "2022-04-24T23:15:39.737560Z"
        },
        "id": "Rk7IJAWqQZtk",
        "colab": {
          "base_uri": "https://localhost:8080/"
        },
        "outputId": "ebbad010-11a3-43aa-970b-7687e3c9e4cc"
      },
      "outputs": [
        {
          "output_type": "stream",
          "name": "stdout",
          "text": [
            "MSE:  1401914344.7287495\n",
            "MAE:  24816.28431657663\n",
            "R2 : 0.8124303521254452\n",
            "Random Forest Regressor score for train is: 0.8343004653564616\n",
            "Random Forest Regressor score for test is: 0.8124303521254452\n"
          ]
        }
      ],
      "source": [
        "#Train and test scores for the random forest \n",
        "from sklearn.metrics import mean_squared_error as MSE\n",
        "print(\"MSE: \",MSE(Y_test, Y_pred_gbr))\n",
        "\n",
        "#MAE\n",
        "from sklearn.metrics import mean_absolute_error as MAE\n",
        "print(\"MAE: \",MAE(Y_test, Y_pred_gbr))\n",
        "\n",
        "#R2 SCORE\n",
        "from sklearn.metrics import r2_score as r2\n",
        "print(\"R2 :\",r2(Y_test, Y_pred_gbr))\n",
        "\n",
        "print('Random Forest Regressor score for train is:', gbr.score(X_train, Y_train))\n",
        "\n",
        "print('Random Forest Regressor score for test is:', gbr.score(X_test, Y_test))\n",
        "\n"
      ]
    },
    {
      "cell_type": "markdown",
      "metadata": {
        "id": "zoaVSi6TQZtk"
      },
      "source": [
        "<font color='red'>Assignment:</font> Plot the feature importance in a bar chart."
      ]
    },
    {
      "cell_type": "code",
      "execution_count": 21,
      "metadata": {
        "ExecuteTime": {
          "end_time": "2022-04-24T23:17:22.715492Z",
          "start_time": "2022-04-24T23:17:22.584745Z"
        },
        "id": "SccLEPOyQZtk",
        "colab": {
          "base_uri": "https://localhost:8080/",
          "height": 566
        },
        "outputId": "ad6abddd-8d25-46c3-cceb-56266141fbdc"
      },
      "outputs": [
        {
          "output_type": "display_data",
          "data": {
            "text/plain": [
              "array([0.00272167, 0.01279908, 0.06853511, 0.        , 0.00352729,\n",
              "       0.25694181, 0.01223006, 0.05784833, 0.00815615, 0.34186608,\n",
              "       0.        , 0.20089226, 0.03448216])"
            ]
          },
          "metadata": {}
        },
        {
          "output_type": "display_data",
          "data": {
            "text/plain": [
              "<Figure size 720x576 with 1 Axes>"
            ],
            "image/png": "[encoded data removed]"
          },
          "metadata": {
            "needs_background": "light"
          }
        }
      ],
      "source": [
        "import pandas as pd\n",
        "import numpy as np\n",
        "import matplotlib.pyplot as plt\n",
        "import seaborn as sns\n",
        "\n",
        "importance = gbr_model.feature_importances_\n",
        "names=cols\n",
        "display(importance)\n",
        "def plot_feature_importance(importance,names,model_type):\n",
        "\n",
        "  #Create arrays from feature importance and feature names\n",
        "  feature_importance = np.array(importance)\n",
        "  feature_names = np.array(names)\n",
        "\n",
        "  #Create a DataFrame using a Dictionary\n",
        "  data={'feature_names':feature_names,'feature_importance':feature_importance}\n",
        "  fi_df = pd.DataFrame(data)\n",
        "\n",
        "  #Sort the DataFrame in order of decreasing feature importance\n",
        "  fi_df.sort_values(by=['feature_importance'], ascending=False,inplace=True)\n",
        "\n",
        "  #Define size of bar plot\n",
        "  plt.figure(figsize=(10,8))\n",
        "  #Plot Searborn bar chart\n",
        "  sns.barplot(x=fi_df['feature_importance'], y=fi_df['feature_names'])\n",
        "  #Add chart labels\n",
        "  plt.title(model_type + 'FEATURE IMPORTANCE')\n",
        "  plt.xlabel('FEATURE IMPORTANCE')\n",
        "  plt.ylabel('FEATURE NAMES')\n",
        "\n",
        "  \n",
        "plot_feature_importance(importance,cols,'GBR ')\n",
        "\n"
      ]
    },
    {
      "cell_type": "markdown",
      "metadata": {
        "id": "VDC8KketQZtk"
      },
      "source": [
        "<font color='red'>Question:</font> How does gradient boosting tree work? "
      ]
    },
    {
      "cell_type": "markdown",
      "source": [
        "Gradient boosting works by building simpler (weak) prediction models sequentially where each model tries to predict the error left over by the previous model. Because of this, the algorithm tends to overfit rather quick"
      ],
      "metadata": {
        "id": "CCbviAyxSTe2"
      }
    },
    {
      "cell_type": "markdown",
      "metadata": {
        "id": "XKaqy3uJQZtl"
      },
      "source": [
        "<font color='red'>Question:</font> What is boosting?"
      ]
    },
    {
      "cell_type": "markdown",
      "source": [
        "Boosting is an ensemble learning method that combines a set of weak learners into a strong learner to minimize training errors. \n",
        "In boosting, a random sample of data is selected, fitted with a model and then trained sequentially—that is, each model tries to compensate for the weaknesses of its predecessor. \n",
        "With each iteration, the weak rules from each individual classifier are combined to form one, strong prediction rule. "
      ],
      "metadata": {
        "id": "ZjsX1TE9cV1p"
      }
    },
    {
      "cell_type": "markdown",
      "metadata": {
        "id": "Otu0IGZvQZtl"
      },
      "source": [
        "<font color='red'>Question:</font> Compare gradient boosting trees and random forest. What are the pros and cons of these two models?"
      ]
    },
    {
      "cell_type": "markdown",
      "source": [
        " GBT build trees one at a time, where each new tree helps to correct errors made by previously trained tree."
      ],
      "metadata": {
        "id": "IPN9MDF-WiJV"
      }
    },
    {
      "cell_type": "markdown",
      "source": [
        "**Pros of the model** (Gradient Boosting Trees)\n",
        "Since boosted trees are derived by optimizing an objective function, basically GBM can be used to solve almost all objective function that we can write gradient out. This including things like ranking and poission regression, which RF is harder to achieve.\n",
        "\n",
        "**Cons of the model** (Gradient Boosting Trees)\n",
        "GBMs are more sensitive to overfitting if the data is noisy.\n",
        "Training generally takes longer because of the fact that trees are built sequentially.\n",
        "GBMs are harder to tune than RF. There are typically three parameters: number of trees, depth of trees and learning rate, and each tree built is generally shallow.\n"
      ],
      "metadata": {
        "id": "16BEpoZoWoom"
      }
    },
    {
      "cell_type": "markdown",
      "source": [
        "Gradient Boosting\n",
        "Slower to train than RF (serial), but much faster to predict\n",
        "Small model size\n",
        "Typically more accurate than Random Forests"
      ],
      "metadata": {
        "id": "5uk0ONvtW2Vl"
      }
    },
    {
      "cell_type": "markdown",
      "source": [
        "**Random Forest**: RFs train each tree independently, using a random sample of the data. This randomness helps to make the model more robust than a single decision tree, and less likely to overfit on the training data."
      ],
      "metadata": {
        "id": "9l1TUfq-W2cK"
      }
    },
    {
      "cell_type": "markdown",
      "source": [
        "**Pros of the model**Random Forest **bold text**\n",
        "RF is much easier to tune than GBM. There are typically two parameters in RF: number of trees and number of features to be selected at each node.\n",
        "RF is harder to overfit than GBM.\n",
        "\n",
        "**Weaknesses of the model (Random Forest) **bold text**\n",
        "The main limitation of the Random Forests algorithm is that a large number of trees may make the algorithm slow for real-time prediction.\n",
        "For data including categorical variables with different number of levels, random forests are biased in favor of those attributes with more levels. Therefore, the variable importance scores from random forest are not reliable for this type of data. Methods such as partial permutations were used to solve the problem [7].\n",
        "If the data contain groups of correlated features of similar relevance for the output, then smaller groups are favored over larger groups [7].\n"
      ],
      "metadata": {
        "id": "GyYD54vDXKDB"
      }
    },
    {
      "cell_type": "markdown",
      "source": [
        "#When to use tree based models\n",
        "\n",
        "Model non-linear relationships\n",
        "Doesn’t care about scaling, no need for feature engineering\n",
        "Single tree: very interpretable (if small)\n",
        "Random forests very robust, good benchmark\n",
        "Gradient boosting often best performance with careful tuning"
      ],
      "metadata": {
        "id": "mMPqCmZeh7vK"
      }
    },
    {
      "cell_type": "markdown",
      "source": [
        ""
      ],
      "metadata": {
        "id": "YA4wvenuWheQ"
      }
    },
    {
      "cell_type": "markdown",
      "metadata": {
        "id": "ee3nxMX4QZtl"
      },
      "source": [
        "<font color='red'>Assignment:</font> Tune hyperparameters to optimize model performance."
      ]
    },
    {
      "cell_type": "code",
      "execution_count": 61,
      "metadata": {
        "ExecuteTime": {
          "end_time": "2022-04-24T23:33:35.844261Z",
          "start_time": "2022-04-24T23:33:04.610303Z"
        },
        "id": "aqGq3T-hQZtl",
        "colab": {
          "base_uri": "https://localhost:8080/"
        },
        "outputId": "e9662b60-429f-4c66-c57c-87d6cc949384"
      },
      "outputs": [
        {
          "output_type": "stream",
          "name": "stdout",
          "text": [
            "{'alpha': 0.9, 'ccp_alpha': 0.0, 'criterion': 'friedman_mse', 'init': None, 'learning_rate': 0.1, 'loss': 'squared_error', 'max_depth': 1, 'max_features': None, 'max_leaf_nodes': None, 'min_impurity_decrease': 0.0, 'min_samples_leaf': 1, 'min_samples_split': 2, 'min_weight_fraction_leaf': 0.0, 'n_estimators': 200, 'n_iter_no_change': None, 'random_state': None, 'subsample': 1.0, 'tol': 0.0001, 'validation_fraction': 0.1, 'verbose': 0, 'warm_start': False}\n"
          ]
        }
      ],
      "source": [
        "print(gbr.get_params())"
      ]
    },
    {
      "cell_type": "markdown",
      "source": [
        "Pick n_estimators, tune learning rate\n",
        "Can also tune max_features\n",
        "Typically strong pruning via max_depth"
      ],
      "metadata": {
        "id": "8eCgP05ShwuP"
      }
    },
    {
      "cell_type": "markdown",
      "metadata": {
        "id": "yFp6U6oUQZtm"
      },
      "source": [
        "<font color='red'>Question:</font> What are the hyper parameters which can effetively affect model performance? How do they affect the performance respectively?"
      ]
    },
    {
      "cell_type": "code",
      "execution_count": 64,
      "metadata": {
        "ExecuteTime": {
          "end_time": "2022-04-27T04:55:33.140345Z",
          "start_time": "2022-04-27T04:55:33.039154Z"
        },
        "id": "9NK7Q5oLQZtm",
        "colab": {
          "base_uri": "https://localhost:8080/"
        },
        "outputId": "a9795894-f252-4463-9d66-a96012f2cd9a"
      },
      "outputs": [
        {
          "output_type": "execute_result",
          "data": {
            "text/plain": [
              "{'alpha': 0.9,\n",
              " 'ccp_alpha': 0.0,\n",
              " 'criterion': 'friedman_mse',\n",
              " 'init': None,\n",
              " 'learning_rate': 0.1,\n",
              " 'loss': 'squared_error',\n",
              " 'max_depth': 1,\n",
              " 'max_features': None,\n",
              " 'max_leaf_nodes': None,\n",
              " 'min_impurity_decrease': 0.0,\n",
              " 'min_samples_leaf': 1,\n",
              " 'min_samples_split': 2,\n",
              " 'min_weight_fraction_leaf': 0.0,\n",
              " 'n_estimators': 200,\n",
              " 'n_iter_no_change': None,\n",
              " 'random_state': None,\n",
              " 'subsample': 1.0,\n",
              " 'tol': 0.0001,\n",
              " 'validation_fraction': 0.1,\n",
              " 'verbose': 0,\n",
              " 'warm_start': False}"
            ]
          },
          "metadata": {},
          "execution_count": 64
        }
      ],
      "source": [
        "gbr.get_params()"
      ]
    },
    {
      "cell_type": "markdown",
      "source": [
        "\n",
        "Boosting uses three main tuning parameters: the number of trees, a shrinkage parameter and the number of splits per tree\n",
        "\n",
        "\n",
        "The number of weak learners for ensemble learning can be specified by the parameter n_estimators.  Also, the size of each weak learner can be pre-determined two different ways: by specifying tree depth (max_depth) or setting the number of leaf nodes (max_leaf_nodes). The learning rate is the shrinkage parameter, which controls overfitting and ranges between 0.0 and 1.0.  Regression trees are first grown as the base learner, and subsequent tree ensembles are grown using the errors of the prior tree.\n",
        "\n",
        "A simple GBM model contains two categories of hyperparameters: boosting hyperparameters and tree-specific hyperparameters."
      ],
      "metadata": {
        "id": "OfMQzbCnkKgo"
      }
    },
    {
      "cell_type": "markdown",
      "metadata": {
        "id": "i1QC5XUtQZtm"
      },
      "source": [
        "# XGBoost"
      ]
    },
    {
      "cell_type": "markdown",
      "metadata": {
        "id": "H0DiIBEiQZtm"
      },
      "source": [
        "<font color='red'>Assignment:</font> Build a model with **XGBRegressor** to predict **SalePrice**."
      ]
    },
    {
      "cell_type": "code",
      "execution_count": 22,
      "metadata": {
        "ExecuteTime": {
          "end_time": "2022-04-24T23:48:14.331480Z",
          "start_time": "2022-04-24T23:48:14.037896Z"
        },
        "colab": {
          "base_uri": "https://localhost:8080/"
        },
        "id": "kHDeTgcwQZtm",
        "outputId": "8703a7dd-4568-4aa5-d3d1-0308745514ae"
      },
      "outputs": [
        {
          "output_type": "stream",
          "name": "stdout",
          "text": [
            "[23:37:48] WARNING: /workspace/src/objective/regression_obj.cu:152: reg:linear is now deprecated in favor of reg:squarederror.\n"
          ]
        },
        {
          "output_type": "execute_result",
          "data": {
            "text/plain": [
              "array([132812.05 , 309763.06 , 201166.36 , 140691.1  , 219723.28 ,\n",
              "       114845.26 , 172819.95 ,  91963.65 , 142542.75 , 144468.16 ,\n",
              "       144258.89 , 108667.695, 116947.61 , 177923.97 , 191506.39 ,\n",
              "       258220.66 , 302756.8  , 105700.55 , 147467.84 , 246458.25 ,\n",
              "       220893.39 , 247620.5  , 189959.94 , 148108.   , 161643.78 ,\n",
              "       125107.33 , 132654.84 , 109804.37 , 194650.31 , 147152.98 ,\n",
              "       258170.88 , 107915.84 , 163591.27 , 115112.72 , 271803.1  ,\n",
              "       217414.97 , 123084.37 , 268524.34 , 180111.75 , 103316.39 ,\n",
              "        97642.24 , 158825.88 , 101709.01 , 305374.66 , 137791.02 ,\n",
              "       165814.39 , 151561.53 , 113227.984, 140691.1  , 240246.86 ,\n",
              "       272191.3  ,  99094.87 , 159712.47 , 182767.55 , 140017.1  ,\n",
              "        75260.19 , 134407.52 , 136919.48 , 153109.66 , 161120.42 ,\n",
              "       182881.83 ,  95642.97 , 139437.5  , 116714.086, 185443.73 ,\n",
              "       116731.21 , 190894.27 , 211260.98 ,  87050.63 , 122397.84 ,\n",
              "       263071.47 , 230179.98 ,  92534.9  , 189621.45 , 182925.5  ,\n",
              "       367707.9  , 146803.33 , 152844.53 , 243748.7  , 169856.84 ,\n",
              "       108027.516, 215661.88 , 134826.55 , 187738.19 , 202731.02 ,\n",
              "       139201.62 , 140140.3  , 140249.03 , 236786.77 , 196385.9  ,\n",
              "       152233.48 , 362343.06 , 133364.38 , 223163.69 , 168774.5  ,\n",
              "       175770.08 , 110795.25 , 213532.14 , 106853.02 , 324900.66 ,\n",
              "       179468.73 , 100137.15 , 161502.14 ,  85113.19 , 168372.62 ,\n",
              "       171176.02 , 250677.16 , 132841.11 , 129441.766, 112836.82 ,\n",
              "       341945.28 ,  90390.19 , 112006.766, 151854.39 , 259480.89 ,\n",
              "       183462.75 , 131819.52 , 197441.97 , 166626.66 , 142971.02 ,\n",
              "       174271.27 , 166481.   , 240197.56 , 359178.97 , 114984.47 ,\n",
              "       143418.19 , 143894.9  , 153614.44 , 315285.8  , 311771.4  ,\n",
              "       209239.02 , 440227.62 , 195333.42 , 110938.62 , 125948.28 ,\n",
              "       129547.6  , 174992.45 , 146349.75 , 110175.83 , 176477.62 ,\n",
              "       257618.06 , 224891.28 , 133611.22 ], dtype=float32)"
            ]
          },
          "metadata": {},
          "execution_count": 22
        }
      ],
      "source": [
        "#import the regressor\n",
        "from xgboost import XGBRegressor\n",
        "\n",
        "#create a regressor object\n",
        "regressor_boost = XGBRegressor()\n",
        "\n",
        "x_gbr_model=regressor_boost.fit(X_train, Y_train)\n",
        "\n",
        "Y_pred_x_gbr = x_gbr_model.predict(X_test)\n",
        "\n",
        "Y_pred_x_gbr"
      ]
    },
    {
      "cell_type": "code",
      "execution_count": null,
      "metadata": {
        "ExecuteTime": {
          "end_time": "2022-04-24T23:48:55.166337Z",
          "start_time": "2022-04-24T23:48:55.009781Z"
        },
        "id": "cN_6J9KOQZtn"
      },
      "outputs": [],
      "source": [
        ""
      ]
    },
    {
      "cell_type": "markdown",
      "metadata": {
        "id": "XGzVgzfIQZtn"
      },
      "source": [
        "<font color='red'>Assignment:</font> Calculate the train/test scores."
      ]
    },
    {
      "cell_type": "code",
      "execution_count": 55,
      "metadata": {
        "ExecuteTime": {
          "end_time": "2022-04-24T23:49:29.366272Z",
          "start_time": "2022-04-24T23:49:29.355288Z"
        },
        "id": "GFUN5St0QZtn",
        "colab": {
          "base_uri": "https://localhost:8080/"
        },
        "outputId": "8189e4ef-89ef-4290-d90a-59f227c0c6bb"
      },
      "outputs": [
        {
          "output_type": "stream",
          "name": "stdout",
          "text": [
            "MSE:  1401914344.7287495\n",
            "MAE:  24816.28431657663\n",
            "R2:  0.8124303521254452\n",
            "Random Forest Regressor score for train is:  0.9082407560187724\n",
            "Random Forest Regressor score for test is: 0.8134990328366796\n"
          ]
        }
      ],
      "source": [
        "#Train and test scores for the random forest \n",
        "from sklearn.metrics import mean_squared_error as MSE\n",
        "print(\"MSE: \",MSE(Y_test, Y_pred_gbr))\n",
        "\n",
        "from sklearn.metrics import mean_absolute_error as MAE\n",
        "print(\"MAE: \",MAE(Y_test, Y_pred_gbr))\n",
        "\n",
        "from sklearn.metrics import r2_score as R2\n",
        "print(\"R2: \",R2(Y_test, Y_pred_gbr))\n",
        "\n",
        "#x_gbr_model.score((X_train, Y_train))\n",
        "\n",
        "print(f'Random Forest Regressor score for train is:  {regressor_boost.score(X_train, Y_train)}')\n",
        "\n",
        "print('Random Forest Regressor score for test is:', regressor_boost.score(X_test, Y_test))\n",
        "\n",
        "\n"
      ]
    },
    {
      "cell_type": "markdown",
      "metadata": {
        "id": "OqdBpc4nQZtn"
      },
      "source": [
        "<font color='red'>Assignment:</font> Plot the feature importance in a bar chart."
      ]
    },
    {
      "cell_type": "code",
      "execution_count": 33,
      "metadata": {
        "ExecuteTime": {
          "end_time": "2022-04-24T23:57:19.110377Z",
          "start_time": "2022-04-24T23:57:18.829366Z"
        },
        "id": "Bigc5XBBQZtn",
        "colab": {
          "base_uri": "https://localhost:8080/",
          "height": 566
        },
        "outputId": "f3401f38-53f4-4e6c-81e4-63f70c71aa7e"
      },
      "outputs": [
        {
          "output_type": "display_data",
          "data": {
            "text/plain": [
              "array([0.00886068, 0.02592081, 0.04270709, 0.0094418 , 0.00843205,\n",
              "       0.30204538, 0.03123013, 0.11610133, 0.00610578, 0.15615954,\n",
              "       0.01274473, 0.24078858, 0.0394622 ], dtype=float32)"
            ]
          },
          "metadata": {}
        },
        {
          "output_type": "display_data",
          "data": {
            "text/plain": [
              "<Figure size 720x576 with 1 Axes>"
            ],
            "image/png": "[encoded data removed]"
          },
          "metadata": {
            "needs_background": "light"
          }
        }
      ],
      "source": [
        "import pandas as pd\n",
        "import numpy as np\n",
        "import matplotlib.pyplot as plt\n",
        "import seaborn as sns\n",
        "\n",
        "importance = x_gbr_model.feature_importances_\n",
        "names=cols\n",
        "display(importance)\n",
        "def plot_feature_importance(importance,names,model_type):\n",
        "\n",
        "  #Create arrays from feature importance and feature names\n",
        "  feature_importance = np.array(importance)\n",
        "  feature_names = np.array(names)\n",
        "\n",
        "  #Create a DataFrame using a Dictionary\n",
        "  data={'feature_names':feature_names,'feature_importance':feature_importance}\n",
        "  fi_df = pd.DataFrame(data)\n",
        "\n",
        "  #Sort the DataFrame in order of decreasing feature importance\n",
        "  fi_df.sort_values(by=['feature_importance'], ascending=False,inplace=True)\n",
        "\n",
        "  #Define size of bar plot\n",
        "  plt.figure(figsize=(10,8))\n",
        "  #Plot Searborn bar chart\n",
        "  sns.barplot(x=fi_df['feature_importance'], y=fi_df['feature_names'])\n",
        "  #Add chart labels\n",
        "  plt.title(model_type + 'FEATURE IMPORTANCE')\n",
        "  plt.xlabel('FEATURE IMPORTANCE')\n",
        "  plt.ylabel('FEATURE NAMES')\n",
        "\n",
        "  \n",
        "plot_feature_importance(importance,cols,'GBR ')"
      ]
    },
    {
      "cell_type": "markdown",
      "metadata": {
        "id": "dSo2xTuRQZtn"
      },
      "source": [
        "<font color='red'>Assignment:</font> Tune hyperparameters to optimize model performance."
      ]
    },
    {
      "cell_type": "code",
      "execution_count": 58,
      "metadata": {
        "id": "Oiwon9qOQZtn"
      },
      "outputs": [],
      "source": [
        "params={ 'objective':'reg:squarederror',\n",
        "         'max_depth': 6, \n",
        "         'colsample_bylevel':0.5,\n",
        "         'learning_rate':0.01,\n",
        "         'random_state':20}\n",
        "#cv_results = regressor_boost.cv(dtrain=X_train, params=params, nfold=10, metrics={'rmse'}, as_pandas=True, seed=20, num_boost_round=1000)\n",
        "#print('RMSE: %.2f' % cv_results['test-rmse-mean'].min())"
      ]
    },
    {
      "cell_type": "markdown",
      "metadata": {
        "id": "z-yo-RWoQZto"
      },
      "source": [
        "<font color='red'>Question:</font> What are the hyper parameters which can effetively affect model performance? How do they affect the performance respectively?"
      ]
    },
    {
      "cell_type": "markdown",
      "source": [
        "First focus on optimizing max_depth and n_estimators.\n",
        "\n",
        "\n",
        "Then play along with the learning_rate"
      ],
      "metadata": {
        "id": "GVmmuFc0boRt"
      }
    },
    {
      "cell_type": "code",
      "source": [
        "regressor_boost.get_params()\n",
        "\n"
      ],
      "metadata": {
        "colab": {
          "base_uri": "https://localhost:8080/"
        },
        "id": "IdNJOzUlXfeR",
        "outputId": "684d41d1-8ae8-4ff5-f509-5bb44f8225f2"
      },
      "execution_count": 63,
      "outputs": [
        {
          "output_type": "execute_result",
          "data": {
            "text/plain": [
              "{'base_score': 0.5,\n",
              " 'booster': 'gbtree',\n",
              " 'colsample_bylevel': 1,\n",
              " 'colsample_bynode': 1,\n",
              " 'colsample_bytree': 1,\n",
              " 'gamma': 0,\n",
              " 'importance_type': 'gain',\n",
              " 'learning_rate': 0.1,\n",
              " 'max_delta_step': 0,\n",
              " 'max_depth': 3,\n",
              " 'min_child_weight': 1,\n",
              " 'missing': None,\n",
              " 'n_estimators': 100,\n",
              " 'n_jobs': 1,\n",
              " 'nthread': None,\n",
              " 'objective': 'reg:linear',\n",
              " 'random_state': 0,\n",
              " 'reg_alpha': 0,\n",
              " 'reg_lambda': 1,\n",
              " 'scale_pos_weight': 1,\n",
              " 'seed': None,\n",
              " 'silent': None,\n",
              " 'subsample': 1,\n",
              " 'verbosity': 1}"
            ]
          },
          "metadata": {},
          "execution_count": 63
        }
      ]
    },
    {
      "cell_type": "markdown",
      "source": [
        "For XGBoost, we’ll optimize n_estimators, max_depth, reg_alpha, reg_lambda, min_child_weight, num_boost_round, and gamma."
      ],
      "metadata": {
        "id": "HmmXQxkojv3g"
      }
    },
    {
      "cell_type": "markdown",
      "metadata": {
        "id": "suH0R3Z5QZto"
      },
      "source": [
        "<font color='red'>Question:</font> What is the relationship and difference between Xgboost and gradient boosting trees? Why Xgboost performs better than graident boosting trees?"
      ]
    },
    {
      "cell_type": "markdown",
      "source": [
        "XGBoost vs Gradient Boosting\n",
        "XGBoost is a more regularized form of Gradient Boosting. XGBoost uses advanced regularization (L1 & L2), which improves model generalization capabilities. XGBoost delivers high performance as compared to Gradient Boosting. Its training is very fast and can be parallelized across clusters."
      ],
      "metadata": {
        "id": "PQjQYvooVuI8"
      }
    }
  ],
  "metadata": {
    "kernelspec": {
      "display_name": "Python 3",
      "language": "python",
      "name": "python3"
    },
    "language_info": {
      "codemirror_mode": {
        "name": "ipython",
        "version": 3
      },
      "file_extension": ".py",
      "mimetype": "text/x-python",
      "name": "python",
      "nbconvert_exporter": "python",
      "pygments_lexer": "ipython3",
      "version": "3.7.7"
    },
    "colab": {
      "name": "HW5.2.ipynb",
      "provenance": [],
      "collapsed_sections": []
    }
  },
  "nbformat": 4,
  "nbformat_minor": 0
}