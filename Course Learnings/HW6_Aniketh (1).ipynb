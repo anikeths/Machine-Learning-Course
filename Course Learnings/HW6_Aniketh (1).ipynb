{
  "cells": [
    {
      "cell_type": "code",
      "execution_count": 2,
      "metadata": {
        "ExecuteTime": {
          "end_time": "2022-05-04T05:03:24.414338Z",
          "start_time": "2022-05-04T05:03:23.771811Z"
        },
        "id": "SPvn6t8LET9K"
      },
      "outputs": [],
      "source": [
        "import pandas as pd\n",
        "df = pd.read_csv('ionosphere.csv',  header=None)"
      ]
    },
    {
      "cell_type": "code",
      "execution_count": 9,
      "metadata": {
        "ExecuteTime": {
          "end_time": "2022-05-04T05:03:24.419508Z",
          "start_time": "2022-05-04T05:03:24.416364Z"
        },
        "id": "2p1sT2LhET9N"
      },
      "outputs": [],
      "source": [
        "df.columns = [f'V{i}' for i in range(1,35)]+['class']"
      ]
    },
    {
      "cell_type": "code",
      "execution_count": null,
      "metadata": {
        "ExecuteTime": {
          "end_time": "2022-05-04T05:03:24.453250Z",
          "start_time": "2022-05-04T05:03:24.421860Z"
        },
        "id": "VA3noJA6ET9O",
        "outputId": "00967a5a-4980-4f29-d570-8b8bbbb98443",
        "colab": {
          "base_uri": "https://localhost:8080/",
          "height": 468
        }
      },
      "outputs": [
        {
          "output_type": "execute_result",
          "data": {
            "text/plain": [
              "     V1  V2       V3       V4       V5       V6       V7       V8       V9  \\\n",
              "0     1   0  0.99539 -0.05889  0.85243  0.02306  0.83398 -0.37708  1.00000   \n",
              "1     1   0  1.00000 -0.18829  0.93035 -0.36156 -0.10868 -0.93597  1.00000   \n",
              "2     1   0  1.00000 -0.03365  1.00000  0.00485  1.00000 -0.12062  0.88965   \n",
              "3     1   0  1.00000 -0.45161  1.00000  1.00000  0.71216 -1.00000  0.00000   \n",
              "4     1   0  1.00000 -0.02401  0.94140  0.06531  0.92106 -0.23255  0.77152   \n",
              "..   ..  ..      ...      ...      ...      ...      ...      ...      ...   \n",
              "346   1   0  0.83508  0.08298  0.73739 -0.14706  0.84349 -0.05567  0.90441   \n",
              "347   1   0  0.95113  0.00419  0.95183 -0.02723  0.93438 -0.01920  0.94590   \n",
              "348   1   0  0.94701 -0.00034  0.93207 -0.03227  0.95177 -0.03431  0.95584   \n",
              "349   1   0  0.90608 -0.01657  0.98122 -0.01989  0.95691 -0.03646  0.85746   \n",
              "350   1   0  0.84710  0.13533  0.73638 -0.06151  0.87873  0.08260  0.88928   \n",
              "\n",
              "         V10  ...      V26      V27      V28      V29      V30      V31  \\\n",
              "0    0.03760  ... -0.51171  0.41078 -0.46168  0.21266 -0.34090  0.42267   \n",
              "1   -0.04549  ... -0.26569 -0.20468 -0.18401 -0.19040 -0.11593 -0.16626   \n",
              "2    0.01198  ... -0.40220  0.58984 -0.22145  0.43100 -0.17365  0.60436   \n",
              "3    0.00000  ...  0.90695  0.51613  1.00000  1.00000 -0.20099  0.25682   \n",
              "4   -0.16399  ... -0.65158  0.13290 -0.53206  0.02431 -0.62197 -0.05707   \n",
              "..       ...  ...      ...      ...      ...      ...      ...      ...   \n",
              "346 -0.04622  ... -0.04202  0.83479  0.00123  1.00000  0.12815  0.86660   \n",
              "347  0.01606  ...  0.01361  0.93522  0.04925  0.93159  0.08168  0.94066   \n",
              "348  0.02446  ...  0.03193  0.92489  0.02542  0.92120  0.02242  0.92459   \n",
              "349  0.00110  ... -0.02099  0.89147 -0.07760  0.82983 -0.17238  0.96022   \n",
              "350 -0.09139  ... -0.15114  0.81147 -0.04822  0.78207 -0.00703  0.75747   \n",
              "\n",
              "         V32      V33      V34  class  \n",
              "0   -0.54487  0.18641 -0.45300      g  \n",
              "1   -0.06288 -0.13738 -0.02447      b  \n",
              "2   -0.24180  0.56045 -0.38238      g  \n",
              "3    1.00000 -0.32382  1.00000      b  \n",
              "4   -0.59573 -0.04608 -0.65697      g  \n",
              "..       ...      ...      ...    ...  \n",
              "346 -0.10714  0.90546 -0.04307      g  \n",
              "347 -0.00035  0.91483  0.04712      g  \n",
              "348  0.00442  0.92697 -0.00577      g  \n",
              "349 -0.03757  0.87403 -0.16243      g  \n",
              "350 -0.06678  0.85764 -0.06151      g  \n",
              "\n",
              "[351 rows x 35 columns]"
            ],
            "text/html": [
              "\n",
              "  <div id=\"df-b80aca9c-5d1c-4899-9553-8fb47633c3d3\">\n",
              "    <div class=\"colab-df-container\">\n",
              "      <div>\n",
              "<style scoped>\n",
              "    .dataframe tbody tr th:only-of-type {\n",
              "        vertical-align: middle;\n",
              "    }\n",
              "\n",
              "    .dataframe tbody tr th {\n",
              "        vertical-align: top;\n",
              "    }\n",
              "\n",
              "    .dataframe thead th {\n",
              "        text-align: right;\n",
              "    }\n",
              "</style>\n",
              "<table border=\"1\" class=\"dataframe\">\n",
              "  <thead>\n",
              "    <tr style=\"text-align: right;\">\n",
              "      <th></th>\n",
              "      <th>V1</th>\n",
              "      <th>V2</th>\n",
              "      <th>V3</th>\n",
              "      <th>V4</th>\n",
              "      <th>V5</th>\n",
              "      <th>V6</th>\n",
              "      <th>V7</th>\n",
              "      <th>V8</th>\n",
              "      <th>V9</th>\n",
              "      <th>V10</th>\n",
              "      <th>...</th>\n",
              "      <th>V26</th>\n",
              "      <th>V27</th>\n",
              "      <th>V28</th>\n",
              "      <th>V29</th>\n",
              "      <th>V30</th>\n",
              "      <th>V31</th>\n",
              "      <th>V32</th>\n",
              "      <th>V33</th>\n",
              "      <th>V34</th>\n",
              "      <th>class</th>\n",
              "    </tr>\n",
              "  </thead>\n",
              "  <tbody>\n",
              "    <tr>\n",
              "      <th>0</th>\n",
              "      <td>1</td>\n",
              "      <td>0</td>\n",
              "      <td>0.99539</td>\n",
              "      <td>-0.05889</td>\n",
              "      <td>0.85243</td>\n",
              "      <td>0.02306</td>\n",
              "      <td>0.83398</td>\n",
              "      <td>-0.37708</td>\n",
              "      <td>1.00000</td>\n",
              "      <td>0.03760</td>\n",
              "      <td>...</td>\n",
              "      <td>-0.51171</td>\n",
              "      <td>0.41078</td>\n",
              "      <td>-0.46168</td>\n",
              "      <td>0.21266</td>\n",
              "      <td>-0.34090</td>\n",
              "      <td>0.42267</td>\n",
              "      <td>-0.54487</td>\n",
              "      <td>0.18641</td>\n",
              "      <td>-0.45300</td>\n",
              "      <td>g</td>\n",
              "    </tr>\n",
              "    <tr>\n",
              "      <th>1</th>\n",
              "      <td>1</td>\n",
              "      <td>0</td>\n",
              "      <td>1.00000</td>\n",
              "      <td>-0.18829</td>\n",
              "      <td>0.93035</td>\n",
              "      <td>-0.36156</td>\n",
              "      <td>-0.10868</td>\n",
              "      <td>-0.93597</td>\n",
              "      <td>1.00000</td>\n",
              "      <td>-0.04549</td>\n",
              "      <td>...</td>\n",
              "      <td>-0.26569</td>\n",
              "      <td>-0.20468</td>\n",
              "      <td>-0.18401</td>\n",
              "      <td>-0.19040</td>\n",
              "      <td>-0.11593</td>\n",
              "      <td>-0.16626</td>\n",
              "      <td>-0.06288</td>\n",
              "      <td>-0.13738</td>\n",
              "      <td>-0.02447</td>\n",
              "      <td>b</td>\n",
              "    </tr>\n",
              "    <tr>\n",
              "      <th>2</th>\n",
              "      <td>1</td>\n",
              "      <td>0</td>\n",
              "      <td>1.00000</td>\n",
              "      <td>-0.03365</td>\n",
              "      <td>1.00000</td>\n",
              "      <td>0.00485</td>\n",
              "      <td>1.00000</td>\n",
              "      <td>-0.12062</td>\n",
              "      <td>0.88965</td>\n",
              "      <td>0.01198</td>\n",
              "      <td>...</td>\n",
              "      <td>-0.40220</td>\n",
              "      <td>0.58984</td>\n",
              "      <td>-0.22145</td>\n",
              "      <td>0.43100</td>\n",
              "      <td>-0.17365</td>\n",
              "      <td>0.60436</td>\n",
              "      <td>-0.24180</td>\n",
              "      <td>0.56045</td>\n",
              "      <td>-0.38238</td>\n",
              "      <td>g</td>\n",
              "    </tr>\n",
              "    <tr>\n",
              "      <th>3</th>\n",
              "      <td>1</td>\n",
              "      <td>0</td>\n",
              "      <td>1.00000</td>\n",
              "      <td>-0.45161</td>\n",
              "      <td>1.00000</td>\n",
              "      <td>1.00000</td>\n",
              "      <td>0.71216</td>\n",
              "      <td>-1.00000</td>\n",
              "      <td>0.00000</td>\n",
              "      <td>0.00000</td>\n",
              "      <td>...</td>\n",
              "      <td>0.90695</td>\n",
              "      <td>0.51613</td>\n",
              "      <td>1.00000</td>\n",
              "      <td>1.00000</td>\n",
              "      <td>-0.20099</td>\n",
              "      <td>0.25682</td>\n",
              "      <td>1.00000</td>\n",
              "      <td>-0.32382</td>\n",
              "      <td>1.00000</td>\n",
              "      <td>b</td>\n",
              "    </tr>\n",
              "    <tr>\n",
              "      <th>4</th>\n",
              "      <td>1</td>\n",
              "      <td>0</td>\n",
              "      <td>1.00000</td>\n",
              "      <td>-0.02401</td>\n",
              "      <td>0.94140</td>\n",
              "      <td>0.06531</td>\n",
              "      <td>0.92106</td>\n",
              "      <td>-0.23255</td>\n",
              "      <td>0.77152</td>\n",
              "      <td>-0.16399</td>\n",
              "      <td>...</td>\n",
              "      <td>-0.65158</td>\n",
              "      <td>0.13290</td>\n",
              "      <td>-0.53206</td>\n",
              "      <td>0.02431</td>\n",
              "      <td>-0.62197</td>\n",
              "      <td>-0.05707</td>\n",
              "      <td>-0.59573</td>\n",
              "      <td>-0.04608</td>\n",
              "      <td>-0.65697</td>\n",
              "      <td>g</td>\n",
              "    </tr>\n",
              "    <tr>\n",
              "      <th>...</th>\n",
              "      <td>...</td>\n",
              "      <td>...</td>\n",
              "      <td>...</td>\n",
              "      <td>...</td>\n",
              "      <td>...</td>\n",
              "      <td>...</td>\n",
              "      <td>...</td>\n",
              "      <td>...</td>\n",
              "      <td>...</td>\n",
              "      <td>...</td>\n",
              "      <td>...</td>\n",
              "      <td>...</td>\n",
              "      <td>...</td>\n",
              "      <td>...</td>\n",
              "      <td>...</td>\n",
              "      <td>...</td>\n",
              "      <td>...</td>\n",
              "      <td>...</td>\n",
              "      <td>...</td>\n",
              "      <td>...</td>\n",
              "      <td>...</td>\n",
              "    </tr>\n",
              "    <tr>\n",
              "      <th>346</th>\n",
              "      <td>1</td>\n",
              "      <td>0</td>\n",
              "      <td>0.83508</td>\n",
              "      <td>0.08298</td>\n",
              "      <td>0.73739</td>\n",
              "      <td>-0.14706</td>\n",
              "      <td>0.84349</td>\n",
              "      <td>-0.05567</td>\n",
              "      <td>0.90441</td>\n",
              "      <td>-0.04622</td>\n",
              "      <td>...</td>\n",
              "      <td>-0.04202</td>\n",
              "      <td>0.83479</td>\n",
              "      <td>0.00123</td>\n",
              "      <td>1.00000</td>\n",
              "      <td>0.12815</td>\n",
              "      <td>0.86660</td>\n",
              "      <td>-0.10714</td>\n",
              "      <td>0.90546</td>\n",
              "      <td>-0.04307</td>\n",
              "      <td>g</td>\n",
              "    </tr>\n",
              "    <tr>\n",
              "      <th>347</th>\n",
              "      <td>1</td>\n",
              "      <td>0</td>\n",
              "      <td>0.95113</td>\n",
              "      <td>0.00419</td>\n",
              "      <td>0.95183</td>\n",
              "      <td>-0.02723</td>\n",
              "      <td>0.93438</td>\n",
              "      <td>-0.01920</td>\n",
              "      <td>0.94590</td>\n",
              "      <td>0.01606</td>\n",
              "      <td>...</td>\n",
              "      <td>0.01361</td>\n",
              "      <td>0.93522</td>\n",
              "      <td>0.04925</td>\n",
              "      <td>0.93159</td>\n",
              "      <td>0.08168</td>\n",
              "      <td>0.94066</td>\n",
              "      <td>-0.00035</td>\n",
              "      <td>0.91483</td>\n",
              "      <td>0.04712</td>\n",
              "      <td>g</td>\n",
              "    </tr>\n",
              "    <tr>\n",
              "      <th>348</th>\n",
              "      <td>1</td>\n",
              "      <td>0</td>\n",
              "      <td>0.94701</td>\n",
              "      <td>-0.00034</td>\n",
              "      <td>0.93207</td>\n",
              "      <td>-0.03227</td>\n",
              "      <td>0.95177</td>\n",
              "      <td>-0.03431</td>\n",
              "      <td>0.95584</td>\n",
              "      <td>0.02446</td>\n",
              "      <td>...</td>\n",
              "      <td>0.03193</td>\n",
              "      <td>0.92489</td>\n",
              "      <td>0.02542</td>\n",
              "      <td>0.92120</td>\n",
              "      <td>0.02242</td>\n",
              "      <td>0.92459</td>\n",
              "      <td>0.00442</td>\n",
              "      <td>0.92697</td>\n",
              "      <td>-0.00577</td>\n",
              "      <td>g</td>\n",
              "    </tr>\n",
              "    <tr>\n",
              "      <th>349</th>\n",
              "      <td>1</td>\n",
              "      <td>0</td>\n",
              "      <td>0.90608</td>\n",
              "      <td>-0.01657</td>\n",
              "      <td>0.98122</td>\n",
              "      <td>-0.01989</td>\n",
              "      <td>0.95691</td>\n",
              "      <td>-0.03646</td>\n",
              "      <td>0.85746</td>\n",
              "      <td>0.00110</td>\n",
              "      <td>...</td>\n",
              "      <td>-0.02099</td>\n",
              "      <td>0.89147</td>\n",
              "      <td>-0.07760</td>\n",
              "      <td>0.82983</td>\n",
              "      <td>-0.17238</td>\n",
              "      <td>0.96022</td>\n",
              "      <td>-0.03757</td>\n",
              "      <td>0.87403</td>\n",
              "      <td>-0.16243</td>\n",
              "      <td>g</td>\n",
              "    </tr>\n",
              "    <tr>\n",
              "      <th>350</th>\n",
              "      <td>1</td>\n",
              "      <td>0</td>\n",
              "      <td>0.84710</td>\n",
              "      <td>0.13533</td>\n",
              "      <td>0.73638</td>\n",
              "      <td>-0.06151</td>\n",
              "      <td>0.87873</td>\n",
              "      <td>0.08260</td>\n",
              "      <td>0.88928</td>\n",
              "      <td>-0.09139</td>\n",
              "      <td>...</td>\n",
              "      <td>-0.15114</td>\n",
              "      <td>0.81147</td>\n",
              "      <td>-0.04822</td>\n",
              "      <td>0.78207</td>\n",
              "      <td>-0.00703</td>\n",
              "      <td>0.75747</td>\n",
              "      <td>-0.06678</td>\n",
              "      <td>0.85764</td>\n",
              "      <td>-0.06151</td>\n",
              "      <td>g</td>\n",
              "    </tr>\n",
              "  </tbody>\n",
              "</table>\n",
              "<p>351 rows × 35 columns</p>\n",
              "</div>\n",
              "      <button class=\"colab-df-convert\" onclick=\"convertToInteractive('df-b80aca9c-5d1c-4899-9553-8fb47633c3d3')\"\n",
              "              title=\"Convert this dataframe to an interactive table.\"\n",
              "              style=\"display:none;\">\n",
              "        \n",
              "  <svg xmlns=\"http://www.w3.org/2000/svg\" height=\"24px\"viewBox=\"0 0 24 24\"\n",
              "       width=\"24px\">\n",
              "    <path d=\"M0 0h24v24H0V0z\" fill=\"none\"/>\n",
              "    <path d=\"M18.56 5.44l.94 2.06.94-2.06 2.06-.94-2.06-.94-.94-2.06-.94 2.06-2.06.94zm-11 1L8.5 8.5l.94-2.06 2.06-.94-2.06-.94L8.5 2.5l-.94 2.06-2.06.94zm10 10l.94 2.06.94-2.06 2.06-.94-2.06-.94-.94-2.06-.94 2.06-2.06.94z\"/><path d=\"M17.41 7.96l-1.37-1.37c-.4-.4-.92-.59-1.43-.59-.52 0-1.04.2-1.43.59L10.3 9.45l-7.72 7.72c-.78.78-.78 2.05 0 2.83L4 21.41c.39.39.9.59 1.41.59.51 0 1.02-.2 1.41-.59l7.78-7.78 2.81-2.81c.8-.78.8-2.07 0-2.86zM5.41 20L4 18.59l7.72-7.72 1.47 1.35L5.41 20z\"/>\n",
              "  </svg>\n",
              "      </button>\n",
              "      \n",
              "  <style>\n",
              "    .colab-df-container {\n",
              "      display:flex;\n",
              "      flex-wrap:wrap;\n",
              "      gap: 12px;\n",
              "    }\n",
              "\n",
              "    .colab-df-convert {\n",
              "      background-color: #E8F0FE;\n",
              "      border: none;\n",
              "      border-radius: 50%;\n",
              "      cursor: pointer;\n",
              "      display: none;\n",
              "      fill: #1967D2;\n",
              "      height: 32px;\n",
              "      padding: 0 0 0 0;\n",
              "      width: 32px;\n",
              "    }\n",
              "\n",
              "    .colab-df-convert:hover {\n",
              "      background-color: #E2EBFA;\n",
              "      box-shadow: 0px 1px 2px rgba(60, 64, 67, 0.3), 0px 1px 3px 1px rgba(60, 64, 67, 0.15);\n",
              "      fill: #174EA6;\n",
              "    }\n",
              "\n",
              "    [theme=dark] .colab-df-convert {\n",
              "      background-color: #3B4455;\n",
              "      fill: #D2E3FC;\n",
              "    }\n",
              "\n",
              "    [theme=dark] .colab-df-convert:hover {\n",
              "      background-color: #434B5C;\n",
              "      box-shadow: 0px 1px 3px 1px rgba(0, 0, 0, 0.15);\n",
              "      filter: drop-shadow(0px 1px 2px rgba(0, 0, 0, 0.3));\n",
              "      fill: #FFFFFF;\n",
              "    }\n",
              "  </style>\n",
              "\n",
              "      <script>\n",
              "        const buttonEl =\n",
              "          document.querySelector('#df-b80aca9c-5d1c-4899-9553-8fb47633c3d3 button.colab-df-convert');\n",
              "        buttonEl.style.display =\n",
              "          google.colab.kernel.accessAllowed ? 'block' : 'none';\n",
              "\n",
              "        async function convertToInteractive(key) {\n",
              "          const element = document.querySelector('#df-b80aca9c-5d1c-4899-9553-8fb47633c3d3');\n",
              "          const dataTable =\n",
              "            await google.colab.kernel.invokeFunction('convertToInteractive',\n",
              "                                                     [key], {});\n",
              "          if (!dataTable) return;\n",
              "\n",
              "          const docLinkHtml = 'Like what you see? Visit the ' +\n",
              "            '<a target=\"_blank\" href=https://colab.research.google.com/notebooks/data_table.ipynb>data table notebook</a>'\n",
              "            + ' to learn more about interactive tables.';\n",
              "          element.innerHTML = '';\n",
              "          dataTable['output_type'] = 'display_data';\n",
              "          await google.colab.output.renderOutput(dataTable, element);\n",
              "          const docLink = document.createElement('div');\n",
              "          docLink.innerHTML = docLinkHtml;\n",
              "          element.appendChild(docLink);\n",
              "        }\n",
              "      </script>\n",
              "    </div>\n",
              "  </div>\n",
              "  "
            ]
          },
          "metadata": {},
          "execution_count": 6
        }
      ],
      "source": [
        "df"
      ]
    },
    {
      "cell_type": "code",
      "source": [
        "list_encode=[]\n",
        "\n",
        "for i in range(len(df)):\n",
        "  if(df['class'][i])=='g':\n",
        "    list_encode.append(1)\n",
        "  else:\n",
        "    list_encode.append(0)\n",
        "\n",
        "df['Number Encoded class']=list_encode\n",
        "df\n",
        "\n",
        "\n",
        "\n"
      ],
      "metadata": {
        "colab": {
          "base_uri": "https://localhost:8080/",
          "height": 502
        },
        "id": "KWCnPg3iuqol",
        "outputId": "1c2fd988-535d-41d5-a721-9e655e518881"
      },
      "execution_count": 87,
      "outputs": [
        {
          "output_type": "execute_result",
          "data": {
            "text/plain": [
              "     V1  V2       V3       V4       V5       V6       V7       V8       V9  \\\n",
              "0     1   0  0.99539 -0.05889  0.85243  0.02306  0.83398 -0.37708  1.00000   \n",
              "1     1   0  1.00000 -0.18829  0.93035 -0.36156 -0.10868 -0.93597  1.00000   \n",
              "2     1   0  1.00000 -0.03365  1.00000  0.00485  1.00000 -0.12062  0.88965   \n",
              "3     1   0  1.00000 -0.45161  1.00000  1.00000  0.71216 -1.00000  0.00000   \n",
              "4     1   0  1.00000 -0.02401  0.94140  0.06531  0.92106 -0.23255  0.77152   \n",
              "..   ..  ..      ...      ...      ...      ...      ...      ...      ...   \n",
              "346   1   0  0.83508  0.08298  0.73739 -0.14706  0.84349 -0.05567  0.90441   \n",
              "347   1   0  0.95113  0.00419  0.95183 -0.02723  0.93438 -0.01920  0.94590   \n",
              "348   1   0  0.94701 -0.00034  0.93207 -0.03227  0.95177 -0.03431  0.95584   \n",
              "349   1   0  0.90608 -0.01657  0.98122 -0.01989  0.95691 -0.03646  0.85746   \n",
              "350   1   0  0.84710  0.13533  0.73638 -0.06151  0.87873  0.08260  0.88928   \n",
              "\n",
              "         V10  ...      V27      V28      V29      V30      V31      V32  \\\n",
              "0    0.03760  ...  0.41078 -0.46168  0.21266 -0.34090  0.42267 -0.54487   \n",
              "1   -0.04549  ... -0.20468 -0.18401 -0.19040 -0.11593 -0.16626 -0.06288   \n",
              "2    0.01198  ...  0.58984 -0.22145  0.43100 -0.17365  0.60436 -0.24180   \n",
              "3    0.00000  ...  0.51613  1.00000  1.00000 -0.20099  0.25682  1.00000   \n",
              "4   -0.16399  ...  0.13290 -0.53206  0.02431 -0.62197 -0.05707 -0.59573   \n",
              "..       ...  ...      ...      ...      ...      ...      ...      ...   \n",
              "346 -0.04622  ...  0.83479  0.00123  1.00000  0.12815  0.86660 -0.10714   \n",
              "347  0.01606  ...  0.93522  0.04925  0.93159  0.08168  0.94066 -0.00035   \n",
              "348  0.02446  ...  0.92489  0.02542  0.92120  0.02242  0.92459  0.00442   \n",
              "349  0.00110  ...  0.89147 -0.07760  0.82983 -0.17238  0.96022 -0.03757   \n",
              "350 -0.09139  ...  0.81147 -0.04822  0.78207 -0.00703  0.75747 -0.06678   \n",
              "\n",
              "         V33      V34  class  Number Encoded class  \n",
              "0    0.18641 -0.45300      g                     1  \n",
              "1   -0.13738 -0.02447      b                     0  \n",
              "2    0.56045 -0.38238      g                     1  \n",
              "3   -0.32382  1.00000      b                     0  \n",
              "4   -0.04608 -0.65697      g                     1  \n",
              "..       ...      ...    ...                   ...  \n",
              "346  0.90546 -0.04307      g                     1  \n",
              "347  0.91483  0.04712      g                     1  \n",
              "348  0.92697 -0.00577      g                     1  \n",
              "349  0.87403 -0.16243      g                     1  \n",
              "350  0.85764 -0.06151      g                     1  \n",
              "\n",
              "[351 rows x 36 columns]"
            ],
            "text/html": [
              "\n",
              "  <div id=\"df-5e4d8610-414d-4617-90c5-c7e769ec122b\">\n",
              "    <div class=\"colab-df-container\">\n",
              "      <div>\n",
              "<style scoped>\n",
              "    .dataframe tbody tr th:only-of-type {\n",
              "        vertical-align: middle;\n",
              "    }\n",
              "\n",
              "    .dataframe tbody tr th {\n",
              "        vertical-align: top;\n",
              "    }\n",
              "\n",
              "    .dataframe thead th {\n",
              "        text-align: right;\n",
              "    }\n",
              "</style>\n",
              "<table border=\"1\" class=\"dataframe\">\n",
              "  <thead>\n",
              "    <tr style=\"text-align: right;\">\n",
              "      <th></th>\n",
              "      <th>V1</th>\n",
              "      <th>V2</th>\n",
              "      <th>V3</th>\n",
              "      <th>V4</th>\n",
              "      <th>V5</th>\n",
              "      <th>V6</th>\n",
              "      <th>V7</th>\n",
              "      <th>V8</th>\n",
              "      <th>V9</th>\n",
              "      <th>V10</th>\n",
              "      <th>...</th>\n",
              "      <th>V27</th>\n",
              "      <th>V28</th>\n",
              "      <th>V29</th>\n",
              "      <th>V30</th>\n",
              "      <th>V31</th>\n",
              "      <th>V32</th>\n",
              "      <th>V33</th>\n",
              "      <th>V34</th>\n",
              "      <th>class</th>\n",
              "      <th>Number Encoded class</th>\n",
              "    </tr>\n",
              "  </thead>\n",
              "  <tbody>\n",
              "    <tr>\n",
              "      <th>0</th>\n",
              "      <td>1</td>\n",
              "      <td>0</td>\n",
              "      <td>0.99539</td>\n",
              "      <td>-0.05889</td>\n",
              "      <td>0.85243</td>\n",
              "      <td>0.02306</td>\n",
              "      <td>0.83398</td>\n",
              "      <td>-0.37708</td>\n",
              "      <td>1.00000</td>\n",
              "      <td>0.03760</td>\n",
              "      <td>...</td>\n",
              "      <td>0.41078</td>\n",
              "      <td>-0.46168</td>\n",
              "      <td>0.21266</td>\n",
              "      <td>-0.34090</td>\n",
              "      <td>0.42267</td>\n",
              "      <td>-0.54487</td>\n",
              "      <td>0.18641</td>\n",
              "      <td>-0.45300</td>\n",
              "      <td>g</td>\n",
              "      <td>1</td>\n",
              "    </tr>\n",
              "    <tr>\n",
              "      <th>1</th>\n",
              "      <td>1</td>\n",
              "      <td>0</td>\n",
              "      <td>1.00000</td>\n",
              "      <td>-0.18829</td>\n",
              "      <td>0.93035</td>\n",
              "      <td>-0.36156</td>\n",
              "      <td>-0.10868</td>\n",
              "      <td>-0.93597</td>\n",
              "      <td>1.00000</td>\n",
              "      <td>-0.04549</td>\n",
              "      <td>...</td>\n",
              "      <td>-0.20468</td>\n",
              "      <td>-0.18401</td>\n",
              "      <td>-0.19040</td>\n",
              "      <td>-0.11593</td>\n",
              "      <td>-0.16626</td>\n",
              "      <td>-0.06288</td>\n",
              "      <td>-0.13738</td>\n",
              "      <td>-0.02447</td>\n",
              "      <td>b</td>\n",
              "      <td>0</td>\n",
              "    </tr>\n",
              "    <tr>\n",
              "      <th>2</th>\n",
              "      <td>1</td>\n",
              "      <td>0</td>\n",
              "      <td>1.00000</td>\n",
              "      <td>-0.03365</td>\n",
              "      <td>1.00000</td>\n",
              "      <td>0.00485</td>\n",
              "      <td>1.00000</td>\n",
              "      <td>-0.12062</td>\n",
              "      <td>0.88965</td>\n",
              "      <td>0.01198</td>\n",
              "      <td>...</td>\n",
              "      <td>0.58984</td>\n",
              "      <td>-0.22145</td>\n",
              "      <td>0.43100</td>\n",
              "      <td>-0.17365</td>\n",
              "      <td>0.60436</td>\n",
              "      <td>-0.24180</td>\n",
              "      <td>0.56045</td>\n",
              "      <td>-0.38238</td>\n",
              "      <td>g</td>\n",
              "      <td>1</td>\n",
              "    </tr>\n",
              "    <tr>\n",
              "      <th>3</th>\n",
              "      <td>1</td>\n",
              "      <td>0</td>\n",
              "      <td>1.00000</td>\n",
              "      <td>-0.45161</td>\n",
              "      <td>1.00000</td>\n",
              "      <td>1.00000</td>\n",
              "      <td>0.71216</td>\n",
              "      <td>-1.00000</td>\n",
              "      <td>0.00000</td>\n",
              "      <td>0.00000</td>\n",
              "      <td>...</td>\n",
              "      <td>0.51613</td>\n",
              "      <td>1.00000</td>\n",
              "      <td>1.00000</td>\n",
              "      <td>-0.20099</td>\n",
              "      <td>0.25682</td>\n",
              "      <td>1.00000</td>\n",
              "      <td>-0.32382</td>\n",
              "      <td>1.00000</td>\n",
              "      <td>b</td>\n",
              "      <td>0</td>\n",
              "    </tr>\n",
              "    <tr>\n",
              "      <th>4</th>\n",
              "      <td>1</td>\n",
              "      <td>0</td>\n",
              "      <td>1.00000</td>\n",
              "      <td>-0.02401</td>\n",
              "      <td>0.94140</td>\n",
              "      <td>0.06531</td>\n",
              "      <td>0.92106</td>\n",
              "      <td>-0.23255</td>\n",
              "      <td>0.77152</td>\n",
              "      <td>-0.16399</td>\n",
              "      <td>...</td>\n",
              "      <td>0.13290</td>\n",
              "      <td>-0.53206</td>\n",
              "      <td>0.02431</td>\n",
              "      <td>-0.62197</td>\n",
              "      <td>-0.05707</td>\n",
              "      <td>-0.59573</td>\n",
              "      <td>-0.04608</td>\n",
              "      <td>-0.65697</td>\n",
              "      <td>g</td>\n",
              "      <td>1</td>\n",
              "    </tr>\n",
              "    <tr>\n",
              "      <th>...</th>\n",
              "      <td>...</td>\n",
              "      <td>...</td>\n",
              "      <td>...</td>\n",
              "      <td>...</td>\n",
              "      <td>...</td>\n",
              "      <td>...</td>\n",
              "      <td>...</td>\n",
              "      <td>...</td>\n",
              "      <td>...</td>\n",
              "      <td>...</td>\n",
              "      <td>...</td>\n",
              "      <td>...</td>\n",
              "      <td>...</td>\n",
              "      <td>...</td>\n",
              "      <td>...</td>\n",
              "      <td>...</td>\n",
              "      <td>...</td>\n",
              "      <td>...</td>\n",
              "      <td>...</td>\n",
              "      <td>...</td>\n",
              "      <td>...</td>\n",
              "    </tr>\n",
              "    <tr>\n",
              "      <th>346</th>\n",
              "      <td>1</td>\n",
              "      <td>0</td>\n",
              "      <td>0.83508</td>\n",
              "      <td>0.08298</td>\n",
              "      <td>0.73739</td>\n",
              "      <td>-0.14706</td>\n",
              "      <td>0.84349</td>\n",
              "      <td>-0.05567</td>\n",
              "      <td>0.90441</td>\n",
              "      <td>-0.04622</td>\n",
              "      <td>...</td>\n",
              "      <td>0.83479</td>\n",
              "      <td>0.00123</td>\n",
              "      <td>1.00000</td>\n",
              "      <td>0.12815</td>\n",
              "      <td>0.86660</td>\n",
              "      <td>-0.10714</td>\n",
              "      <td>0.90546</td>\n",
              "      <td>-0.04307</td>\n",
              "      <td>g</td>\n",
              "      <td>1</td>\n",
              "    </tr>\n",
              "    <tr>\n",
              "      <th>347</th>\n",
              "      <td>1</td>\n",
              "      <td>0</td>\n",
              "      <td>0.95113</td>\n",
              "      <td>0.00419</td>\n",
              "      <td>0.95183</td>\n",
              "      <td>-0.02723</td>\n",
              "      <td>0.93438</td>\n",
              "      <td>-0.01920</td>\n",
              "      <td>0.94590</td>\n",
              "      <td>0.01606</td>\n",
              "      <td>...</td>\n",
              "      <td>0.93522</td>\n",
              "      <td>0.04925</td>\n",
              "      <td>0.93159</td>\n",
              "      <td>0.08168</td>\n",
              "      <td>0.94066</td>\n",
              "      <td>-0.00035</td>\n",
              "      <td>0.91483</td>\n",
              "      <td>0.04712</td>\n",
              "      <td>g</td>\n",
              "      <td>1</td>\n",
              "    </tr>\n",
              "    <tr>\n",
              "      <th>348</th>\n",
              "      <td>1</td>\n",
              "      <td>0</td>\n",
              "      <td>0.94701</td>\n",
              "      <td>-0.00034</td>\n",
              "      <td>0.93207</td>\n",
              "      <td>-0.03227</td>\n",
              "      <td>0.95177</td>\n",
              "      <td>-0.03431</td>\n",
              "      <td>0.95584</td>\n",
              "      <td>0.02446</td>\n",
              "      <td>...</td>\n",
              "      <td>0.92489</td>\n",
              "      <td>0.02542</td>\n",
              "      <td>0.92120</td>\n",
              "      <td>0.02242</td>\n",
              "      <td>0.92459</td>\n",
              "      <td>0.00442</td>\n",
              "      <td>0.92697</td>\n",
              "      <td>-0.00577</td>\n",
              "      <td>g</td>\n",
              "      <td>1</td>\n",
              "    </tr>\n",
              "    <tr>\n",
              "      <th>349</th>\n",
              "      <td>1</td>\n",
              "      <td>0</td>\n",
              "      <td>0.90608</td>\n",
              "      <td>-0.01657</td>\n",
              "      <td>0.98122</td>\n",
              "      <td>-0.01989</td>\n",
              "      <td>0.95691</td>\n",
              "      <td>-0.03646</td>\n",
              "      <td>0.85746</td>\n",
              "      <td>0.00110</td>\n",
              "      <td>...</td>\n",
              "      <td>0.89147</td>\n",
              "      <td>-0.07760</td>\n",
              "      <td>0.82983</td>\n",
              "      <td>-0.17238</td>\n",
              "      <td>0.96022</td>\n",
              "      <td>-0.03757</td>\n",
              "      <td>0.87403</td>\n",
              "      <td>-0.16243</td>\n",
              "      <td>g</td>\n",
              "      <td>1</td>\n",
              "    </tr>\n",
              "    <tr>\n",
              "      <th>350</th>\n",
              "      <td>1</td>\n",
              "      <td>0</td>\n",
              "      <td>0.84710</td>\n",
              "      <td>0.13533</td>\n",
              "      <td>0.73638</td>\n",
              "      <td>-0.06151</td>\n",
              "      <td>0.87873</td>\n",
              "      <td>0.08260</td>\n",
              "      <td>0.88928</td>\n",
              "      <td>-0.09139</td>\n",
              "      <td>...</td>\n",
              "      <td>0.81147</td>\n",
              "      <td>-0.04822</td>\n",
              "      <td>0.78207</td>\n",
              "      <td>-0.00703</td>\n",
              "      <td>0.75747</td>\n",
              "      <td>-0.06678</td>\n",
              "      <td>0.85764</td>\n",
              "      <td>-0.06151</td>\n",
              "      <td>g</td>\n",
              "      <td>1</td>\n",
              "    </tr>\n",
              "  </tbody>\n",
              "</table>\n",
              "<p>351 rows × 36 columns</p>\n",
              "</div>\n",
              "      <button class=\"colab-df-convert\" onclick=\"convertToInteractive('df-5e4d8610-414d-4617-90c5-c7e769ec122b')\"\n",
              "              title=\"Convert this dataframe to an interactive table.\"\n",
              "              style=\"display:none;\">\n",
              "        \n",
              "  <svg xmlns=\"http://www.w3.org/2000/svg\" height=\"24px\"viewBox=\"0 0 24 24\"\n",
              "       width=\"24px\">\n",
              "    <path d=\"M0 0h24v24H0V0z\" fill=\"none\"/>\n",
              "    <path d=\"M18.56 5.44l.94 2.06.94-2.06 2.06-.94-2.06-.94-.94-2.06-.94 2.06-2.06.94zm-11 1L8.5 8.5l.94-2.06 2.06-.94-2.06-.94L8.5 2.5l-.94 2.06-2.06.94zm10 10l.94 2.06.94-2.06 2.06-.94-2.06-.94-.94-2.06-.94 2.06-2.06.94z\"/><path d=\"M17.41 7.96l-1.37-1.37c-.4-.4-.92-.59-1.43-.59-.52 0-1.04.2-1.43.59L10.3 9.45l-7.72 7.72c-.78.78-.78 2.05 0 2.83L4 21.41c.39.39.9.59 1.41.59.51 0 1.02-.2 1.41-.59l7.78-7.78 2.81-2.81c.8-.78.8-2.07 0-2.86zM5.41 20L4 18.59l7.72-7.72 1.47 1.35L5.41 20z\"/>\n",
              "  </svg>\n",
              "      </button>\n",
              "      \n",
              "  <style>\n",
              "    .colab-df-container {\n",
              "      display:flex;\n",
              "      flex-wrap:wrap;\n",
              "      gap: 12px;\n",
              "    }\n",
              "\n",
              "    .colab-df-convert {\n",
              "      background-color: #E8F0FE;\n",
              "      border: none;\n",
              "      border-radius: 50%;\n",
              "      cursor: pointer;\n",
              "      display: none;\n",
              "      fill: #1967D2;\n",
              "      height: 32px;\n",
              "      padding: 0 0 0 0;\n",
              "      width: 32px;\n",
              "    }\n",
              "\n",
              "    .colab-df-convert:hover {\n",
              "      background-color: #E2EBFA;\n",
              "      box-shadow: 0px 1px 2px rgba(60, 64, 67, 0.3), 0px 1px 3px 1px rgba(60, 64, 67, 0.15);\n",
              "      fill: #174EA6;\n",
              "    }\n",
              "\n",
              "    [theme=dark] .colab-df-convert {\n",
              "      background-color: #3B4455;\n",
              "      fill: #D2E3FC;\n",
              "    }\n",
              "\n",
              "    [theme=dark] .colab-df-convert:hover {\n",
              "      background-color: #434B5C;\n",
              "      box-shadow: 0px 1px 3px 1px rgba(0, 0, 0, 0.15);\n",
              "      filter: drop-shadow(0px 1px 2px rgba(0, 0, 0, 0.3));\n",
              "      fill: #FFFFFF;\n",
              "    }\n",
              "  </style>\n",
              "\n",
              "      <script>\n",
              "        const buttonEl =\n",
              "          document.querySelector('#df-5e4d8610-414d-4617-90c5-c7e769ec122b button.colab-df-convert');\n",
              "        buttonEl.style.display =\n",
              "          google.colab.kernel.accessAllowed ? 'block' : 'none';\n",
              "\n",
              "        async function convertToInteractive(key) {\n",
              "          const element = document.querySelector('#df-5e4d8610-414d-4617-90c5-c7e769ec122b');\n",
              "          const dataTable =\n",
              "            await google.colab.kernel.invokeFunction('convertToInteractive',\n",
              "                                                     [key], {});\n",
              "          if (!dataTable) return;\n",
              "\n",
              "          const docLinkHtml = 'Like what you see? Visit the ' +\n",
              "            '<a target=\"_blank\" href=https://colab.research.google.com/notebooks/data_table.ipynb>data table notebook</a>'\n",
              "            + ' to learn more about interactive tables.';\n",
              "          element.innerHTML = '';\n",
              "          dataTable['output_type'] = 'display_data';\n",
              "          await google.colab.output.renderOutput(dataTable, element);\n",
              "          const docLink = document.createElement('div');\n",
              "          docLink.innerHTML = docLinkHtml;\n",
              "          element.appendChild(docLink);\n",
              "        }\n",
              "      </script>\n",
              "    </div>\n",
              "  </div>\n",
              "  "
            ]
          },
          "metadata": {},
          "execution_count": 87
        }
      ]
    },
    {
      "cell_type": "markdown",
      "metadata": {
        "id": "sVyo0J2bET9P"
      },
      "source": [
        "### Data Set Information:\n",
        "\n",
        "This radar data was collected by a system in Goose Bay, Labrador. This system consists of a phased array of 16 high-frequency antennas with a total transmitted power on the order of 6.4 kilowatts. See the paper for more details. The targets were free electrons in the ionosphere. \"Good\" radar returns are those showing evidence of some type of structure in the ionosphere. \"Bad\" returns are those that do not; their signals pass through the ionosphere.\n",
        "\n",
        "Received signals were processed using an autocorrelation function whose arguments are the time of a pulse and the pulse number. There were 17 pulse numbers for the Goose Bay system. Instances in this databse are described by 2 attributes per pulse number, corresponding to the complex values returned by the function resulting from the complex electromagnetic signal.\n",
        "\n",
        "\n",
        "Attribute Information:\n",
        "\n",
        "- All 34 are continuous\n",
        "- The 35th attribute is either \"good\" or \"bad\" according to the definition summarized above. This is a binary classification task.\n",
        "\n",
        "https://archive.ics.uci.edu/ml/datasets/Ionosphere"
      ]
    },
    {
      "cell_type": "code",
      "execution_count": 88,
      "metadata": {
        "ExecuteTime": {
          "end_time": "2022-05-04T05:03:24.586787Z",
          "start_time": "2022-05-04T05:03:24.560829Z"
        },
        "id": "6xr1ODmXET9Q",
        "outputId": "c8d623a6-5933-4ec4-dee7-f1b346818402",
        "colab": {
          "base_uri": "https://localhost:8080/",
          "height": 488
        }
      },
      "outputs": [
        {
          "output_type": "execute_result",
          "data": {
            "text/plain": [
              "     V1  V2       V3       V4       V5       V6       V7       V8       V9  \\\n",
              "0     1   0  0.99539 -0.05889  0.85243  0.02306  0.83398 -0.37708  1.00000   \n",
              "1     1   0  1.00000 -0.18829  0.93035 -0.36156 -0.10868 -0.93597  1.00000   \n",
              "2     1   0  1.00000 -0.03365  1.00000  0.00485  1.00000 -0.12062  0.88965   \n",
              "3     1   0  1.00000 -0.45161  1.00000  1.00000  0.71216 -1.00000  0.00000   \n",
              "4     1   0  1.00000 -0.02401  0.94140  0.06531  0.92106 -0.23255  0.77152   \n",
              "..   ..  ..      ...      ...      ...      ...      ...      ...      ...   \n",
              "346   1   0  0.83508  0.08298  0.73739 -0.14706  0.84349 -0.05567  0.90441   \n",
              "347   1   0  0.95113  0.00419  0.95183 -0.02723  0.93438 -0.01920  0.94590   \n",
              "348   1   0  0.94701 -0.00034  0.93207 -0.03227  0.95177 -0.03431  0.95584   \n",
              "349   1   0  0.90608 -0.01657  0.98122 -0.01989  0.95691 -0.03646  0.85746   \n",
              "350   1   0  0.84710  0.13533  0.73638 -0.06151  0.87873  0.08260  0.88928   \n",
              "\n",
              "         V10  ...      V25      V26      V27      V28      V29      V30  \\\n",
              "0    0.03760  ...  0.56811 -0.51171  0.41078 -0.46168  0.21266 -0.34090   \n",
              "1   -0.04549  ... -0.20332 -0.26569 -0.20468 -0.18401 -0.19040 -0.11593   \n",
              "2    0.01198  ...  0.57528 -0.40220  0.58984 -0.22145  0.43100 -0.17365   \n",
              "3    0.00000  ...  1.00000  0.90695  0.51613  1.00000  1.00000 -0.20099   \n",
              "4   -0.16399  ...  0.03286 -0.65158  0.13290 -0.53206  0.02431 -0.62197   \n",
              "..       ...  ...      ...      ...      ...      ...      ...      ...   \n",
              "346 -0.04622  ...  0.95378 -0.04202  0.83479  0.00123  1.00000  0.12815   \n",
              "347  0.01606  ...  0.94520  0.01361  0.93522  0.04925  0.93159  0.08168   \n",
              "348  0.02446  ...  0.93988  0.03193  0.92489  0.02542  0.92120  0.02242   \n",
              "349  0.00110  ...  0.91050 -0.02099  0.89147 -0.07760  0.82983 -0.17238   \n",
              "350 -0.09139  ...  0.86467 -0.15114  0.81147 -0.04822  0.78207 -0.00703   \n",
              "\n",
              "         V31      V32      V33      V34  \n",
              "0    0.42267 -0.54487  0.18641 -0.45300  \n",
              "1   -0.16626 -0.06288 -0.13738 -0.02447  \n",
              "2    0.60436 -0.24180  0.56045 -0.38238  \n",
              "3    0.25682  1.00000 -0.32382  1.00000  \n",
              "4   -0.05707 -0.59573 -0.04608 -0.65697  \n",
              "..       ...      ...      ...      ...  \n",
              "346  0.86660 -0.10714  0.90546 -0.04307  \n",
              "347  0.94066 -0.00035  0.91483  0.04712  \n",
              "348  0.92459  0.00442  0.92697 -0.00577  \n",
              "349  0.96022 -0.03757  0.87403 -0.16243  \n",
              "350  0.75747 -0.06678  0.85764 -0.06151  \n",
              "\n",
              "[351 rows x 34 columns]"
            ],
            "text/html": [
              "\n",
              "  <div id=\"df-c6aadd64-ca1d-4402-ad13-1f8758cd6eb3\">\n",
              "    <div class=\"colab-df-container\">\n",
              "      <div>\n",
              "<style scoped>\n",
              "    .dataframe tbody tr th:only-of-type {\n",
              "        vertical-align: middle;\n",
              "    }\n",
              "\n",
              "    .dataframe tbody tr th {\n",
              "        vertical-align: top;\n",
              "    }\n",
              "\n",
              "    .dataframe thead th {\n",
              "        text-align: right;\n",
              "    }\n",
              "</style>\n",
              "<table border=\"1\" class=\"dataframe\">\n",
              "  <thead>\n",
              "    <tr style=\"text-align: right;\">\n",
              "      <th></th>\n",
              "      <th>V1</th>\n",
              "      <th>V2</th>\n",
              "      <th>V3</th>\n",
              "      <th>V4</th>\n",
              "      <th>V5</th>\n",
              "      <th>V6</th>\n",
              "      <th>V7</th>\n",
              "      <th>V8</th>\n",
              "      <th>V9</th>\n",
              "      <th>V10</th>\n",
              "      <th>...</th>\n",
              "      <th>V25</th>\n",
              "      <th>V26</th>\n",
              "      <th>V27</th>\n",
              "      <th>V28</th>\n",
              "      <th>V29</th>\n",
              "      <th>V30</th>\n",
              "      <th>V31</th>\n",
              "      <th>V32</th>\n",
              "      <th>V33</th>\n",
              "      <th>V34</th>\n",
              "    </tr>\n",
              "  </thead>\n",
              "  <tbody>\n",
              "    <tr>\n",
              "      <th>0</th>\n",
              "      <td>1</td>\n",
              "      <td>0</td>\n",
              "      <td>0.99539</td>\n",
              "      <td>-0.05889</td>\n",
              "      <td>0.85243</td>\n",
              "      <td>0.02306</td>\n",
              "      <td>0.83398</td>\n",
              "      <td>-0.37708</td>\n",
              "      <td>1.00000</td>\n",
              "      <td>0.03760</td>\n",
              "      <td>...</td>\n",
              "      <td>0.56811</td>\n",
              "      <td>-0.51171</td>\n",
              "      <td>0.41078</td>\n",
              "      <td>-0.46168</td>\n",
              "      <td>0.21266</td>\n",
              "      <td>-0.34090</td>\n",
              "      <td>0.42267</td>\n",
              "      <td>-0.54487</td>\n",
              "      <td>0.18641</td>\n",
              "      <td>-0.45300</td>\n",
              "    </tr>\n",
              "    <tr>\n",
              "      <th>1</th>\n",
              "      <td>1</td>\n",
              "      <td>0</td>\n",
              "      <td>1.00000</td>\n",
              "      <td>-0.18829</td>\n",
              "      <td>0.93035</td>\n",
              "      <td>-0.36156</td>\n",
              "      <td>-0.10868</td>\n",
              "      <td>-0.93597</td>\n",
              "      <td>1.00000</td>\n",
              "      <td>-0.04549</td>\n",
              "      <td>...</td>\n",
              "      <td>-0.20332</td>\n",
              "      <td>-0.26569</td>\n",
              "      <td>-0.20468</td>\n",
              "      <td>-0.18401</td>\n",
              "      <td>-0.19040</td>\n",
              "      <td>-0.11593</td>\n",
              "      <td>-0.16626</td>\n",
              "      <td>-0.06288</td>\n",
              "      <td>-0.13738</td>\n",
              "      <td>-0.02447</td>\n",
              "    </tr>\n",
              "    <tr>\n",
              "      <th>2</th>\n",
              "      <td>1</td>\n",
              "      <td>0</td>\n",
              "      <td>1.00000</td>\n",
              "      <td>-0.03365</td>\n",
              "      <td>1.00000</td>\n",
              "      <td>0.00485</td>\n",
              "      <td>1.00000</td>\n",
              "      <td>-0.12062</td>\n",
              "      <td>0.88965</td>\n",
              "      <td>0.01198</td>\n",
              "      <td>...</td>\n",
              "      <td>0.57528</td>\n",
              "      <td>-0.40220</td>\n",
              "      <td>0.58984</td>\n",
              "      <td>-0.22145</td>\n",
              "      <td>0.43100</td>\n",
              "      <td>-0.17365</td>\n",
              "      <td>0.60436</td>\n",
              "      <td>-0.24180</td>\n",
              "      <td>0.56045</td>\n",
              "      <td>-0.38238</td>\n",
              "    </tr>\n",
              "    <tr>\n",
              "      <th>3</th>\n",
              "      <td>1</td>\n",
              "      <td>0</td>\n",
              "      <td>1.00000</td>\n",
              "      <td>-0.45161</td>\n",
              "      <td>1.00000</td>\n",
              "      <td>1.00000</td>\n",
              "      <td>0.71216</td>\n",
              "      <td>-1.00000</td>\n",
              "      <td>0.00000</td>\n",
              "      <td>0.00000</td>\n",
              "      <td>...</td>\n",
              "      <td>1.00000</td>\n",
              "      <td>0.90695</td>\n",
              "      <td>0.51613</td>\n",
              "      <td>1.00000</td>\n",
              "      <td>1.00000</td>\n",
              "      <td>-0.20099</td>\n",
              "      <td>0.25682</td>\n",
              "      <td>1.00000</td>\n",
              "      <td>-0.32382</td>\n",
              "      <td>1.00000</td>\n",
              "    </tr>\n",
              "    <tr>\n",
              "      <th>4</th>\n",
              "      <td>1</td>\n",
              "      <td>0</td>\n",
              "      <td>1.00000</td>\n",
              "      <td>-0.02401</td>\n",
              "      <td>0.94140</td>\n",
              "      <td>0.06531</td>\n",
              "      <td>0.92106</td>\n",
              "      <td>-0.23255</td>\n",
              "      <td>0.77152</td>\n",
              "      <td>-0.16399</td>\n",
              "      <td>...</td>\n",
              "      <td>0.03286</td>\n",
              "      <td>-0.65158</td>\n",
              "      <td>0.13290</td>\n",
              "      <td>-0.53206</td>\n",
              "      <td>0.02431</td>\n",
              "      <td>-0.62197</td>\n",
              "      <td>-0.05707</td>\n",
              "      <td>-0.59573</td>\n",
              "      <td>-0.04608</td>\n",
              "      <td>-0.65697</td>\n",
              "    </tr>\n",
              "    <tr>\n",
              "      <th>...</th>\n",
              "      <td>...</td>\n",
              "      <td>...</td>\n",
              "      <td>...</td>\n",
              "      <td>...</td>\n",
              "      <td>...</td>\n",
              "      <td>...</td>\n",
              "      <td>...</td>\n",
              "      <td>...</td>\n",
              "      <td>...</td>\n",
              "      <td>...</td>\n",
              "      <td>...</td>\n",
              "      <td>...</td>\n",
              "      <td>...</td>\n",
              "      <td>...</td>\n",
              "      <td>...</td>\n",
              "      <td>...</td>\n",
              "      <td>...</td>\n",
              "      <td>...</td>\n",
              "      <td>...</td>\n",
              "      <td>...</td>\n",
              "      <td>...</td>\n",
              "    </tr>\n",
              "    <tr>\n",
              "      <th>346</th>\n",
              "      <td>1</td>\n",
              "      <td>0</td>\n",
              "      <td>0.83508</td>\n",
              "      <td>0.08298</td>\n",
              "      <td>0.73739</td>\n",
              "      <td>-0.14706</td>\n",
              "      <td>0.84349</td>\n",
              "      <td>-0.05567</td>\n",
              "      <td>0.90441</td>\n",
              "      <td>-0.04622</td>\n",
              "      <td>...</td>\n",
              "      <td>0.95378</td>\n",
              "      <td>-0.04202</td>\n",
              "      <td>0.83479</td>\n",
              "      <td>0.00123</td>\n",
              "      <td>1.00000</td>\n",
              "      <td>0.12815</td>\n",
              "      <td>0.86660</td>\n",
              "      <td>-0.10714</td>\n",
              "      <td>0.90546</td>\n",
              "      <td>-0.04307</td>\n",
              "    </tr>\n",
              "    <tr>\n",
              "      <th>347</th>\n",
              "      <td>1</td>\n",
              "      <td>0</td>\n",
              "      <td>0.95113</td>\n",
              "      <td>0.00419</td>\n",
              "      <td>0.95183</td>\n",
              "      <td>-0.02723</td>\n",
              "      <td>0.93438</td>\n",
              "      <td>-0.01920</td>\n",
              "      <td>0.94590</td>\n",
              "      <td>0.01606</td>\n",
              "      <td>...</td>\n",
              "      <td>0.94520</td>\n",
              "      <td>0.01361</td>\n",
              "      <td>0.93522</td>\n",
              "      <td>0.04925</td>\n",
              "      <td>0.93159</td>\n",
              "      <td>0.08168</td>\n",
              "      <td>0.94066</td>\n",
              "      <td>-0.00035</td>\n",
              "      <td>0.91483</td>\n",
              "      <td>0.04712</td>\n",
              "    </tr>\n",
              "    <tr>\n",
              "      <th>348</th>\n",
              "      <td>1</td>\n",
              "      <td>0</td>\n",
              "      <td>0.94701</td>\n",
              "      <td>-0.00034</td>\n",
              "      <td>0.93207</td>\n",
              "      <td>-0.03227</td>\n",
              "      <td>0.95177</td>\n",
              "      <td>-0.03431</td>\n",
              "      <td>0.95584</td>\n",
              "      <td>0.02446</td>\n",
              "      <td>...</td>\n",
              "      <td>0.93988</td>\n",
              "      <td>0.03193</td>\n",
              "      <td>0.92489</td>\n",
              "      <td>0.02542</td>\n",
              "      <td>0.92120</td>\n",
              "      <td>0.02242</td>\n",
              "      <td>0.92459</td>\n",
              "      <td>0.00442</td>\n",
              "      <td>0.92697</td>\n",
              "      <td>-0.00577</td>\n",
              "    </tr>\n",
              "    <tr>\n",
              "      <th>349</th>\n",
              "      <td>1</td>\n",
              "      <td>0</td>\n",
              "      <td>0.90608</td>\n",
              "      <td>-0.01657</td>\n",
              "      <td>0.98122</td>\n",
              "      <td>-0.01989</td>\n",
              "      <td>0.95691</td>\n",
              "      <td>-0.03646</td>\n",
              "      <td>0.85746</td>\n",
              "      <td>0.00110</td>\n",
              "      <td>...</td>\n",
              "      <td>0.91050</td>\n",
              "      <td>-0.02099</td>\n",
              "      <td>0.89147</td>\n",
              "      <td>-0.07760</td>\n",
              "      <td>0.82983</td>\n",
              "      <td>-0.17238</td>\n",
              "      <td>0.96022</td>\n",
              "      <td>-0.03757</td>\n",
              "      <td>0.87403</td>\n",
              "      <td>-0.16243</td>\n",
              "    </tr>\n",
              "    <tr>\n",
              "      <th>350</th>\n",
              "      <td>1</td>\n",
              "      <td>0</td>\n",
              "      <td>0.84710</td>\n",
              "      <td>0.13533</td>\n",
              "      <td>0.73638</td>\n",
              "      <td>-0.06151</td>\n",
              "      <td>0.87873</td>\n",
              "      <td>0.08260</td>\n",
              "      <td>0.88928</td>\n",
              "      <td>-0.09139</td>\n",
              "      <td>...</td>\n",
              "      <td>0.86467</td>\n",
              "      <td>-0.15114</td>\n",
              "      <td>0.81147</td>\n",
              "      <td>-0.04822</td>\n",
              "      <td>0.78207</td>\n",
              "      <td>-0.00703</td>\n",
              "      <td>0.75747</td>\n",
              "      <td>-0.06678</td>\n",
              "      <td>0.85764</td>\n",
              "      <td>-0.06151</td>\n",
              "    </tr>\n",
              "  </tbody>\n",
              "</table>\n",
              "<p>351 rows × 34 columns</p>\n",
              "</div>\n",
              "      <button class=\"colab-df-convert\" onclick=\"convertToInteractive('df-c6aadd64-ca1d-4402-ad13-1f8758cd6eb3')\"\n",
              "              title=\"Convert this dataframe to an interactive table.\"\n",
              "              style=\"display:none;\">\n",
              "        \n",
              "  <svg xmlns=\"http://www.w3.org/2000/svg\" height=\"24px\"viewBox=\"0 0 24 24\"\n",
              "       width=\"24px\">\n",
              "    <path d=\"M0 0h24v24H0V0z\" fill=\"none\"/>\n",
              "    <path d=\"M18.56 5.44l.94 2.06.94-2.06 2.06-.94-2.06-.94-.94-2.06-.94 2.06-2.06.94zm-11 1L8.5 8.5l.94-2.06 2.06-.94-2.06-.94L8.5 2.5l-.94 2.06-2.06.94zm10 10l.94 2.06.94-2.06 2.06-.94-2.06-.94-.94-2.06-.94 2.06-2.06.94z\"/><path d=\"M17.41 7.96l-1.37-1.37c-.4-.4-.92-.59-1.43-.59-.52 0-1.04.2-1.43.59L10.3 9.45l-7.72 7.72c-.78.78-.78 2.05 0 2.83L4 21.41c.39.39.9.59 1.41.59.51 0 1.02-.2 1.41-.59l7.78-7.78 2.81-2.81c.8-.78.8-2.07 0-2.86zM5.41 20L4 18.59l7.72-7.72 1.47 1.35L5.41 20z\"/>\n",
              "  </svg>\n",
              "      </button>\n",
              "      \n",
              "  <style>\n",
              "    .colab-df-container {\n",
              "      display:flex;\n",
              "      flex-wrap:wrap;\n",
              "      gap: 12px;\n",
              "    }\n",
              "\n",
              "    .colab-df-convert {\n",
              "      background-color: #E8F0FE;\n",
              "      border: none;\n",
              "      border-radius: 50%;\n",
              "      cursor: pointer;\n",
              "      display: none;\n",
              "      fill: #1967D2;\n",
              "      height: 32px;\n",
              "      padding: 0 0 0 0;\n",
              "      width: 32px;\n",
              "    }\n",
              "\n",
              "    .colab-df-convert:hover {\n",
              "      background-color: #E2EBFA;\n",
              "      box-shadow: 0px 1px 2px rgba(60, 64, 67, 0.3), 0px 1px 3px 1px rgba(60, 64, 67, 0.15);\n",
              "      fill: #174EA6;\n",
              "    }\n",
              "\n",
              "    [theme=dark] .colab-df-convert {\n",
              "      background-color: #3B4455;\n",
              "      fill: #D2E3FC;\n",
              "    }\n",
              "\n",
              "    [theme=dark] .colab-df-convert:hover {\n",
              "      background-color: #434B5C;\n",
              "      box-shadow: 0px 1px 3px 1px rgba(0, 0, 0, 0.15);\n",
              "      filter: drop-shadow(0px 1px 2px rgba(0, 0, 0, 0.3));\n",
              "      fill: #FFFFFF;\n",
              "    }\n",
              "  </style>\n",
              "\n",
              "      <script>\n",
              "        const buttonEl =\n",
              "          document.querySelector('#df-c6aadd64-ca1d-4402-ad13-1f8758cd6eb3 button.colab-df-convert');\n",
              "        buttonEl.style.display =\n",
              "          google.colab.kernel.accessAllowed ? 'block' : 'none';\n",
              "\n",
              "        async function convertToInteractive(key) {\n",
              "          const element = document.querySelector('#df-c6aadd64-ca1d-4402-ad13-1f8758cd6eb3');\n",
              "          const dataTable =\n",
              "            await google.colab.kernel.invokeFunction('convertToInteractive',\n",
              "                                                     [key], {});\n",
              "          if (!dataTable) return;\n",
              "\n",
              "          const docLinkHtml = 'Like what you see? Visit the ' +\n",
              "            '<a target=\"_blank\" href=https://colab.research.google.com/notebooks/data_table.ipynb>data table notebook</a>'\n",
              "            + ' to learn more about interactive tables.';\n",
              "          element.innerHTML = '';\n",
              "          dataTable['output_type'] = 'display_data';\n",
              "          await google.colab.output.renderOutput(dataTable, element);\n",
              "          const docLink = document.createElement('div');\n",
              "          docLink.innerHTML = docLinkHtml;\n",
              "          element.appendChild(docLink);\n",
              "        }\n",
              "      </script>\n",
              "    </div>\n",
              "  </div>\n",
              "  "
            ]
          },
          "metadata": {},
          "execution_count": 88
        }
      ],
      "source": [
        "data = df.iloc[:,:34]\n",
        "data"
      ]
    },
    {
      "cell_type": "code",
      "execution_count": 91,
      "metadata": {
        "ExecuteTime": {
          "end_time": "2022-05-03T04:20:56.303242Z",
          "start_time": "2022-05-03T04:20:56.297605Z"
        },
        "id": "Ifbbr5hnET9Q"
      },
      "outputs": [],
      "source": [
        "target = df['class']\n",
        "target\n",
        "\n",
        "target_num_encoded= df['Number Encoded class']\n"
      ]
    },
    {
      "cell_type": "code",
      "execution_count": null,
      "metadata": {
        "ExecuteTime": {
          "end_time": "2022-05-03T04:20:59.601904Z",
          "start_time": "2022-05-03T04:20:59.596929Z"
        },
        "id": "brxaXj8eET9R",
        "outputId": "19c522d9-70ef-4599-9c4c-043acdc2c5ae",
        "colab": {
          "base_uri": "https://localhost:8080/"
        }
      },
      "outputs": [
        {
          "output_type": "execute_result",
          "data": {
            "text/plain": [
              "g    225\n",
              "b    126\n",
              "Name: class, dtype: int64"
            ]
          },
          "metadata": {},
          "execution_count": 12
        }
      ],
      "source": [
        "target.value_counts()"
      ]
    },
    {
      "cell_type": "code",
      "source": [
        "target_num_encoded.value_counts()"
      ],
      "metadata": {
        "colab": {
          "base_uri": "https://localhost:8080/"
        },
        "id": "uq_XhSi7xP8_",
        "outputId": "b52d9ab3-5786-4537-f272-76093ce52c93"
      },
      "execution_count": 92,
      "outputs": [
        {
          "output_type": "execute_result",
          "data": {
            "text/plain": [
              "1    225\n",
              "0    126\n",
              "Name: Number Encoded class, dtype: int64"
            ]
          },
          "metadata": {},
          "execution_count": 92
        }
      ]
    },
    {
      "cell_type": "code",
      "execution_count": 95,
      "metadata": {
        "ExecuteTime": {
          "end_time": "2022-05-03T04:21:07.238790Z",
          "start_time": "2022-05-03T04:21:06.700678Z"
        },
        "id": "afJ85o3lET9S"
      },
      "outputs": [],
      "source": [
        "from sklearn.model_selection import train_test_split\n",
        "X_train, X_test, y_train, y_test = train_test_split(\n",
        "    data, target, stratify=target, random_state=0)\n",
        "\n",
        "from sklearn.model_selection import train_test_split\n",
        "X_train, X_test, y_train_encoded, y_test_encoded = train_test_split(\n",
        "    data, target_num_encoded, stratify=target_num_encoded, random_state=0)\n"
      ]
    },
    {
      "cell_type": "code",
      "execution_count": 96,
      "metadata": {
        "ExecuteTime": {
          "end_time": "2022-05-03T04:21:12.554949Z",
          "start_time": "2022-05-03T04:21:12.550865Z"
        },
        "id": "ZeG5cBLDET9S",
        "outputId": "d0ba638e-09f1-4514-a932-69b3e127ef3e",
        "colab": {
          "base_uri": "https://localhost:8080/"
        }
      },
      "outputs": [
        {
          "output_type": "execute_result",
          "data": {
            "text/plain": [
              "g    169\n",
              "b     94\n",
              "Name: class, dtype: int64"
            ]
          },
          "metadata": {},
          "execution_count": 96
        }
      ],
      "source": [
        "y_train.value_counts()"
      ]
    },
    {
      "cell_type": "code",
      "execution_count": 97,
      "metadata": {
        "ExecuteTime": {
          "end_time": "2022-05-03T04:21:15.112197Z",
          "start_time": "2022-05-03T04:21:15.106927Z"
        },
        "id": "JsK-3L78ET9T",
        "outputId": "b9aa3a10-43bb-48ae-d25a-904ad1934ea1",
        "colab": {
          "base_uri": "https://localhost:8080/"
        }
      },
      "outputs": [
        {
          "output_type": "execute_result",
          "data": {
            "text/plain": [
              "g    56\n",
              "b    32\n",
              "Name: class, dtype: int64"
            ]
          },
          "metadata": {},
          "execution_count": 97
        }
      ],
      "source": [
        "y_test.value_counts()"
      ]
    },
    {
      "cell_type": "code",
      "source": [
        "y_train_encoded.value_counts()"
      ],
      "metadata": {
        "colab": {
          "base_uri": "https://localhost:8080/"
        },
        "id": "vyZ43rtfx6tz",
        "outputId": "1ee15a61-d380-40b9-8164-83723a3c69a8"
      },
      "execution_count": 98,
      "outputs": [
        {
          "output_type": "execute_result",
          "data": {
            "text/plain": [
              "1    169\n",
              "0     94\n",
              "Name: Number Encoded class, dtype: int64"
            ]
          },
          "metadata": {},
          "execution_count": 98
        }
      ]
    },
    {
      "cell_type": "code",
      "source": [
        "y_test_encoded.value_counts()"
      ],
      "metadata": {
        "colab": {
          "base_uri": "https://localhost:8080/"
        },
        "id": "z6NUHvb6x65B",
        "outputId": "cd542cbe-7bc1-4f98-8ae4-a7fe7690be2d"
      },
      "execution_count": 100,
      "outputs": [
        {
          "output_type": "execute_result",
          "data": {
            "text/plain": [
              "1    56\n",
              "0    32\n",
              "Name: Number Encoded class, dtype: int64"
            ]
          },
          "metadata": {},
          "execution_count": 100
        }
      ]
    },
    {
      "cell_type": "markdown",
      "metadata": {
        "id": "jPGv5MpGET9T"
      },
      "source": [
        "<font color='red'>Assignment:</font> Build a pipeline with **RobustScaler** and **LogisticRegression**."
      ]
    },
    {
      "cell_type": "code",
      "execution_count": 101,
      "metadata": {
        "id": "mIbq1QA9ET9U"
      },
      "outputs": [],
      "source": [
        "#Pipeline with RobustScaler and Logistic Regression\n",
        "from sklearn.pipeline import Pipeline\n",
        "from sklearn.preprocessing import RobustScaler\n",
        "from sklearn.linear_model import LogisticRegression\n",
        "\n",
        "\n",
        "steps = [('scale', RobustScaler()),\n",
        "         ('log_reg', LogisticRegression())]\n",
        "\n",
        "pipe=Pipeline(steps)\n",
        "\n",
        "pipe2=Pipeline(steps)\n",
        "\n",
        "\n"
      ]
    },
    {
      "cell_type": "markdown",
      "metadata": {
        "id": "Wj-dhsuRET9U"
      },
      "source": [
        "<font color='red'>Question:</font> What is logistic regression? Is logistic regression a regression model?"
      ]
    },
    {
      "cell_type": "markdown",
      "source": [
        "Linear Regression is all about fitting a straight line in the data while Logistic Regression is about fitting a curve to the data.\n",
        " Linear Regression is a regression algorithm for Machine Learning while Logistic Regression is a classification Algorithm for machine learning.\n",
        "\n",
        "** Logistic Regression is a classification model.**\n",
        "\n"
      ],
      "metadata": {
        "id": "o7w7CnaYmkbj"
      }
    },
    {
      "cell_type": "markdown",
      "source": [
        "Logistic Regression (Logit)\n",
        "Limited Dependent Variables\n",
        "The dependent variable may be discrete, and could be binomial or multinomial. That is, the dependent variable is limited. In such cases, we need a different approach.\n",
        "\n",
        "Discrete dependent variables are a special case of limited dependent variables. The Logit model we look at here is a discrete dependent variable model. Such models are also often called qualitative response (QR) models."
      ],
      "metadata": {
        "id": "Tq0N0zySsvQ-"
      }
    },
    {
      "cell_type": "markdown",
      "source": [
        "The Logistic Function\n",
        "𝑦=11+𝑒−𝑓(𝑥1,𝑥2,...,𝑥𝑛)∈(0,1) \n",
        "\n",
        "where\n",
        "\n",
        "𝑓(𝑥1,𝑥2,...,𝑥𝑛)=𝑎0+𝑎1𝑥1+...+𝑎𝑛𝑥𝑛∈(−∞,+∞)"
      ],
      "metadata": {
        "id": "Y0YCRZ6rswzc"
      }
    },
    {
      "cell_type": "code",
      "execution_count": 149,
      "metadata": {
        "id": "cxSZA4sEET9U"
      },
      "outputs": [],
      "source": [
        ""
      ]
    },
    {
      "cell_type": "markdown",
      "source": [
        "#Sigmoid Function\n",
        "def logit(fx):\n",
        "    return exp(fx)/(1+exp(fx))\n",
        "\n",
        "fx = linspace(-4,4,100)\n",
        "y = logit(fx)\n",
        "plot(fx,y)\n",
        "xlabel('f(x)')\n",
        "ylabel('Logit value')\n",
        "grid()"
      ],
      "metadata": {
        "id": "sibXYugMmGG5"
      }
    },
    {
      "cell_type": "markdown",
      "source": [
        ""
      ],
      "metadata": {
        "id": "Ht81l6ZQly_H"
      }
    },
    {
      "cell_type": "markdown",
      "source": [
        "Sigmoid Function: A general mathematical function that has an S-shaped curve, or sigmoid curve, which is bounded, differentiable, and real. Logistic Function: A certain sigmoid function that is widely used in binary classification problems using logistic regression.\n",
        "Sigmoid Function acts as an activation function in machine learning which is used to add non-linearity in a machine learning model, in simple words it decides which value to pass as output and what not to pass"
      ],
      "metadata": {
        "id": "CqAj3H6Gl8pn"
      }
    },
    {
      "cell_type": "markdown",
      "metadata": {
        "id": "NjE_0ztkET9U"
      },
      "source": [
        "<font color='red'>Question:</font> Is logistic regression a linear algorithm? What is the relationship between logistic regression and linear regression?"
      ]
    },
    {
      "cell_type": "code",
      "source": [
        ""
      ],
      "metadata": {
        "id": "OHmX9Ciqm2vJ"
      },
      "execution_count": null,
      "outputs": []
    },
    {
      "cell_type": "code",
      "execution_count": null,
      "metadata": {
        "id": "eWE_NQSAET9U"
      },
      "outputs": [],
      "source": [
        ""
      ]
    },
    {
      "cell_type": "markdown",
      "source": [
        "Linear Regression is a commonly used supervised Machine Learning algorithm that predicts continuous values. Linear Regression assumes that there is a linear relationship present between dependent and independent variables. In simple words, it finds the best fitting line/plane that describes two or more variables.\n",
        "\n",
        "On the other hand, Logistic Regression is another supervised Machine Learning algorithm that helps fundamentally in binary classification (separating discreet values).\n",
        "\n",
        "Although the usage of Linear Regression and Logistic Regression algorithm is completely different, mathematically we can observe that with an additional step we can convert Linear Regression into Logistic Regression."
      ],
      "metadata": {
        "id": "84krF3Tlm2FQ"
      }
    },
    {
      "cell_type": "markdown",
      "metadata": {
        "id": "VPSbCzD6ET9V"
      },
      "source": [
        "<font color='red'>Question:</font> What is sigmoid function? What is it for?"
      ]
    },
    {
      "cell_type": "markdown",
      "source": [
        "#Sigmoid Function\n",
        "def logit(fx):\n",
        "    return exp(fx)/(1+exp(fx))\n",
        "\n",
        "fx = linspace(-4,4,100)\n",
        "y = logit(fx)\n",
        "plot(fx,y)\n",
        "xlabel('f(x)')\n",
        "ylabel('Logit value')\n",
        "grid()"
      ],
      "metadata": {
        "id": "6JlOWgaHl1v5"
      }
    },
    {
      "cell_type": "code",
      "execution_count": null,
      "metadata": {
        "id": "6Shay38OET9V"
      },
      "outputs": [],
      "source": [
        ""
      ]
    },
    {
      "cell_type": "markdown",
      "metadata": {
        "id": "ai_09fl4ET9V"
      },
      "source": [
        "<font color='red'>Assignment:</font> Train the model using training data, and make predictions based on training set and test set, and assign the outputs to **y_train_pred** and **y_test_pred**, respectively."
      ]
    },
    {
      "cell_type": "code",
      "execution_count": 103,
      "metadata": {
        "id": "z5RdGc2QET9V",
        "colab": {
          "base_uri": "https://localhost:8080/",
          "height": 517
        },
        "outputId": "fb5c6694-a664-4e07-9062-3e429092d7e5"
      },
      "outputs": [
        {
          "output_type": "display_data",
          "data": {
            "text/plain": [
              "array(['g', 'b', 'b', 'b', 'g', 'g', 'g', 'g', 'b', 'g', 'b', 'g', 'g',\n",
              "       'b', 'b', 'g', 'g', 'b', 'g', 'g', 'g', 'g', 'g', 'g', 'g', 'b',\n",
              "       'b', 'g', 'b', 'b', 'g', 'g', 'b', 'g', 'b', 'g', 'g', 'g', 'g',\n",
              "       'g', 'g', 'g', 'g', 'b', 'g', 'g', 'b', 'b', 'b', 'b', 'b', 'g',\n",
              "       'b', 'b', 'g', 'g', 'b', 'b', 'g', 'g', 'g', 'g', 'g', 'g', 'b',\n",
              "       'g', 'g', 'b', 'g', 'b', 'b', 'g', 'b', 'b', 'b', 'g', 'g', 'b',\n",
              "       'b', 'g', 'g', 'g', 'g', 'g', 'g', 'g', 'g', 'g', 'g', 'g', 'g',\n",
              "       'b', 'g', 'g', 'g', 'b', 'g', 'g', 'g', 'g', 'g', 'g', 'g', 'g',\n",
              "       'g', 'b', 'g', 'g', 'g', 'b', 'g', 'g', 'b', 'g', 'b', 'b', 'g',\n",
              "       'g', 'b', 'g', 'g', 'b', 'g', 'g', 'g', 'g', 'g', 'g', 'b', 'g',\n",
              "       'g', 'b', 'g', 'g', 'g', 'b', 'g', 'g', 'g', 'g', 'g', 'g', 'g',\n",
              "       'g', 'g', 'g', 'g', 'g', 'g', 'b', 'g', 'b', 'b', 'b', 'g', 'g',\n",
              "       'g', 'b', 'b', 'g', 'b', 'b', 'g', 'b', 'g', 'g', 'g', 'g', 'g',\n",
              "       'g', 'g', 'g', 'b', 'b', 'b', 'g', 'g', 'g', 'b', 'g', 'g', 'g',\n",
              "       'g', 'g', 'g', 'b', 'b', 'g', 'b', 'g', 'g', 'g', 'g', 'g', 'b',\n",
              "       'g', 'b', 'g', 'b', 'b', 'b', 'g', 'g', 'g', 'g', 'g', 'g', 'g',\n",
              "       'g', 'b', 'b', 'g', 'g', 'g', 'g', 'g', 'g', 'g', 'g', 'b', 'g',\n",
              "       'b', 'b', 'g', 'g', 'b', 'g', 'g', 'b', 'b', 'g', 'g', 'g', 'g',\n",
              "       'b', 'g', 'b', 'g', 'g', 'g', 'g', 'g', 'g', 'b', 'b', 'g', 'g',\n",
              "       'b', 'g', 'b', 'g', 'g', 'g', 'g', 'g', 'b', 'b', 'g', 'b', 'g',\n",
              "       'b', 'g', 'b'], dtype=object)"
            ]
          },
          "metadata": {}
        },
        {
          "output_type": "display_data",
          "data": {
            "text/plain": [
              "array(['g', 'g', 'g', 'g', 'g', 'b', 'g', 'g', 'g', 'g', 'b', 'g', 'g',\n",
              "       'b', 'g', 'g', 'b', 'g', 'g', 'b', 'b', 'g', 'g', 'g', 'g', 'g',\n",
              "       'g', 'g', 'b', 'g', 'g', 'g', 'g', 'g', 'g', 'b', 'g', 'g', 'g',\n",
              "       'b', 'g', 'g', 'b', 'b', 'g', 'g', 'g', 'g', 'g', 'b', 'g', 'g',\n",
              "       'b', 'g', 'g', 'g', 'g', 'g', 'g', 'b', 'g', 'g', 'g', 'g', 'b',\n",
              "       'b', 'b', 'b', 'g', 'b', 'g', 'g', 'b', 'b', 'g', 'b', 'b', 'g',\n",
              "       'g', 'g', 'g', 'g', 'g', 'g', 'g', 'b', 'b', 'g'], dtype=object)"
            ]
          },
          "metadata": {}
        }
      ],
      "source": [
        "pipe.fit(X_train, y_train)\n",
        "pipe2.fit(X_train,y_train)\n",
        "\n",
        "y_train_pred= pipe.predict(X_train)\n",
        "display(y_train_pred)\n",
        "\n",
        "y_test_pred= pipe.predict(X_test)\n",
        "display(y_test_pred)\n",
        "\n",
        "\n"
      ]
    },
    {
      "cell_type": "code",
      "source": [
        "y_train_pred_enc=pipe2.predict(X_train)\n",
        "display(y_train_pred_enc)\n",
        "\n",
        "y_test_pred_enc=pipe2.predict(X_test)\n",
        "display(y_test_pred_enc)"
      ],
      "metadata": {
        "colab": {
          "base_uri": "https://localhost:8080/",
          "height": 517
        },
        "id": "1r9kf5dHzz4F",
        "outputId": "18a036bf-b627-4e29-bc29-ef1e1b43a601"
      },
      "execution_count": 106,
      "outputs": [
        {
          "output_type": "display_data",
          "data": {
            "text/plain": [
              "array(['g', 'b', 'b', 'b', 'g', 'g', 'g', 'g', 'b', 'g', 'b', 'g', 'g',\n",
              "       'b', 'b', 'g', 'g', 'b', 'g', 'g', 'g', 'g', 'g', 'g', 'g', 'b',\n",
              "       'b', 'g', 'b', 'b', 'g', 'g', 'b', 'g', 'b', 'g', 'g', 'g', 'g',\n",
              "       'g', 'g', 'g', 'g', 'b', 'g', 'g', 'b', 'b', 'b', 'b', 'b', 'g',\n",
              "       'b', 'b', 'g', 'g', 'b', 'b', 'g', 'g', 'g', 'g', 'g', 'g', 'b',\n",
              "       'g', 'g', 'b', 'g', 'b', 'b', 'g', 'b', 'b', 'b', 'g', 'g', 'b',\n",
              "       'b', 'g', 'g', 'g', 'g', 'g', 'g', 'g', 'g', 'g', 'g', 'g', 'g',\n",
              "       'b', 'g', 'g', 'g', 'b', 'g', 'g', 'g', 'g', 'g', 'g', 'g', 'g',\n",
              "       'g', 'b', 'g', 'g', 'g', 'b', 'g', 'g', 'b', 'g', 'b', 'b', 'g',\n",
              "       'g', 'b', 'g', 'g', 'b', 'g', 'g', 'g', 'g', 'g', 'g', 'b', 'g',\n",
              "       'g', 'b', 'g', 'g', 'g', 'b', 'g', 'g', 'g', 'g', 'g', 'g', 'g',\n",
              "       'g', 'g', 'g', 'g', 'g', 'g', 'b', 'g', 'b', 'b', 'b', 'g', 'g',\n",
              "       'g', 'b', 'b', 'g', 'b', 'b', 'g', 'b', 'g', 'g', 'g', 'g', 'g',\n",
              "       'g', 'g', 'g', 'b', 'b', 'b', 'g', 'g', 'g', 'b', 'g', 'g', 'g',\n",
              "       'g', 'g', 'g', 'b', 'b', 'g', 'b', 'g', 'g', 'g', 'g', 'g', 'b',\n",
              "       'g', 'b', 'g', 'b', 'b', 'b', 'g', 'g', 'g', 'g', 'g', 'g', 'g',\n",
              "       'g', 'b', 'b', 'g', 'g', 'g', 'g', 'g', 'g', 'g', 'g', 'b', 'g',\n",
              "       'b', 'b', 'g', 'g', 'b', 'g', 'g', 'b', 'b', 'g', 'g', 'g', 'g',\n",
              "       'b', 'g', 'b', 'g', 'g', 'g', 'g', 'g', 'g', 'b', 'b', 'g', 'g',\n",
              "       'b', 'g', 'b', 'g', 'g', 'g', 'g', 'g', 'b', 'b', 'g', 'b', 'g',\n",
              "       'b', 'g', 'b'], dtype=object)"
            ]
          },
          "metadata": {}
        },
        {
          "output_type": "display_data",
          "data": {
            "text/plain": [
              "array(['g', 'g', 'g', 'g', 'g', 'b', 'g', 'g', 'g', 'g', 'b', 'g', 'g',\n",
              "       'b', 'g', 'g', 'b', 'g', 'g', 'b', 'b', 'g', 'g', 'g', 'g', 'g',\n",
              "       'g', 'g', 'b', 'g', 'g', 'g', 'g', 'g', 'g', 'b', 'g', 'g', 'g',\n",
              "       'b', 'g', 'g', 'b', 'b', 'g', 'g', 'g', 'g', 'g', 'b', 'g', 'g',\n",
              "       'b', 'g', 'g', 'g', 'g', 'g', 'g', 'b', 'g', 'g', 'g', 'g', 'b',\n",
              "       'b', 'b', 'b', 'g', 'b', 'g', 'g', 'b', 'b', 'g', 'b', 'b', 'g',\n",
              "       'g', 'g', 'g', 'g', 'g', 'g', 'g', 'b', 'b', 'g'], dtype=object)"
            ]
          },
          "metadata": {}
        }
      ]
    },
    {
      "cell_type": "markdown",
      "metadata": {
        "id": "mFhwNBqtET9V"
      },
      "source": [
        "<font color='red'>Question:</font> What are the shapes of **y_train_pred** and **y_test_pred**? What do the values in **y_train_pred** and **y_test_pred** mean?"
      ]
    },
    {
      "cell_type": "code",
      "execution_count": 14,
      "metadata": {
        "id": "aAv8PaQgET9W",
        "colab": {
          "base_uri": "https://localhost:8080/"
        },
        "outputId": "46ab652b-d270-43bd-9a96-935dd22de3c7"
      },
      "outputs": [
        {
          "output_type": "stream",
          "name": "stdout",
          "text": [
            "(263,)\n",
            "(88,)\n"
          ]
        }
      ],
      "source": [
        "print(y_train_pred.shape)\n",
        "print(y_test_pred.shape)\n",
        "\n",
        "\n"
      ]
    },
    {
      "cell_type": "markdown",
      "source": [
        "The outputs are either 'b' or 'g'. They clearly mean that classification is working well for the purpose of multiclass fitting.\n",
        "\n",
        "Here, each row in the dataset belongs to either class 'b' or class 'g'.\n",
        "Therefore, the  values in y_train_pred and y_test_pred reflect the kind of predicted class that they belong to, after the model is fit and trained on th e labels(supervised labels.)"
      ],
      "metadata": {
        "id": "TGih1Q9WTSWi"
      }
    },
    {
      "cell_type": "markdown",
      "metadata": {
        "id": "4n6p1O4IET9W"
      },
      "source": [
        "<font color='red'>Assignment:</font> Calculate the training and testing accuracy scores."
      ]
    },
    {
      "cell_type": "code",
      "execution_count": 15,
      "metadata": {
        "id": "is7gHuViET9W",
        "colab": {
          "base_uri": "https://localhost:8080/"
        },
        "outputId": "db5fd006-6c93-4867-8d2d-748379f633b3"
      },
      "outputs": [
        {
          "output_type": "stream",
          "name": "stdout",
          "text": [
            "Training accuracy score is:  0.8522727272727273\n",
            "Testing accuracy score is: 0.9125475285171103\n"
          ]
        }
      ],
      "source": [
        "print('Training accuracy score is: ',pipe.score(X_test, y_test))\n",
        "\n",
        "print('Testing accuracy score is:', pipe.score(X_train,y_train))\n",
        "\n"
      ]
    },
    {
      "cell_type": "markdown",
      "metadata": {
        "id": "IFoB881yET9W"
      },
      "source": [
        "<font color='red'>Assignment:</font> Calculate the precision, recall, and f1 scores. You can use classification report."
      ]
    },
    {
      "cell_type": "code",
      "execution_count": 18,
      "metadata": {
        "id": "Xx0cr0BlET9W",
        "colab": {
          "base_uri": "https://localhost:8080/"
        },
        "outputId": "7254e1e2-c016-41aa-b2d9-8d6b8b393585"
      },
      "outputs": [
        {
          "output_type": "stream",
          "name": "stdout",
          "text": [
            "Accuracy score is:  0.8522727272727273\n",
            "Precision score label b is: 0.88\n",
            "Recall score label b is: 0.8297872340425532\n",
            "F1 score label b is: 0.871508379888268\n",
            "Precision score label g is: 0.8412698412698413\n",
            "Recall score label g is: 0.9585798816568047\n",
            "F1 score label g is: 0.9337175792507205\n",
            "              precision    recall  f1-score   support\n",
            "\n",
            "           b       0.88      0.69      0.77        32\n",
            "           g       0.84      0.95      0.89        56\n",
            "\n",
            "    accuracy                           0.85        88\n",
            "   macro avg       0.86      0.82      0.83        88\n",
            "weighted avg       0.86      0.85      0.85        88\n",
            "\n"
          ]
        }
      ],
      "source": [
        "from sklearn.metrics import accuracy_score\n",
        "from sklearn.metrics import precision_score\n",
        "from sklearn.metrics import  recall_score\n",
        "from sklearn.metrics import f1_score\n",
        "from sklearn.metrics import classification_report\n",
        "\n",
        "print('Accuracy score is: ',accuracy_score(y_test, y_test_pred))\n",
        "\n",
        "##For pos_label=b\n",
        "print('Precision score label b is:',precision_score(y_test, y_test_pred,pos_label='b'))\n",
        "\n",
        "print('Recall score label b is:',recall_score(y_train,y_train_pred,pos_label='b'))\n",
        "\n",
        "print('F1 score label b is:',f1_score(y_train,y_train_pred,pos_label='b'))\n",
        "\n",
        "##For pos_label=g\n",
        "\n",
        "print('Precision score label g is:',precision_score(y_test, y_test_pred,pos_label='g'))\n",
        "\n",
        "print('Recall score label g is:',recall_score(y_train,y_train_pred,pos_label='g'))\n",
        "\n",
        "print('F1 score label g is:',f1_score(y_train,y_train_pred,pos_label='g'))\n",
        "\n",
        "\n",
        "print(classification_report(y_test, y_test_pred))\n",
        "\n",
        "\n"
      ]
    },
    {
      "cell_type": "markdown",
      "metadata": {
        "id": "iBtvZk4aET9W"
      },
      "source": [
        "<font color='red'>Assignment:</font> Get the confusion matrix."
      ]
    },
    {
      "cell_type": "code",
      "execution_count": null,
      "metadata": {
        "id": "65Er1ydXET9W",
        "colab": {
          "base_uri": "https://localhost:8080/"
        },
        "outputId": "38a7e5cc-388a-46cb-b488-7f5eaebde450"
      },
      "outputs": [
        {
          "output_type": "stream",
          "name": "stdout",
          "text": [
            "[[ 78  16]\n",
            " [  7 162]]\n",
            "[[22 10]\n",
            " [ 3 53]]\n"
          ]
        }
      ],
      "source": [
        "from sklearn.metrics import confusion_matrix\n",
        "\n",
        "print(confusion_matrix(y_train, y_train_pred))\n",
        "\n",
        "print(confusion_matrix(y_test, y_test_pred))\n",
        "\n",
        "\n",
        "\n",
        "\n",
        "\n",
        "\n"
      ]
    },
    {
      "cell_type": "markdown",
      "metadata": {
        "id": "aeAYV3CwET9X"
      },
      "source": [
        "<font color='red'>Assignment:</font> Set class_weight in Logistic Regression and retrain the model."
      ]
    },
    {
      "cell_type": "code",
      "execution_count": 19,
      "metadata": {
        "id": "YUpEi6wDET9X",
        "colab": {
          "base_uri": "https://localhost:8080/",
          "height": 517
        },
        "outputId": "22b9d2a3-198c-4588-e13e-bc7d82fae142"
      },
      "outputs": [
        {
          "output_type": "display_data",
          "data": {
            "text/plain": [
              "array(['g', 'b', 'b', 'b', 'g', 'g', 'g', 'g', 'b', 'g', 'b', 'g', 'g',\n",
              "       'b', 'b', 'g', 'g', 'b', 'g', 'g', 'g', 'g', 'g', 'g', 'g', 'b',\n",
              "       'b', 'g', 'b', 'b', 'g', 'g', 'b', 'g', 'b', 'g', 'g', 'g', 'g',\n",
              "       'g', 'g', 'g', 'g', 'b', 'g', 'g', 'b', 'b', 'b', 'b', 'b', 'g',\n",
              "       'b', 'b', 'g', 'g', 'b', 'b', 'g', 'g', 'g', 'g', 'g', 'g', 'b',\n",
              "       'g', 'g', 'b', 'g', 'b', 'b', 'g', 'b', 'b', 'b', 'g', 'g', 'b',\n",
              "       'b', 'g', 'g', 'g', 'g', 'g', 'g', 'g', 'g', 'g', 'g', 'g', 'g',\n",
              "       'b', 'g', 'g', 'g', 'b', 'g', 'g', 'g', 'g', 'g', 'g', 'g', 'g',\n",
              "       'g', 'b', 'g', 'g', 'g', 'b', 'g', 'g', 'b', 'g', 'b', 'b', 'g',\n",
              "       'g', 'b', 'g', 'g', 'b', 'g', 'g', 'g', 'g', 'g', 'g', 'b', 'g',\n",
              "       'g', 'b', 'g', 'g', 'g', 'b', 'g', 'g', 'g', 'g', 'g', 'g', 'g',\n",
              "       'g', 'g', 'g', 'g', 'g', 'g', 'b', 'g', 'b', 'b', 'b', 'g', 'g',\n",
              "       'g', 'b', 'b', 'g', 'b', 'b', 'g', 'b', 'g', 'g', 'g', 'g', 'g',\n",
              "       'g', 'g', 'g', 'b', 'b', 'b', 'g', 'g', 'g', 'b', 'g', 'g', 'g',\n",
              "       'g', 'g', 'g', 'b', 'b', 'g', 'b', 'g', 'g', 'g', 'g', 'g', 'b',\n",
              "       'g', 'b', 'g', 'b', 'b', 'b', 'g', 'g', 'g', 'g', 'g', 'g', 'g',\n",
              "       'g', 'b', 'b', 'g', 'g', 'g', 'g', 'g', 'g', 'g', 'g', 'b', 'g',\n",
              "       'b', 'b', 'g', 'g', 'b', 'g', 'g', 'b', 'b', 'g', 'g', 'g', 'g',\n",
              "       'b', 'g', 'b', 'g', 'g', 'g', 'g', 'g', 'g', 'b', 'b', 'g', 'g',\n",
              "       'b', 'g', 'b', 'g', 'g', 'g', 'g', 'g', 'b', 'b', 'g', 'b', 'g',\n",
              "       'b', 'g', 'b'], dtype=object)"
            ]
          },
          "metadata": {}
        },
        {
          "output_type": "display_data",
          "data": {
            "text/plain": [
              "array(['g', 'g', 'g', 'g', 'g', 'b', 'g', 'g', 'g', 'g', 'b', 'g', 'g',\n",
              "       'b', 'g', 'g', 'b', 'g', 'g', 'b', 'b', 'g', 'g', 'g', 'g', 'g',\n",
              "       'g', 'g', 'b', 'g', 'g', 'g', 'g', 'g', 'g', 'b', 'g', 'g', 'g',\n",
              "       'b', 'g', 'g', 'b', 'b', 'g', 'g', 'g', 'g', 'g', 'b', 'g', 'g',\n",
              "       'b', 'g', 'g', 'g', 'g', 'g', 'g', 'b', 'g', 'g', 'g', 'g', 'b',\n",
              "       'b', 'b', 'b', 'g', 'b', 'g', 'g', 'b', 'b', 'g', 'b', 'b', 'g',\n",
              "       'g', 'g', 'g', 'g', 'g', 'g', 'g', 'b', 'b', 'g'], dtype=object)"
            ]
          },
          "metadata": {}
        }
      ],
      "source": [
        "steps2 = [('scale', RobustScaler()),\n",
        "         ('log_reg', LogisticRegression(class_weight='balanced'))]\n",
        "\n",
        "pipe2=Pipeline(steps2)\n",
        "\n",
        "pipe2.fit(X_train,y_train)\n",
        "\n",
        "y_train_pred_2= pipe.predict(X_train)\n",
        "display(y_train_pred_2)\n",
        "\n",
        "y_test_pred_2= pipe.predict(X_test)\n",
        "display(y_test_pred_2)\n"
      ]
    },
    {
      "cell_type": "markdown",
      "source": [
        "class_weight = None means errors are equally weighted, however sometimes mis-classifying one class might be worse.\n",
        "\n",
        "class_weight = ‘balanced’ means that instead for each observation to be weighted equally, each class is weighted equally, helps with auc_roc score.\n",
        "With a class_weight = {0:1, 1:10}, the second value is weighted 10 times greater than the first."
      ],
      "metadata": {
        "id": "zkMq6jtkbf3f"
      }
    },
    {
      "cell_type": "markdown",
      "metadata": {
        "id": "LD_t1ZvgET9X"
      },
      "source": [
        "<font color='red'>Assignment:</font> Re-calcualte all the above metrics and confusion matrix."
      ]
    },
    {
      "cell_type": "markdown",
      "source": [
        "Metrics before class_weight= 'balanced'\n",
        "\n",
        "Accuracy score is:  0.8522727272727273\n",
        "Precision score label b is: 0.88\n",
        "Recall score label b is: 0.8297872340425532\n",
        "F1 score label b is: 0.871508379888268\n",
        "Precision score label g is: 0.8412698412698413\n",
        "Recall score label g is: 0.9585798816568047\n",
        "F1 score label g is: 0.9337175792507205\n",
        "              \n",
        "              \n",
        "              precision    recall  f1-score   support\n",
        "\n",
        "           b       0.88      0.69      0.77        32\n",
        "           g       0.84      0.95      0.89        56\n",
        "\n",
        "    accuracy                           0.85        88\n",
        "   macro avg       0.86      0.82      0.83        88\n",
        "weighted avg       0.86      0.85      0.85        88\n"
      ],
      "metadata": {
        "id": "OiCdmB0VQYAJ"
      }
    },
    {
      "cell_type": "code",
      "execution_count": 115,
      "metadata": {
        "id": "hn89IWfcET9X",
        "colab": {
          "base_uri": "https://localhost:8080/"
        },
        "outputId": "80d260bf-9131-4a02-f851-3c386c885391"
      },
      "outputs": [
        {
          "output_type": "stream",
          "name": "stdout",
          "text": [
            "Accuracy score is:  0.8522727272727273\n",
            "Precision score label b train set is: 0.88\n",
            "Precision score label b test set is: 0.88\n",
            "Recall score label b  train set is: 0.8297872340425532\n",
            "Recall score label b  test set is: 0.6875\n",
            "F1 score label b train set is: 0.871508379888268\n",
            "F1 score label b test set is: 0.7719298245614036\n",
            "Precision score label g is: 0.8412698412698413\n",
            "Recall score label g is: 0.9585798816568047\n",
            "F1 score label g is: 0.9337175792507205\n",
            "              precision    recall  f1-score   support\n",
            "\n",
            "           b       0.88      0.69      0.77        32\n",
            "           g       0.84      0.95      0.89        56\n",
            "\n",
            "    accuracy                           0.85        88\n",
            "   macro avg       0.86      0.82      0.83        88\n",
            "weighted avg       0.86      0.85      0.85        88\n",
            "\n"
          ]
        }
      ],
      "source": [
        "#Calculating metrics after setting class_weight='balanced'.\n",
        "\n",
        "from sklearn.metrics import accuracy_score\n",
        "from sklearn.metrics import precision_score\n",
        "from sklearn.metrics import  recall_score\n",
        "from sklearn.metrics import f1_score\n",
        "from sklearn.metrics import classification_report\n",
        "\n",
        "print('Accuracy score is: ',accuracy_score(y_test, y_test_pred))\n",
        "\n",
        "##For pos_label=b\n",
        "print('Precision score label b train set is:',precision_score(y_test, y_test_pred_2,pos_label='b'))\n",
        "\n",
        "print('Precision score label b test set is:',precision_score(y_test, y_test_pred_2,pos_label='b'))\n",
        "\n",
        "print('Recall score label b  train set is:',recall_score(y_train,y_train_pred_2,pos_label='b'))\n",
        "\n",
        "print('Recall score label b  test set is:',recall_score(y_test,y_test_pred_2,pos_label='b'))\n",
        "\n",
        "print('F1 score label b train set is:',f1_score(y_train,y_train_pred_2,pos_label='b'))\n",
        "\n",
        "print('F1 score label b test set is:',f1_score(y_test,y_test_pred_2,pos_label='b'))\n",
        "\n",
        "##For pos_label=g\n",
        "\n",
        "print('Precision score label g is:',precision_score(y_test, y_test_pred_2,pos_label='g'))\n",
        "\n",
        "print('Recall score label g is:',recall_score(y_train,y_train_pred_2,pos_label='g'))\n",
        "\n",
        "print('F1 score label g is:',f1_score(y_train,y_train_pred_2,pos_label='g'))\n",
        "\n",
        "\n",
        "print(classification_report(y_test, y_test_pred_2))\n",
        "\n",
        "\n"
      ]
    },
    {
      "cell_type": "markdown",
      "metadata": {
        "id": "Kf6KMCNQET9X"
      },
      "source": [
        "<font color='red'>Question:</font> Do you see any difference? Why is the difference?"
      ]
    },
    {
      "cell_type": "code",
      "execution_count": null,
      "metadata": {
        "id": "zEisL_odET9X"
      },
      "outputs": [],
      "source": [
        ""
      ]
    },
    {
      "cell_type": "markdown",
      "source": [
        "How class_weight works: It penalizes mistakes in samples of class[i] with class_weight[i] instead of 1. So higher class-weight means you want to put more emphasis on a class. From what you say it seems class 0 is 19 times more frequent than class 1. So you should increase the class_weight of class 1 relative to class 0, say {0:.1, 1:.9}. If the class_weight doesn't sum to 1, it will basically change the regularization parameter."
      ],
      "metadata": {
        "id": "R1Wgkp8FVMKS"
      }
    },
    {
      "cell_type": "markdown",
      "metadata": {
        "id": "fcHmBunhET9X"
      },
      "source": [
        "<font color='red'>Question:</font> Which results are more reasonable? Why?"
      ]
    },
    {
      "cell_type": "code",
      "execution_count": null,
      "metadata": {
        "id": "m49IqdZnET9Y"
      },
      "outputs": [],
      "source": [
        ""
      ]
    },
    {
      "cell_type": "markdown",
      "source": [
        "The results after setting the class_weight=None are more reliable,since there is a lot of balancing, that effectively takes care of the minority class also.\n"
      ],
      "metadata": {
        "id": "VqKuewwxVEN1"
      }
    },
    {
      "cell_type": "markdown",
      "metadata": {
        "id": "tHU3h8dPET9Y"
      },
      "source": [
        "<font color='red'>Question:</font> What are the other methods to deal with imbalanced data?"
      ]
    },
    {
      "cell_type": "markdown",
      "source": [
        "one of the target class labels’ numbers of observation is significantly lower than other class labels. This type of dataset is called an imbalanced class dataset \n",
        "\n",
        "Imbalanced data refers to those types of datasets where the target class has an uneven distribution of observations, i.e one class label has a very high number of observations and the other has a very low number of observations.\n",
        "\n",
        "\n",
        "\n",
        "Approach to deal with the imbalanced dataset problem:\n",
        "\n",
        "1. Choose Proper Evaluation Metric\n",
        "\n",
        "For an imbalanced class dataset F1 score is a more appropriate metric. \n",
        "\n",
        "So, if the classifier predicts the minority class but the prediction is erroneous and false-positive increases, the precision metric will be low and so as F1 score. Also, if the classifier identifies the minority class poorly, i.e. more of this class wrongfully predicted as the majority class then false negatives will increase, so recall and F1 score will low. F1 score only increases if both the number and quality of prediction improves.\n",
        "\n",
        "F1 score keeps the balance between precision and recall and improves the score only if the classifier identifies more of a certain class correctly.\n",
        "\n",
        "2. Resampling (Oversampling and Undersampling)\n",
        "\n",
        "This technique is used to upsample or downsample the minority or majority class. When we are using an imbalanced dataset, we can oversample the minority class using replacement. This technique is called oversampling. Similarly, we can randomly delete rows from the majority class to match them with the minority class which is called undersampling. After sampling the data we can get a balanced dataset for both majority and minority classes.\n",
        "\n",
        "\n",
        "\n",
        "3.Synthetic Minority Oversampling Technique or SMOTE\n",
        "SMOTE looks into minority class instances and use k nearest neighbor to select a random nearest neighbor, and a synthetic instance is created randomly in feature space.\n",
        "\n",
        "\n",
        "\n",
        "\n",
        "4. BalancedBaggingClassifier\n",
        "A BalancedBaggingClassifier is the same as a sklearn classifier but with additional balancing. It includes an additional step to balance the training set at the time of fit for a given sampler. This classifier takes two special parameters “sampling_strategy” and “replacement”. The sampling_strategy decides the type of resampling required (e.g. ‘majority’ – resample only the majority class, ‘all’ – resample all classes, etc) and replacement decides whether it is going to be a sample with replacement or not.\n",
        "\n",
        "\n",
        "5. Threshold moving\n",
        "\n",
        "We need to change the threshold to the optimum value so that it can efficiently separate two classes. We can use ROC Curves and Precision-Recall Curves to find the optimal threshold for the classifier. We can also use a grid search method or search within a set of values to identify the optimal value.\n",
        "\n",
        "Searching optimal value from a grid\n",
        "In this method first, we will find the probabilities for the class label, then we’ll find the optimum threshold to map the probabilities to its proper class label.\n",
        "\n",
        "\n",
        "(https://www.analyticsvidhya.com/blog/2021/06/5-techniques-to-handle-imbalanced-data-for-a-classification-problem/)"
      ],
      "metadata": {
        "id": "WSZNoGSe5232"
      }
    },
    {
      "cell_type": "markdown",
      "metadata": {
        "id": "fkUgpY6uET9Y"
      },
      "source": [
        "<font color='red'>Assignment:</font> Use the **predict_proba** function of the model to make predictions for the training and testing sets and assign the outputs to variables **y_train_proba** and **y_test_proba**."
      ]
    },
    {
      "cell_type": "code",
      "execution_count": 36,
      "metadata": {
        "id": "VeQ5UxOzET9Y"
      },
      "outputs": [],
      "source": [
        "y_train_proba=pipe.predict_proba(X_train)\n",
        "y_test_proba=pipe.predict_proba(X_test)"
      ]
    },
    {
      "cell_type": "markdown",
      "metadata": {
        "id": "AyZJGsSAET9Y"
      },
      "source": [
        "<font color='red'>Question:</font> What are the shapes of **y_train_proba** and **y_test_proba**? Why are they different from **y_train_pred** and **y_test_pred**? How are they related? Which columns of **y_train_proba** and **y_test_proba** should we use? "
      ]
    },
    {
      "cell_type": "code",
      "source": [
        "y_train_proba.shape"
      ],
      "metadata": {
        "colab": {
          "base_uri": "https://localhost:8080/"
        },
        "id": "DOnh753682c0",
        "outputId": "15cd0c7c-9eed-4f0d-9ec4-12bb5e46ef6e"
      },
      "execution_count": 37,
      "outputs": [
        {
          "output_type": "execute_result",
          "data": {
            "text/plain": [
              "(263, 2)"
            ]
          },
          "metadata": {},
          "execution_count": 37
        }
      ]
    },
    {
      "cell_type": "code",
      "source": [
        "y_test_proba.shape"
      ],
      "metadata": {
        "colab": {
          "base_uri": "https://localhost:8080/"
        },
        "id": "EIDIKs9r9Ue7",
        "outputId": "1ff3f576-990e-499d-c228-2747e7e77ed2"
      },
      "execution_count": 38,
      "outputs": [
        {
          "output_type": "execute_result",
          "data": {
            "text/plain": [
              "(88, 2)"
            ]
          },
          "metadata": {},
          "execution_count": 38
        }
      ]
    },
    {
      "cell_type": "code",
      "source": [
        "y_test_pred.shape"
      ],
      "metadata": {
        "colab": {
          "base_uri": "https://localhost:8080/"
        },
        "id": "uH6AlIA59faY",
        "outputId": "98fd1cf3-e22c-4436-b6f2-3012d16076a3"
      },
      "execution_count": 39,
      "outputs": [
        {
          "output_type": "execute_result",
          "data": {
            "text/plain": [
              "(88,)"
            ]
          },
          "metadata": {},
          "execution_count": 39
        }
      ]
    },
    {
      "cell_type": "markdown",
      "metadata": {
        "id": "np7hJNjGET9Y"
      },
      "source": [
        "<font color='red'>Question:</font> What is the range of the values in **y_train_proba** and **y_test_proba**? What do the values mean?"
      ]
    },
    {
      "cell_type": "markdown",
      "source": [
        "The predict_proba() method\n",
        "In the context of classification tasks, some sklearn estimators also implement the predict_proba method that returns the class probabilities for each data point.\n",
        "\n",
        "The method accepts a single argument that corresponds to the data over which the probabilities will be computed and returns an array of lists containing the class probabilities for the input data points.\n",
        "\n"
      ],
      "metadata": {
        "id": "c-iJMsR8WGgY"
      }
    },
    {
      "cell_type": "code",
      "execution_count": 74,
      "metadata": {
        "id": "hse-0nfeET9Z",
        "colab": {
          "base_uri": "https://localhost:8080/"
        },
        "outputId": "af52f77a-2e54-47f8-8b57-85643e361fa6"
      },
      "outputs": [
        {
          "output_type": "stream",
          "name": "stdout",
          "text": [
            "[[3.40814625e-02 9.65918537e-01]\n",
            " [6.03014792e-01 3.96985208e-01]\n",
            " [9.92466175e-01 7.53382537e-03]\n",
            " [8.30908639e-01 1.69091361e-01]\n",
            " [9.10670750e-03 9.90893293e-01]\n",
            " [3.78237303e-02 9.62176270e-01]\n",
            " [5.65100876e-02 9.43489912e-01]\n",
            " [4.34953790e-02 9.56504621e-01]\n",
            " [5.07440589e-01 4.92559411e-01]\n",
            " [4.57891987e-02 9.54210801e-01]\n",
            " [6.39859374e-01 3.60140626e-01]\n",
            " [9.47111452e-02 9.05288855e-01]\n",
            " [1.29265097e-01 8.70734903e-01]\n",
            " [9.60219626e-01 3.97803736e-02]\n",
            " [9.77464846e-01 2.25351542e-02]\n",
            " [1.61377944e-01 8.38622056e-01]\n",
            " [6.86102398e-02 9.31389760e-01]\n",
            " [9.96386509e-01 3.61349138e-03]\n",
            " [3.00566666e-02 9.69943333e-01]\n",
            " [1.51767332e-02 9.84823267e-01]\n",
            " [4.53395245e-02 9.54660475e-01]\n",
            " [2.13516180e-01 7.86483820e-01]\n",
            " [6.33064445e-02 9.36693556e-01]\n",
            " [5.48630968e-02 9.45136903e-01]\n",
            " [6.67837518e-02 9.33216248e-01]\n",
            " [7.89090410e-01 2.10909590e-01]\n",
            " [8.06001493e-01 1.93998507e-01]\n",
            " [1.41461018e-02 9.85853898e-01]\n",
            " [8.13046418e-01 1.86953582e-01]\n",
            " [9.84436116e-01 1.55638835e-02]\n",
            " [6.23074643e-03 9.93769254e-01]\n",
            " [4.03740672e-01 5.96259328e-01]\n",
            " [9.21210917e-01 7.87890829e-02]\n",
            " [1.24820655e-01 8.75179345e-01]\n",
            " [9.96935963e-01 3.06403705e-03]\n",
            " [6.14580571e-02 9.38541943e-01]\n",
            " [5.69561313e-02 9.43043869e-01]\n",
            " [2.12947362e-02 9.78705264e-01]\n",
            " [2.19856707e-01 7.80143293e-01]\n",
            " [3.98703465e-01 6.01296535e-01]\n",
            " [2.72275712e-02 9.72772429e-01]\n",
            " [2.24555806e-01 7.75444194e-01]\n",
            " [8.71037184e-02 9.12896282e-01]\n",
            " [5.16091838e-01 4.83908162e-01]\n",
            " [5.92688303e-02 9.40731170e-01]\n",
            " [1.85191616e-01 8.14808384e-01]\n",
            " [9.99877522e-01 1.22478332e-04]\n",
            " [9.38452345e-01 6.15476551e-02]\n",
            " [9.99990542e-01 9.45762222e-06]\n",
            " [9.96203735e-01 3.79626505e-03]\n",
            " [5.85432535e-01 4.14567465e-01]\n",
            " [6.79921779e-02 9.32007822e-01]\n",
            " [9.92264426e-01 7.73557381e-03]\n",
            " [8.73680317e-01 1.26319683e-01]\n",
            " [3.61468760e-02 9.63853124e-01]\n",
            " [1.06828566e-01 8.93171434e-01]\n",
            " [9.56294425e-01 4.37055749e-02]\n",
            " [9.98014174e-01 1.98582629e-03]\n",
            " [2.35328981e-02 9.76467102e-01]\n",
            " [5.17299973e-02 9.48270003e-01]\n",
            " [1.13577235e-01 8.86422765e-01]\n",
            " [1.03508021e-02 9.89649198e-01]\n",
            " [2.30782820e-01 7.69217180e-01]\n",
            " [4.32581156e-02 9.56741884e-01]\n",
            " [5.14540856e-01 4.85459144e-01]\n",
            " [3.26877131e-02 9.67312287e-01]\n",
            " [3.53183984e-01 6.46816016e-01]\n",
            " [9.94410271e-01 5.58972936e-03]\n",
            " [2.91316558e-01 7.08683442e-01]\n",
            " [8.30217627e-01 1.69782373e-01]\n",
            " [9.13450646e-01 8.65493536e-02]\n",
            " [2.40191868e-02 9.75980813e-01]\n",
            " [9.91835369e-01 8.16463122e-03]\n",
            " [8.30668721e-01 1.69331279e-01]\n",
            " [9.89292074e-01 1.07079262e-02]\n",
            " [2.07679212e-01 7.92320788e-01]\n",
            " [6.27011368e-02 9.37298863e-01]\n",
            " [9.51920540e-01 4.80794603e-02]\n",
            " [9.66546279e-01 3.34537211e-02]\n",
            " [2.13711759e-01 7.86288241e-01]\n",
            " [4.41657226e-02 9.55834277e-01]\n",
            " [1.60959335e-01 8.39040665e-01]\n",
            " [1.32675142e-01 8.67324858e-01]\n",
            " [3.69683660e-02 9.63031634e-01]\n",
            " [1.48023707e-01 8.51976293e-01]\n",
            " [2.66848525e-02 9.73315147e-01]\n",
            " [1.37586049e-02 9.86241395e-01]\n",
            " [1.95802409e-02 9.80419759e-01]\n",
            " [1.80586803e-02 9.81941320e-01]\n",
            " [5.90934121e-02 9.40906588e-01]\n",
            " [5.61342076e-02 9.43865792e-01]\n",
            " [9.91889063e-01 8.11093666e-03]\n",
            " [1.28307119e-01 8.71692881e-01]\n",
            " [1.20055201e-02 9.87994480e-01]\n",
            " [2.18324176e-01 7.81675824e-01]\n",
            " [9.96518802e-01 3.48119801e-03]\n",
            " [8.96222809e-02 9.10377719e-01]\n",
            " [2.22408374e-01 7.77591626e-01]\n",
            " [4.95197124e-03 9.95048029e-01]\n",
            " [2.86828889e-02 9.71317111e-01]\n",
            " [1.30650951e-01 8.69349049e-01]\n",
            " [4.23659615e-02 9.57634038e-01]\n",
            " [3.96799903e-02 9.60320010e-01]\n",
            " [2.43891608e-02 9.75610839e-01]\n",
            " [7.12076081e-03 9.92879239e-01]\n",
            " [8.70556487e-01 1.29443513e-01]\n",
            " [7.52413166e-02 9.24758683e-01]\n",
            " [5.08846212e-02 9.49115379e-01]\n",
            " [4.36402690e-02 9.56359731e-01]\n",
            " [5.63021443e-01 4.36978557e-01]\n",
            " [4.37292592e-02 9.56270741e-01]\n",
            " [1.99516588e-01 8.00483412e-01]\n",
            " [9.99977833e-01 2.21669160e-05]\n",
            " [2.32023587e-02 9.76797641e-01]\n",
            " [9.99448956e-01 5.51043714e-04]\n",
            " [9.81712118e-01 1.82878816e-02]\n",
            " [1.29872938e-01 8.70127062e-01]\n",
            " [2.29718584e-02 9.77028142e-01]\n",
            " [9.13349218e-01 8.66507818e-02]\n",
            " [8.40696077e-02 9.15930392e-01]\n",
            " [7.72275398e-02 9.22772460e-01]\n",
            " [9.99489902e-01 5.10098076e-04]\n",
            " [2.94484187e-02 9.70551581e-01]\n",
            " [7.21421131e-02 9.27857887e-01]\n",
            " [4.38246645e-01 5.61753355e-01]\n",
            " [1.01148118e-01 8.98851882e-01]\n",
            " [2.30309226e-02 9.76969077e-01]\n",
            " [1.00418465e-02 9.89958153e-01]\n",
            " [9.49615786e-01 5.03842135e-02]\n",
            " [7.65004327e-02 9.23499567e-01]\n",
            " [5.00415288e-02 9.49958471e-01]\n",
            " [6.70516672e-01 3.29483328e-01]\n",
            " [2.81400233e-02 9.71859977e-01]\n",
            " [2.96863486e-02 9.70313651e-01]\n",
            " [2.65136812e-02 9.73486319e-01]\n",
            " [7.98512668e-01 2.01487332e-01]\n",
            " [6.42621462e-02 9.35737854e-01]\n",
            " [1.45392541e-01 8.54607459e-01]\n",
            " [5.26473330e-03 9.94735267e-01]\n",
            " [5.74145436e-02 9.42585456e-01]\n",
            " [3.44020789e-02 9.65597921e-01]\n",
            " [7.17276775e-02 9.28272322e-01]\n",
            " [2.17755429e-02 9.78224457e-01]\n",
            " [1.64464824e-01 8.35535176e-01]\n",
            " [5.58953567e-02 9.44104643e-01]\n",
            " [4.47763735e-01 5.52236265e-01]\n",
            " [4.18701725e-02 9.58129827e-01]\n",
            " [2.33671162e-01 7.66328838e-01]\n",
            " [1.57327306e-01 8.42672694e-01]\n",
            " [9.44688737e-01 5.53112631e-02]\n",
            " [1.77401870e-01 8.22598130e-01]\n",
            " [6.66118527e-01 3.33881473e-01]\n",
            " [9.96985818e-01 3.01418226e-03]\n",
            " [9.98924421e-01 1.07557911e-03]\n",
            " [2.75125006e-02 9.72487499e-01]\n",
            " [3.59748298e-02 9.64025170e-01]\n",
            " [3.85368032e-02 9.61463197e-01]\n",
            " [9.99999990e-01 1.01047611e-08]\n",
            " [9.72866274e-01 2.71337264e-02]\n",
            " [5.16238393e-03 9.94837616e-01]\n",
            " [7.33533819e-01 2.66466181e-01]\n",
            " [9.98223452e-01 1.77654776e-03]\n",
            " [3.94842742e-02 9.60515726e-01]\n",
            " [8.46853288e-01 1.53146712e-01]\n",
            " [2.47439628e-02 9.75256037e-01]\n",
            " [2.02257173e-02 9.79774283e-01]\n",
            " [9.99021336e-02 9.00097866e-01]\n",
            " [2.37536812e-03 9.97624632e-01]\n",
            " [3.91444626e-02 9.60855537e-01]\n",
            " [3.26086708e-01 6.73913292e-01]\n",
            " [2.42598333e-02 9.75740167e-01]\n",
            " [2.92040837e-02 9.70795916e-01]\n",
            " [9.99942374e-01 5.76261302e-05]\n",
            " [9.83830729e-01 1.61692713e-02]\n",
            " [5.40025583e-01 4.59974417e-01]\n",
            " [1.30681241e-01 8.69318759e-01]\n",
            " [8.72019901e-02 9.12798010e-01]\n",
            " [9.00720369e-03 9.90992796e-01]\n",
            " [8.85400867e-01 1.14599133e-01]\n",
            " [1.15399234e-01 8.84600766e-01]\n",
            " [1.66286343e-02 9.83371366e-01]\n",
            " [4.23339141e-01 5.76660859e-01]\n",
            " [2.46536563e-02 9.75346344e-01]\n",
            " [2.59872216e-01 7.40127784e-01]\n",
            " [2.71782637e-02 9.72821736e-01]\n",
            " [6.94792425e-01 3.05207575e-01]\n",
            " [9.57999583e-01 4.20004167e-02]\n",
            " [6.54398816e-02 9.34560118e-01]\n",
            " [9.99911952e-01 8.80481042e-05]\n",
            " [3.65026205e-02 9.63497380e-01]\n",
            " [4.66464421e-01 5.33535579e-01]\n",
            " [3.12819693e-01 6.87180307e-01]\n",
            " [3.79535918e-02 9.62046408e-01]\n",
            " [4.28147340e-02 9.57185266e-01]\n",
            " [9.03533441e-01 9.64665591e-02]\n",
            " [8.39874353e-02 9.16012565e-01]\n",
            " [9.82941581e-01 1.70584185e-02]\n",
            " [1.46513344e-01 8.53486656e-01]\n",
            " [8.56675246e-01 1.43324754e-01]\n",
            " [9.26024329e-01 7.39756708e-02]\n",
            " [9.99625296e-01 3.74703756e-04]\n",
            " [4.72318959e-01 5.27681041e-01]\n",
            " [4.90039067e-02 9.50996093e-01]\n",
            " [4.48213439e-02 9.55178656e-01]\n",
            " [5.29387737e-02 9.47061226e-01]\n",
            " [6.15883921e-02 9.38411608e-01]\n",
            " [3.86636489e-01 6.13363511e-01]\n",
            " [5.51789379e-02 9.44821062e-01]\n",
            " [1.89179894e-01 8.10820106e-01]\n",
            " [6.91845340e-01 3.08154660e-01]\n",
            " [9.96935963e-01 3.06403705e-03]\n",
            " [9.42465328e-02 9.05753467e-01]\n",
            " [4.15544983e-01 5.84455017e-01]\n",
            " [1.62724752e-01 8.37275248e-01]\n",
            " [4.70813406e-01 5.29186594e-01]\n",
            " [1.13532493e-01 8.86467507e-01]\n",
            " [9.34867655e-02 9.06513234e-01]\n",
            " [7.94444257e-02 9.20555574e-01]\n",
            " [2.47963141e-01 7.52036859e-01]\n",
            " [9.83787782e-01 1.62122182e-02]\n",
            " [5.76157822e-02 9.42384218e-01]\n",
            " [9.86025496e-01 1.39745045e-02]\n",
            " [9.27812861e-01 7.21871386e-02]\n",
            " [3.03191854e-02 9.69680815e-01]\n",
            " [1.51691632e-01 8.48308368e-01]\n",
            " [6.49671210e-01 3.50328790e-01]\n",
            " [9.87855399e-03 9.90121446e-01]\n",
            " [4.62783760e-02 9.53721624e-01]\n",
            " [9.16061518e-01 8.39384824e-02]\n",
            " [5.73106244e-01 4.26893756e-01]\n",
            " [2.17666998e-01 7.82333002e-01]\n",
            " [5.66717800e-02 9.43328220e-01]\n",
            " [1.88682428e-02 9.81131757e-01]\n",
            " [2.82810835e-01 7.17189165e-01]\n",
            " [9.75875110e-01 2.41248899e-02]\n",
            " [7.23251088e-02 9.27674891e-01]\n",
            " [9.56331805e-01 4.36681952e-02]\n",
            " [4.31821516e-01 5.68178484e-01]\n",
            " [1.88029598e-02 9.81197040e-01]\n",
            " [4.00942884e-01 5.99057116e-01]\n",
            " [7.88151596e-02 9.21184840e-01]\n",
            " [2.25157325e-02 9.77484268e-01]\n",
            " [3.59440448e-02 9.64055955e-01]\n",
            " [9.98246782e-01 1.75321850e-03]\n",
            " [9.88452732e-01 1.15472682e-02]\n",
            " [2.14691720e-01 7.85308280e-01]\n",
            " [3.63734320e-02 9.63626568e-01]\n",
            " [9.03585092e-01 9.64149084e-02]\n",
            " [6.52097190e-02 9.34790281e-01]\n",
            " [9.92716085e-01 7.28391459e-03]\n",
            " [1.70911880e-02 9.82908812e-01]\n",
            " [2.24655256e-02 9.77534474e-01]\n",
            " [6.10920708e-02 9.38907929e-01]\n",
            " [8.33416617e-02 9.16658338e-01]\n",
            " [2.02380717e-02 9.79761928e-01]\n",
            " [9.62265123e-01 3.77348773e-02]\n",
            " [9.33231471e-01 6.67685294e-02]\n",
            " [1.25264934e-02 9.87473507e-01]\n",
            " [9.26797794e-01 7.32022061e-02]\n",
            " [1.05093298e-01 8.94906702e-01]\n",
            " [8.82653891e-01 1.17346109e-01]\n",
            " [6.34517346e-03 9.93654827e-01]\n",
            " [9.99355105e-01 6.44894706e-04]]\n",
            "[[9.88442544e-03 9.90115575e-01]\n",
            " [7.85149555e-03 9.92148504e-01]\n",
            " [1.89105022e-01 8.10894978e-01]\n",
            " [1.26076067e-01 8.73923933e-01]\n",
            " [2.14531704e-02 9.78546830e-01]\n",
            " [9.97476761e-01 2.52323921e-03]\n",
            " [2.52635787e-01 7.47364213e-01]\n",
            " [1.12897738e-01 8.87102262e-01]\n",
            " [1.62006399e-02 9.83799360e-01]\n",
            " [4.61285093e-03 9.95387149e-01]\n",
            " [9.99329706e-01 6.70294234e-04]\n",
            " [3.59055506e-02 9.64094449e-01]\n",
            " [4.89957710e-01 5.10042290e-01]\n",
            " [5.11394949e-01 4.88605051e-01]\n",
            " [3.10015550e-02 9.68998445e-01]\n",
            " [2.66402383e-01 7.33597617e-01]\n",
            " [8.99181605e-01 1.00818395e-01]\n",
            " [2.24282224e-02 9.77571778e-01]\n",
            " [4.40271981e-01 5.59728019e-01]\n",
            " [9.37673438e-01 6.23265619e-02]\n",
            " [9.92812594e-01 7.18740603e-03]\n",
            " [4.57878136e-02 9.54212186e-01]\n",
            " [2.42608797e-01 7.57391203e-01]\n",
            " [4.69887538e-02 9.53011246e-01]\n",
            " [4.33731028e-02 9.56626897e-01]\n",
            " [2.46324098e-01 7.53675902e-01]\n",
            " [7.27093678e-02 9.27290632e-01]\n",
            " [2.00943006e-01 7.99056994e-01]\n",
            " [6.70167222e-01 3.29832778e-01]\n",
            " [9.57870295e-02 9.04212970e-01]\n",
            " [2.22490256e-01 7.77509744e-01]\n",
            " [2.13337074e-01 7.86662926e-01]\n",
            " [1.82626112e-02 9.81737389e-01]\n",
            " [7.03232512e-02 9.29676749e-01]\n",
            " [5.41293257e-02 9.45870674e-01]\n",
            " [8.15969524e-01 1.84030476e-01]\n",
            " [3.95873856e-02 9.60412614e-01]\n",
            " [6.69911803e-02 9.33008820e-01]\n",
            " [2.49198248e-02 9.75080175e-01]\n",
            " [9.99898799e-01 1.01200763e-04]\n",
            " [3.76709520e-01 6.23290480e-01]\n",
            " [4.18286890e-04 9.99581713e-01]\n",
            " [9.41245649e-01 5.87543510e-02]\n",
            " [9.07832989e-01 9.21670106e-02]\n",
            " [4.88378434e-02 9.51162157e-01]\n",
            " [1.43285321e-01 8.56714679e-01]\n",
            " [2.45179223e-02 9.75482078e-01]\n",
            " [2.68276251e-01 7.31723749e-01]\n",
            " [7.69061397e-02 9.23093860e-01]\n",
            " [9.80021054e-01 1.99789460e-02]\n",
            " [1.67153449e-02 9.83284655e-01]\n",
            " [3.16738499e-02 9.68326150e-01]\n",
            " [9.78390097e-01 2.16099028e-02]\n",
            " [1.82943458e-01 8.17056542e-01]\n",
            " [9.00780944e-03 9.90992191e-01]\n",
            " [9.92458419e-02 9.00754158e-01]\n",
            " [4.42145593e-02 9.55785441e-01]\n",
            " [3.48098849e-02 9.65190115e-01]\n",
            " [6.38443790e-02 9.36155621e-01]\n",
            " [9.83443341e-01 1.65566594e-02]\n",
            " [3.44465154e-02 9.65553485e-01]\n",
            " [1.27476747e-02 9.87252325e-01]\n",
            " [4.25741593e-01 5.74258407e-01]\n",
            " [2.36192667e-01 7.63807333e-01]\n",
            " [7.76590582e-01 2.23409418e-01]\n",
            " [9.45605942e-01 5.43940584e-02]\n",
            " [7.24281180e-01 2.75718820e-01]\n",
            " [6.34779087e-01 3.65220913e-01]\n",
            " [1.57388131e-01 8.42611869e-01]\n",
            " [9.39026790e-01 6.09732101e-02]\n",
            " [2.56861775e-02 9.74313823e-01]\n",
            " [2.45215113e-01 7.54784887e-01]\n",
            " [9.31202892e-01 6.87971085e-02]\n",
            " [7.42753415e-01 2.57246585e-01]\n",
            " [1.14008056e-02 9.88599194e-01]\n",
            " [7.04723534e-01 2.95276466e-01]\n",
            " [9.97922308e-01 2.07769244e-03]\n",
            " [9.40823244e-03 9.90591768e-01]\n",
            " [3.68125854e-01 6.31874146e-01]\n",
            " [1.28912348e-02 9.87108765e-01]\n",
            " [7.09964154e-02 9.29003585e-01]\n",
            " [5.19495483e-02 9.48050452e-01]\n",
            " [4.29283977e-02 9.57071602e-01]\n",
            " [3.97277063e-01 6.02722937e-01]\n",
            " [1.50857272e-02 9.84914273e-01]\n",
            " [5.37939441e-01 4.62060559e-01]\n",
            " [6.49361850e-01 3.50638150e-01]\n",
            " [1.32075821e-01 8.67924179e-01]]\n"
          ]
        }
      ],
      "source": [
        "print(y_train_proba)\n",
        "print(y_test_proba)\n"
      ]
    },
    {
      "cell_type": "markdown",
      "source": [
        "The values are in the order of e-2 and/or e-1. This implies that they are less."
      ],
      "metadata": {
        "id": "Z7HDNUEq0l4N"
      }
    },
    {
      "cell_type": "markdown",
      "metadata": {
        "id": "qmqyv-zdET9Z"
      },
      "source": [
        "<font color='red'>Assignment:</font> Plot **y_test_proba[:,0]** versus **X_test.V3** and compare it with the plot of **y_test** versus **X_test.V3**."
      ]
    },
    {
      "cell_type": "code",
      "execution_count": 61,
      "metadata": {
        "id": "NAya4DIMET9Z",
        "colab": {
          "base_uri": "https://localhost:8080/",
          "height": 575
        },
        "outputId": "de6217c0-b12f-46de-9685-dd3dfd2a27b0"
      },
      "outputs": [
        {
          "output_type": "display_data",
          "data": {
            "text/plain": [
              "<Figure size 432x288 with 1 Axes>"
            ],
            "image/png": "[encoded data removed]"
          },
          "metadata": {
            "needs_background": "light"
          }
        },
        {
          "output_type": "display_data",
          "data": {
            "text/plain": [
              "<Figure size 432x288 with 1 Axes>"
            ],
            "image/png": "[encoded data removed]"
          },
          "metadata": {
            "needs_background": "light"
          }
        }
      ],
      "source": [
        "import matplotlib.pyplot as plt\n",
        "\n",
        "#print(y_test_proba[:,0])\n",
        "#print(X_test.V3)\n",
        "\n",
        "y=y_test_proba[:,0]\n",
        "x=X_test.V3\n",
        "               \n",
        "#plot y vs x\n",
        "plt.plot(x, y)\n",
        " \n",
        "plt.title('y_test_proba[:,0] versus X_test.V3')\n",
        "plt.xlabel('X_test.V3')\n",
        "plt.ylabel('y_test_proba[:,0]')\n",
        " \n",
        "#show plot to user\n",
        "plt.show()\n",
        "\n",
        "y_1=y_test\n",
        "x_1=X_test.V3\n",
        "               \n",
        "#plot y vs x\n",
        "plt.plot(x_1, y_1)\n",
        " \n",
        "plt.title('y_test versus X_test.V3')\n",
        "plt.xlabel('X_test.V3')\n",
        "plt.ylabel('y_test')\n",
        " \n",
        "#show plot to user\n",
        "plt.show()\n"
      ]
    },
    {
      "cell_type": "markdown",
      "metadata": {
        "id": "YGlV_zyFET9Z"
      },
      "source": [
        "<font color='red'>Assignment:</font>  Plot **y_test_proba[:,0]** versus **y_test_pred**. How does the model make prediction? What is the default threshold?"
      ]
    },
    {
      "cell_type": "code",
      "execution_count": 63,
      "metadata": {
        "id": "EdD-RLXiET9Z",
        "colab": {
          "base_uri": "https://localhost:8080/",
          "height": 296
        },
        "outputId": "87c9604e-a399-4f08-c930-f4bc4ebda309"
      },
      "outputs": [
        {
          "output_type": "display_data",
          "data": {
            "text/plain": [
              "<Figure size 432x288 with 1 Axes>"
            ],
            "image/png": "[encoded data removed]"
          },
          "metadata": {
            "needs_background": "light"
          }
        }
      ],
      "source": [
        "y_2=y_test_pred\n",
        "x_2=y_test_proba[:,0] \n",
        "               \n",
        "#plot y vs x\n",
        "plt.plot(x_2, y_2)\n",
        " \n",
        "plt.title('y_test_proba[:,0] versus y_test_pred')\n",
        "plt.xlabel('y_test_proba')\n",
        "plt.ylabel('y_test_pred')\n",
        " \n",
        "#show plot to user\n",
        "plt.show()\n"
      ]
    },
    {
      "cell_type": "code",
      "source": [
        "# import seaborn as sns; \n",
        "# sns.set_theme(color_codes=True)\n",
        "# #tips = sns.load_dataset(\"tips\")\n",
        "# ax = sns.regplot(x=y_test_proba[:,0] , y=y_test_pred,data=df)"
      ],
      "metadata": {
        "id": "hgQ_y1i1hYy5"
      },
      "execution_count": 116,
      "outputs": []
    },
    {
      "cell_type": "markdown",
      "source": [
        "The decision for converting a predicted probability or scoring into a class label is governed by a parameter referred to as the “decision threshold,” “discrimination threshold,” or simply the “threshold.”\n",
        " The default value for the threshold is 0.5 for normalized predicted probabilities or scores in the range between 0 or 1."
      ],
      "metadata": {
        "id": "wbBP0EiFhZhT"
      }
    },
    {
      "cell_type": "markdown",
      "metadata": {
        "id": "4pNB3yY8ET9Z"
      },
      "source": [
        "<font color='red'>Assignment:</font> Apply different threshold values to **y_test_proba[:,0]** to re-calculate **y_test_pred**, and visualize how the threshold value changes **precision**, **recall**, and **f1 score**. Hint: use pos_label='b' "
      ]
    },
    {
      "cell_type": "code",
      "source": [
        "\n",
        "# # precision-recall curve and f1\n",
        "# from sklearn.datasets import make_classification\n",
        "# from sklearn.linear_model import LogisticRegression\n",
        "# from sklearn.model_selection import train_test_split\n",
        "# from sklearn.metrics import precision_recall_curve\n",
        "# from sklearn.metrics import f1_score\n",
        "# from sklearn.metrics import auc\n",
        "# from matplotlib import pyplot\n",
        "\n",
        "# lr_precision, lr_recall, _ = precision_recall_curve(y_test_enocoded, y_test_proba[:,0])\n",
        "# lr_f1, lr_auc = f1_score(y_test,y_test_pred), auc(lr_recall, lr_precision)\n",
        "# # summarize scores\n",
        "# print('Logistic: f1=%.3f auc=%.3f' % (lr_f1, lr_auc))\n",
        "# # plot the precision-recall curves\n",
        "# no_skill = len(y_test[y_test==1]) / len(y_test)\n",
        "# pyplot.plot([0, 1], [b,g], linestyle='--', label='b')\n",
        "# pyplot.plot(lr_recall, lr_precision, marker='.', label='Logistic')\n",
        "# # axis labels\n",
        "# pyplot.xlabel('Recall')\n",
        "# pyplot.ylabel('Precision')\n",
        "# # show the legend\n",
        "# pyplot.legend()\n",
        "# # show the plot\n",
        "# pyplot.show()"
      ],
      "metadata": {
        "id": "Op8C9z8ckS3d"
      },
      "execution_count": 148,
      "outputs": []
    },
    {
      "cell_type": "code",
      "execution_count": 131,
      "metadata": {
        "id": "OWjk4HxnET9Z",
        "colab": {
          "base_uri": "https://localhost:8080/",
          "height": 1000
        },
        "outputId": "173b3858-b559-4faf-8277-b6ff8682a561"
      },
      "outputs": [
        {
          "output_type": "stream",
          "name": "stdout",
          "text": [
            "Area under curve (AUC) Label g:  0.9135044642857143\n",
            "Area under curve (AUC) Label g:  0.9135044642857143\n",
            "Area under curve (AUC) Label g:  0.9135044642857143\n",
            "Area under curve (AUC) Label g:  0.9135044642857143\n",
            "Area under curve (AUC) Label g:  0.9135044642857143\n"
          ]
        },
        {
          "output_type": "display_data",
          "data": {
            "text/plain": [
              "<Figure size 900x600 with 1 Axes>"
            ],
            "image/png": "[encoded data removed]"
          },
          "metadata": {}
        },
        {
          "output_type": "display_data",
          "data": {
            "text/plain": [
              "<Figure size 900x600 with 1 Axes>"
            ],
            "image/png": "[encoded data removed]"
          },
          "metadata": {}
        },
        {
          "output_type": "display_data",
          "data": {
            "text/plain": [
              "<Figure size 900x600 with 1 Axes>"
            ],
            "image/png": "[encoded data removed]"
          },
          "metadata": {}
        },
        {
          "output_type": "display_data",
          "data": {
            "text/plain": [
              "<Figure size 900x600 with 1 Axes>"
            ],
            "image/png": "[encoded data removed]"
          },
          "metadata": {}
        },
        {
          "output_type": "display_data",
          "data": {
            "text/plain": [
              "<Figure size 900x600 with 1 Axes>"
            ],
            "image/png": "[encoded data removed]"
          },
          "metadata": {}
        }
      ],
      "source": [
        "#Applying threshold values to y_test_proba[:,0]\n",
        "\n",
        "from sklearn.metrics import roc_auc_score\n",
        "from sklearn.metrics import auc\n",
        "\n",
        "fpr = {}\n",
        "tpr = {}\n",
        "thresh ={}\n",
        "n_class = 2\n",
        "\n",
        "for i in range(5):    \n",
        "  fpr[i], tpr[i], thresh[i] = roc_curve(y_test, y_test_proba[:,0], pos_label='b')\n",
        "    \n",
        "  plt.figure(dpi=150)\n",
        "  plt.plot(fpr[0], tpr[0], linestyle='--',color='red', label='Label 1 vs Rest')\n",
        "  #plt.plot(fpr[1], tpr[1], linestyle='--',color='orange', label='Label 0 vs Rest')\n",
        "\n",
        "  plt.title('Multiclass ROC curve for ')\n",
        "  plt.xlabel('False Positive Rate')\n",
        "  plt.ylabel('True Positive rate')\n",
        "  plt.legend(loc='best')\n",
        "  plt.savefig('Multiclass ROC',dpi=100);\n",
        "  print('Area under curve (AUC) Label g: ', auc(fpr[0],tpr[0]))\n",
        "  #print('Area under curve (AUC) Label b: ', auc(fpr[1],tpr[1]))\n",
        " \n",
        "#Applying\n",
        "\n",
        "\n",
        "\n"
      ]
    },
    {
      "cell_type": "code",
      "source": [
        "class LogisticRegressionWithThreshold(LogisticRegression):\n",
        "    def predict(self, X, threshold=None):\n",
        "        if threshold == None: # If no threshold passed in, simply call the base class predict, effectively threshold=0.5\n",
        "            return LogisticRegression.predict(self, X)\n",
        "        else:\n",
        "            y_scores = LogisticRegression.predict_proba(self, X)[:, 1]\n",
        "            y_pred_with_threshold = (y_scores >= threshold).astype(int)\n",
        "\n",
        "            return y_pred_with_threshold\n",
        "    \n",
        "    def threshold_from_optimal_tpr_minus_fpr(self, X, y):\n",
        "        y_scores = LogisticRegression.predict_proba(self, X)[:, 1]\n",
        "        fpr, tpr, thresholds = roc_curve(y, y_scores) \n",
        "\n",
        "        optimal_idx = np.argmax(tpr - fpr)\n",
        "\n",
        "        return thresholds[optimal_idx], tpr[optimal_idx] - fpr[optimal_idx]"
      ],
      "metadata": {
        "id": "vyPRzGxTsIc9"
      },
      "execution_count": 77,
      "outputs": []
    },
    {
      "cell_type": "code",
      "source": [
        "import numpy as np\n",
        "lrt = LogisticRegressionWithThreshold()\n",
        "lrt.fit(X_train, y_train_encoded)\n",
        "\n",
        "#threshold, optimal_tpr_minus_fpr = lrt.threshold_from_optimal_tpr_minus_fpr(X_train, y_train_encoded)\n",
        "\n",
        "y_pred_thr_1 = lrt.predict(X_train, threshold)\n",
        "print(threshold)\n",
        "threshold, optimal_tpr_minus_fpr"
      ],
      "metadata": {
        "colab": {
          "base_uri": "https://localhost:8080/"
        },
        "id": "uqmk6nT6sXH-",
        "outputId": "1c7bd099-fe49-431c-83c6-62bc8c69d359"
      },
      "execution_count": 134,
      "outputs": [
        {
          "output_type": "stream",
          "name": "stdout",
          "text": [
            "0.4636727372519872\n"
          ]
        },
        {
          "output_type": "execute_result",
          "data": {
            "text/plain": [
              "(0.4636727372519872, 0.8132317764068991)"
            ]
          },
          "metadata": {},
          "execution_count": 134
        }
      ]
    },
    {
      "cell_type": "code",
      "source": [
        "\n",
        "#Changing the threshold values\n",
        "y_pred_thr_2 = lrt.predict(X_train, threshold=0.6) \n",
        "print(threshold)\n",
        "y_pred_thr_2\n",
        "\n",
        "#threshold, optimal_tpr_minus_fpr"
      ],
      "metadata": {
        "colab": {
          "base_uri": "https://localhost:8080/"
        },
        "id": "t1FnKOo4Xw9a",
        "outputId": "67f112b6-6191-44c9-dbee-3047eaa1e420"
      },
      "execution_count": 135,
      "outputs": [
        {
          "output_type": "stream",
          "name": "stdout",
          "text": [
            "0.4636727372519872\n"
          ]
        },
        {
          "output_type": "execute_result",
          "data": {
            "text/plain": [
              "array([1, 0, 0, 0, 1, 1, 1, 1, 0, 1, 0, 1, 1, 0, 0, 1, 1, 0, 1, 1, 1, 1,\n",
              "       1, 1, 1, 0, 0, 1, 0, 0, 1, 0, 0, 1, 0, 1, 1, 1, 1, 0, 1, 1, 1, 0,\n",
              "       1, 1, 0, 0, 0, 0, 0, 1, 0, 0, 1, 1, 0, 0, 1, 1, 1, 1, 1, 1, 0, 1,\n",
              "       1, 0, 1, 0, 0, 1, 0, 0, 0, 1, 1, 0, 0, 1, 1, 1, 1, 1, 1, 1, 1, 1,\n",
              "       1, 1, 1, 0, 1, 1, 1, 0, 1, 1, 1, 1, 1, 1, 1, 1, 1, 0, 1, 1, 1, 0,\n",
              "       1, 1, 0, 1, 0, 0, 1, 1, 0, 1, 1, 0, 1, 1, 1, 1, 1, 1, 0, 1, 1, 0,\n",
              "       1, 1, 1, 0, 1, 1, 1, 1, 1, 1, 1, 1, 1, 1, 1, 1, 1, 0, 1, 0, 0, 0,\n",
              "       1, 1, 1, 0, 0, 1, 0, 0, 1, 0, 1, 1, 1, 1, 1, 1, 1, 1, 0, 0, 0, 1,\n",
              "       1, 1, 0, 1, 1, 1, 1, 1, 1, 0, 0, 1, 0, 1, 0, 1, 1, 1, 0, 1, 0, 1,\n",
              "       0, 0, 0, 0, 1, 1, 1, 1, 0, 1, 1, 0, 0, 1, 1, 1, 0, 1, 1, 1, 1, 0,\n",
              "       1, 0, 0, 1, 1, 0, 1, 1, 0, 0, 1, 1, 1, 1, 0, 1, 0, 1, 1, 1, 1, 1,\n",
              "       1, 0, 0, 1, 1, 0, 1, 0, 1, 1, 1, 1, 1, 0, 0, 1, 0, 1, 0, 1, 0])"
            ]
          },
          "metadata": {},
          "execution_count": 135
        }
      ]
    },
    {
      "cell_type": "code",
      "source": [
        "\n",
        "#Changing the. htrshold values\n",
        "y_pred_thr_3= lrt.predict(X_train, threshold=0.7)\n",
        "y_pred_thr_3"
      ],
      "metadata": {
        "colab": {
          "base_uri": "https://localhost:8080/"
        },
        "id": "svpdlRoceJGA",
        "outputId": "3484a8db-3574-44ef-b777-35030150a9f5"
      },
      "execution_count": 136,
      "outputs": [
        {
          "output_type": "execute_result",
          "data": {
            "text/plain": [
              "array([1, 0, 0, 0, 1, 1, 1, 1, 0, 1, 0, 1, 1, 0, 0, 1, 1, 0, 1, 1, 1, 1,\n",
              "       1, 1, 1, 0, 0, 1, 0, 0, 1, 0, 0, 1, 0, 1, 1, 1, 1, 0, 1, 1, 1, 0,\n",
              "       1, 1, 0, 0, 0, 0, 0, 1, 0, 0, 1, 1, 0, 0, 1, 1, 1, 1, 1, 1, 0, 1,\n",
              "       0, 0, 1, 0, 0, 1, 0, 0, 0, 1, 1, 0, 0, 1, 1, 1, 1, 1, 1, 1, 1, 1,\n",
              "       1, 1, 1, 0, 1, 1, 1, 0, 1, 1, 1, 1, 1, 1, 1, 1, 1, 0, 1, 1, 1, 0,\n",
              "       1, 1, 0, 1, 0, 0, 1, 1, 0, 1, 1, 0, 1, 1, 0, 1, 1, 1, 0, 1, 1, 0,\n",
              "       1, 1, 1, 0, 1, 1, 1, 1, 1, 1, 1, 1, 1, 0, 1, 1, 1, 0, 1, 0, 0, 0,\n",
              "       1, 1, 1, 0, 0, 1, 0, 0, 1, 0, 1, 1, 1, 1, 1, 0, 1, 1, 0, 0, 0, 1,\n",
              "       1, 1, 0, 1, 1, 0, 1, 0, 1, 0, 0, 1, 0, 1, 0, 0, 1, 1, 0, 1, 0, 1,\n",
              "       0, 0, 0, 0, 1, 1, 1, 1, 0, 1, 1, 0, 0, 1, 0, 1, 0, 1, 1, 1, 0, 0,\n",
              "       1, 0, 0, 1, 1, 0, 1, 1, 0, 0, 1, 1, 1, 1, 0, 1, 0, 0, 1, 1, 1, 1,\n",
              "       1, 0, 0, 1, 1, 0, 1, 0, 1, 1, 1, 1, 1, 0, 0, 1, 0, 1, 0, 1, 0])"
            ]
          },
          "metadata": {},
          "execution_count": 136
        }
      ]
    },
    {
      "cell_type": "code",
      "source": [
        "\n"
      ],
      "metadata": {
        "id": "O0T--cbyeK7o"
      },
      "execution_count": null,
      "outputs": []
    },
    {
      "cell_type": "code",
      "source": [
        "y_pred_thr_5= lrt.predict(X_train, threshold=0.9)"
      ],
      "metadata": {
        "id": "wXMpupbneMlQ"
      },
      "execution_count": 140,
      "outputs": []
    },
    {
      "cell_type": "markdown",
      "metadata": {
        "id": "LpZIhDo5ET9Z"
      },
      "source": [
        "<font color='red'>Question:</font> What threshold value would you like to choose? How do we decide which threshold to choose? Could you provide some examples?"
      ]
    },
    {
      "cell_type": "markdown",
      "source": [
        "Decreasing threshold means we end up predicting more 1 than 0's.\n",
        "\n",
        "- This means True Positive + False Positive increases by increasing the number of predicted 1s\n",
        "- This induces a possibility that the number of False Positives increases thus lowering Precision\n",
        "- If False Positives increases True Negatives will go down which lowers Specificity\n",
        "Increasing threshold means I end up predicting more 0’s than 1\n",
        "What does this imply?\n",
        "- This means True Negative + False Negative increases as the number of 0s predicted by the model will be higher\n",
        "- This induces a possibility that the number of False Negatives will increase thus lowering Sensitivity\n",
        "If the Recall (Sensitivity) values of your Model is poor, you may want to decrease the threshold from 0.5 to a lower value."
      ],
      "metadata": {
        "id": "0nsSrNEAbn5o"
      }
    },
    {
      "cell_type": "markdown",
      "source": [
        ""
      ],
      "metadata": {
        "id": "EkiivESkX2lJ"
      }
    },
    {
      "cell_type": "markdown",
      "metadata": {
        "id": "3Hgk33j1ET9a"
      },
      "source": [
        "<font color='red'>Question:</font> Why use pos_label='b' in precision_score, recall_score, and f1_score calculation? What does it mean? What is the default value of pos_label?"
      ]
    },
    {
      "cell_type": "markdown",
      "source": [
        "The pos_label parameter lets you specify which class should be considered \"positive\" for the sake of this computation.\n",
        "\n",
        "pos_label='b' is used beacuse 'b' is the minority class."
      ],
      "metadata": {
        "id": "YUFKrSDQYEtG"
      }
    },
    {
      "cell_type": "markdown",
      "metadata": {
        "id": "BWbCtCFAET9a"
      },
      "source": [
        "<font color='red'>Assignment:</font> Calculate the train and test **roc_auc_score**s. "
      ]
    },
    {
      "cell_type": "code",
      "execution_count": 52,
      "metadata": {
        "id": "wYnVRWEwET9a",
        "colab": {
          "base_uri": "https://localhost:8080/"
        },
        "outputId": "e1e9e60d-41d0-4371-8ec3-864aa5db350c"
      },
      "outputs": [
        {
          "output_type": "stream",
          "name": "stdout",
          "text": [
            "ROC_AUC score for test is 0.9135044642857143\n",
            "ROC_AUC score for train is 0.9647488354525998\n"
          ]
        }
      ],
      "source": [
        "from sklearn.metrics import roc_auc_score\n",
        "\n",
        "# auc scores\n",
        "auc_score1 = roc_auc_score(y_test, y_test_proba[:,1])\n",
        "print(\"ROC_AUC score for test is\",auc_score1)\n",
        "\n",
        "auc_score2 = roc_auc_score(y_train, y_train_proba[:,1])\n",
        "print(\"ROC_AUC score for train is\",auc_score2)"
      ]
    },
    {
      "cell_type": "markdown",
      "metadata": {
        "id": "fdhKCA_wET9a"
      },
      "source": [
        "<font color='red'>Question:</font> What do **ROC** and **AUC** stand for? "
      ]
    },
    {
      "cell_type": "markdown",
      "source": [
        "ROC- Receiver Operating Characteristic\n",
        "Basically, ROC is the plot between TPR and FPR( assuming the minority class is a positive class)\n",
        "\n",
        "AUC - Area Under the Curve\n",
        "AUC measures how well a model is able to distinguish between classes\n"
      ],
      "metadata": {
        "id": "GWDAhwcr-aOO"
      }
    },
    {
      "cell_type": "markdown",
      "metadata": {
        "id": "Tm6KI0tpET9a"
      },
      "source": [
        "<font color='red'>Assignment:</font> Plot the ROC curve of predicting class \"b\" in test data, use the **roc_curve** module in sklearn to obtain relevant data. "
      ]
    },
    {
      "cell_type": "code",
      "execution_count": 139,
      "metadata": {
        "id": "lvecjDv0ET9a",
        "colab": {
          "base_uri": "https://localhost:8080/",
          "height": 624
        },
        "outputId": "b520bb80-c0d6-4f3e-e3c9-e031f4142165"
      },
      "outputs": [
        {
          "output_type": "stream",
          "name": "stdout",
          "text": [
            "Area under curve (AUC) Label g:  0.9135044642857143\n"
          ]
        },
        {
          "output_type": "display_data",
          "data": {
            "text/plain": [
              "<Figure size 900x600 with 1 Axes>"
            ],
            "image/png": "[encoded data removed]"
          },
          "metadata": {}
        }
      ],
      "source": [
        "from sklearn.metrics import roc_curve\n",
        "\n",
        "# roc curve for models\n",
        "fpr1, tpr1, thresh1 = roc_curve(y_test, y_test_proba[:,1], pos_label='b')\n",
        "\n",
        "plt.figure(dpi=150)\n",
        "plt.plot(fpr[0], tpr[0], linestyle='--',color='red', label='Label 0 vs Rest')\n",
        "#plt.plot(fpr[1], tpr[1], linestyle='--',color='orange', label='Label 0 vs Rest')\n",
        "\n",
        "plt.title('Multiclass ROC curve for label b versus the rest ')\n",
        "plt.xlabel('False Positive Rate')\n",
        "plt.ylabel('True Positive rate')\n",
        "plt.legend(loc='best')\n",
        "plt.savefig('Multiclass ROC',dpi=100);\n",
        "print('Area under curve (AUC) Label g: ', auc(fpr[0],tpr[0]))\n",
        "\n"
      ]
    },
    {
      "cell_type": "markdown",
      "metadata": {
        "id": "Hj0MlUQrET9a"
      },
      "source": [
        "<font color='red'>Question:</font> What are the x and y axes? "
      ]
    },
    {
      "cell_type": "markdown",
      "source": [
        "X-axis = False Postive Rate\n",
        "Y-axes = True Positive Rate"
      ],
      "metadata": {
        "id": "EcpNMUFfgc_g"
      }
    },
    {
      "cell_type": "code",
      "execution_count": null,
      "metadata": {
        "id": "itk-Uc0aET9b"
      },
      "outputs": [],
      "source": [
        ""
      ]
    },
    {
      "cell_type": "code",
      "source": [
        ""
      ],
      "metadata": {
        "id": "arJtQSH4bQb9"
      },
      "execution_count": null,
      "outputs": []
    },
    {
      "cell_type": "markdown",
      "metadata": {
        "id": "UkJHFAU0ET9b"
      },
      "source": [
        "<font color='red'>Question:</font> What is the range of **roc_auc_score**? What does it mean when **roc_auc_score** is greater than, equal to, or less than 0.5?"
      ]
    },
    {
      "cell_type": "markdown",
      "source": [
        ""
      ],
      "metadata": {
        "id": "azJHp6eJbOfw"
      }
    },
    {
      "cell_type": "code",
      "source": [
        ""
      ],
      "metadata": {
        "id": "SdsvgiafhAPK"
      },
      "execution_count": null,
      "outputs": []
    },
    {
      "cell_type": "markdown",
      "source": [
        "Range of roc_auc_score is 0 to 1."
      ],
      "metadata": {
        "id": "_dRUROX-bWuP"
      }
    },
    {
      "cell_type": "markdown",
      "source": [
        "When AUC=0.5, then the classifier is not able to distinguish between Positive and Negative class points. Meaning either the classifier is predicting random class or constant class for all the data points.\n",
        "\n",
        "So, the higher the AUC value for a classifier, the better its ability to distinguish between positive and negative classes.\n",
        "\n",
        "\n",
        "If we must label certain scores as good or bad, we can reference the following rule of thumb from Hosmer and Lemeshow in Applied Logistic Regression (p. 177):\n",
        "\n",
        "0.5 = No discrimination\n",
        "0.5-0.7 = Poor discrimination\n",
        "0.7-0.8 = Acceptable discrimination\n",
        "0.8-0.9= Excellent discrimination\n",
        ">0.9 = Outstanding discrimination"
      ],
      "metadata": {
        "id": "oIEQng44aYsk"
      }
    },
    {
      "cell_type": "markdown",
      "metadata": {
        "id": "p70E23VnET9b"
      },
      "source": [
        "<font color='red'>Assignment:</font> Build a Random Forest model using **sklearn.ensemble.RandomForestClassifier** and compare with above results. "
      ]
    },
    {
      "cell_type": "code",
      "execution_count": 47,
      "metadata": {
        "id": "xmxpQdNlET9b",
        "colab": {
          "base_uri": "https://localhost:8080/"
        },
        "outputId": "0831032b-f428-4325-a1b2-665b1e309b73"
      },
      "outputs": [
        {
          "output_type": "execute_result",
          "data": {
            "text/plain": [
              "array(['g', 'g', 'b', 'g', 'g', 'b', 'b', 'g', 'g', 'g', 'b', 'g', 'g',\n",
              "       'b', 'g', 'g', 'b', 'g', 'g', 'b', 'b', 'g', 'g', 'g', 'g', 'g',\n",
              "       'g', 'g', 'b', 'g', 'b', 'g', 'g', 'g', 'g', 'b', 'g', 'g', 'g',\n",
              "       'b', 'b', 'g', 'b', 'b', 'g', 'g', 'g', 'g', 'g', 'b', 'g', 'g',\n",
              "       'b', 'g', 'g', 'g', 'g', 'b', 'g', 'b', 'g', 'g', 'b', 'b', 'b',\n",
              "       'b', 'b', 'b', 'g', 'b', 'g', 'g', 'b', 'b', 'g', 'g', 'b', 'g',\n",
              "       'b', 'g', 'g', 'g', 'g', 'b', 'b', 'b', 'g', 'g'], dtype=object)"
            ]
          },
          "metadata": {},
          "execution_count": 47
        }
      ],
      "source": [
        "from sklearn.ensemble import RandomForestClassifier\n",
        "\n",
        "clf= RandomForestClassifier()\n",
        "\n",
        "rfc_model = clf.fit(X_train, y_train)\n",
        "\n",
        "y_test_pred_rfc=rfc_model.predict(X_test)\n",
        "\n",
        "y_test_pred_rfc\n",
        "\n"
      ]
    },
    {
      "cell_type": "code",
      "source": [
        "y_train_pred_rfc = rfc_model.predict(X_train)\n",
        "\n",
        "y_train_pred_rfc\n"
      ],
      "metadata": {
        "colab": {
          "base_uri": "https://localhost:8080/"
        },
        "id": "GqM-dO_kLRx3",
        "outputId": "6975f8b9-a5b5-4896-a8d0-add34a4eb2c9"
      },
      "execution_count": 54,
      "outputs": [
        {
          "output_type": "execute_result",
          "data": {
            "text/plain": [
              "array(['g', 'b', 'b', 'b', 'g', 'g', 'g', 'g', 'g', 'g', 'b', 'g', 'g',\n",
              "       'b', 'b', 'g', 'g', 'b', 'g', 'g', 'g', 'g', 'g', 'g', 'g', 'b',\n",
              "       'b', 'g', 'g', 'b', 'g', 'b', 'b', 'b', 'b', 'g', 'g', 'g', 'g',\n",
              "       'g', 'g', 'g', 'g', 'g', 'g', 'b', 'b', 'b', 'b', 'b', 'b', 'g',\n",
              "       'b', 'b', 'g', 'g', 'b', 'b', 'g', 'g', 'g', 'g', 'g', 'g', 'g',\n",
              "       'g', 'g', 'b', 'g', 'b', 'b', 'g', 'b', 'b', 'b', 'g', 'g', 'b',\n",
              "       'b', 'b', 'g', 'g', 'g', 'b', 'b', 'g', 'g', 'g', 'g', 'g', 'g',\n",
              "       'b', 'g', 'g', 'g', 'b', 'g', 'g', 'g', 'g', 'g', 'g', 'g', 'g',\n",
              "       'g', 'b', 'g', 'g', 'g', 'g', 'g', 'b', 'b', 'g', 'b', 'b', 'g',\n",
              "       'g', 'b', 'g', 'g', 'b', 'g', 'g', 'g', 'g', 'g', 'g', 'b', 'g',\n",
              "       'g', 'b', 'g', 'g', 'g', 'b', 'g', 'g', 'g', 'g', 'g', 'g', 'g',\n",
              "       'g', 'g', 'b', 'g', 'g', 'g', 'b', 'g', 'b', 'b', 'b', 'g', 'g',\n",
              "       'g', 'b', 'b', 'g', 'b', 'b', 'g', 'b', 'g', 'g', 'g', 'g', 'g',\n",
              "       'g', 'g', 'g', 'b', 'b', 'g', 'g', 'g', 'g', 'b', 'g', 'g', 'g',\n",
              "       'g', 'b', 'g', 'b', 'b', 'g', 'b', 'g', 'g', 'b', 'g', 'g', 'b',\n",
              "       'g', 'b', 'g', 'b', 'b', 'b', 'g', 'g', 'g', 'g', 'g', 'b', 'g',\n",
              "       'g', 'b', 'b', 'g', 'g', 'g', 'g', 'g', 'g', 'g', 'b', 'b', 'g',\n",
              "       'b', 'b', 'b', 'g', 'b', 'g', 'g', 'b', 'g', 'b', 'g', 'g', 'g',\n",
              "       'b', 'g', 'b', 'g', 'g', 'b', 'g', 'g', 'g', 'b', 'b', 'b', 'g',\n",
              "       'b', 'g', 'b', 'g', 'g', 'g', 'g', 'g', 'b', 'b', 'g', 'b', 'g',\n",
              "       'b', 'g', 'b'], dtype=object)"
            ]
          },
          "metadata": {},
          "execution_count": 54
        }
      ]
    },
    {
      "cell_type": "code",
      "source": [
        "print('Training dataset accuracy score is: ',rfc_model.score(X_test, y_test))\n",
        "\n",
        "print('Testing dataset accuracy score is:', rfc_model.score(X_train,y_train))\n",
        "\n",
        "from sklearn.metrics import accuracy_score\n",
        "from sklearn.metrics import precision_score\n",
        "from sklearn.metrics import  recall_score\n",
        "from sklearn.metrics import f1_score\n",
        "from sklearn.metrics import classification_report\n",
        "\n",
        "print('Accuracy score  for test using rfc is: ',accuracy_score(y_test, y_test_pred_rfc))\n",
        "\n",
        "print('Accuracy score  for train using rfc is: ',accuracy_score(y_train, y_train_pred_rfc))\n",
        "\n",
        "##For pos_label=b\n",
        "print('Precision score label b test using rfc is:',precision_score(y_test, y_test_pred_rfc,pos_label='b'))\n",
        "\n",
        "print('Precision score label b train using rfc is:',precision_score(y_train, y_train_pred_rfc,pos_label='b'))\n",
        "\n",
        "print('Recall score label b test using rfc is:',recall_score(y_test,y_test_pred_rfc,pos_label='b'))\n",
        "\n",
        "print('Recall score label b train using rfc is:',recall_score(y_train,y_train_pred_rfc,pos_label='b'))\n",
        "\n",
        "print('F1 score label b using rfc is:',f1_score(y_train,y_train_pred_rfc,pos_label='b'))\n",
        "\n",
        "print('F1 score label b using rfc is:',f1_score(y_test,y_test_pred_rfc,pos_label='b'))\n",
        "\n",
        "##For pos_label=g\n",
        "\n",
        "print('Precision score label g is:',precision_score(y_test, y_test_pred_rfc,pos_label='g'))\n",
        "\n",
        "print('Recall score label g is:',recall_score(y_train,y_train_pred_rfc,pos_label='g'))\n",
        "\n",
        "print('F1 score label g is:',f1_score(y_train,y_train_pred_rfc,pos_label='g'))\n",
        "\n",
        "\n",
        "print(classification_report(y_test, y_test_pred_rfc))\n"
      ],
      "metadata": {
        "colab": {
          "base_uri": "https://localhost:8080/"
        },
        "id": "0dUyOAgEKzjk",
        "outputId": "5818d104-bce4-483a-8df1-952d10e7dbc1"
      },
      "execution_count": 143,
      "outputs": [
        {
          "output_type": "stream",
          "name": "stdout",
          "text": [
            "Training dataset accuracy score is:  0.9204545454545454\n",
            "Testing dataset accuracy score is: 1.0\n",
            "Accuracy score  for test using rfc is:  0.9204545454545454\n",
            "Accuracy score  for train using rfc is:  1.0\n",
            "Precision score label b test using rfc is: 0.8787878787878788\n",
            "Precision score label b train using rfc is: 1.0\n",
            "Recall score label b test using rfc is: 0.90625\n",
            "Recall score label b train using rfc is: 1.0\n",
            "F1 score label b using rfc is: 1.0\n",
            "F1 score label b using rfc is: 0.8923076923076922\n",
            "Precision score label g is: 0.9454545454545454\n",
            "Recall score label g is: 1.0\n",
            "F1 score label g is: 1.0\n",
            "              precision    recall  f1-score   support\n",
            "\n",
            "           b       0.88      0.91      0.89        32\n",
            "           g       0.95      0.93      0.94        56\n",
            "\n",
            "    accuracy                           0.92        88\n",
            "   macro avg       0.91      0.92      0.91        88\n",
            "weighted avg       0.92      0.92      0.92        88\n",
            "\n"
          ]
        }
      ]
    },
    {
      "cell_type": "markdown",
      "source": [
        ""
      ],
      "metadata": {
        "id": "k2U7f84Lgb3A"
      }
    }
  ],
  "metadata": {
    "kernelspec": {
      "display_name": "Python 3",
      "language": "python",
      "name": "python3"
    },
    "language_info": {
      "codemirror_mode": {
        "name": "ipython",
        "version": 3
      },
      "file_extension": ".py",
      "mimetype": "text/x-python",
      "name": "python",
      "nbconvert_exporter": "python",
      "pygments_lexer": "ipython3",
      "version": "3.7.7"
    },
    "colab": {
      "name": "HW6_Aniketh.ipynb",
      "provenance": [],
      "collapsed_sections": []
    }
  },
  "nbformat": 4,
  "nbformat_minor": 0
}