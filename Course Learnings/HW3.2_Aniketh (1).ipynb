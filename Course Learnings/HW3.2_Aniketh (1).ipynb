{
 "cells": [
  {
   "cell_type": "code",
   "execution_count": 5,
   "metadata": {
    "ExecuteTime": {
     "end_time": "2022-04-08T05:06:55.722966Z",
     "start_time": "2022-04-08T05:06:55.363003Z"
    }
   },
   "outputs": [
    {
     "data": {
      "text/html": [
       "<div>\n",
       "<style scoped>\n",
       "    .dataframe tbody tr th:only-of-type {\n",
       "        vertical-align: middle;\n",
       "    }\n",
       "\n",
       "    .dataframe tbody tr th {\n",
       "        vertical-align: top;\n",
       "    }\n",
       "\n",
       "    .dataframe thead th {\n",
       "        text-align: right;\n",
       "    }\n",
       "</style>\n",
       "<table border=\"1\" class=\"dataframe\">\n",
       "  <thead>\n",
       "    <tr style=\"text-align: right;\">\n",
       "      <th></th>\n",
       "      <th>Id</th>\n",
       "      <th>BldgType</th>\n",
       "      <th>LotArea</th>\n",
       "      <th>GrLivArea</th>\n",
       "      <th>YearBuilt</th>\n",
       "      <th>YrSold</th>\n",
       "      <th>SalePrice</th>\n",
       "    </tr>\n",
       "  </thead>\n",
       "  <tbody>\n",
       "    <tr>\n",
       "      <th>0</th>\n",
       "      <td>1</td>\n",
       "      <td>1Fam</td>\n",
       "      <td>8450</td>\n",
       "      <td>1710.0</td>\n",
       "      <td>2003</td>\n",
       "      <td>2008</td>\n",
       "      <td>208500</td>\n",
       "    </tr>\n",
       "    <tr>\n",
       "      <th>2</th>\n",
       "      <td>3</td>\n",
       "      <td>1Fam</td>\n",
       "      <td>11250</td>\n",
       "      <td>1786.0</td>\n",
       "      <td>2001</td>\n",
       "      <td>2008</td>\n",
       "      <td>223500</td>\n",
       "    </tr>\n",
       "    <tr>\n",
       "      <th>3</th>\n",
       "      <td>4</td>\n",
       "      <td>1Fam</td>\n",
       "      <td>9550</td>\n",
       "      <td>1717.0</td>\n",
       "      <td>1915</td>\n",
       "      <td>2006</td>\n",
       "      <td>140000</td>\n",
       "    </tr>\n",
       "    <tr>\n",
       "      <th>4</th>\n",
       "      <td>5</td>\n",
       "      <td>1Fam</td>\n",
       "      <td>14260</td>\n",
       "      <td>2198.0</td>\n",
       "      <td>2000</td>\n",
       "      <td>2008</td>\n",
       "      <td>250000</td>\n",
       "    </tr>\n",
       "    <tr>\n",
       "      <th>5</th>\n",
       "      <td>6</td>\n",
       "      <td>1Fam</td>\n",
       "      <td>14115</td>\n",
       "      <td>1362.0</td>\n",
       "      <td>1993</td>\n",
       "      <td>2009</td>\n",
       "      <td>143000</td>\n",
       "    </tr>\n",
       "  </tbody>\n",
       "</table>\n",
       "</div>"
      ],
      "text/plain": [
       "   Id BldgType  LotArea  GrLivArea  YearBuilt  YrSold  SalePrice\n",
       "0   1     1Fam     8450     1710.0       2003    2008     208500\n",
       "2   3     1Fam    11250     1786.0       2001    2008     223500\n",
       "3   4     1Fam     9550     1717.0       1915    2006     140000\n",
       "4   5     1Fam    14260     2198.0       2000    2008     250000\n",
       "5   6     1Fam    14115     1362.0       1993    2009     143000"
      ]
     },
     "execution_count": 5,
     "metadata": {},
     "output_type": "execute_result"
    }
   ],
   "source": [
    "import pandas as pd\n",
    "import numpy as np\n",
    "\n",
    "df = pd.read_csv('house_prices.csv')\n",
    "df_new = df[df.BldgType=='1Fam'].copy()\n",
    "df_new = df_new.dropna()\n",
    "df_new.head()"
   ]
  },
  {
   "cell_type": "code",
   "execution_count": 6,
   "metadata": {
    "ExecuteTime": {
     "end_time": "2022-04-07T04:10:52.113775Z",
     "start_time": "2022-04-07T04:10:52.105130Z"
    }
   },
   "outputs": [],
   "source": [
    "train_raw = df_new[df_new.YrSold < 2010].reset_index(drop=True)\n",
    "test_raw = df_new[df_new.YrSold >= 2010].reset_index(drop=True)\n",
    "train = train_raw[['LotArea','GrLivArea','YearBuilt','YrSold','SalePrice']].copy()\n",
    "test = test_raw[['LotArea','GrLivArea','YearBuilt','YrSold','SalePrice']].copy()"
   ]
  },
  {
   "cell_type": "code",
   "execution_count": 7,
   "metadata": {
    "ExecuteTime": {
     "end_time": "2022-04-07T04:10:52.628737Z",
     "start_time": "2022-04-07T04:10:52.622149Z"
    }
   },
   "outputs": [],
   "source": [
    "features = list(train.columns)\n",
    "target = \"SalePrice\"\n",
    "features.remove(target)\n",
    "\n",
    "X = train_raw[features].copy()\n",
    "y = train_raw[target].copy()\n",
    "\n",
    "X_test = test[features].copy()\n",
    "y_test = test[target].copy()"
   ]
  },
  {
   "cell_type": "markdown",
   "metadata": {},
   "source": [
    "# Validation Data"
   ]
  },
  {
   "cell_type": "code",
   "execution_count": 8,
   "metadata": {
    "ExecuteTime": {
     "end_time": "2022-04-07T04:10:53.926543Z",
     "start_time": "2022-04-07T04:10:53.445022Z"
    }
   },
   "outputs": [],
   "source": [
    "from sklearn.model_selection import train_test_split"
   ]
  },
  {
   "cell_type": "markdown",
   "metadata": {},
   "source": [
    "**Example:** Split training data in to new training data and validation data."
   ]
  },
  {
   "cell_type": "code",
   "execution_count": 9,
   "metadata": {
    "ExecuteTime": {
     "end_time": "2022-04-07T04:10:53.932606Z",
     "start_time": "2022-04-07T04:10:53.928336Z"
    }
   },
   "outputs": [],
   "source": [
    "X_train, X_valid, y_train, y_valid = train_test_split(X, \n",
    "                                                      y, \n",
    "                                                      test_size=0.2, \n",
    "                                                      random_state=2022)"
   ]
  },
  {
   "cell_type": "code",
   "execution_count": 10,
   "metadata": {
    "ExecuteTime": {
     "end_time": "2022-04-07T04:10:54.626747Z",
     "start_time": "2022-04-07T04:10:54.619525Z"
    }
   },
   "outputs": [
    {
     "data": {
      "text/html": [
       "<div>\n",
       "<style scoped>\n",
       "    .dataframe tbody tr th:only-of-type {\n",
       "        vertical-align: middle;\n",
       "    }\n",
       "\n",
       "    .dataframe tbody tr th {\n",
       "        vertical-align: top;\n",
       "    }\n",
       "\n",
       "    .dataframe thead th {\n",
       "        text-align: right;\n",
       "    }\n",
       "</style>\n",
       "<table border=\"1\" class=\"dataframe\">\n",
       "  <thead>\n",
       "    <tr style=\"text-align: right;\">\n",
       "      <th></th>\n",
       "      <th>LotArea</th>\n",
       "      <th>GrLivArea</th>\n",
       "      <th>YearBuilt</th>\n",
       "      <th>YrSold</th>\n",
       "    </tr>\n",
       "  </thead>\n",
       "  <tbody>\n",
       "    <tr>\n",
       "      <th>268</th>\n",
       "      <td>9855</td>\n",
       "      <td>1689.0</td>\n",
       "      <td>1956</td>\n",
       "      <td>2009</td>\n",
       "    </tr>\n",
       "    <tr>\n",
       "      <th>16</th>\n",
       "      <td>14230</td>\n",
       "      <td>1600.0</td>\n",
       "      <td>2007</td>\n",
       "      <td>2009</td>\n",
       "    </tr>\n",
       "    <tr>\n",
       "      <th>141</th>\n",
       "      <td>12435</td>\n",
       "      <td>1792.0</td>\n",
       "      <td>2001</td>\n",
       "      <td>2008</td>\n",
       "    </tr>\n",
       "    <tr>\n",
       "      <th>854</th>\n",
       "      <td>16545</td>\n",
       "      <td>2450.0</td>\n",
       "      <td>1998</td>\n",
       "      <td>2009</td>\n",
       "    </tr>\n",
       "    <tr>\n",
       "      <th>245</th>\n",
       "      <td>14154</td>\n",
       "      <td>2172.0</td>\n",
       "      <td>2006</td>\n",
       "      <td>2007</td>\n",
       "    </tr>\n",
       "  </tbody>\n",
       "</table>\n",
       "</div>"
      ],
      "text/plain": [
       "     LotArea  GrLivArea  YearBuilt  YrSold\n",
       "268     9855     1689.0       1956    2009\n",
       "16     14230     1600.0       2007    2009\n",
       "141    12435     1792.0       2001    2008\n",
       "854    16545     2450.0       1998    2009\n",
       "245    14154     2172.0       2006    2007"
      ]
     },
     "execution_count": 10,
     "metadata": {},
     "output_type": "execute_result"
    }
   ],
   "source": [
    "X_train.head()"
   ]
  },
  {
   "cell_type": "markdown",
   "metadata": {},
   "source": [
    "**Example:** Find the best **alpha** for Lasso using **validation score**."
   ]
  },
  {
   "cell_type": "code",
   "execution_count": 11,
   "metadata": {
    "ExecuteTime": {
     "end_time": "2022-04-07T04:22:50.401326Z",
     "start_time": "2022-04-07T04:22:50.397994Z"
    }
   },
   "outputs": [],
   "source": [
    "from sklearn.pipeline import Pipeline\n",
    "from sklearn.linear_model import Lasso, Ridge\n",
    "from sklearn.preprocessing import PolynomialFeatures, MinMaxScaler\n",
    "from sklearn.metrics import mean_squared_error"
   ]
  },
  {
   "cell_type": "code",
   "execution_count": 23,
   "metadata": {
    "ExecuteTime": {
     "end_time": "2022-04-07T04:24:09.123378Z",
     "start_time": "2022-04-07T04:24:09.039571Z"
    },
    "scrolled": true
   },
   "outputs": [],
   "source": [
    "avalues=list(np.logspace(-3, 3, 13))\n",
    "mse = []\n",
    "for a in avalues:\n",
    "    steps = [('poly', PolynomialFeatures(degree=3)),\n",
    "             ('rescale', MinMaxScaler()),\n",
    "             ('lr', Ridge(alpha=a, max_iter=100000))]\n",
    "    model = Pipeline(steps)\n",
    "    model = model.fit(X_train, y_train)\n",
    "    mse.append(mean_squared_error(y_valid, model.predict(X_valid)))\n"
   ]
  },
  {
   "cell_type": "code",
   "execution_count": 25,
   "metadata": {},
   "outputs": [
    {
     "name": "stdout",
     "output_type": "stream",
     "text": [
      "0.001\n"
     ]
    }
   ],
   "source": [
    "avalues=list(np.logspace(-3, 3, 13))\n",
    "mse = []\n",
    "alpha = 0\n",
    "minError = float('inf')\n",
    "for a in avalues:\n",
    "    steps = [('poly', PolynomialFeatures(degree=3)),\n",
    "             ('rescale', MinMaxScaler()),\n",
    "             ('lr', Ridge(alpha=a, max_iter=100000))]\n",
    "    model = Pipeline(steps)\n",
    "    model = model.fit(X_train, y_train)\n",
    "    mse.append(mean_squared_error(y_valid, model.predict(X_valid)))\n",
    "    if mean_squared_error(y_valid, model.predict(X_valid)) < minError:\n",
    "        minError = mean_squared_error(y_valid, model.predict(X_valid))\n",
    "        alpha = a\n",
    "        \n",
    "print(alpha)\n",
    "\n",
    "    \n",
    "    "
   ]
  },
  {
   "cell_type": "code",
   "execution_count": 13,
   "metadata": {
    "ExecuteTime": {
     "end_time": "2022-04-07T04:24:09.425106Z",
     "start_time": "2022-04-07T04:24:09.421366Z"
    }
   },
   "outputs": [],
   "source": [
    "import matplotlib.pylab as plt\n",
    "%matplotlib inline"
   ]
  },
  {
   "cell_type": "code",
   "execution_count": 14,
   "metadata": {
    "ExecuteTime": {
     "end_time": "2022-04-07T04:24:10.377935Z",
     "start_time": "2022-04-07T04:24:09.994445Z"
    }
   },
   "outputs": [
    {
     "data": {
      "text/plain": [
       "Text(0.5, 1.0, 'Loss vs. alpha using Ridge')"
      ]
     },
     "execution_count": 14,
     "metadata": {},
     "output_type": "execute_result"
    },
    {
     "data": {
      "image/png": "[encoded data removed]",
      "text/plain": [
       "<Figure size 432x288 with 1 Axes>"
      ]
     },
     "metadata": {
      "needs_background": "light"
     },
     "output_type": "display_data"
    }
   ],
   "source": [
    "plt.plot(avalues, mse, marker='*')\n",
    "plt.xscale('log')\n",
    "plt.xlabel('alpha')\n",
    "plt.ylabel('MSE')\n",
    "plt.title('Loss vs. alpha using Ridge')"
   ]
  },
  {
   "cell_type": "markdown",
   "metadata": {},
   "source": [
    "<font color='red'>Question:</font> What are training, validation, and testing data for? Why did we use validation data to find the best **alpha**? Can we use test data to find the best **alpha**?"
   ]
  },
  {
   "cell_type": "markdown",
   "metadata": {},
   "source": [
    "### Training Dataset: The sample of data used to fit the model.\n",
    "### The actual dataset that we use to train the model (weights and biases in the case of a Neural Network). The model sees and learns from this data.\n",
    "\n",
    "\n",
    "\n",
    "### Validation Dataset : for parameter estimation\n",
    "### Validation Dataset: The sample of data used to provide an unbiased evaluation of a model fit on the training dataset while tuning model hyperparameters. The evaluation becomes more biased as skill on the validation dataset is incorporated into the model configuration.\n",
    "\n",
    "\n",
    "### Test Dataset : for final evaluation\n",
    "### Test Dataset: The sample of data used to provide an unbiased evaluation of a final model fit on the training dataset."
   ]
  },
  {
   "cell_type": "markdown",
   "metadata": {},
   "source": [
    "# K-fold Cross Validation"
   ]
  },
  {
   "cell_type": "markdown",
   "metadata": {},
   "source": [
    "<font color='red'>Assignment:</font> Use **KFold** instead of **train_test_split** to find the best **alpha**. "
   ]
  },
  {
   "cell_type": "code",
   "execution_count": 15,
   "metadata": {
    "ExecuteTime": {
     "end_time": "2022-04-07T04:24:28.395933Z",
     "start_time": "2022-04-07T04:24:28.392684Z"
    }
   },
   "outputs": [
    {
     "data": {
      "text/plain": [
       "5"
      ]
     },
     "execution_count": 15,
     "metadata": {},
     "output_type": "execute_result"
    }
   ],
   "source": [
    "from sklearn.model_selection import KFold\n",
    "kf = KFold(n_splits=5, shuffle=True, random_state=2022)\n",
    "kf.get_n_splits(X)"
   ]
  },
  {
   "cell_type": "code",
   "execution_count": 34,
   "metadata": {
    "ExecuteTime": {
     "end_time": "2022-04-07T04:25:19.025512Z",
     "start_time": "2022-04-07T04:25:17.523653Z"
    },
    "scrolled": true
   },
   "outputs": [
    {
     "name": "stdout",
     "output_type": "stream",
     "text": [
      "Train length 698 Train index: [0 1 2 3 4] Valid length 175 Valid index: [ 7 10 27 32 34]\n",
      "Train length 698 Train index: [0 2 3 5 7] Valid length 175 Valid index: [ 1  4  6 13 15]\n",
      "Train length 698 Train index: [0 1 3 4 5] Valid length 175 Valid index: [ 2  9 17 21 22]\n",
      "Train length 699 Train index: [0 1 2 4 6] Valid length 174 Valid index: [ 3  5  8 20 30]\n",
      "Train length 699 Train index: [1 2 3 4 5] Valid length 174 Valid index: [ 0 11 12 14 18]\n",
      "Best alpha is 0.001\n"
     ]
    }
   ],
   "source": [
    "import numpy as np\n",
    "avalues=list(np.logspace(-3, 3, 13))\n",
    "mse_kfold = []\n",
    "minError, alpha = float('inf'), 0\n",
    "for train_index, valid_index in kf.split(X,y):\n",
    "    X_train, X_valid = X.iloc[train_index], X.iloc[valid_index]\n",
    "    y_train, y_valid = y.iloc[train_index], y.iloc[valid_index]\n",
    "    print('Train length', len(train_index), 'Train index:', train_index[0:5], \n",
    "          'Valid length', len(valid_index),'Valid index:',valid_index[0:5])\n",
    "    mse = []\n",
    "    for a in avalues:\n",
    "        #fill in your own code here\n",
    "        steps = [('poly', PolynomialFeatures(degree=3)),\n",
    "         ('rescale', MinMaxScaler()),\n",
    "         ('lr', Ridge(alpha=a, max_iter=100000))]\n",
    "        model = Pipeline(steps)\n",
    "        model = model.fit(X_train, y_train)\n",
    "        mse.append(mean_squared_error(y_valid, model.predict(X_valid)))   \n",
    "        if mean_squared_error(y_valid, model.predict(X_valid)) < minError:\n",
    "            minError = mean_squared_error(y_valid, model.predict(X_valid))\n",
    "            alpha = a\n",
    "print(\"Best alpha is\",alpha)"
   ]
  },
  {
   "cell_type": "code",
   "execution_count": null,
   "metadata": {},
   "outputs": [],
   "source": [
    "import numpy as np\n",
    "avalues=list(np.logspace(-3, 3, 13))\n",
    "mse_kfold = []\n",
    "\n",
    "for train_index, valid_index in kf.split(X,y):\n",
    "    X_train, X_valid = X.iloc[train_index], X.iloc[valid_index]\n",
    "    y_train, y_valid = y.iloc[train_index], y.iloc[valid_index]\n",
    "    print('Train length', len(train_index), 'Train index:', train_index[0:5], \n",
    "          'Valid length', len(valid_index),'Valid index:',valid_index[0:5])\n",
    "    mse = []\n",
    "    for a in avalues:\n",
    "        #fill in your own code here\n",
    "        steps = [('poly', PolynomialFeatures(degree=3)),\n",
    "         ('rescale', MinMaxScaler()),\n",
    "         ('lr', Ridge(alpha=a, max_iter=100000))]\n",
    "        model = Pipeline(steps)\n",
    "        model = model.fit(X_train, y_train)\n",
    "        mse.append(mean_squared_error(y_valid, model.predict(X_valid)))   "
   ]
  },
  {
   "cell_type": "code",
   "execution_count": null,
   "metadata": {},
   "outputs": [],
   "source": []
  },
  {
   "cell_type": "markdown",
   "metadata": {},
   "source": [
    "<font color='red'>Question:</font> What is the difference between **KFold** and **train_test_split**? What is the advantages and disadvanteges of k-fold cross validation?"
   ]
  },
  {
   "cell_type": "markdown",
   "metadata": {},
   "source": [
    "### Difference between KFold and train_test_split:\n",
    "\n",
    "\n",
    "### Train-Test Split:  So when we use train_test_split, it's randomly taking 80% of the samples and assigning them to the training set and the other 20% are assigned to the test set. \n",
    "\n",
    "### Cross-Validation: The way cross-validation works is (with k=10) it takes the first 10% of the data (not randomized) as the test data, and the remaining 90% is used as training, it evaluates test accuracy and stores it. It then takes the second 10% of the data for test, and trains on the first 10% and last 80% (which is the remaining 90%), it also stores the accuracy score derived here. It does this 10 times until there is  accuracy scores for each of the 10 validation tests (each on a different test set), the score that is got at the end will be the mean of these accuracies."
   ]
  },
  {
   "cell_type": "markdown",
   "metadata": {},
   "source": [
    "\n",
    "### Advantages of k-fold cross-validation.\n",
    "### It ‘validates’ the performance of your model on multiple ‘folds’ of your data.\n",
    "### It can balance out the predicted features’ classes if you are dealing with an unbalanced dataset.\n",
    "### Because of 1 and 3 it gives you a more stable answer as to how your model performs on that data.\n",
    "\n",
    "\n",
    "### Disadvantages:\n",
    "\n",
    "### K-fold doesn’t really work well with sequential data (a time series of some kind). If you use it you’d be predicting past values with future value training, which is not a good way to go about things.\n",
    "\n",
    "### If you just trust the K-fold final aggregated score for your model, imagine r-squared of 0.95, you will miss a lot of information about your models’ performance like the spikes i described above."
   ]
  },
  {
   "cell_type": "markdown",
   "metadata": {},
   "source": []
  },
  {
   "cell_type": "markdown",
   "metadata": {},
   "source": [
    "# 3. GridSearchCV"
   ]
  },
  {
   "cell_type": "markdown",
   "metadata": {},
   "source": [
    "<font color='red'>Assignment:</font> By now, we have only tuned the value of **alpha**. Actually, **degree** in **PolynomialFeatures** is also a hyper parameter. Can we find the best values for both of them? You can try to use **GridSearchCV**, and also **make_scorer**."
   ]
  },
  {
   "cell_type": "code",
   "execution_count": 3,
   "metadata": {
    "ExecuteTime": {
     "end_time": "2022-04-08T05:07:05.842214Z",
     "start_time": "2022-04-08T05:07:05.837957Z"
    }
   },
   "outputs": [],
   "source": [
    "from sklearn.model_selection import GridSearchCV\n",
    "from sklearn.metrics import mean_squared_error, make_scorer\n",
    "avalues=list(np.logspace(-3, 3, 13))\n",
    "tuned_parameters = [{'lr__alpha':avalues,'poly__degree':range(1,10)}]\n",
    "my_mse = make_scorer(mean_squared_error, greater_is_better=False)\n",
    "\n",
    "\n",
    "\n",
    "\n",
    "\n",
    "\n",
    "\n"
   ]
  },
  {
   "cell_type": "code",
   "execution_count": null,
   "metadata": {},
   "outputs": [],
   "source": []
  }
 ],
 "metadata": {
  "kernelspec": {
   "display_name": "Python 3",
   "language": "python",
   "name": "python3"
  },
  "language_info": {
   "codemirror_mode": {
    "name": "ipython",
    "version": 3
   },
   "file_extension": ".py",
   "mimetype": "text/x-python",
   "name": "python",
   "nbconvert_exporter": "python",
   "pygments_lexer": "ipython3",
   "version": "3.7.6"
  }
 },
 "nbformat": 4,
 "nbformat_minor": 2
}
