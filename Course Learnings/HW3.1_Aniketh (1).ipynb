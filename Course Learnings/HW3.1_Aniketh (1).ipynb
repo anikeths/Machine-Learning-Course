{
 "cells": [
  {
   "cell_type": "markdown",
   "metadata": {},
   "source": [
    "## Load and Clean Data"
   ]
  },
  {
   "cell_type": "code",
   "execution_count": 3,
   "metadata": {
    "ExecuteTime": {
     "end_time": "2022-04-05T05:48:29.440749Z",
     "start_time": "2022-04-05T05:48:28.656913Z"
    }
   },
   "outputs": [
    {
     "data": {
      "text/html": [
       "<div>\n",
       "<style scoped>\n",
       "    .dataframe tbody tr th:only-of-type {\n",
       "        vertical-align: middle;\n",
       "    }\n",
       "\n",
       "    .dataframe tbody tr th {\n",
       "        vertical-align: top;\n",
       "    }\n",
       "\n",
       "    .dataframe thead th {\n",
       "        text-align: right;\n",
       "    }\n",
       "</style>\n",
       "<table border=\"1\" class=\"dataframe\">\n",
       "  <thead>\n",
       "    <tr style=\"text-align: right;\">\n",
       "      <th></th>\n",
       "      <th>Id</th>\n",
       "      <th>BldgType</th>\n",
       "      <th>LotArea</th>\n",
       "      <th>GrLivArea</th>\n",
       "      <th>YearBuilt</th>\n",
       "      <th>YrSold</th>\n",
       "      <th>SalePrice</th>\n",
       "    </tr>\n",
       "  </thead>\n",
       "  <tbody>\n",
       "    <tr>\n",
       "      <th>0</th>\n",
       "      <td>1</td>\n",
       "      <td>1Fam</td>\n",
       "      <td>8450</td>\n",
       "      <td>1710.0</td>\n",
       "      <td>2003</td>\n",
       "      <td>2008</td>\n",
       "      <td>208500</td>\n",
       "    </tr>\n",
       "    <tr>\n",
       "      <th>2</th>\n",
       "      <td>3</td>\n",
       "      <td>1Fam</td>\n",
       "      <td>11250</td>\n",
       "      <td>1786.0</td>\n",
       "      <td>2001</td>\n",
       "      <td>2008</td>\n",
       "      <td>223500</td>\n",
       "    </tr>\n",
       "    <tr>\n",
       "      <th>3</th>\n",
       "      <td>4</td>\n",
       "      <td>1Fam</td>\n",
       "      <td>9550</td>\n",
       "      <td>1717.0</td>\n",
       "      <td>1915</td>\n",
       "      <td>2006</td>\n",
       "      <td>140000</td>\n",
       "    </tr>\n",
       "    <tr>\n",
       "      <th>4</th>\n",
       "      <td>5</td>\n",
       "      <td>1Fam</td>\n",
       "      <td>14260</td>\n",
       "      <td>2198.0</td>\n",
       "      <td>2000</td>\n",
       "      <td>2008</td>\n",
       "      <td>250000</td>\n",
       "    </tr>\n",
       "    <tr>\n",
       "      <th>5</th>\n",
       "      <td>6</td>\n",
       "      <td>1Fam</td>\n",
       "      <td>14115</td>\n",
       "      <td>1362.0</td>\n",
       "      <td>1993</td>\n",
       "      <td>2009</td>\n",
       "      <td>143000</td>\n",
       "    </tr>\n",
       "  </tbody>\n",
       "</table>\n",
       "</div>"
      ],
      "text/plain": [
       "   Id BldgType  LotArea  GrLivArea  YearBuilt  YrSold  SalePrice\n",
       "0   1     1Fam     8450     1710.0       2003    2008     208500\n",
       "2   3     1Fam    11250     1786.0       2001    2008     223500\n",
       "3   4     1Fam     9550     1717.0       1915    2006     140000\n",
       "4   5     1Fam    14260     2198.0       2000    2008     250000\n",
       "5   6     1Fam    14115     1362.0       1993    2009     143000"
      ]
     },
     "execution_count": 3,
     "metadata": {},
     "output_type": "execute_result"
    }
   ],
   "source": [
    "import pandas as pd\n",
    "\n",
    "df = pd.read_csv('house_prices.csv')\n",
    "df_new = df[df.BldgType=='1Fam'].copy()\n",
    "df_new = df_new.dropna()\n",
    "df_new.head()"
   ]
  },
  {
   "cell_type": "markdown",
   "metadata": {},
   "source": [
    "## Split Data Into Train and Test"
   ]
  },
  {
   "cell_type": "code",
   "execution_count": 4,
   "metadata": {
    "ExecuteTime": {
     "end_time": "2022-04-05T05:52:10.661915Z",
     "start_time": "2022-04-05T05:52:10.651764Z"
    }
   },
   "outputs": [],
   "source": [
    "train_raw = df_new[df_new.YrSold < 2010].reset_index(drop=True)\n",
    "test_raw = df_new[df_new.YrSold >= 2010].reset_index(drop=True)\n",
    "train = train_raw[['GrLivArea', 'SalePrice']].copy()\n",
    "test = test_raw[['GrLivArea', 'SalePrice']].copy()\n"
   ]
  },
  {
   "cell_type": "markdown",
   "metadata": {},
   "source": [
    "## Get Features and Target"
   ]
  },
  {
   "cell_type": "code",
   "execution_count": 5,
   "metadata": {
    "ExecuteTime": {
     "end_time": "2022-04-05T05:52:23.853315Z",
     "start_time": "2022-04-05T05:52:23.847117Z"
    }
   },
   "outputs": [],
   "source": [
    "features = list(train.columns)\n",
    "target = \"SalePrice\"\n",
    "features.remove(target)\n",
    "\n",
    "X_train = train[features].copy()\n",
    "y_train = train[target].copy()\n",
    "\n",
    "X_test = test[features].copy()\n",
    "y_test = test[target].copy()"
   ]
  },
  {
   "cell_type": "markdown",
   "metadata": {},
   "source": [
    "## Create Pipeline"
   ]
  },
  {
   "cell_type": "code",
   "execution_count": 6,
   "metadata": {
    "ExecuteTime": {
     "end_time": "2022-04-05T05:54:05.433726Z",
     "start_time": "2022-04-05T05:54:04.802345Z"
    }
   },
   "outputs": [],
   "source": [
    "from sklearn.pipeline import Pipeline\n",
    "from sklearn.linear_model import LinearRegression\n",
    "from sklearn.linear_model import Lasso\n",
    "from sklearn.linear_model import Ridge\n",
    "from sklearn.preprocessing import PolynomialFeatures\n",
    "from sklearn.preprocessing import MinMaxScaler\n",
    "from sklearn.metrics import mean_absolute_error, mean_squared_error, r2_score"
   ]
  },
  {
   "cell_type": "code",
   "execution_count": 18,
   "metadata": {
    "ExecuteTime": {
     "end_time": "2022-04-05T06:34:59.783786Z",
     "start_time": "2022-04-05T06:34:59.766311Z"
    }
   },
   "outputs": [
    {
     "data": {
      "text/plain": [
       "Pipeline(memory=None,\n",
       "         steps=[('poly',\n",
       "                 PolynomialFeatures(degree=30, include_bias=True,\n",
       "                                    interaction_only=False, order='C')),\n",
       "                ('rescale', MinMaxScaler(copy=True, feature_range=(0, 1))),\n",
       "                ('lr',\n",
       "                 LinearRegression(copy_X=True, fit_intercept=True, n_jobs=None,\n",
       "                                  normalize=False))],\n",
       "         verbose=False)"
      ]
     },
     "execution_count": 18,
     "metadata": {},
     "output_type": "execute_result"
    }
   ],
   "source": [
    "steps = [('poly', PolynomialFeatures(degree=30)),\n",
    "         ('rescale', MinMaxScaler()),\n",
    "         ('lr', LinearRegression())]\n",
    "pipeline_lr = Pipeline(steps)\n",
    "pipeline_lr = pipeline_lr.fit(X_train, y_train)\n",
    "pipeline_lr"
   ]
  },
  {
   "cell_type": "code",
   "execution_count": 28,
   "metadata": {},
   "outputs": [
    {
     "data": {
      "text/plain": [
       "array([129987.19203727, 135207.32377559, 120421.71250502, 198889.30926327,\n",
       "       198472.33413417, 134926.42970237, 199515.28819994, 253549.07915696,\n",
       "       106648.88546992, 137647.66621474, 188649.78436312, 114527.38147862,\n",
       "       150876.0784288 , 189162.91748274, 201815.85037399, 150972.36763592,\n",
       "       213657.6835043 , 170956.19753988, 376988.47238496, 117149.23312913,\n",
       "       166489.21838337, 234357.72944419, 227023.47421111, 224740.94608708,\n",
       "       182119.1571944 , 193903.74403048, 140949.58538911, 149625.78553402,\n",
       "       167181.87875047, 121516.93223898, 147899.10029226, 119874.92782687,\n",
       "       226153.02541553, 169364.09134233, 203074.22175684, 176662.73878563,\n",
       "       184661.92399449, 242661.70396168, 158727.98469371, 159509.27409993,\n",
       "       159704.75991455, 260709.45282883, 184050.69605465, 117149.23312913,\n",
       "       120421.71250502, 345863.54078119, 220522.51418584, 104254.78078753,\n",
       "       155031.11212346, 156876.60906424, 214939.38740393, 197535.14608437,\n",
       "       143129.99057854, 175758.09661777, 132218.39164061, 134832.82973571,\n",
       "       218369.55973137, 209085.51396679, 113806.34981487, 188239.58413312,\n",
       "       167181.87875047, 192973.34720843, 181510.46418873, 134645.67687324,\n",
       "       140476.69565166, 179991.38705355, 213124.38148972, 173752.63274383,\n",
       "       213124.38148972, 119874.92782687, 176361.04063867, 146368.63498528,\n",
       "       175858.54542584, 200559.9640501 , 142750.18555994, 166588.12027557,\n",
       "       182728.45784811, 199932.95182391, 384359.0290827 , 140571.24189195,\n",
       "       193490.06325608, 239771.73358075, 184458.11363971, 133710.85329207,\n",
       "       194421.23012364, 134458.5867543 , 212059.0846118 , 135863.2929617 ,\n",
       "       133337.36247359, 138683.32530714, 224957.99573054, 196599.34983958,\n",
       "       144175.76837128, 271523.50334556, 135488.359164  , 276055.82536001,\n",
       "       166093.77602323, 116605.73586525, 219014.71063228, 223981.82573462,\n",
       "       149241.62754392, 154643.33393342, 123163.89647138, 180598.5629944 ,\n",
       "       259568.19922891, 133337.36247359, 129245.4515093 , 123713.98943186,\n",
       "       301997.55902089, 131473.66074514, 197847.38738878, 209403.45872282,\n",
       "       163234.7111627 , 213764.39621674, 203914.51809915, 147324.69487002,\n",
       "       145891.20553467, 132777.59566145, 242661.70396168, 232489.30716557,\n",
       "       180396.10365168, 141612.29727368, 281201.19350451, 160879.04940583,\n",
       "       143890.36499573, 152901.54272739, 219875.89227158, 299234.38605213,\n",
       "       222141.8296789 , 379054.11397364, 136895.65832017, 195768.69827757,\n",
       "       195146.4299887 , 117149.23312913, 144080.61796662, 197119.06489551,\n",
       "       164317.5529044 , 111738.75484609, 151936.14734914, 147324.69487002,\n",
       "       238552.6520995 , 268747.66508947, 136895.65832017])"
      ]
     },
     "execution_count": 28,
     "metadata": {},
     "output_type": "execute_result"
    }
   ],
   "source": [
    "y_test_pred = pipeline_lr.predict(X_test)\n",
    "y_test_pred"
   ]
  },
  {
   "cell_type": "markdown",
   "metadata": {},
   "source": [
    "<font color='red'>Assignment:</font> Calculate train and test loss; plot **GrLivArea** vs **SalePrice** using test data, and overlay it with model to see how the model works with test data."
   ]
  },
  {
   "cell_type": "markdown",
   "metadata": {},
   "source": [
    "## Train loss and Test Loss\n"
   ]
  },
  {
   "cell_type": "code",
   "execution_count": 15,
   "metadata": {},
   "outputs": [
    {
     "name": "stdout",
     "output_type": "stream",
     "text": [
      "Mean absolute error is  182183.91638029783\n",
      "Mean squared error for train is  39729763389.077896\n",
      "Mean squared error for test is  40485938708.11888\n"
     ]
    }
   ],
   "source": [
    "from sklearn.metrics import mean_absolute_error, mean_squared_error, r2_score\n",
    "\n",
    "mae=mean_absolute_error(X_train, y_train)\n",
    "print(\"Mean absolute error is \", mae)\n",
    "\n",
    "#MSE for train set\n",
    "mse_train = mean_squared_error(X_train,y_train,squared='false')\n",
    "print(\"Mean squared error for train is \", mse_train)\n",
    "\n",
    "#MSE for test set\n",
    "mse = mean_squared_error(X_test,y_test,squared='false')\n",
    "print(\"Mean squared error for test is \", mse)\n"
   ]
  },
  {
   "cell_type": "code",
   "execution_count": 34,
   "metadata": {},
   "outputs": [
    {
     "data": {
      "image/png": "[encoded data removed]",
      "text/plain": [
       "<Figure size 432x288 with 1 Axes>"
      ]
     },
     "metadata": {
      "needs_background": "light"
     },
     "output_type": "display_data"
    }
   ],
   "source": [
    "import matplotlib.pyplot as plt\n",
    "\n",
    "ax=test.plot(kind='scatter',x='GrLivArea',y='SalePrice',color='red')\n",
    "train.plot(kind='scatter',x='GrLivArea',y='SalePrice',color='blue',ax=ax)\n",
    "plt.show()\n",
    "\n",
    "#y_test_pred.plot(kind='scatter',x='GrLivArea',y='SalePrice',color='red')\n",
    "#plt.show()\n",
    "#test.plot(kind='scatter',x='GrLivArea',y='SalePrice',color='red')\n",
    "#plt.show()\n",
    "\n"
   ]
  },
  {
   "cell_type": "markdown",
   "metadata": {},
   "source": [
    "### In the overlaid plot,\n",
    "### Blue color refers to train data\n",
    "### Red color refers to test data."
   ]
  },
  {
   "cell_type": "markdown",
   "metadata": {},
   "source": [
    "# Lasso"
   ]
  },
  {
   "cell_type": "markdown",
   "metadata": {},
   "source": [
    "<font color='red'>Assignment:</font> Use **Lasso** instead of **LinearRegression** in **Pipeline**. Tune **alpha** in **Lasso** to search for the  alpha that has the lowest test loss, which is your best model. Visualize your best model and calculate its R2 scores."
   ]
  },
  {
   "cell_type": "code",
   "execution_count": 22,
   "metadata": {
    "ExecuteTime": {
     "end_time": "2022-04-05T06:36:07.830526Z",
     "start_time": "2022-04-05T06:35:58.361476Z"
    }
   },
   "outputs": [
    {
     "name": "stderr",
     "output_type": "stream",
     "text": [
      "/Users/aniketh/opt/anaconda3/lib/python3.7/site-packages/sklearn/linear_model/_coordinate_descent.py:476: ConvergenceWarning: Objective did not converge. You might want to increase the number of iterations. Duality gap: 681420882793.5706, tolerance: 576452147.1034409\n",
      "  positive)\n"
     ]
    },
    {
     "data": {
      "text/plain": [
       "Pipeline(memory=None,\n",
       "         steps=[('poly',\n",
       "                 PolynomialFeatures(degree=30, include_bias=True,\n",
       "                                    interaction_only=False, order='C')),\n",
       "                ('rescale', MinMaxScaler(copy=True, feature_range=(0, 1))),\n",
       "                ('lasso',\n",
       "                 Lasso(alpha=1.0, copy_X=True, fit_intercept=True,\n",
       "                       max_iter=1000, normalize=False, positive=False,\n",
       "                       precompute=False, random_state=None, selection='cyclic',\n",
       "                       tol=0.0001, warm_start=False))],\n",
       "         verbose=False)"
      ]
     },
     "execution_count": 22,
     "metadata": {},
     "output_type": "execute_result"
    }
   ],
   "source": [
    "steps = [('poly', PolynomialFeatures(degree=30)),\n",
    "         ('rescale', MinMaxScaler()),\n",
    "         ('lasso', Lasso())]\n",
    "pipeline_lr = Pipeline(steps)\n",
    "pipeline_lr = pipeline_lr.fit(X_train, y_train)\n",
    "pipeline_lr"
   ]
  },
  {
   "cell_type": "code",
   "execution_count": 23,
   "metadata": {
    "ExecuteTime": {
     "end_time": "2022-04-05T06:37:11.659518Z",
     "start_time": "2022-04-05T06:37:10.231253Z"
    }
   },
   "outputs": [
    {
     "data": {
      "text/plain": [
       "array([202355.26157721, 210246.76961197, 203081.34482446, 254947.46251818,\n",
       "       165666.81804961, 200695.69279421, 242704.09739181, 208998.82687301,\n",
       "       128754.81897248, 269976.92810132, 112779.4152532 , 179811.06688144,\n",
       "       153618.39394859, 163156.0112288 , 276458.09216394, 136908.25476727,\n",
       "       190928.5265879 , 190928.5265879 , 150797.31417388, 151476.50054772,\n",
       "       286262.83994333, 135603.98631648, 158528.96421925, 161509.92289412,\n",
       "       161949.56204151, 109167.45180321, 249328.16736755, 196752.55597155,\n",
       "       118242.31229068, 177268.67585013, 144852.25440699, 216088.11603743,\n",
       "       172469.15907001, 203392.53963383, 361588.3337051 , 142768.7872812 ,\n",
       "       137263.00947435, 236542.06455408, 265469.24379498, 257859.92571815,\n",
       "       104062.46612535, 157196.36910364, 151023.86091835, 248534.50056224,\n",
       "       131777.87336624, 281696.4347561 , 183184.58481046, 122615.92701656,\n",
       "       128754.81897248, 151589.56628113, 119373.11105093, 210246.76961197,\n",
       "       189677.19531116, 118871.06470504, 213580.57736162, 231989.35148602,\n",
       "       129604.32890029, 182237.53661346, 320815.25697368, 262111.97985503,\n",
       "       269485.56501528, 135009.3038432 , 175780.2595619 , 122367.72936582,\n",
       "       138677.98065649, 133577.33775464, 103401.63611514, 164140.36667617,\n",
       "       161839.69920119, 203496.27409717, 199450.879003  , 149207.2025378 ,\n",
       "       217135.11046482, 207959.61338546, 204845.00094481, 180550.54515171,\n",
       "       133577.33775464, 163703.17588982, 119999.47952209, 202355.26157721,\n",
       "       232097.13288441, 153505.99385639, 147609.46718466, 135485.14193277,\n",
       "       128754.81897248, 287584.1117589 , 151250.25620265, 316590.8075547 ,\n",
       "       108907.77020051, 192594.87753047, 218708.3187841 , 250693.88026606,\n",
       "       203392.53963383, 167837.75055519, 196233.35330256, 250351.83574249,\n",
       "       239389.04793878, 224297.80359978, 259151.71982878, 119874.31130163,\n",
       "       211912.47312857, 163265.50465152, 241816.78738941, 153505.99385639,\n",
       "       491606.20507023, 149548.57654832, 196752.55597155, 325575.55009305,\n",
       "       173111.74156617, 106560.40649279, 204014.97210962, 392131.91502329,\n",
       "       202666.43491817, 159967.19166071, 157085.09892173, 174287.62559779,\n",
       "       200903.14424551, 135960.24403689, 239609.02171103, 135009.3038432 ,\n",
       "       106560.40649279, 217135.11046482, 122615.92701656, 173646.5803681 ,\n",
       "       161949.56204151, 227913.89793531, 180233.73482262, 263066.6058586 ,\n",
       "       185913.52670811, 106560.40649279, 278488.45238208, 295398.58726257,\n",
       "       200695.69279421, 174074.03519752, 167079.19366402, 197998.21137806,\n",
       "       248761.03995457, 159082.78748479, 265952.57787954, 204222.46506898,\n",
       "       191345.3270563 , 210871.15253036, 108907.77020051, 167837.75055519,\n",
       "       302915.66270266, 148979.42548311,  93174.57581873, 172147.54549497,\n",
       "       254253.1807621 ,  95084.60368492, 137499.28678469, 226315.28577293,\n",
       "       165775.63254855, 194259.17129098, 185494.32568349, 246166.35197262,\n",
       "       235235.69535427, 230913.09280315, 154628.36695502, 177056.29489203,\n",
       "       204845.00094481, 105773.83386054, 169350.88726326, 224191.83831736,\n",
       "       202977.61576757, 262588.8400439 , 195506.2615297 , 186541.92164614,\n",
       "       205779.00135412, 142071.26433592, 286262.83994333, 184760.18351872,\n",
       "       110462.47572324, 468456.5270618 , 232852.41185411, 260213.46645654,\n",
       "       170428.54601823, 106167.37887466, 226847.5611915 , 180550.54515171,\n",
       "       120374.66853354, 236760.24918354, 195194.56967525, 273569.66808029,\n",
       "       228447.98493148, 313320.95285299, 177480.97520413, 306047.73777539,\n",
       "       326040.90906477, 143348.89039214,  98465.82882862, 167946.0063062 ,\n",
       "       247630.10263328, 146692.98544118, 130693.05330414, 193947.25612283,\n",
       "       194882.82563945, 224509.79782597, 184235.36162198, 193115.17319441,\n",
       "       103533.91865112, 188528.8166586 , 118619.72328943, 178117.39007839,\n",
       "       137263.00947435, 190407.31267377, 147609.46718466, 143812.21511972,\n",
       "       164577.08165351, 112779.4152532 , 180972.70897095, 224509.79782597,\n",
       "       188215.38666506, 169135.0438247 , 173111.74156617, 197583.05419138,\n",
       "       189677.19531116, 160959.66549202, 225146.29714092, 111751.89131046,\n",
       "       113035.7424538 , 288114.72386794, 211704.13712372, 158972.08913667,\n",
       "       211391.70173072,  95899.53751194, 227807.15495089, 145773.92515178,\n",
       "       138913.18413077, 178223.38960584, 166210.60487289, 228661.79528449,\n",
       "       108907.77020051,  96441.61606877, 128024.75517045, 110462.47572324,\n",
       "       212954.7314536 , 133218.29489506, 185703.95375705, 159967.19166071,\n",
       "        80320.02881582, 262588.8400439 , 188006.37487655, 193011.12960187,\n",
       "       199243.38560316, 251951.61987062, 241374.04653383, 156193.6984432 ,\n",
       "       243482.52800579, 163265.50465152, 169782.2606308 , 310093.91806267,\n",
       "       139969.41180326, 191136.94537395, 122367.72936582, 168594.97317272,\n",
       "       195506.2615297 , 112137.62890695, 148523.40255779, 171073.91643955,\n",
       "       147380.58673242, 191345.3270563 , 197271.64768384, 138089.1930135 ,\n",
       "        83442.50427496, 279766.38411556, 188110.88667443, 223027.58937862,\n",
       "       200177.046063  , 220706.20379823, 167187.64159611, 145658.85971945,\n",
       "        99807.82162016, 183920.28955845, 207128.65664079, 189885.85148007,\n",
       "       152379.97899076, 163703.17588982, 197479.25585249, 197790.63983546,\n",
       "       147952.48961569, 225889.88236563, 140086.55059754, 106560.40649279,\n",
       "       128754.81897248, 156305.24460133, 195506.2615297 , 194467.08154726,\n",
       "       230268.66681695, 120124.59510203, 179705.35396246, 203185.0750917 ,\n",
       "       139617.73232094, 216925.60019474, 210871.15253036, 214415.65539931,\n",
       "       123730.26733541, 137499.28678469, 132738.91200781, 178753.09372962,\n",
       "       188633.27028569, 175780.2595619 , 155411.8970203 , 109426.90733976,\n",
       "        87093.04891563, 414665.33789476, 213789.27920476, 111107.88182988,\n",
       "       112779.4152532 , 208375.2251471 , 149207.2025378 , 167404.45450008,\n",
       "       128876.32427443, 165775.63254855, 106560.40649279, 235018.41581873,\n",
       "       245941.79550887, 211287.57450569, 241595.34147794, 152605.47649006,\n",
       "       197583.05419138, 429004.28641181, 279254.37655611, 155076.31144206,\n",
       "        70617.72568952, 294714.54531818,  28272.16715693, 203807.48738788,\n",
       "       106560.40649279, 142884.89242237, 215669.69695723, 265227.93114909,\n",
       "       199243.38560316, 180022.43743522, 253215.0837736 , 101410.3739277 ,\n",
       "       243148.67988478, 203081.34482446, 139030.71933258, 237853.17840477,\n",
       "       129725.49230183, 162827.34833472, 174714.53551137, 168594.97317272,\n",
       "       266436.86231201, 247404.43890379, 106560.40649279, 200488.23757681,\n",
       "       173004.70365582, 178011.37079458, 161069.78032631, 211183.45607077,\n",
       "       237415.60217028, 333121.5119181 , 188110.88667443, 103136.89595991,\n",
       "       106036.25474711, 177587.09448055, 115713.91634273, 189050.97191984,\n",
       "       266558.08265493, 100209.25915214, 114314.07366114, 214415.65539931,\n",
       "       166319.27690492, 167079.19366402, 223768.18701362, 179811.06688144,\n",
       "       128754.81897248, 233717.35493751, 127415.01147673, 127781.0061692 ,\n",
       "       219233.49603081, 138324.84189628, 181394.59196148, 106560.40649279,\n",
       "       308641.07490953, 210662.99233138, 172147.54549497, 241595.34147794,\n",
       "       164358.78335014, 206505.64829543, 170966.41754131, 130693.05330414,\n",
       "        98062.0666978 ,  97522.87826888, 225252.45677482, 322035.29919455,\n",
       "       193011.12960187, 121497.40606229, 135247.31511149, 197686.84882188,\n",
       "       181500.01944867, 202977.61576757, 180656.11272268, 225889.88236563,\n",
       "       225996.19888324, 276964.04496802, 199139.63559169, 173753.47852509,\n",
       "       145313.41807025, 166427.92066508, 148523.40255779, 215774.28208704,\n",
       "       140203.64563992, 208998.82687301,  96982.72885936, 237853.17840477,\n",
       "       122367.72936582, 182553.36536777, 157863.27462963, 197998.21137806,\n",
       "       207647.96460602, 171825.71424515, 554064.87305005, 295261.61916189,\n",
       "       132738.91200781, 184550.29898509, 140320.69698934,  72230.80516691,\n",
       "       141605.395012  , 143464.7845387 , 303198.70636336, 214206.81743384,\n",
       "       175780.2595619 , 111751.89131046,  88346.786653  , 164358.78335014,\n",
       "       300103.60860797, 145082.91855842, 281825.67228379, 120249.65808973,\n",
       "       205675.21010626, 177268.67585013, 201110.59267503, 106560.40649279,\n",
       "       199243.38560316, 148523.40255779, 141372.20270382, 236215.03446622,\n",
       "       141138.83799474, 208375.2251471 , 211808.30048663, 204222.46506898,\n",
       "       173218.7559892 , 176631.28559563, 261754.92515858, 312436.63084369,\n",
       "       183499.98001006, 161069.78032631, 179811.06688144, 243593.88960238,\n",
       "       127048.57010412, 208375.2251471 , 296910.53407991, 158972.08913667,\n",
       "       275072.28076159, 206505.64829543, 215460.56538198, 105773.83386054,\n",
       "       149889.60221206, 112779.4152532 , 229946.81883311, 192386.70362837,\n",
       "       110462.47572324, 153618.39394859, 191241.14080903, 173004.70365582,\n",
       "       137144.80312817, 178753.09372962, 111365.6529098 , 242371.06812436,\n",
       "       131416.69806974, 180022.43743522, 221654.76281986, 157196.36910364,\n",
       "        94403.82245452, 200073.31287037, 147151.54662642, 175780.2595619 ,\n",
       "       340719.23125364, 139265.65695686, 172790.55706161, 121372.8663272 ,\n",
       "       188424.35157056, 159856.7554618 , 174287.62559779, 153281.08435095,\n",
       "       124840.46337316, 200177.046063  , 195090.66091488, 204741.23847549,\n",
       "       179282.31609875, 179282.31609875, 242038.38510237, 173432.71468516,\n",
       "       246728.48021184, 168919.09507553, 182132.22735705, 135841.53731205,\n",
       "       147609.46718466, 178541.27045881, 184550.29898509, 143580.63666827,\n",
       "       171503.66323428, 201421.76128363, 209102.78320985, 106560.40649279,\n",
       "       274194.60228639, 217449.48353503, 195714.02831379, 174607.84169712,\n",
       "       209518.67700694, 127048.57010412, 166536.53622733, 314505.00572971,\n",
       "       172576.31558417, 141605.395012  , 166753.6830544 , 124100.79134975,\n",
       "       195714.02831379, 138324.84189628, 269485.56501528, 110462.47572324,\n",
       "       112522.86689511, 155300.07052961, 139617.73232094, 257977.09675919,\n",
       "       106560.40649279, 134771.10767855, 203081.34482446, 258681.23225913,\n",
       "       110203.92099943, 169027.08265173, 257157.9994418 , 180972.70897095,\n",
       "       114314.07366114, 199554.62257604, 132138.61922389, 167946.0063062 ,\n",
       "       117738.3510659 , 105773.83386054, 159525.25144283, 198205.76955209,\n",
       "       111494.45476188, 194674.96609031, 239059.35444556, 178753.09372962,\n",
       "       125701.10752196, 150910.60651115, 246841.03304893, 171288.83944294,\n",
       "       203496.27409717, 199865.84189671, 276205.5217241 , 230483.36663967,\n",
       "       210454.86495161, 259387.28522681, 176843.83168761, 114441.60491746,\n",
       "       240380.0651409 ,  90839.11176352, 147609.46718466, 229732.38680651,\n",
       "       228768.73849144, 239389.04793878, 163703.17588982, 218918.34150952,\n",
       "       193947.25612283, 209206.74629483, 106560.40649279,  93721.51845168,\n",
       "       229410.93664715, 130813.78095618, 162936.93314243, 349030.71347834,\n",
       "       211704.13712372, 178753.09372962, 159746.28673926, 135722.78475743,\n",
       "       119874.31130163, 146692.98544118, 172790.55706161, 234909.82334251,\n",
       "       110462.47572324, 138442.59936693, 123730.26733541, 265831.65551113,\n",
       "       194571.026988  , 188424.35157056, 278488.45238208, 217030.34821866,\n",
       "       180444.9596995 , 203185.0750917 , 151023.86091835, 129967.67326688,\n",
       "       174287.62559779, 133218.29489506, 116854.35740486,  83018.53199424,\n",
       "       188215.38666506, 121995.04492446, 196856.38282634, 182763.83619107,\n",
       "       155635.44423328, 180656.11272268, 126559.28434718, 133816.46510533,\n",
       "       197686.84882188, 180867.19454995, 177480.97520413, 139735.00272372,\n",
       "       149889.60221206, 353445.96058549, 195714.02831379, 167187.64159611,\n",
       "       386468.48766586, 295398.58726257, 196544.88885583, 118116.40206772,\n",
       "       104062.46612535, 193011.12960187, 262588.8400439 , 212016.65514744,\n",
       "       194259.17129098, 270592.54202372, 295947.2605517 , 348357.10300357,\n",
       "       208686.9973839 , 159082.78748479, 230376.00320947, 231666.1784087 ,\n",
       "       182869.04734903, 216925.60019474, 253330.2327309 , 231881.59867628,\n",
       "       110462.47572324, 136316.08979885, 142303.94230935, 187901.85118499,\n",
       "       192074.38094334, 129725.49230183, 186332.50996973, 175780.2595619 ,\n",
       "       172576.31558417, 152154.33317249, 205467.63825022, 176843.83168761,\n",
       "       135485.14193277, 122615.92701656, 154179.85046667, 153393.557346  ,\n",
       "       180233.73482262, 200695.69279421, 147609.46718466, 164904.30843912,\n",
       "       161509.92289412, 191032.74066293,  45125.70687128, 117612.22713025,\n",
       "       139969.41180326, 146922.34636342, 235127.03978801, 200280.77784976,\n",
       "       215460.56538198, 196960.20533383, 228982.70148104, 100209.25915214,\n",
       "       124840.46337316, 102474.02237893, 204845.00094481, 110462.47572324,\n",
       "       128754.81897248, 125332.56317332, 185913.52670811, 118871.06470504,\n",
       "        84006.91050285, 178541.27045881, 124470.85624171, 183605.08052049,\n",
       "       228447.98493148, 230805.62018926, 120624.53198323, 256341.44702392,\n",
       "       190928.5265879 , 122119.32486616, 153505.99385639, 187483.63575517,\n",
       "       143812.21511972, 117864.42150259, 124594.10941374, 158639.79531646,\n",
       "       187169.84507236, 137263.00947435, 178541.27045881, 115332.79457864,\n",
       "       176843.83168761, 100209.25915214, 213789.27920476, 173753.47852509,\n",
       "       154964.3787103 , 188842.14350396, 219653.93108819, 195090.66091488,\n",
       "       110462.47572324, 173218.7559892 , 180656.11272268, 198309.54385515,\n",
       "       244709.70178584, 495340.09668287, 138089.1930135 , 387219.37538194,\n",
       "       272573.17064843, 349030.71347834, 114186.48765624, 150343.76422591,\n",
       "       163593.80330362, 138795.60459148, 519784.94794619, 139500.41793125,\n",
       "       188006.37487655, 150003.20032284, 193427.25877714, 197167.83767138,\n",
       "       177480.97520413, 175780.2595619 , 218288.46241267, 200280.77784976,\n",
       "       148979.42548311, 167837.75055519, 106560.40649279, 209518.67700694,\n",
       "       194051.234603  , 132858.82850997, 254715.83640672, 130693.05330414,\n",
       "       156973.79448216, 197167.83767138,  80320.02881582, 110462.47572324,\n",
       "       112779.4152532 , 148865.47844952, 216506.74832626, 247855.93983221,\n",
       "       179388.10365615, 140437.70470477, 225677.31738461, 112779.4152532 ,\n",
       "       181183.68523982, 228982.70148104, 227273.8064496 , 140788.46663793,\n",
       "       208375.2251471 , 200177.046063  , 182237.53661346, 218813.32218488,\n",
       "       186018.29272563, 239169.21679357, 122367.72936582, 107866.77627857,\n",
       "       251379.21869958, 166210.60487289, 231450.87125374, 106560.40649279,\n",
       "       143696.44684166, 130451.45333977, 198724.61131681, 129967.67326688,\n",
       "       210454.86495161, 459051.38888294, 182974.24244919, 179282.31609875,\n",
       "       115713.91634273, 165122.31336853, 153281.08435095, 203807.48738788,\n",
       "       236215.03446622, 163156.0112288 , 171073.91643955, 106560.40649279,\n",
       "       130209.66013694, 139265.65695686, 158535.78875873, 231020.59297128,\n",
       "       179811.06688144, 296222.07880878, 192594.87753047, 122615.92701656,\n",
       "       138560.31226766, 158196.27048425, 155970.5016469 , 338759.61311967,\n",
       "       245157.15932406, 194051.234603  , 210350.81332544, 117359.81857368,\n",
       "       178117.39007839,  85413.48798108, 211183.45607077,  97522.87826888,\n",
       "        94540.1003773 , 100209.25915214, 335845.63447509, 194259.17129098,\n",
       "       189677.19531116, 100209.25915214, 165449.10283487,  83301.24381603,\n",
       "       218078.62716209, 106560.40649279, 137617.35786363, 223556.48583108,\n",
       "       175780.2595619 , 118871.06470504, 250124.03552856, 209206.74629483,\n",
       "       179811.06688144, 202977.61576757, 144852.25440699, 218498.35935266,\n",
       "       224297.80359978, 110203.92099943, 183605.08052049, 205260.07994539,\n",
       "       210662.99233138, 243482.52800579, 187901.85118499,  96712.29303613,\n",
       "       191345.3270563 , 169135.0438247 , 245717.40627122, 207751.84200682,\n",
       "       171503.66323428, 154179.85046667, 296222.07880878, 206090.3975211 ,\n",
       "       149662.29038913, 183079.42157512, 111236.79528047, 290249.32694852,\n",
       "       181816.19940872, 222604.83219503, 191761.98193189, 142768.7872812 ,\n",
       "       190198.75848362, 158196.27048425, 176631.28559563, 149207.2025378 ,\n",
       "        93721.51845168, 102474.02237893, 243037.47571986, 197998.21137806,\n",
       "       216297.4051328 , 216716.14641449, 285999.48155799, 141138.83799474,\n",
       "       171503.66323428, 163703.17588982, 153505.99385639, 186541.92164614,\n",
       "       174074.03519752, 119874.31130163, 106560.40649279, 225571.06871656,\n",
       "       203911.22876632, 300243.42222041, 172147.54549497, 112907.60647583,\n",
       "       163921.83104969, 188633.27028569, 150003.20032284, 195817.90364144,\n",
       "       153955.37638138])"
      ]
     },
     "execution_count": 23,
     "metadata": {},
     "output_type": "execute_result"
    }
   ],
   "source": [
    "y_train_pred = pipeline_lr.predict(X_train)\n",
    "y_train_pred"
   ]
  },
  {
   "cell_type": "markdown",
   "metadata": {},
   "source": [
    "<font color='red'>Question:</font> **Alpha** is a hyper parameter. What is hyper parameter? "
   ]
  },
  {
   "cell_type": "markdown",
   "metadata": {},
   "source": [
    "### Hyperparameters are parameters whose values control the learning process and determine the values of model parameters that a learning algorithm ends up learning. The prefix ‘hyper_’ suggests that they are ‘top-level’ parameters that control the learning process and the model parameters that result from it.\n",
    "\n"
   ]
  },
  {
   "cell_type": "markdown",
   "metadata": {
    "ExecuteTime": {
     "end_time": "2022-04-05T06:31:56.121356Z",
     "start_time": "2022-04-05T06:31:56.117284Z"
    }
   },
   "source": []
  },
  {
   "cell_type": "markdown",
   "metadata": {},
   "source": [
    "<font color='red'>Question:</font> How does **alpha** affect model complexity?"
   ]
  },
  {
   "cell_type": "markdown",
   "metadata": {
    "ExecuteTime": {
     "end_time": "2022-04-05T06:42:57.886059Z",
     "start_time": "2022-04-05T06:42:57.667568Z"
    }
   },
   "source": [
    "### When creating a model, our goal is to locate the optimum model complexity.\n",
    "### If our model complexity exceeds this sweet spot, we are in effect overfitting our model;\n",
    "### while if our complexity falls short of the sweet spot, we are underfitting the model."
   ]
  },
  {
   "cell_type": "markdown",
   "metadata": {},
   "source": [
    "<font color='red'>Question:</font> How does **alpha** affect the coefficient values?"
   ]
  },
  {
   "cell_type": "code",
   "execution_count": null,
   "metadata": {
    "ExecuteTime": {
     "end_time": "2022-04-05T06:46:37.838068Z",
     "start_time": "2022-04-05T06:46:37.640708Z"
    }
   },
   "outputs": [],
   "source": []
  },
  {
   "cell_type": "markdown",
   "metadata": {},
   "source": [
    "# Ridge"
   ]
  },
  {
   "cell_type": "markdown",
   "metadata": {},
   "source": [
    "<font color='red'>Assignment:</font> Try **Ridge** instead of **Lasso**."
   ]
  },
  {
   "cell_type": "code",
   "execution_count": 24,
   "metadata": {
    "ExecuteTime": {
     "end_time": "2022-04-05T07:05:25.490915Z",
     "start_time": "2022-04-05T07:05:25.047744Z"
    }
   },
   "outputs": [
    {
     "data": {
      "text/plain": [
       "Pipeline(memory=None,\n",
       "         steps=[('poly',\n",
       "                 PolynomialFeatures(degree=30, include_bias=True,\n",
       "                                    interaction_only=False, order='C')),\n",
       "                ('rescale', MinMaxScaler(copy=True, feature_range=(0, 1))),\n",
       "                ('ridge',\n",
       "                 Ridge(alpha=1.0, copy_X=True, fit_intercept=True,\n",
       "                       max_iter=None, normalize=False, random_state=None,\n",
       "                       solver='auto', tol=0.001))],\n",
       "         verbose=False)"
      ]
     },
     "execution_count": 24,
     "metadata": {},
     "output_type": "execute_result"
    }
   ],
   "source": [
    "steps = [('poly', PolynomialFeatures(degree=30)),\n",
    "         ('rescale', MinMaxScaler()),\n",
    "         ('ridge', Ridge())]\n",
    "pipeline_lr = Pipeline(steps)\n",
    "pipeline_lr = pipeline_lr.fit(X_train, y_train)\n",
    "pipeline_lr"
   ]
  },
  {
   "cell_type": "code",
   "execution_count": 25,
   "metadata": {
    "ExecuteTime": {
     "end_time": "2022-04-05T07:07:52.910019Z",
     "start_time": "2022-04-05T07:07:52.774393Z"
    }
   },
   "outputs": [
    {
     "data": {
      "text/plain": [
       "array([199515.28819994, 207498.13470299, 200246.38039946, 252531.90096844,\n",
       "       164219.03044167, 197847.38738878, 240437.58874448, 206231.04210282,\n",
       "       133337.36247359, 266902.7398399 , 121516.93223898, 177367.2878287 ,\n",
       "       153578.28216441, 161957.55410895, 272915.2204016 , 139720.89605245,\n",
       "       188137.07659542, 188137.07659542, 151164.99444675, 151743.26223418,\n",
       "       281788.03315558, 138683.32530714, 157850.28340998, 160487.35761533,\n",
       "       160879.04940583, 118964.84052809, 247019.08374561, 193903.74403048,\n",
       "       125459.60416119, 174955.10858692, 146177.61519651, 213444.31039331,\n",
       "       170458.2074963 , 200559.9640501 , 341714.96613248, 144461.31529309,\n",
       "       140004.20212394, 234247.68108491, 262653.63918989, 255360.93544344,\n",
       "       115430.03032166, 156682.06968832, 151357.68580322, 246235.00784335,\n",
       "       135675.79463316, 277689.3167254 , 180598.5629944 , 128689.79854698,\n",
       "       133337.36247359, 151839.69671459, 126288.41648984, 207498.13470299,\n",
       "       186908.31184928, 125919.9010989 , 210889.26956939, 229641.57798209,\n",
       "       133991.13582152, 179688.02636217, 310948.09608809, 259454.17108582,\n",
       "       266442.21340157, 138212.33440175, 173552.45392617, 128504.70505255,\n",
       "       141138.85229576, 137083.5657473 , 114978.51696767, 162841.44401748,\n",
       "       160781.10188597, 200664.5264032 , 196599.34983958, 149817.96109359,\n",
       "       214511.8736019 , 205177.0379551 , 202025.40628176, 178072.65887489,\n",
       "       137083.5657473 , 162448.43982061, 126749.40830962, 199515.28819994,\n",
       "       229750.88573905, 153481.55652358, 148474.0835091 , 138589.09553895,\n",
       "       133337.36247359, 282963.01880556, 151550.44172562, 307550.64884138,\n",
       "       118783.00594973, 189779.23905065, 216116.49072062, 248365.23170859,\n",
       "       200559.9640501 , 166192.61183674, 193386.68583792, 248028.45575422,\n",
       "       237114.6765504 , 221817.65093935, 256609.21424557, 126657.17903534,\n",
       "       209191.47817686, 162055.69841674, 239549.92330326, 153481.55652358,\n",
       "       427331.78062985, 150106.34519584, 193903.74403048, 314724.67010519,\n",
       "       171055.84542723, 117149.23312913, 201187.59677114, 362864.21388259,\n",
       "       199828.51008475, 159118.49866575, 156584.82442087, 172153.07038792,\n",
       "       198055.63419721, 138966.10941491, 237335.70919109, 138212.33440175,\n",
       "       117149.23312913, 214511.8736019 , 128689.79854698, 171554.33438516,\n",
       "       160879.04940583, 225500.92737244, 177770.25629527, 260366.89116966,\n",
       "       183236.67290509, 117149.23312913, 274774.77625618, 289812.16945365,\n",
       "       197847.38738878, 171953.42511635, 165501.10784638, 195146.4299887 ,\n",
       "       246458.94103158, 158337.73202604, 263111.83664035, 201396.94563287,\n",
       "       188547.20878963, 208132.61767777, 118783.00594973, 166192.61183674,\n",
       "       296241.12596798, 149625.78553402, 108161.8403791 , 170159.61290069,\n",
       "       251854.57865877, 109411.03804807, 140193.15201071, 223873.45022824,\n",
       "       164317.5529044 , 191425.76284226, 182830.06706674, 243887.98339336,\n",
       "       232928.4772247 , 228549.46909406, 154449.54221105, 174754.5288387 ,\n",
       "       202025.40628176, 116605.73586525, 167578.04850025, 221709.62643954,\n",
       "       200141.88697946, 259910.38972124, 192663.52277664, 183847.08879032,\n",
       "       202969.26248519, 143890.36499573, 281788.03315558, 182119.1571944 ,\n",
       "       119874.92782687, 412261.15933081, 230516.53333761, 257632.12538398,\n",
       "       168569.63166457, 116877.41622713, 224415.5033947 , 178072.65887489,\n",
       "       127026.18890609, 234467.7954537 , 192353.85217753, 270249.98623262,\n",
       "       226044.29845462, 304890.39251302, 175155.75522077, 298874.63334671,\n",
       "       315090.98215494, 144937.54601048, 111649.03986079, 166291.46416634,\n",
       "       245339.9830406 , 147707.56764607, 134832.82973571, 191116.70703902,\n",
       "       192044.33535778, 222033.75255785, 181611.8708451 , 190293.3088426 ,\n",
       "       115068.7893985 , 185784.09208849, 125735.73603303, 175758.09661777,\n",
       "       140004.20212394, 187624.79392278, 148474.0835091 , 145318.81803308,\n",
       "       163234.7111627 , 121516.93223898, 178476.09740184, 222033.75255785,\n",
       "       185477.84289139, 167379.93053604, 171055.84542723, 194731.9272728 ,\n",
       "       186908.31184928, 159998.11131372, 222682.4784495 , 120786.54110621,\n",
       "       121699.68304948, 283433.50037107, 208979.56712988, 158240.20966942,\n",
       "       208661.83084226, 109947.3048908 , 225392.3058931 , 146942.07864581,\n",
       "       141328.18266887, 175858.54542584, 164711.8074847 , 226261.76996037,\n",
       "       118783.00594973, 110305.11535553, 132777.59566145, 119874.92782687,\n",
       "       210252.07614795, 136801.72823143, 183033.33618885, 159118.49866575,\n",
       "       100025.18409131, 259910.38972124, 185273.76151163, 190190.46079903,\n",
       "       196391.58399162, 249601.43989501, 239106.51489055, 155807.44804513,\n",
       "       241215.22433549, 162055.69841674, 167974.48304051, 302238.25780576,\n",
       "       142180.95530317, 188342.10867668, 128504.70505255, 166884.92511552,\n",
       "       192663.52277664, 121060.32305744, 149241.62754392, 169165.37691858,\n",
       "       148282.35820333, 188547.20878963, 194421.23012364, 140665.80398323,\n",
       "       101959.53812958, 275939.2787293 , 185375.79372775, 220522.51418584,\n",
       "       197327.07113183, 218154.64943855, 165599.8446135 , 146846.46465676,\n",
       "       112546.86582798, 181307.70147212, 204335.0812292 , 187112.93608717,\n",
       "       152515.19053462, 162448.43982061, 194628.34442746, 194939.14435999,\n",
       "       148761.79196306, 223440.12380368, 142275.78725949, 117149.23312913,\n",
       "       133337.36247359, 155904.56316607, 192663.52277664, 191631.88538466,\n",
       "       227895.04890153, 126841.65304439, 177266.5876566 , 200350.89105004,\n",
       "       141896.55479506, 214298.22140637, 208132.61767777, 211739.83523435,\n",
       "       129523.48764149, 140193.15201071, 136426.16531403, 176361.04063867,\n",
       "       185886.20906327, 173552.45392617, 155128.09725752, 119146.73603827,\n",
       "       104254.78078753, 377762.77668021, 211101.80655726, 120330.54355121,\n",
       "       121516.93223898, 205598.43176808, 149817.96109359, 165797.3676554 ,\n",
       "       133430.71169819, 164317.5529044 , 117149.23312913, 232708.85691728,\n",
       "       243664.86426062, 208555.95348214, 239328.18374119, 152708.3342773 ,\n",
       "       194731.9272728 , 545541.73109095, 275473.26741535, 154837.19056421,\n",
       "        94177.78832552, 289219.43236874,  71181.20209623, 200978.3168963 ,\n",
       "       117149.23312913, 144556.52951158, 213017.7733861 , 262424.64641917,\n",
       "       196391.58399162, 177568.73850187, 250839.78999305, 113626.24274859,\n",
       "       240881.84583369, 200246.38039946, 141422.87166185, 235569.42646759,\n",
       "       134084.59466267, 161663.21965028, 172552.5608356 , 166884.92511552,\n",
       "       263570.31659447, 245116.40381956, 117149.23312913, 197639.20933389,\n",
       "       170956.19753988, 175657.66454925, 160095.9278372 , 208450.09348722,\n",
       "       235128.56220567, 320603.22233344, 185375.79372775, 114798.01744711,\n",
       "       116786.84093897, 175256.10362548, 123622.26885648, 186294.84656381,\n",
       "       263684.98071819, 112816.50681132, 122614.35633798, 211739.83523435,\n",
       "       164810.41232415, 165501.10784638, 221277.70380854, 177367.2878287 ,\n",
       "       133337.36247359, 231392.61651821, 132311.55325225, 132591.131817  ,\n",
       "       216652.23641168, 140854.97572921, 178879.80473073, 117149.23312913,\n",
       "       301035.43965756, 207921.05393483, 170159.61290069, 239328.18374119,\n",
       "       163038.04471185, 203704.3402945 , 169066.04458866, 134832.82973571,\n",
       "       111379.98498337, 111021.45522914, 222790.66084489, 311921.1812113 ,\n",
       "       190190.46079903, 127857.36628179, 138400.68338847, 194835.52724966,\n",
       "       178980.77357991, 200141.88697946, 178173.49331423, 223440.12380368,\n",
       "       223548.42907193, 273379.68815196, 196287.72681174, 171654.08209726,\n",
       "       146559.71880939, 164909.03364615, 149241.62754392, 213124.38148972,\n",
       "       142370.6351136 , 206231.04210282, 110663.16541075, 235569.42646759,\n",
       "       128504.70505255, 179991.38705355, 157265.88324974, 195146.4299887 ,\n",
       "       204861.17438433, 169861.16780087, 515214.49052612, 289693.58752875,\n",
       "       136426.16531403, 181916.1920325 , 142465.49886811,  95133.32697168,\n",
       "       143510.05033525, 145032.84005434, 296480.19485675, 211527.08937758,\n",
       "       173552.45392617, 120786.54110621, 105051.61500162, 163038.04471185,\n",
       "       293854.19774249, 146368.63498528, 277806.12593255, 126933.91324233,\n",
       "       202864.32049023, 174955.10858692, 198263.94977407, 117149.23312913,\n",
       "       196391.58399162, 149241.62754392, 143319.98860427, 233917.64190127,\n",
       "       143129.99057854, 205598.43176808, 209085.51396679, 201396.94563287,\n",
       "       171155.50994622, 174353.56992627, 259112.1927275 , 304166.27556537,\n",
       "       180902.37836239, 160095.9278372 , 177367.2878287 , 241326.3858736 ,\n",
       "       132032.11526633, 205598.43176808, 291117.70835355, 158240.20966942,\n",
       "       271639.38312241, 203704.3402945 , 212804.60946644, 116605.73586525,\n",
       "       150394.87427459, 121516.93223898, 227568.07641921, 189573.73040363,\n",
       "       119874.92782687, 153578.28216441, 188444.65022817, 170956.19753988,\n",
       "       139909.7509349 , 176361.04063867, 120512.89673475, 240104.58159693,\n",
       "       135394.66499512, 177568.73850187, 219122.29704933, 156682.06968832,\n",
       "       108964.56009119, 197223.05942508, 148090.69713786, 173552.45392617,\n",
       "       326395.15879794, 141612.29727368, 170756.95165081, 127764.95130569,\n",
       "       185681.99206966, 159020.84566683, 172153.07038792, 153288.15383039,\n",
       "       130358.43550299, 197327.07113183, 192250.66282032, 201920.6196983 ,\n",
       "       176863.95467918, 176863.95467918, 239771.73358075, 171354.88888844,\n",
       "       244446.09087907, 167181.87875047, 179586.93978802, 138871.83224251,\n",
       "       148474.0835091 , 176159.99231   , 181916.1920325 , 145128.150071  ,\n",
       "       169562.87213364, 198576.55211256, 206336.53780181, 117149.23312913,\n",
       "       270828.59386598, 214832.4827735 , 192870.05530203, 172452.66322984,\n",
       "       206758.69392485, 132032.11526633, 165007.67145312, 305856.82132746,\n",
       "       170557.77226037, 143510.05033525, 165204.99653154, 129801.6636367 ,\n",
       "       192870.05530203, 140854.97572921, 266442.21340157, 119874.92782687,\n",
       "       121334.24266085, 155031.11212346, 141896.55479506, 255474.32687179,\n",
       "       117149.23312913, 138024.04855786, 200246.38039946, 256155.04699522,\n",
       "       119692.78837457, 167280.89637211, 254680.95845579, 178476.09740184,\n",
       "       122614.35633798, 196703.25851145, 135957.06570481, 166291.46416634,\n",
       "       125091.6442436 , 116605.73586525, 158727.98469371, 195353.78417431,\n",
       "       120604.09624306, 191838.07621786, 236783.2600887 , 176361.04063867,\n",
       "       131008.71089296, 151261.33205551, 244557.76546196, 169364.09134233,\n",
       "       200664.5264032 , 197015.08754124, 272683.09188445, 228113.11855511,\n",
       "       207709.55961422, 256836.40401228, 174554.01595789, 122705.90799398,\n",
       "       238109.88000544, 106648.88546992, 148474.0835091 , 227350.18275157,\n",
       "       226370.53209018, 237114.6765504 , 162448.43982061, 216330.73657442,\n",
       "       191116.70703902, 206442.05083185, 117149.23312913, 108518.45548234,\n",
       "       227023.47421111, 134926.42970237, 161761.31472816, 332594.90051269,\n",
       "       208979.56712988, 176361.04063867, 158923.20900682, 138777.57087412,\n",
       "       126657.17903534, 147707.56764607, 170756.95165081, 232599.07322236,\n",
       "       119874.92782687, 140949.58538911, 129523.48764149, 262997.26079103,\n",
       "       191734.97226391, 185681.99206966, 274774.77625618, 214405.03877986,\n",
       "       177971.84122677, 200350.89105004, 151357.68580322, 134271.55935781,\n",
       "       172153.07038792, 136801.72823143, 124448.30766462, 101695.34368398,\n",
       "       185477.84289139, 128227.18113744, 194007.20700928, 180193.71167724,\n",
       "       155322.11624697, 178173.49331423, 131659.74983978, 137271.53619145,\n",
       "       194835.52724966, 178375.21257548, 175155.75522077, 141991.33907356,\n",
       "       150394.87427459, 335833.96701322, 192870.05530203, 165599.8446135 ,\n",
       "       359037.40514224, 289812.16945365, 193696.86941902, 125367.59105376,\n",
       "       115430.03032166, 190190.46079903, 259910.38972124, 209297.45976168,\n",
       "       191425.76284226, 267478.79446862, 290286.66960517, 332097.49787793,\n",
       "       205914.65897561, 158337.73202604, 228004.0749278 , 229313.76039849,\n",
       "       180294.89924452, 214298.22140637, 250952.47348443, 229532.28784029,\n",
       "       119874.92782687, 139249.03578238, 144080.61796662, 185171.74624092,\n",
       "       189265.59517141, 134084.59466267, 183643.54918868, 173552.45392617,\n",
       "       170557.77226037, 152322.11147915, 202654.4883234 , 174554.01595789,\n",
       "       138589.09553895, 128689.79854698, 154062.15341139, 153384.84707975,\n",
       "       177770.25629527, 197847.38738878, 148474.0835091 , 163529.83417475,\n",
       "       160487.35761533, 188239.58413312,  79884.11634976, 124999.69280202,\n",
       "       142180.95530317, 147899.10029226, 232818.65825114, 197431.10001764,\n",
       "       212804.60946644, 194110.68710606, 226588.10910886, 112816.50681132,\n",
       "       130358.43550299, 114347.03300978, 202025.40628176, 119874.92782687,\n",
       "       133337.36247359, 130729.92799638, 183236.67290509, 125919.9010989 ,\n",
       "       102312.003491  , 176159.99231   , 130079.97956664, 181003.68385484,\n",
       "       226044.29845462, 228440.35505294, 127210.78664175, 253888.45712668,\n",
       "       188137.07659542, 128319.67360248, 153481.55652358, 184763.85456988,\n",
       "       145318.81803308, 125183.61109763, 130172.78265228, 157947.74050473,\n",
       "       184458.11363971, 140004.20212394, 176159.99231   , 123347.19933776,\n",
       "       174554.01595789, 112816.50681132, 211101.80655726, 171654.08209726,\n",
       "       154740.25413401, 186090.49388906, 217081.1475576 , 192250.66282032,\n",
       "       119874.92782687, 171155.50994622, 178173.49331423, 195457.48698075,\n",
       "       242438.97405713, 429821.27073121, 140665.80398323, 359546.98283002,\n",
       "       269325.1288903 , 332594.90051269, 122522.82002223, 150779.80535048,\n",
       "       162350.22983887, 141233.5095477 , 531086.24652626, 141801.78640398,\n",
       "       185273.76151163, 150491.08286303, 190601.95526114, 194317.6986613 ,\n",
       "       175155.75522077, 173552.45392617, 215688.20865401, 197431.10001764,\n",
       "       149625.78553402, 166192.61183674, 117149.23312913, 206758.69392485,\n",
       "       191219.70857472, 136520.032433  , 252306.05606443, 134832.82973571,\n",
       "       156487.59543044, 194317.6986613 , 100025.18409131, 119874.92782687,\n",
       "       121516.93223898, 149529.72189919, 213871.12636909, 245563.63305183,\n",
       "       176964.58777137, 142560.3785256 , 223223.56593613, 121516.93223898,\n",
       "       178677.91745715, 226588.10910886, 224849.46212323, 142845.11294196,\n",
       "       205598.43176808, 197327.07113183, 179688.02636217, 216223.60491133,\n",
       "       183338.36661639, 236893.71457683, 128504.70505255, 118056.27652456,\n",
       "       249039.26155748, 164711.8074847 , 229095.30340629, 117149.23312913,\n",
       "       145223.47606306, 134645.67687324, 195872.46967538, 134271.55935781,\n",
       "       207709.55961422, 406240.80336425, 180396.10365168, 176863.95467918,\n",
       "       123622.26885648, 163726.66510153, 153288.15383039, 200978.3168963 ,\n",
       "       233917.64190127, 161957.55410895, 169165.37691858, 117149.23312913,\n",
       "       134458.5867543 , 141612.29727368, 176107.2239298 , 228658.60074103,\n",
       "       177367.2878287 , 290524.02311078, 189779.23905065, 128689.79854698,\n",
       "       141044.21091043, 157558.00997153, 155613.26657203, 324913.03369418,\n",
       "       242884.50462902, 191219.70857472, 207603.83848324, 124815.83614557,\n",
       "       175758.09661777, 103194.19846909, 208450.09348722, 111021.45522914,\n",
       "       109053.82580392, 112816.50681132, 322694.12013391, 191425.76284226,\n",
       "       186908.31184928, 112816.50681132, 164022.03491814, 101871.45859741,\n",
       "       215474.17241904, 117149.23312913, 140287.65071364, 221061.84769712,\n",
       "       173552.45392617, 125919.9010989 , 247804.02695746, 206442.05083185,\n",
       "       177367.2878287 , 200141.88697946, 146177.61519651, 215902.31475084,\n",
       "       221817.65093935, 119692.78837457, 181003.68385484, 202444.7252424 ,\n",
       "       207921.05393483, 241215.22433549, 185171.74624092, 110484.11042354,\n",
       "       188547.20878963, 167379.93053604, 243441.8159024 , 204966.44493139,\n",
       "       169562.87213364, 154062.15341139, 290524.02311078, 203284.19213718,\n",
       "       150202.50544353, 180497.32490091, 120421.71250502, 285318.20750417,\n",
       "       179283.78100362, 220091.36282768, 188957.61317627, 144461.31529309,\n",
       "       187419.99982258, 157558.00997153, 174353.56992627, 149817.96109359,\n",
       "       108518.45548234, 114347.03300978, 240770.75503585, 195146.4299887 ,\n",
       "       213657.6835043 , 214084.63899926, 281553.24501482, 143129.99057854,\n",
       "       169562.87213364, 162448.43982061, 153481.55652358, 183847.08879032,\n",
       "       171953.42511635, 126657.17903534, 117149.23312913, 223115.31333456,\n",
       "       201082.94821125, 293973.38153135, 170159.61290069, 121608.29998884,\n",
       "       162644.90906021, 185886.20906327, 150491.08286303, 192973.34720843,\n",
       "       153868.55629398])"
      ]
     },
     "execution_count": 25,
     "metadata": {},
     "output_type": "execute_result"
    }
   ],
   "source": [
    "y_train_pred = pipeline_lr.predict(X_train)\n",
    "y_train_pred"
   ]
  },
  {
   "cell_type": "markdown",
   "metadata": {},
   "source": [
    "<font color='red'>Question:</font> What is regularization? How does it work?"
   ]
  },
  {
   "cell_type": "markdown",
   "metadata": {},
   "source": [
    "### In Regularization,the number of features in a model  are penalized in order to only keep the most important features.\n",
    "\n",
    "### This can be particularly important when the dataset has 100,000+ features."
   ]
  },
  {
   "cell_type": "markdown",
   "metadata": {},
   "source": [
    "<font color='red'>Question:</font> What are \"L1\" and \"L2\" regularizations, respectively? How are the effects on coefficients from **Ridge** and **Lasso** different?"
   ]
  },
  {
   "cell_type": "markdown",
   "metadata": {},
   "source": [
    "### L1 regularization penalizes the sum of absolute values of the weights\n",
    "### whereas L2 regularization penalizes the sum of squares of the weights. \n",
    "### The L1 regularization solution is sparse. The L2 regularization solution is non-sparse.\n",
    "### L2 regularization doesn’t perform feature selection, since weights are only reduced to values near 0 instead of ### L1 regularization has built-in feature selection.\n",
    "### L1 regularization is robust to outliers, L2 regularization is not. \n",
    "\n",
    "\n",
    "\n",
    "### Lasso regression performs L1 regularization, which adds a penalty equal to the absolute value of the magnitude of coefficients. This type of regularization can result in sparse models with few coefficients; Some coefficients can become zero and eliminated from the model. Larger penalties result in coefficient values closer to zero, which is the ideal for producing simpler models.\n",
    "### On the other hand, L2 regularization (e.g. Ridge regression) doesn’t result in elimination of coefficients or sparse models. This makes the Lasso far easier to interpret than the Ridge.\n",
    "\n",
    "\n"
   ]
  },
  {
   "cell_type": "markdown",
   "metadata": {},
   "source": []
  }
 ],
 "metadata": {
  "kernelspec": {
   "display_name": "Python 3",
   "language": "python",
   "name": "python3"
  },
  "language_info": {
   "codemirror_mode": {
    "name": "ipython",
    "version": 3
   },
   "file_extension": ".py",
   "mimetype": "text/x-python",
   "name": "python",
   "nbconvert_exporter": "python",
   "pygments_lexer": "ipython3",
   "version": "3.7.6"
  }
 },
 "nbformat": 4,
 "nbformat_minor": 2
}
